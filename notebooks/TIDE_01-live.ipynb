{
 "cells": [
  {
   "cell_type": "markdown",
   "metadata": {},
   "source": [
    "\n",
    "# TIDE - Session 1"
   ]
  },
  {
   "cell_type": "markdown",
   "metadata": {},
   "source": [
    "## Présentation de l'écosystème Python pour la Data Science."
   ]
  },
  {
   "cell_type": "markdown",
   "metadata": {
    "collapsed": true
   },
   "source": [
    "# 1. NumPy, les origines de la data en Python\n",
    "\n",
    "- **NumPy** est le premier package de traitement de données en Python\n",
    "- Il est basé sur un ensemble de fonctions codées en langage C\n",
    "- Il combine une classe, `ndarray`, et des fonctions universelles\n",
    "- Il est le socle de la plupart des packages de data science\n",
    "\n",
    "Numpy utilise des array\n",
    "- un array à une dimension est un vecteur\n",
    "- un array à deux dimensions est une matrice\n",
    "- un array est l'équivalent d'un tenseur\n",
    "\n",
    "On utilise les arrays pour travailler sur des données non structurées :\n",
    "- une image est représentée par un array à 3 dimensions\n",
    "- une vidéo est représenté par un array à 4 dimensions\n",
    "- etc."
   ]
  },
  {
   "cell_type": "code",
   "execution_count": 1,
   "metadata": {},
   "outputs": [],
   "source": [
    "# import\n",
    "import numpy as np"
   ]
  },
  {
   "cell_type": "markdown",
   "metadata": {},
   "source": [
    "# 1.1 NumPy et les arrays"
   ]
  },
  {
   "cell_type": "markdown",
   "metadata": {},
   "source": [
    "### Un peu de vocabulaire\n",
    "\n",
    "- Les dimensions sont appelées `axis` (`axis=0` : lignes, `axis=1` : colonnes, ...)\n",
    "- Le nombre de dimensions est accédé avec `.ndim`\n",
    "- La forme est accédé avec `.shape`\n",
    "- La taille (`.size`) est le nombre total d’éléments d’un array\n",
    "- Le type des éléments est accédé avec `.dtype`"
   ]
  },
  {
   "cell_type": "markdown",
   "metadata": {},
   "source": [
    "On peut générer des arrays de différentes manières :"
   ]
  },
  {
   "cell_type": "markdown",
   "metadata": {},
   "source": [
    "fonction (extrait)|usage\n",
    "-|-\n",
    "array|à partir d'un objet de type tableau\n",
    "arange|vecteur de nombres également répartis dans un intervalle (pas)\n",
    "linspace|vecteur de nombres également répartis dans un intervalle (nombre)\n",
    "zeros|retourne un *ndarray* nul\n",
    "zeros_like|retourne un *ndarray* nul aux dimensions identiques d'un autre *ndarray*\n",
    "ones|retourne un *ndarray* unité\n",
    "ones_like|retourne un *ndarray* unité aux dimensions identiques d'un autre *ndarray*\n",
    "eye|retourne une matrice nulle avec des 1 sur la première diagonale\n",
    "identity|retourne une matrice identité\n",
    "full|retourne une matrice avec une valeur uniforme"
   ]
  },
  {
   "cell_type": "markdown",
   "metadata": {},
   "source": [
    "**Création explicite**"
   ]
  },
  {
   "cell_type": "code",
   "execution_count": 2,
   "metadata": {},
   "outputs": [
    {
     "name": "stdout",
     "output_type": "stream",
     "text": [
      "[[1 2 3]\n",
      " [4 5 6]]\n"
     ]
    }
   ],
   "source": [
    "# un array\n",
    "arr1 = np.array([[1, 2, 3], [4, 5, 6]])\n",
    "print(arr1)"
   ]
  },
  {
   "cell_type": "code",
   "execution_count": 3,
   "metadata": {},
   "outputs": [
    {
     "name": "stdout",
     "output_type": "stream",
     "text": [
      "2 (2, 3) 6 int32\n"
     ]
    }
   ],
   "source": [
    "# un array\n",
    "arr1 = np.array([[1, 2, 3], [4, 5, 6]])\n",
    "print(arr1.ndim, arr1.shape, arr1.size, arr1.dtype)"
   ]
  },
  {
   "cell_type": "markdown",
   "metadata": {},
   "source": [
    "**Fonction arange**"
   ]
  },
  {
   "cell_type": "code",
   "execution_count": 4,
   "metadata": {},
   "outputs": [
    {
     "data": {
      "text/plain": [
       "array([ 0.,  1.,  2.,  3.,  4.,  5.,  6.,  7.,  8.,  9., 10., 11., 12.,\n",
       "       13., 14., 15., 16., 17., 18., 19., 20., 21., 22., 23., 24., 25.,\n",
       "       26., 27., 28., 29., 30., 31., 32., 33., 34., 35., 36., 37., 38.,\n",
       "       39., 40., 41., 42., 43., 44., 45., 46., 47.])"
      ]
     },
     "execution_count": 4,
     "metadata": {},
     "output_type": "execute_result"
    }
   ],
   "source": [
    "# arange\n",
    "array = np.arange(48, dtype=float)\n",
    "array"
   ]
  },
  {
   "cell_type": "code",
   "execution_count": 5,
   "metadata": {},
   "outputs": [
    {
     "data": {
      "text/plain": [
       "1"
      ]
     },
     "execution_count": 5,
     "metadata": {},
     "output_type": "execute_result"
    }
   ],
   "source": [
    "# ndim\n",
    "array.ndim"
   ]
  },
  {
   "cell_type": "code",
   "execution_count": 6,
   "metadata": {},
   "outputs": [
    {
     "data": {
      "text/plain": [
       "(48,)"
      ]
     },
     "execution_count": 6,
     "metadata": {},
     "output_type": "execute_result"
    }
   ],
   "source": [
    "# shape\n",
    "array.shape"
   ]
  },
  {
   "cell_type": "code",
   "execution_count": 8,
   "metadata": {},
   "outputs": [
    {
     "data": {
      "text/plain": [
       "(48,)"
      ]
     },
     "execution_count": 8,
     "metadata": {},
     "output_type": "execute_result"
    }
   ],
   "source": [
    "(48,)"
   ]
  },
  {
   "cell_type": "markdown",
   "metadata": {},
   "source": [
    "La méthode `reshape` permet de modifier la structure d'un array sans changer le nombre d'éléments.\n",
    "\n",
    "Les méthodes, dîtes de *reshaping*, sont très importantes en Data Science, on en verra avec la librairie **pandas**."
   ]
  },
  {
   "cell_type": "code",
   "execution_count": 9,
   "metadata": {},
   "outputs": [
    {
     "data": {
      "text/plain": [
       "array([[ 0.,  1.,  2.,  3.,  4.,  5.],\n",
       "       [ 6.,  7.,  8.,  9., 10., 11.],\n",
       "       [12., 13., 14., 15., 16., 17.],\n",
       "       [18., 19., 20., 21., 22., 23.],\n",
       "       [24., 25., 26., 27., 28., 29.],\n",
       "       [30., 31., 32., 33., 34., 35.],\n",
       "       [36., 37., 38., 39., 40., 41.],\n",
       "       [42., 43., 44., 45., 46., 47.]])"
      ]
     },
     "execution_count": 9,
     "metadata": {},
     "output_type": "execute_result"
    }
   ],
   "source": [
    "# reshape\n",
    "array.reshape(8, 6)"
   ]
  },
  {
   "cell_type": "markdown",
   "metadata": {},
   "source": [
    "**Fonction linspace**\n",
    "\n",
    "La fonction `np.linspace` est utile par exemple pour tracer des fonctions. Elle génère un nombre donné de valeurs équidistantes entre deux bornes."
   ]
  },
  {
   "cell_type": "code",
   "execution_count": 12,
   "metadata": {},
   "outputs": [
    {
     "data": {
      "text/plain": [
       "array([0. , 0.5, 1. , 1.5, 2. , 2.5, 3. , 3.5, 4. , 4.5, 5. ])"
      ]
     },
     "execution_count": 12,
     "metadata": {},
     "output_type": "execute_result"
    }
   ],
   "source": [
    "# linspace : 11 valeurs entre 0 et 5 inclus\n",
    "np.linspace(0, 5, 11)"
   ]
  },
  {
   "cell_type": "markdown",
   "metadata": {},
   "source": [
    "## 1.2 Accès et modification de valeurs"
   ]
  },
  {
   "cell_type": "code",
   "execution_count": 13,
   "metadata": {},
   "outputs": [
    {
     "data": {
      "text/plain": [
       "array([[ 0.,  1.,  2.,  3.,  4.,  5.],\n",
       "       [ 6.,  7.,  8.,  9., 10., 11.],\n",
       "       [12., 13., 14., 15., 16., 17.],\n",
       "       [18., 19., 20., 21., 22., 23.],\n",
       "       [24., 25., 26., 27., 28., 29.],\n",
       "       [30., 31., 32., 33., 34., 35.],\n",
       "       [36., 37., 38., 39., 40., 41.],\n",
       "       [42., 43., 44., 45., 46., 47.]])"
      ]
     },
     "execution_count": 13,
     "metadata": {},
     "output_type": "execute_result"
    }
   ],
   "source": [
    "array = array.reshape(8, 6)\n",
    "array"
   ]
  },
  {
   "cell_type": "code",
   "execution_count": 14,
   "metadata": {},
   "outputs": [
    {
     "data": {
      "text/plain": [
       "array([0., 1., 2., 3., 4., 5.])"
      ]
     },
     "execution_count": 14,
     "metadata": {},
     "output_type": "execute_result"
    }
   ],
   "source": [
    "# accès à la première ligne\n",
    "array[0]"
   ]
  },
  {
   "cell_type": "code",
   "execution_count": 15,
   "metadata": {},
   "outputs": [
    {
     "data": {
      "text/plain": [
       "array([ 0.,  6., 12., 18., 24., 30., 36., 42.])"
      ]
     },
     "execution_count": 15,
     "metadata": {},
     "output_type": "execute_result"
    }
   ],
   "source": [
    "# accès à la première colonne\n",
    "array[:, 0]"
   ]
  },
  {
   "cell_type": "code",
   "execution_count": 16,
   "metadata": {},
   "outputs": [
    {
     "data": {
      "text/plain": [
       "array([[14., 15.],\n",
       "       [20., 21.],\n",
       "       [26., 27.]])"
      ]
     },
     "execution_count": 16,
     "metadata": {},
     "output_type": "execute_result"
    }
   ],
   "source": [
    "# accès à une sous-matrice\n",
    "array[2:5, 2:4]"
   ]
  },
  {
   "cell_type": "code",
   "execution_count": 17,
   "metadata": {},
   "outputs": [
    {
     "data": {
      "text/plain": [
       "array([[ 0.,  1.,  2.,  3.,  4.,  5.],\n",
       "       [ 6.,  7.,  8.,  9., 10., 11.],\n",
       "       [12., 13., -1., -1., 16., 17.],\n",
       "       [18., 19., -1., -1., 22., 23.],\n",
       "       [24., 25., -1., -1., 28., 29.],\n",
       "       [30., 31., 32., 33., 34., 35.],\n",
       "       [36., 37., 38., 39., 40., 41.],\n",
       "       [42., 43., 44., 45., 46., 47.]])"
      ]
     },
     "execution_count": 17,
     "metadata": {},
     "output_type": "execute_result"
    }
   ],
   "source": [
    "# modification d'une sous-matrice\n",
    "array[2:5, 2:4] = -1\n",
    "array"
   ]
  },
  {
   "cell_type": "markdown",
   "metadata": {},
   "source": [
    "## 1.3 Le broadcasting\n",
    "\n",
    "Un array supporte des opérations arithmétiques avec un scalaire et des opérations avec un autre array.\n",
    "\n",
    "Les opérations arithmétiques de bases se font terme à terme : `*`, `+`, `-`, `/`, `**` (puissance), `%` (modulo).\n",
    "\n",
    "Pour les opérations avec un autre array, **NumPy** utilise celui dans une dimension compatible avec l'opération."
   ]
  },
  {
   "cell_type": "code",
   "execution_count": 18,
   "metadata": {},
   "outputs": [
    {
     "data": {
      "text/plain": [
       "array([0, 1, 2, 3])"
      ]
     },
     "execution_count": 18,
     "metadata": {},
     "output_type": "execute_result"
    }
   ],
   "source": [
    "# vecteur 1\n",
    "array1 = np.arange(4)\n",
    "array1"
   ]
  },
  {
   "cell_type": "code",
   "execution_count": 19,
   "metadata": {},
   "outputs": [
    {
     "data": {
      "text/plain": [
       "array([10, 11, 12, 13])"
      ]
     },
     "execution_count": 19,
     "metadata": {},
     "output_type": "execute_result"
    }
   ],
   "source": [
    "# addition avec un scalaire\n",
    "array2 = array1 + 10\n",
    "array2"
   ]
  },
  {
   "cell_type": "code",
   "execution_count": 20,
   "metadata": {},
   "outputs": [
    {
     "data": {
      "text/plain": [
       "array([ 0, 11, 24, 39])"
      ]
     },
     "execution_count": 20,
     "metadata": {},
     "output_type": "execute_result"
    }
   ],
   "source": [
    "# multiplication avec un vecteur\n",
    "array1 * array2"
   ]
  },
  {
   "cell_type": "code",
   "execution_count": 21,
   "metadata": {},
   "outputs": [
    {
     "data": {
      "text/plain": [
       "array([[0, 1, 2, 3],\n",
       "       [4, 5, 6, 7]])"
      ]
     },
     "execution_count": 21,
     "metadata": {},
     "output_type": "execute_result"
    }
   ],
   "source": [
    "# matrice 2 x 4\n",
    "array3 = np.arange(8).reshape(2, 4)\n",
    "array3"
   ]
  },
  {
   "cell_type": "code",
   "execution_count": 22,
   "metadata": {},
   "outputs": [
    {
     "data": {
      "text/plain": [
       "array([[10, 12, 14, 16],\n",
       "       [14, 16, 18, 20]])"
      ]
     },
     "execution_count": 22,
     "metadata": {},
     "output_type": "execute_result"
    }
   ],
   "source": [
    "# addition matrice + vecteur (broadcast)\n",
    "array3 + array2"
   ]
  },
  {
   "cell_type": "markdown",
   "metadata": {},
   "source": [
    "#### Python vs NumPy"
   ]
  },
  {
   "cell_type": "code",
   "execution_count": 23,
   "metadata": {},
   "outputs": [
    {
     "name": "stdout",
     "output_type": "stream",
     "text": [
      "Wall time: 3.51 s\n"
     ]
    },
    {
     "data": {
      "text/plain": [
       "10000000"
      ]
     },
     "execution_count": 23,
     "metadata": {},
     "output_type": "execute_result"
    }
   ],
   "source": [
    "%%time\n",
    "# listes Python\n",
    "len([i ** 2 for i in range(10_000_000)])"
   ]
  },
  {
   "cell_type": "code",
   "execution_count": 24,
   "metadata": {},
   "outputs": [
    {
     "name": "stdout",
     "output_type": "stream",
     "text": [
      "Wall time: 70 ms\n"
     ]
    },
    {
     "data": {
      "text/plain": [
       "10000000"
      ]
     },
     "execution_count": 24,
     "metadata": {},
     "output_type": "execute_result"
    }
   ],
   "source": [
    "%%time\n",
    "# ndarray numpy\n",
    "len(np.arange(10_000_000, dtype=int) ** 2)"
   ]
  },
  {
   "cell_type": "markdown",
   "metadata": {},
   "source": [
    "## 1.4 Les fonctions universelles\n",
    "\n",
    "**NumPy** possède de nombreuses fonctions sur les arrays permettant de les manipuler\n",
    "- fonctions logiques : `np.all()`, `np.any()`, `np.where(condition, A, B)` permet de faire une condition de manière simple\n",
    "- fonctions mathématiques : `np.abs()`, `np.sqrt()`, `np.sin()`, `np.cos()`, `np.tan()`, `np.log()`, `np.exp()`, `np.floor()`\n",
    "- fonctions arithmétiques : `np.sum()`, `np.cumsum()`, `np.min()`, `np.max()`, `np.sort()`, `np.argsort()`\n",
    "- fonctions statistiques : `np.mean()`, `np.std()`, `np.var()`, `np.median()`, `np.percentile()`, `np.average()`, `np.quantile()`\n",
    "- calculs matriciels : `@` ou `.dot()`, `T` ou `.transpose()`\n",
    "\n",
    "Certaines de ces fonctions peuvent s'utiliser avec le mot-clé `axis` pour préciser dans quelle dimension effectuer la réduction."
   ]
  },
  {
   "cell_type": "code",
   "execution_count": 25,
   "metadata": {},
   "outputs": [
    {
     "data": {
      "text/plain": [
       "array([[ 0.,  1.,  2.,  3.,  4.,  5.],\n",
       "       [ 6.,  7.,  8.,  9., 10., 11.],\n",
       "       [12., 13., -1., -1., 16., 17.],\n",
       "       [18., 19., -1., -1., 22., 23.],\n",
       "       [24., 25., -1., -1., 28., 29.],\n",
       "       [30., 31., 32., 33., 34., 35.],\n",
       "       [36., 37., 38., 39., 40., 41.],\n",
       "       [42., 43., 44., 45., 46., 47.]])"
      ]
     },
     "execution_count": 25,
     "metadata": {},
     "output_type": "execute_result"
    }
   ],
   "source": [
    "# array\n",
    "array"
   ]
  },
  {
   "cell_type": "code",
   "execution_count": 26,
   "metadata": {},
   "outputs": [
    {
     "data": {
      "text/plain": [
       "array([168., 176., 121., 126., 200., 208.])"
      ]
     },
     "execution_count": 26,
     "metadata": {},
     "output_type": "execute_result"
    }
   ],
   "source": [
    "# somme des lignes\n",
    "array.sum(axis=0)"
   ]
  },
  {
   "cell_type": "code",
   "execution_count": 27,
   "metadata": {},
   "outputs": [
    {
     "data": {
      "text/plain": [
       "array([ 15.,  51.,  56.,  80., 104., 195., 231., 267.])"
      ]
     },
     "execution_count": 27,
     "metadata": {},
     "output_type": "execute_result"
    }
   ],
   "source": [
    "# somme des colonnes\n",
    "array.sum(axis=1)"
   ]
  },
  {
   "cell_type": "code",
   "execution_count": 28,
   "metadata": {},
   "outputs": [
    {
     "data": {
      "text/plain": [
       "74"
      ]
     },
     "execution_count": 28,
     "metadata": {},
     "output_type": "execute_result"
    }
   ],
   "source": [
    "# produit vectoriel\n",
    "array1@array2  # ou np.dot(array1, array2)"
   ]
  },
  {
   "cell_type": "markdown",
   "metadata": {},
   "source": [
    "## 1.5 Exemples avec une image\n",
    "\n",
    "Si l'on charge une image avec le module **pyplot** de la librairie **matplotlib**, on obtient un array sur lequel on peut effectuer des manipulations."
   ]
  },
  {
   "cell_type": "code",
   "execution_count": 29,
   "metadata": {},
   "outputs": [],
   "source": [
    "# import\n",
    "import matplotlib.pyplot as plt"
   ]
  },
  {
   "cell_type": "code",
   "execution_count": 30,
   "metadata": {},
   "outputs": [
    {
     "data": {
      "image/png": "[encoded data removed]",
      "text/plain": [
       "<Figure size 432x288 with 1 Axes>"
      ]
     },
     "metadata": {
      "needs_background": "light"
     },
     "output_type": "display_data"
    }
   ],
   "source": [
    "# mondrian\n",
    "image = plt.imread(\"../data/mondrian-1504681_1280.png\")\n",
    "plt.imshow(image);"
   ]
  },
  {
   "cell_type": "markdown",
   "metadata": {},
   "source": [
    "Le type est un `ndarray`."
   ]
  },
  {
   "cell_type": "code",
   "execution_count": 31,
   "metadata": {},
   "outputs": [
    {
     "data": {
      "text/plain": [
       "numpy.ndarray"
      ]
     },
     "execution_count": 31,
     "metadata": {},
     "output_type": "execute_result"
    }
   ],
   "source": [
    "# type\n",
    "type(image)"
   ]
  },
  {
   "cell_type": "markdown",
   "metadata": {},
   "source": [
    "Il y a 3 dimensions."
   ]
  },
  {
   "cell_type": "code",
   "execution_count": 32,
   "metadata": {},
   "outputs": [
    {
     "data": {
      "text/plain": [
       "(960, 1280, 3)"
      ]
     },
     "execution_count": 32,
     "metadata": {},
     "output_type": "execute_result"
    }
   ],
   "source": [
    "image.shape"
   ]
  },
  {
   "cell_type": "markdown",
   "metadata": {},
   "source": [
    "Les 3 dimensions représentent :\n",
    "- la hauteur de l'image en pixels, ici 960\n",
    "- la largeur de l'image en pixels, ici 1280\n",
    "- les 3 couleurs primaires : rouge, vert, bleu (RVB) :\n",
    "    - `image_paris[:,:,0]` représente les valeurs de la couleur primaire <span style=\"color:red\">rouge</span>,\n",
    "    - `image_paris[:,:,1]` représente les valeurs de la couleur primaire <span style=\"color:green\">verte</span>,\n",
    "    - `image_paris[:,:,2]` représente les valeurs de la couleur primaire <span style=\"color:blue\">bleue</span>.\n",
    "\n",
    "Pour les images, les valeurs sont soit des nombres flottants entre 0.0 et 1.0, soit des entiers entre 0 et 255 (correspondant à 00 et FF en hexadécimal). N.B. : 0.0/0 correspond à l'absence de couleur, 1.0/255 correspond à la valeur maximale.\n",
    "\n",
    "Pour afficher une image avec les valeurs de chaque couleur primaire d'une image, il suffit de passer à 0 les valeurs des 2 autres couleurs complémentaires."
   ]
  },
  {
   "cell_type": "code",
   "execution_count": 36,
   "metadata": {},
   "outputs": [
    {
     "data": {
      "image/png": "[encoded data removed]",
      "text/plain": [
       "<Figure size 432x288 with 1 Axes>"
      ]
     },
     "metadata": {
      "needs_background": "light"
     },
     "output_type": "display_data"
    }
   ],
   "source": [
    "# bleu\n",
    "newimage = image.copy()\n",
    "newimage[:,:,(1,2)] = 0\n",
    "plt.imshow(newimage);"
   ]
  },
  {
   "cell_type": "markdown",
   "metadata": {},
   "source": [
    "Niveau de gris en utilisant une moyenne uniforme."
   ]
  },
  {
   "cell_type": "code",
   "execution_count": 37,
   "metadata": {},
   "outputs": [
    {
     "data": {
      "image/png": "[encoded data removed]",
      "text/plain": [
       "<Figure size 432x288 with 1 Axes>"
      ]
     },
     "metadata": {
      "needs_background": "light"
     },
     "output_type": "display_data"
    }
   ],
   "source": [
    "# en niveaux de gris\n",
    "newimage = image.copy()\n",
    "grayscale = newimage[:,:,:].mean(axis=2)\n",
    "newimage[:,:,0] = newimage[:,:,1] = newimage[:,:,2] = grayscale\n",
    "plt.imshow(newimage);"
   ]
  },
  {
   "cell_type": "markdown",
   "metadata": {},
   "source": [
    "Niveau de gris en utilisant une moyenne pondérée : $Y=0.2989 \\times R + 0.5870 \\times G + 0.1140 \\times B$"
   ]
  },
  {
   "cell_type": "code",
   "execution_count": 38,
   "metadata": {},
   "outputs": [
    {
     "data": {
      "image/png": "[encoded data removed]",
      "text/plain": [
       "<Figure size 432x288 with 1 Axes>"
      ]
     },
     "metadata": {
      "needs_background": "light"
     },
     "output_type": "display_data"
    }
   ],
   "source": [
    "# vraie méthode\n",
    "grayscale = np.dot(image, [0.2989, 0.5870, 0.1140])\n",
    "newimage = image.copy()\n",
    "newimage[:,:,0] = newimage[:,:,1] = newimage[:,:,2] = grayscale\n",
    "plt.imshow(newimage);"
   ]
  },
  {
   "cell_type": "markdown",
   "metadata": {},
   "source": [
    "Autre utilisation de **NumPy** : les tenseurs en *Machine Learning* et en *Deep Learning*."
   ]
  },
  {
   "cell_type": "markdown",
   "metadata": {},
   "source": [
    "# 2. pandas, la librairie pour la manipulation et l'analyse de données"
   ]
  },
  {
   "cell_type": "code",
   "execution_count": 1,
   "metadata": {
    "scrolled": false
   },
   "outputs": [],
   "source": [
    "# import des modules usuels\n",
    "import numpy as np\n",
    "import pandas as pd\n",
    "\n",
    "# options d'affichage\n",
    "pd.set_option(\"display.min_rows\", 16)"
   ]
  },
  {
   "cell_type": "markdown",
   "metadata": {},
   "source": [
    "## 2.1 Chargement des données\n",
    "\n",
    "Voici les principales fonctions de chargement disponibles :"
   ]
  },
  {
   "cell_type": "markdown",
   "metadata": {},
   "source": [
    "fonction|usage\n",
    "-|-\n",
    "read_clipboard|à partir d'une copie mémoire\n",
    "read_csv|à partir d'un fichier *CSV* (Comma-Separated Value)\n",
    "read_excel|à partir d'un fichier *Excel*\n",
    "read_html|à partir d'un fichier *HTML* (recherche des *< table >*)\n",
    "read_json|à partir d'un fichier *JSON*\n",
    "read_sql|à partir d'une requête *SQL*\n",
    "read_sas|à partir d'un fichier *SAS*\n",
    "read_table|à partir d'un fichier tabulaire quelconque"
   ]
  },
  {
   "cell_type": "code",
   "execution_count": 41,
   "metadata": {},
   "outputs": [
    {
     "data": {
      "application/json": {
       "cell": {
        "!": "OSMagics",
        "HTML": "Other",
        "SVG": "Other",
        "bash": "Other",
        "capture": "ExecutionMagics",
        "cmd": "Other",
        "debug": "ExecutionMagics",
        "file": "Other",
        "html": "DisplayMagics",
        "javascript": "DisplayMagics",
        "js": "DisplayMagics",
        "latex": "DisplayMagics",
        "markdown": "DisplayMagics",
        "perl": "Other",
        "prun": "ExecutionMagics",
        "pypy": "Other",
        "python": "Other",
        "python2": "Other",
        "python3": "Other",
        "ruby": "Other",
        "script": "ScriptMagics",
        "sh": "Other",
        "svg": "DisplayMagics",
        "sx": "OSMagics",
        "system": "OSMagics",
        "time": "ExecutionMagics",
        "timeit": "ExecutionMagics",
        "writefile": "OSMagics"
       },
       "line": {
        "alias": "OSMagics",
        "alias_magic": "BasicMagics",
        "autoawait": "AsyncMagics",
        "autocall": "AutoMagics",
        "automagic": "AutoMagics",
        "autosave": "KernelMagics",
        "bookmark": "OSMagics",
        "cd": "OSMagics",
        "clear": "KernelMagics",
        "cls": "KernelMagics",
        "colors": "BasicMagics",
        "conda": "PackagingMagics",
        "config": "ConfigMagics",
        "connect_info": "KernelMagics",
        "copy": "Other",
        "ddir": "Other",
        "debug": "ExecutionMagics",
        "dhist": "OSMagics",
        "dirs": "OSMagics",
        "doctest_mode": "BasicMagics",
        "echo": "Other",
        "ed": "Other",
        "edit": "KernelMagics",
        "env": "OSMagics",
        "gui": "BasicMagics",
        "hist": "Other",
        "history": "HistoryMagics",
        "killbgscripts": "ScriptMagics",
        "ldir": "Other",
        "less": "KernelMagics",
        "load": "CodeMagics",
        "load_ext": "ExtensionMagics",
        "loadpy": "CodeMagics",
        "logoff": "LoggingMagics",
        "logon": "LoggingMagics",
        "logstart": "LoggingMagics",
        "logstate": "LoggingMagics",
        "logstop": "LoggingMagics",
        "ls": "Other",
        "lsmagic": "BasicMagics",
        "macro": "ExecutionMagics",
        "magic": "BasicMagics",
        "matplotlib": "PylabMagics",
        "mkdir": "Other",
        "more": "KernelMagics",
        "notebook": "BasicMagics",
        "page": "BasicMagics",
        "pastebin": "CodeMagics",
        "pdb": "ExecutionMagics",
        "pdef": "NamespaceMagics",
        "pdoc": "NamespaceMagics",
        "pfile": "NamespaceMagics",
        "pinfo": "NamespaceMagics",
        "pinfo2": "NamespaceMagics",
        "pip": "PackagingMagics",
        "popd": "OSMagics",
        "pprint": "BasicMagics",
        "precision": "BasicMagics",
        "prun": "ExecutionMagics",
        "psearch": "NamespaceMagics",
        "psource": "NamespaceMagics",
        "pushd": "OSMagics",
        "pwd": "OSMagics",
        "pycat": "OSMagics",
        "pylab": "PylabMagics",
        "qtconsole": "KernelMagics",
        "quickref": "BasicMagics",
        "recall": "HistoryMagics",
        "rehashx": "OSMagics",
        "reload_ext": "ExtensionMagics",
        "ren": "Other",
        "rep": "Other",
        "rerun": "HistoryMagics",
        "reset": "NamespaceMagics",
        "reset_selective": "NamespaceMagics",
        "rmdir": "Other",
        "run": "ExecutionMagics",
        "save": "CodeMagics",
        "sc": "OSMagics",
        "set_env": "OSMagics",
        "store": "StoreMagics",
        "sx": "OSMagics",
        "system": "OSMagics",
        "tb": "ExecutionMagics",
        "time": "ExecutionMagics",
        "timeit": "ExecutionMagics",
        "unalias": "OSMagics",
        "unload_ext": "ExtensionMagics",
        "who": "NamespaceMagics",
        "who_ls": "NamespaceMagics",
        "whos": "NamespaceMagics",
        "xdel": "NamespaceMagics",
        "xmode": "BasicMagics"
       }
      },
      "text/plain": [
       "Available line magics:\n",
       "%alias  %alias_magic  %autoawait  %autocall  %automagic  %autosave  %bookmark  %cd  %clear  %cls  %colors  %conda  %config  %connect_info  %copy  %ddir  %debug  %dhist  %dirs  %doctest_mode  %echo  %ed  %edit  %env  %gui  %hist  %history  %killbgscripts  %ldir  %less  %load  %load_ext  %loadpy  %logoff  %logon  %logstart  %logstate  %logstop  %ls  %lsmagic  %macro  %magic  %matplotlib  %mkdir  %more  %notebook  %page  %pastebin  %pdb  %pdef  %pdoc  %pfile  %pinfo  %pinfo2  %pip  %popd  %pprint  %precision  %prun  %psearch  %psource  %pushd  %pwd  %pycat  %pylab  %qtconsole  %quickref  %recall  %rehashx  %reload_ext  %ren  %rep  %rerun  %reset  %reset_selective  %rmdir  %run  %save  %sc  %set_env  %store  %sx  %system  %tb  %time  %timeit  %unalias  %unload_ext  %who  %who_ls  %whos  %xdel  %xmode\n",
       "\n",
       "Available cell magics:\n",
       "%%!  %%HTML  %%SVG  %%bash  %%capture  %%cmd  %%debug  %%file  %%html  %%javascript  %%js  %%latex  %%markdown  %%perl  %%prun  %%pypy  %%python  %%python2  %%python3  %%ruby  %%script  %%sh  %%svg  %%sx  %%system  %%time  %%timeit  %%writefile\n",
       "\n",
       "Automagic is ON, % prefix IS NOT needed for line magics."
      ]
     },
     "execution_count": 41,
     "metadata": {},
     "output_type": "execute_result"
    }
   ],
   "source": [
    "%lsmagic"
   ]
  },
  {
   "cell_type": "code",
   "execution_count": 42,
   "metadata": {},
   "outputs": [
    {
     "name": "stdout",
     "output_type": "stream",
     "text": [
      "arr1\t array\t array1\t array2\t array3\t grayscale\t image\t newimage\t np\t \n",
      "pd\t plt\t \n"
     ]
    }
   ],
   "source": [
    "%who"
   ]
  },
  {
   "cell_type": "code",
   "execution_count": 43,
   "metadata": {},
   "outputs": [
    {
     "name": "stdout",
     "output_type": "stream",
     "text": [
      "Variable    Type       Data/Info\n",
      "--------------------------------\n",
      "arr1        ndarray    2x3: 6 elems, type `int32`, 24 bytes\n",
      "array       ndarray    8x6: 48 elems, type `float64`, 384 bytes\n",
      "array1      ndarray    4: 4 elems, type `int32`, 16 bytes\n",
      "array2      ndarray    4: 4 elems, type `int32`, 16 bytes\n",
      "array3      ndarray    2x4: 8 elems, type `int32`, 32 bytes\n",
      "grayscale   ndarray    960x1280: 1228800 elems, type `float64`, 9830400 bytes (9.375 Mb)\n",
      "image       ndarray    960x1280x3: 3686400 elems, type `float32`, 14745600 bytes (14.0625 Mb)\n",
      "newimage    ndarray    960x1280x3: 3686400 elems, type `float32`, 14745600 bytes (14.0625 Mb)\n",
      "np          module     <module 'numpy' from 'c:\\<...>ges\\\\numpy\\\\__init__.py'>\n",
      "pd          module     <module 'pandas' from 'c:<...>es\\\\pandas\\\\__init__.py'>\n",
      "plt         module     <module 'matplotlib.pyplo<...>\\\\matplotlib\\\\pyplot.py'>\n"
     ]
    }
   ],
   "source": [
    "%whos"
   ]
  },
  {
   "cell_type": "code",
   "execution_count": 44,
   "metadata": {},
   "outputs": [
    {
     "name": "stdout",
     "output_type": "stream",
     "text": [
      "741 µs ± 8.31 µs per loop (mean ± std. dev. of 7 runs, 1000 loops each)\n"
     ]
    }
   ],
   "source": [
    "%timeit [i*i for i in range(10_000)]"
   ]
  },
  {
   "cell_type": "code",
   "execution_count": 45,
   "metadata": {},
   "outputs": [
    {
     "name": "stdout",
     "output_type": "stream",
     "text": [
      "8.82 ms ± 77.5 µs per loop (mean ± std. dev. of 7 runs, 100 loops each)\n"
     ]
    }
   ],
   "source": [
    "%timeit [i*i for i in range(100_000)]"
   ]
  },
  {
   "cell_type": "code",
   "execution_count": null,
   "metadata": {
    "scrolled": false
   },
   "outputs": [],
   "source": [
    "# utilisation de Tab\n",
    "pd.read_"
   ]
  },
  {
   "cell_type": "code",
   "execution_count": 48,
   "metadata": {},
   "outputs": [],
   "source": [
    "# aide en ligne\n",
    "pd.read_csv?"
   ]
  },
  {
   "cell_type": "code",
   "execution_count": 2,
   "metadata": {
    "scrolled": false
   },
   "outputs": [
    {
     "data": {
      "text/html": [
       "<div>\n",
       "<style scoped>\n",
       "    .dataframe tbody tr th:only-of-type {\n",
       "        vertical-align: middle;\n",
       "    }\n",
       "\n",
       "    .dataframe tbody tr th {\n",
       "        vertical-align: top;\n",
       "    }\n",
       "\n",
       "    .dataframe thead th {\n",
       "        text-align: right;\n",
       "    }\n",
       "</style>\n",
       "<table border=\"1\" class=\"dataframe\">\n",
       "  <thead>\n",
       "    <tr style=\"text-align: right;\">\n",
       "      <th></th>\n",
       "      <th>Code INSEE</th>\n",
       "      <th>Code Postal</th>\n",
       "      <th>Commune</th>\n",
       "      <th>Département</th>\n",
       "      <th>Région</th>\n",
       "      <th>Statut</th>\n",
       "      <th>Altitude Moyenne</th>\n",
       "      <th>Superficie</th>\n",
       "      <th>Population</th>\n",
       "      <th>geo_point_2d</th>\n",
       "      <th>geo_shape</th>\n",
       "    </tr>\n",
       "  </thead>\n",
       "  <tbody>\n",
       "    <tr>\n",
       "      <th>0</th>\n",
       "      <td>31080</td>\n",
       "      <td>31350</td>\n",
       "      <td>BOULOGNE-SUR-GESSE</td>\n",
       "      <td>HAUTE-GARONNE</td>\n",
       "      <td>MIDI-PYRENEES</td>\n",
       "      <td>Chef-lieu canton</td>\n",
       "      <td>301.0</td>\n",
       "      <td>2470.0</td>\n",
       "      <td>1.6</td>\n",
       "      <td>43.2904403081, 0.650641474176</td>\n",
       "      <td>{\"type\": \"Polygon\", \"coordinates\": [[[0.671852...</td>\n",
       "    </tr>\n",
       "    <tr>\n",
       "      <th>1</th>\n",
       "      <td>11143</td>\n",
       "      <td>11510</td>\n",
       "      <td>FEUILLA</td>\n",
       "      <td>AUDE</td>\n",
       "      <td>LANGUEDOC-ROUSSILLON</td>\n",
       "      <td>Commune simple</td>\n",
       "      <td>314.0</td>\n",
       "      <td>2426.0</td>\n",
       "      <td>0.1</td>\n",
       "      <td>42.9291375888, 2.90138923544</td>\n",
       "      <td>{\"type\": \"Polygon\", \"coordinates\": [[[2.906996...</td>\n",
       "    </tr>\n",
       "    <tr>\n",
       "      <th>2</th>\n",
       "      <td>43028</td>\n",
       "      <td>43200</td>\n",
       "      <td>BESSAMOREL</td>\n",
       "      <td>HAUTE-LOIRE</td>\n",
       "      <td>AUVERGNE</td>\n",
       "      <td>Commune simple</td>\n",
       "      <td>888.0</td>\n",
       "      <td>743.0</td>\n",
       "      <td>0.4</td>\n",
       "      <td>45.1306448726, 4.07952494849</td>\n",
       "      <td>{\"type\": \"Polygon\", \"coordinates\": [[[4.091674...</td>\n",
       "    </tr>\n",
       "    <tr>\n",
       "      <th>3</th>\n",
       "      <td>78506</td>\n",
       "      <td>78660</td>\n",
       "      <td>PRUNAY-EN-YVELINES</td>\n",
       "      <td>YVELINES</td>\n",
       "      <td>ILE-DE-FRANCE</td>\n",
       "      <td>Commune simple</td>\n",
       "      <td>155.0</td>\n",
       "      <td>2717.0</td>\n",
       "      <td>0.8</td>\n",
       "      <td>48.5267627187, 1.80513972814</td>\n",
       "      <td>{\"type\": \"Polygon\", \"coordinates\": [[[1.829610...</td>\n",
       "    </tr>\n",
       "    <tr>\n",
       "      <th>4</th>\n",
       "      <td>84081</td>\n",
       "      <td>84310</td>\n",
       "      <td>MORIERES-LES-AVIGNON</td>\n",
       "      <td>VAUCLUSE</td>\n",
       "      <td>PROVENCE-ALPES-COTE D'AZUR</td>\n",
       "      <td>Commune simple</td>\n",
       "      <td>49.0</td>\n",
       "      <td>1042.0</td>\n",
       "      <td>7.6</td>\n",
       "      <td>43.9337788848, 4.90875878315</td>\n",
       "      <td>{\"type\": \"Polygon\", \"coordinates\": [[[4.927176...</td>\n",
       "    </tr>\n",
       "    <tr>\n",
       "      <th>5</th>\n",
       "      <td>80462</td>\n",
       "      <td>80150</td>\n",
       "      <td>LAMOTTE-BULEUX</td>\n",
       "      <td>SOMME</td>\n",
       "      <td>PICARDIE</td>\n",
       "      <td>Commune simple</td>\n",
       "      <td>59.0</td>\n",
       "      <td>613.0</td>\n",
       "      <td>0.4</td>\n",
       "      <td>50.1865666179, 1.83564836965</td>\n",
       "      <td>{\"type\": \"Polygon\", \"coordinates\": [[[1.849459...</td>\n",
       "    </tr>\n",
       "    <tr>\n",
       "      <th>6</th>\n",
       "      <td>40200</td>\n",
       "      <td>40410</td>\n",
       "      <td>MOUSTEY</td>\n",
       "      <td>LANDES</td>\n",
       "      <td>AQUITAINE</td>\n",
       "      <td>Commune simple</td>\n",
       "      <td>49.0</td>\n",
       "      <td>6736.0</td>\n",
       "      <td>0.7</td>\n",
       "      <td>44.3882918763, -0.750880080586</td>\n",
       "      <td>{\"type\": \"Polygon\", \"coordinates\": [[[-0.71016...</td>\n",
       "    </tr>\n",
       "    <tr>\n",
       "      <th>7</th>\n",
       "      <td>17394</td>\n",
       "      <td>17700</td>\n",
       "      <td>SAINT-SATURNIN-DU-BOIS</td>\n",
       "      <td>CHARENTE-MARITIME</td>\n",
       "      <td>POITOU-CHARENTES</td>\n",
       "      <td>Commune simple</td>\n",
       "      <td>45.0</td>\n",
       "      <td>2528.0</td>\n",
       "      <td>0.9</td>\n",
       "      <td>46.1401428747, -0.665133364912</td>\n",
       "      <td>{\"type\": \"Polygon\", \"coordinates\": [[[-0.66124...</td>\n",
       "    </tr>\n",
       "    <tr>\n",
       "      <th>...</th>\n",
       "      <td>...</td>\n",
       "      <td>...</td>\n",
       "      <td>...</td>\n",
       "      <td>...</td>\n",
       "      <td>...</td>\n",
       "      <td>...</td>\n",
       "      <td>...</td>\n",
       "      <td>...</td>\n",
       "      <td>...</td>\n",
       "      <td>...</td>\n",
       "      <td>...</td>\n",
       "    </tr>\n",
       "    <tr>\n",
       "      <th>36734</th>\n",
       "      <td>15024</td>\n",
       "      <td>15700</td>\n",
       "      <td>BRAGEAC</td>\n",
       "      <td>CANTAL</td>\n",
       "      <td>AUVERGNE</td>\n",
       "      <td>Commune simple</td>\n",
       "      <td>555.0</td>\n",
       "      <td>1222.0</td>\n",
       "      <td>0.1</td>\n",
       "      <td>45.2038604898, 2.26559675808</td>\n",
       "      <td>{\"type\": \"Polygon\", \"coordinates\": [[[2.302124...</td>\n",
       "    </tr>\n",
       "    <tr>\n",
       "      <th>36735</th>\n",
       "      <td>76008</td>\n",
       "      <td>76370</td>\n",
       "      <td>ANCOURT</td>\n",
       "      <td>SEINE-MARITIME</td>\n",
       "      <td>HAUTE-NORMANDIE</td>\n",
       "      <td>Commune simple</td>\n",
       "      <td>80.0</td>\n",
       "      <td>1252.0</td>\n",
       "      <td>0.7</td>\n",
       "      <td>49.9085547953, 1.17898885458</td>\n",
       "      <td>{\"type\": \"Polygon\", \"coordinates\": [[[1.205457...</td>\n",
       "    </tr>\n",
       "    <tr>\n",
       "      <th>36736</th>\n",
       "      <td>02137</td>\n",
       "      <td>02810</td>\n",
       "      <td>BUSSIARES</td>\n",
       "      <td>AISNE</td>\n",
       "      <td>PICARDIE</td>\n",
       "      <td>Commune simple</td>\n",
       "      <td>141.0</td>\n",
       "      <td>769.0</td>\n",
       "      <td>0.1</td>\n",
       "      <td>49.0765910572, 3.25026191909</td>\n",
       "      <td>{\"type\": \"Polygon\", \"coordinates\": [[[3.258096...</td>\n",
       "    </tr>\n",
       "    <tr>\n",
       "      <th>36737</th>\n",
       "      <td>74066</td>\n",
       "      <td>74270</td>\n",
       "      <td>CHAVANNAZ</td>\n",
       "      <td>HAUTE-SAVOIE</td>\n",
       "      <td>RHONE-ALPES</td>\n",
       "      <td>Commune simple</td>\n",
       "      <td>564.0</td>\n",
       "      <td>321.0</td>\n",
       "      <td>0.2</td>\n",
       "      <td>46.0500384099, 6.01652644319</td>\n",
       "      <td>{\"type\": \"Polygon\", \"coordinates\": [[[6.026228...</td>\n",
       "    </tr>\n",
       "    <tr>\n",
       "      <th>36738</th>\n",
       "      <td>67315</td>\n",
       "      <td>67630</td>\n",
       "      <td>NEEWILLER-PRES-LAUTERBOURG</td>\n",
       "      <td>BAS-RHIN</td>\n",
       "      <td>ALSACE</td>\n",
       "      <td>Commune simple</td>\n",
       "      <td>157.0</td>\n",
       "      <td>725.0</td>\n",
       "      <td>0.7</td>\n",
       "      <td>48.9516989257, 8.11931601006</td>\n",
       "      <td>{\"type\": \"Polygon\", \"coordinates\": [[[8.106826...</td>\n",
       "    </tr>\n",
       "    <tr>\n",
       "      <th>36739</th>\n",
       "      <td>07122</td>\n",
       "      <td>07200</td>\n",
       "      <td>LACHAPELLE-SOUS-AUBENAS</td>\n",
       "      <td>ARDECHE</td>\n",
       "      <td>RHONE-ALPES</td>\n",
       "      <td>Commune simple</td>\n",
       "      <td>257.0</td>\n",
       "      <td>1018.0</td>\n",
       "      <td>1.5</td>\n",
       "      <td>44.5622616562, 4.35906947518</td>\n",
       "      <td>{\"type\": \"Polygon\", \"coordinates\": [[[4.356584...</td>\n",
       "    </tr>\n",
       "    <tr>\n",
       "      <th>36740</th>\n",
       "      <td>01026</td>\n",
       "      <td>01380</td>\n",
       "      <td>BAGE-LE-CHATEL</td>\n",
       "      <td>AIN</td>\n",
       "      <td>RHONE-ALPES</td>\n",
       "      <td>Chef-lieu canton</td>\n",
       "      <td>202.0</td>\n",
       "      <td>86.0</td>\n",
       "      <td>0.8</td>\n",
       "      <td>46.3077069231, 4.92862084189</td>\n",
       "      <td>{\"type\": \"Polygon\", \"coordinates\": [[[4.926593...</td>\n",
       "    </tr>\n",
       "    <tr>\n",
       "      <th>36741</th>\n",
       "      <td>50224</td>\n",
       "      <td>50160</td>\n",
       "      <td>GUILBERVILLE</td>\n",
       "      <td>MANCHE</td>\n",
       "      <td>BASSE-NORMANDIE</td>\n",
       "      <td>Commune simple</td>\n",
       "      <td>165.0</td>\n",
       "      <td>2224.0</td>\n",
       "      <td>1.0</td>\n",
       "      <td>48.9866701737, -0.949588175705</td>\n",
       "      <td>{\"type\": \"Polygon\", \"coordinates\": [[[-0.99753...</td>\n",
       "    </tr>\n",
       "  </tbody>\n",
       "</table>\n",
       "<p>36742 rows × 11 columns</p>\n",
       "</div>"
      ],
      "text/plain": [
       "      Code INSEE Code Postal                     Commune        Département  \\\n",
       "0          31080       31350          BOULOGNE-SUR-GESSE      HAUTE-GARONNE   \n",
       "1          11143       11510                     FEUILLA               AUDE   \n",
       "2          43028       43200                  BESSAMOREL        HAUTE-LOIRE   \n",
       "3          78506       78660          PRUNAY-EN-YVELINES           YVELINES   \n",
       "4          84081       84310        MORIERES-LES-AVIGNON           VAUCLUSE   \n",
       "5          80462       80150              LAMOTTE-BULEUX              SOMME   \n",
       "6          40200       40410                     MOUSTEY             LANDES   \n",
       "7          17394       17700      SAINT-SATURNIN-DU-BOIS  CHARENTE-MARITIME   \n",
       "...          ...         ...                         ...                ...   \n",
       "36734      15024       15700                     BRAGEAC             CANTAL   \n",
       "36735      76008       76370                     ANCOURT     SEINE-MARITIME   \n",
       "36736      02137       02810                   BUSSIARES              AISNE   \n",
       "36737      74066       74270                   CHAVANNAZ       HAUTE-SAVOIE   \n",
       "36738      67315       67630  NEEWILLER-PRES-LAUTERBOURG           BAS-RHIN   \n",
       "36739      07122       07200     LACHAPELLE-SOUS-AUBENAS            ARDECHE   \n",
       "36740      01026       01380              BAGE-LE-CHATEL                AIN   \n",
       "36741      50224       50160                GUILBERVILLE             MANCHE   \n",
       "\n",
       "                           Région            Statut  Altitude Moyenne  \\\n",
       "0                   MIDI-PYRENEES  Chef-lieu canton             301.0   \n",
       "1            LANGUEDOC-ROUSSILLON    Commune simple             314.0   \n",
       "2                        AUVERGNE    Commune simple             888.0   \n",
       "3                   ILE-DE-FRANCE    Commune simple             155.0   \n",
       "4      PROVENCE-ALPES-COTE D'AZUR    Commune simple              49.0   \n",
       "5                        PICARDIE    Commune simple              59.0   \n",
       "6                       AQUITAINE    Commune simple              49.0   \n",
       "7                POITOU-CHARENTES    Commune simple              45.0   \n",
       "...                           ...               ...               ...   \n",
       "36734                    AUVERGNE    Commune simple             555.0   \n",
       "36735             HAUTE-NORMANDIE    Commune simple              80.0   \n",
       "36736                    PICARDIE    Commune simple             141.0   \n",
       "36737                 RHONE-ALPES    Commune simple             564.0   \n",
       "36738                      ALSACE    Commune simple             157.0   \n",
       "36739                 RHONE-ALPES    Commune simple             257.0   \n",
       "36740                 RHONE-ALPES  Chef-lieu canton             202.0   \n",
       "36741             BASSE-NORMANDIE    Commune simple             165.0   \n",
       "\n",
       "       Superficie  Population                    geo_point_2d  \\\n",
       "0          2470.0         1.6   43.2904403081, 0.650641474176   \n",
       "1          2426.0         0.1    42.9291375888, 2.90138923544   \n",
       "2           743.0         0.4    45.1306448726, 4.07952494849   \n",
       "3          2717.0         0.8    48.5267627187, 1.80513972814   \n",
       "4          1042.0         7.6    43.9337788848, 4.90875878315   \n",
       "5           613.0         0.4    50.1865666179, 1.83564836965   \n",
       "6          6736.0         0.7  44.3882918763, -0.750880080586   \n",
       "7          2528.0         0.9  46.1401428747, -0.665133364912   \n",
       "...           ...         ...                             ...   \n",
       "36734      1222.0         0.1    45.2038604898, 2.26559675808   \n",
       "36735      1252.0         0.7    49.9085547953, 1.17898885458   \n",
       "36736       769.0         0.1    49.0765910572, 3.25026191909   \n",
       "36737       321.0         0.2    46.0500384099, 6.01652644319   \n",
       "36738       725.0         0.7    48.9516989257, 8.11931601006   \n",
       "36739      1018.0         1.5    44.5622616562, 4.35906947518   \n",
       "36740        86.0         0.8    46.3077069231, 4.92862084189   \n",
       "36741      2224.0         1.0  48.9866701737, -0.949588175705   \n",
       "\n",
       "                                               geo_shape  \n",
       "0      {\"type\": \"Polygon\", \"coordinates\": [[[0.671852...  \n",
       "1      {\"type\": \"Polygon\", \"coordinates\": [[[2.906996...  \n",
       "2      {\"type\": \"Polygon\", \"coordinates\": [[[4.091674...  \n",
       "3      {\"type\": \"Polygon\", \"coordinates\": [[[1.829610...  \n",
       "4      {\"type\": \"Polygon\", \"coordinates\": [[[4.927176...  \n",
       "5      {\"type\": \"Polygon\", \"coordinates\": [[[1.849459...  \n",
       "6      {\"type\": \"Polygon\", \"coordinates\": [[[-0.71016...  \n",
       "7      {\"type\": \"Polygon\", \"coordinates\": [[[-0.66124...  \n",
       "...                                                  ...  \n",
       "36734  {\"type\": \"Polygon\", \"coordinates\": [[[2.302124...  \n",
       "36735  {\"type\": \"Polygon\", \"coordinates\": [[[1.205457...  \n",
       "36736  {\"type\": \"Polygon\", \"coordinates\": [[[3.258096...  \n",
       "36737  {\"type\": \"Polygon\", \"coordinates\": [[[6.026228...  \n",
       "36738  {\"type\": \"Polygon\", \"coordinates\": [[[8.106826...  \n",
       "36739  {\"type\": \"Polygon\", \"coordinates\": [[[4.356584...  \n",
       "36740  {\"type\": \"Polygon\", \"coordinates\": [[[4.926593...  \n",
       "36741  {\"type\": \"Polygon\", \"coordinates\": [[[-0.99753...  \n",
       "\n",
       "[36742 rows x 11 columns]"
      ]
     },
     "execution_count": 2,
     "metadata": {},
     "output_type": "execute_result"
    }
   ],
   "source": [
    "# chargement des données\n",
    "geo = pd.read_csv(\"../data/correspondance-code-insee-code-postal.csv\",\n",
    "                   sep=';',\n",
    "                   usecols=range(11))\n",
    "geo"
   ]
  },
  {
   "cell_type": "code",
   "execution_count": 51,
   "metadata": {},
   "outputs": [
    {
     "data": {
      "text/plain": [
       "pandas.core.frame.DataFrame"
      ]
     },
     "execution_count": 51,
     "metadata": {},
     "output_type": "execute_result"
    }
   ],
   "source": [
    "# type ou classe\n",
    "type(geo)"
   ]
  },
  {
   "cell_type": "code",
   "execution_count": 52,
   "metadata": {},
   "outputs": [
    {
     "data": {
      "text/plain": [
       "(36742, 11)"
      ]
     },
     "execution_count": 52,
     "metadata": {},
     "output_type": "execute_result"
    }
   ],
   "source": [
    "# dimensions\n",
    "geo.shape"
   ]
  },
  {
   "cell_type": "markdown",
   "metadata": {},
   "source": [
    "## 2.2 Series"
   ]
  },
  {
   "cell_type": "code",
   "execution_count": 53,
   "metadata": {
    "scrolled": false
   },
   "outputs": [
    {
     "data": {
      "text/plain": [
       "0                BOULOGNE-SUR-GESSE\n",
       "1                           FEUILLA\n",
       "2                        BESSAMOREL\n",
       "3                PRUNAY-EN-YVELINES\n",
       "4              MORIERES-LES-AVIGNON\n",
       "5                    LAMOTTE-BULEUX\n",
       "6                           MOUSTEY\n",
       "7            SAINT-SATURNIN-DU-BOIS\n",
       "                    ...            \n",
       "36734                       BRAGEAC\n",
       "36735                       ANCOURT\n",
       "36736                     BUSSIARES\n",
       "36737                     CHAVANNAZ\n",
       "36738    NEEWILLER-PRES-LAUTERBOURG\n",
       "36739       LACHAPELLE-SOUS-AUBENAS\n",
       "36740                BAGE-LE-CHATEL\n",
       "36741                  GUILBERVILLE\n",
       "Name: Commune, Length: 36742, dtype: object"
      ]
     },
     "execution_count": 53,
     "metadata": {},
     "output_type": "execute_result"
    }
   ],
   "source": [
    "# on obtient un objet Series à partir d'une colonne du DataFrame\n",
    "s = geo[\"Commune\"]\n",
    "s"
   ]
  },
  {
   "cell_type": "code",
   "execution_count": 54,
   "metadata": {
    "scrolled": false
   },
   "outputs": [
    {
     "data": {
      "text/plain": [
       "pandas.core.series.Series"
      ]
     },
     "execution_count": 54,
     "metadata": {},
     "output_type": "execute_result"
    }
   ],
   "source": [
    "# type de l'objet\n",
    "type(s)"
   ]
  },
  {
   "cell_type": "code",
   "execution_count": 55,
   "metadata": {
    "scrolled": false
   },
   "outputs": [
    {
     "data": {
      "text/plain": [
       "'Commune'"
      ]
     },
     "execution_count": 55,
     "metadata": {},
     "output_type": "execute_result"
    }
   ],
   "source": [
    "# accès à la variable d'instance \"name\" = nom de la colonne\n",
    "s.name"
   ]
  },
  {
   "cell_type": "code",
   "execution_count": 56,
   "metadata": {
    "scrolled": false
   },
   "outputs": [
    {
     "data": {
      "text/plain": [
       "array(['BOULOGNE-SUR-GESSE', 'FEUILLA', 'BESSAMOREL', ...,\n",
       "       'LACHAPELLE-SOUS-AUBENAS', 'BAGE-LE-CHATEL', 'GUILBERVILLE'],\n",
       "      dtype=object)"
      ]
     },
     "execution_count": 56,
     "metadata": {},
     "output_type": "execute_result"
    }
   ],
   "source": [
    "# accès à la variable d'instance \"values\"\n",
    "s.values"
   ]
  },
  {
   "cell_type": "code",
   "execution_count": 57,
   "metadata": {
    "scrolled": false
   },
   "outputs": [
    {
     "data": {
      "text/plain": [
       "numpy.ndarray"
      ]
     },
     "execution_count": 57,
     "metadata": {},
     "output_type": "execute_result"
    }
   ],
   "source": [
    "# type de la variable \"values\"\n",
    "type(s.values)"
   ]
  },
  {
   "cell_type": "code",
   "execution_count": 58,
   "metadata": {
    "scrolled": false
   },
   "outputs": [
    {
     "data": {
      "text/plain": [
       "(36742,)"
      ]
     },
     "execution_count": 58,
     "metadata": {},
     "output_type": "execute_result"
    }
   ],
   "source": [
    "# dimension de l'objet, retourne un tuple avec un seul élément\n",
    "s.shape"
   ]
  },
  {
   "cell_type": "code",
   "execution_count": 59,
   "metadata": {
    "scrolled": false
   },
   "outputs": [
    {
     "data": {
      "text/plain": [
       "36742"
      ]
     },
     "execution_count": 59,
     "metadata": {},
     "output_type": "execute_result"
    }
   ],
   "source": [
    "# taille de l'objet, ou bien len(s)\n",
    "s.size"
   ]
  },
  {
   "cell_type": "code",
   "execution_count": 60,
   "metadata": {
    "scrolled": false
   },
   "outputs": [
    {
     "data": {
      "text/plain": [
       "RangeIndex(start=0, stop=36742, step=1)"
      ]
     },
     "execution_count": 60,
     "metadata": {},
     "output_type": "execute_result"
    }
   ],
   "source": [
    "# index numérique par défaut\n",
    "s.index"
   ]
  },
  {
   "cell_type": "code",
   "execution_count": 61,
   "metadata": {},
   "outputs": [
    {
     "data": {
      "text/plain": [
       "dtype('O')"
      ]
     },
     "execution_count": 61,
     "metadata": {},
     "output_type": "execute_result"
    }
   ],
   "source": [
    "# dtype de la série\n",
    "s.dtype"
   ]
  },
  {
   "cell_type": "code",
   "execution_count": 62,
   "metadata": {
    "scrolled": false
   },
   "outputs": [
    {
     "data": {
      "text/plain": [
       "0      BOULOGNE-SUR-GESSE\n",
       "1                 FEUILLA\n",
       "2              BESSAMOREL\n",
       "3      PRUNAY-EN-YVELINES\n",
       "4    MORIERES-LES-AVIGNON\n",
       "Name: Commune, dtype: object"
      ]
     },
     "execution_count": 62,
     "metadata": {},
     "output_type": "execute_result"
    }
   ],
   "source": [
    "# tête\n",
    "s.head()"
   ]
  },
  {
   "cell_type": "code",
   "execution_count": 63,
   "metadata": {
    "scrolled": false
   },
   "outputs": [
    {
     "data": {
      "text/plain": [
       "36737                     CHAVANNAZ\n",
       "36738    NEEWILLER-PRES-LAUTERBOURG\n",
       "36739       LACHAPELLE-SOUS-AUBENAS\n",
       "36740                BAGE-LE-CHATEL\n",
       "36741                  GUILBERVILLE\n",
       "Name: Commune, dtype: object"
      ]
     },
     "execution_count": 63,
     "metadata": {},
     "output_type": "execute_result"
    }
   ],
   "source": [
    "# queue\n",
    "s.tail()"
   ]
  },
  {
   "cell_type": "markdown",
   "metadata": {},
   "source": [
    "Nombre de valeurs uniques d'un objet *Series*"
   ]
  },
  {
   "cell_type": "code",
   "execution_count": 64,
   "metadata": {
    "scrolled": false
   },
   "outputs": [
    {
     "data": {
      "text/plain": [
       "34130"
      ]
     },
     "execution_count": 64,
     "metadata": {},
     "output_type": "execute_result"
    }
   ],
   "source": [
    "# nombre de valeurs uniques\n",
    "s.nunique()"
   ]
  },
  {
   "cell_type": "code",
   "execution_count": 65,
   "metadata": {
    "scrolled": false
   },
   "outputs": [
    {
     "data": {
      "text/plain": [
       "101"
      ]
     },
     "execution_count": 65,
     "metadata": {},
     "output_type": "execute_result"
    }
   ],
   "source": [
    "# nombre de départements\n",
    "geo[\"Département\"].nunique()"
   ]
  },
  {
   "cell_type": "code",
   "execution_count": 66,
   "metadata": {
    "scrolled": false
   },
   "outputs": [
    {
     "data": {
      "text/plain": [
       "6"
      ]
     },
     "execution_count": 66,
     "metadata": {},
     "output_type": "execute_result"
    }
   ],
   "source": [
    "# nombre de statuts de commune\n",
    "geo[\"Statut\"].nunique()"
   ]
  },
  {
   "cell_type": "code",
   "execution_count": 67,
   "metadata": {
    "scrolled": false
   },
   "outputs": [
    {
     "data": {
      "text/plain": [
       "array(['Chef-lieu canton', 'Commune simple', 'Sous-préfecture',\n",
       "       'Préfecture', 'Préfecture de région', \"Capitale d'état\"],\n",
       "      dtype=object)"
      ]
     },
     "execution_count": 67,
     "metadata": {},
     "output_type": "execute_result"
    }
   ],
   "source": [
    "# différents statuts de commune\n",
    "geo[\"Statut\"].unique()"
   ]
  },
  {
   "cell_type": "code",
   "execution_count": 68,
   "metadata": {
    "scrolled": false
   },
   "outputs": [
    {
     "data": {
      "text/plain": [
       "array(['HAUTE-GARONNE', 'AUDE', 'HAUTE-LOIRE', 'YVELINES', 'VAUCLUSE',\n",
       "       'SOMME', 'LANDES', 'CHARENTE-MARITIME', 'ORNE', 'NORD',\n",
       "       'ALPES-DE-HAUTE-PROVENCE', 'AISNE', 'CHER', 'CALVADOS', 'ARDECHE',\n",
       "       'MOSELLE', 'SARTHE', 'DEUX-SEVRES', 'HAUTES-ALPES', 'FINISTERE',\n",
       "       'SAVOIE', \"COTES-D'ARMOR\", \"COTE-D'OR\", 'HAUTE-MARNE', 'VIENNE',\n",
       "       'PYRENEES-ATLANTIQUES', 'DROME', 'OISE', 'CHARENTE',\n",
       "       'EURE-ET-LOIR', 'MARNE', 'MAYENNE', 'GIRONDE', 'DOUBS',\n",
       "       'PAS-DE-CALAIS', 'LOIRE', 'VENDEE', 'HAUTE-SAVOIE', 'HAUTE-CORSE',\n",
       "       'VOSGES', 'MEUSE', 'ESSONNE', 'JURA', 'EURE',\n",
       "       'PYRENEES-ORIENTALES', 'MORBIHAN', 'LOT', 'SEINE-ET-MARNE', 'GARD',\n",
       "       'HAUTE-SAONE', 'HAUTE-VIENNE', 'SAONE-ET-LOIRE', 'ARDENNES',\n",
       "       'HERAULT', 'ILLE-ET-VILAINE', 'SEINE-MARITIME', 'MANCHE',\n",
       "       'BAS-RHIN', 'HAUTES-PYRENEES', 'AIN', 'LOIRET', 'CORREZE',\n",
       "       'INDRE-ET-LOIRE', 'INDRE', 'ARIEGE', \"VAL-D'OISE\",\n",
       "       'MEURTHE-ET-MOSELLE', 'RHONE', 'LOIRE-ATLANTIQUE',\n",
       "       'ALPES-MARITIMES', 'HAUT-RHIN', 'MAINE-ET-LOIRE', 'ISERE',\n",
       "       'BOUCHES-DU-RHONE', 'TARN-ET-GARONNE', 'CANTAL', 'YONNE',\n",
       "       'LOIR-ET-CHER', 'CORSE-DU-SUD', 'LOT-ET-GARONNE', 'PUY-DE-DOME',\n",
       "       'ALLIER', 'LOZERE', 'AUBE', 'GERS', 'HAUTS-DE-SEINE', 'DORDOGNE',\n",
       "       'TERRITOIRE DE BELFORT', 'NIEVRE', 'TARN', 'CREUSE', 'VAR',\n",
       "       'AVEYRON', 'GUYANE', 'REUNION', 'GUADELOUPE', 'PARIS',\n",
       "       'VAL-DE-MARNE', 'SEINE-SAINT-DENIS', 'MAYOTTE', 'MARTINIQUE'],\n",
       "      dtype=object)"
      ]
     },
     "execution_count": 68,
     "metadata": {},
     "output_type": "execute_result"
    }
   ],
   "source": [
    "# liste des départements\n",
    "geo[\"Département\"].unique()"
   ]
  },
  {
   "cell_type": "markdown",
   "metadata": {},
   "source": [
    "**Exercice 1**\n",
    "- Combien de valeurs différentes comporte la colonne \"Altitude Moyenne\" ?\n",
    "- Pour quelle altitude inférieure à 1000 mètres n'y a-t-il aucune commune ?"
   ]
  },
  {
   "cell_type": "code",
   "execution_count": 71,
   "metadata": {},
   "outputs": [
    {
     "data": {
      "text/plain": [
       "1652"
      ]
     },
     "execution_count": 71,
     "metadata": {},
     "output_type": "execute_result"
    }
   ],
   "source": [
    "geo[\"Altitude Moyenne\"].nunique()"
   ]
  },
  {
   "cell_type": "code",
   "execution_count": 74,
   "metadata": {},
   "outputs": [
    {
     "name": "stdout",
     "output_type": "stream",
     "text": [
      "1 2 3\n"
     ]
    }
   ],
   "source": [
    "print(1, 2, 3)"
   ]
  },
  {
   "cell_type": "code",
   "execution_count": 75,
   "metadata": {},
   "outputs": [
    {
     "name": "stdout",
     "output_type": "stream",
     "text": [
      "[1, 2, 3]\n"
     ]
    }
   ],
   "source": [
    "print([1, 2, 3])"
   ]
  },
  {
   "cell_type": "code",
   "execution_count": 76,
   "metadata": {},
   "outputs": [
    {
     "name": "stdout",
     "output_type": "stream",
     "text": [
      "1 2 3\n"
     ]
    }
   ],
   "source": [
    "print(*[1, 2, 3])"
   ]
  },
  {
   "cell_type": "code",
   "execution_count": 82,
   "metadata": {},
   "outputs": [
    {
     "data": {
      "text/plain": [
       "{876}"
      ]
     },
     "execution_count": 82,
     "metadata": {},
     "output_type": "execute_result"
    }
   ],
   "source": [
    "set(range(1000)).difference(set(geo[\"Altitude Moyenne\"]))"
   ]
  },
  {
   "cell_type": "code",
   "execution_count": null,
   "metadata": {},
   "outputs": [],
   "source": [
    "# algo vs set"
   ]
  },
  {
   "cell_type": "code",
   "execution_count": 83,
   "metadata": {
    "scrolled": false
   },
   "outputs": [
    {
     "data": {
      "text/plain": [
       "PAS-DE-CALAIS        895\n",
       "AISNE                816\n",
       "SOMME                782\n",
       "SEINE-MARITIME       744\n",
       "MOSELLE              730\n",
       "CALVADOS             706\n",
       "COTE-D'OR            706\n",
       "OISE                 693\n",
       "                    ... \n",
       "SEINE-SAINT-DENIS     40\n",
       "HAUTS-DE-SEINE        36\n",
       "MARTINIQUE            34\n",
       "GUADELOUPE            32\n",
       "REUNION               24\n",
       "GUYANE                22\n",
       "PARIS                 20\n",
       "MAYOTTE               17\n",
       "Name: Département, Length: 101, dtype: int64"
      ]
     },
     "execution_count": 83,
     "metadata": {},
     "output_type": "execute_result"
    }
   ],
   "source": [
    "# nombre de communes par département\n",
    "geo[\"Département\"].value_counts()"
   ]
  },
  {
   "cell_type": "code",
   "execution_count": 84,
   "metadata": {
    "scrolled": false
   },
   "outputs": [
    {
     "data": {
      "text/plain": [
       "pandas.core.series.Series"
      ]
     },
     "execution_count": 84,
     "metadata": {},
     "output_type": "execute_result"
    }
   ],
   "source": [
    "s2 = geo[\"Département\"].value_counts()\n",
    "type(s2)"
   ]
  },
  {
   "cell_type": "code",
   "execution_count": 85,
   "metadata": {
    "scrolled": false
   },
   "outputs": [
    {
     "data": {
      "text/plain": [
       "Index(['PAS-DE-CALAIS', 'AISNE', 'SOMME', 'SEINE-MARITIME', 'MOSELLE',\n",
       "       'CALVADOS', 'COTE-D'OR', 'OISE', 'EURE', 'NORD',\n",
       "       ...\n",
       "       'TERRITOIRE DE BELFORT', 'VAL-DE-MARNE', 'SEINE-SAINT-DENIS',\n",
       "       'HAUTS-DE-SEINE', 'MARTINIQUE', 'GUADELOUPE', 'REUNION', 'GUYANE',\n",
       "       'PARIS', 'MAYOTTE'],\n",
       "      dtype='object', length=101)"
      ]
     },
     "execution_count": 85,
     "metadata": {},
     "output_type": "execute_result"
    }
   ],
   "source": [
    "# l'index est composé des valeurs uniques de l'objet Series initial\n",
    "s2.index"
   ]
  },
  {
   "cell_type": "code",
   "execution_count": 86,
   "metadata": {},
   "outputs": [
    {
     "data": {
      "text/plain": [
       "True"
      ]
     },
     "execution_count": 86,
     "metadata": {},
     "output_type": "execute_result"
    }
   ],
   "source": [
    "s2.index.is_unique"
   ]
  },
  {
   "cell_type": "code",
   "execution_count": 87,
   "metadata": {
    "scrolled": false
   },
   "outputs": [
    {
     "data": {
      "text/plain": [
       "array([895, 816, 782, 744, 730, 706, 706, 693, 675, 650, 620, 601, 594,\n",
       "       594, 589, 573, 557, 547, 545, 544, 542, 533, 527, 515, 514, 505,\n",
       "       500, 474, 472, 470, 463, 463, 455, 438, 438, 433, 419, 404, 402,\n",
       "       377, 375, 373, 369, 363, 353, 353, 343, 340, 339, 334, 332, 331,\n",
       "       327, 323, 320, 319, 312, 305, 305, 304, 301, 294, 291, 290, 286,\n",
       "       283, 282, 281, 277, 262, 261, 261, 260, 260, 260, 247, 236, 226,\n",
       "       221, 201, 200, 196, 195, 185, 185, 177, 163, 153, 151, 134, 124,\n",
       "       102,  47,  40,  36,  34,  32,  24,  22,  20,  17], dtype=int64)"
      ]
     },
     "execution_count": 87,
     "metadata": {},
     "output_type": "execute_result"
    }
   ],
   "source": [
    "# les valeurs sont les nombres d'occurences des valeurs uniques de l'objet Series initial\n",
    "s2.values"
   ]
  },
  {
   "cell_type": "markdown",
   "metadata": {},
   "source": [
    "**Exercice 2**\n",
    "\n",
    "- Donner le décompte des différents statuts des communes.\n",
    "- Quels sont les 10 noms de communes les plus fréquents ?\n",
    "- En français, le nom de famille le plus fréquent est *Martin*, mais quel est le nom de commune le plus fréquent ?"
   ]
  },
  {
   "cell_type": "code",
   "execution_count": 88,
   "metadata": {},
   "outputs": [
    {
     "data": {
      "text/plain": [
       "Commune simple          33421\n",
       "Chef-lieu canton         2980\n",
       "Sous-préfecture           240\n",
       "Préfecture                 74\n",
       "Préfecture de région       26\n",
       "Capitale d'état             1\n",
       "Name: Statut, dtype: int64"
      ]
     },
     "execution_count": 88,
     "metadata": {},
     "output_type": "execute_result"
    }
   ],
   "source": [
    "geo[\"Statut\"].value_counts()"
   ]
  },
  {
   "cell_type": "code",
   "execution_count": 89,
   "metadata": {},
   "outputs": [
    {
     "data": {
      "text/plain": [
       "SAINTE-COLOMBE    14\n",
       "SAINT-SAUVEUR     12\n",
       "BEAULIEU          11\n",
       "SAINTE-MARIE      11\n",
       "SAINT-LOUP        10\n",
       "SAINT-REMY        10\n",
       "SAINT-AUBIN       10\n",
       "LE PIN            10\n",
       "SAINT-SULPICE     10\n",
       "SAINT-PAUL         9\n",
       "Name: Commune, dtype: int64"
      ]
     },
     "execution_count": 89,
     "metadata": {},
     "output_type": "execute_result"
    }
   ],
   "source": [
    "geo[\"Commune\"].value_counts().head(10)"
   ]
  },
  {
   "cell_type": "code",
   "execution_count": 93,
   "metadata": {},
   "outputs": [
    {
     "data": {
      "text/plain": [
       "'SAINTE-COLOMBE'"
      ]
     },
     "execution_count": 93,
     "metadata": {},
     "output_type": "execute_result"
    }
   ],
   "source": [
    "geo[\"Commune\"].value_counts().index[0]"
   ]
  },
  {
   "cell_type": "code",
   "execution_count": 94,
   "metadata": {},
   "outputs": [
    {
     "data": {
      "text/plain": [
       "64500.00000000001"
      ]
     },
     "execution_count": 94,
     "metadata": {},
     "output_type": "execute_result"
    }
   ],
   "source": [
    "# population précision limitée\n",
    "geo[\"Population\"].sum()"
   ]
  },
  {
   "cell_type": "code",
   "execution_count": 95,
   "metadata": {},
   "outputs": [
    {
     "data": {
      "text/plain": [
       "0.2"
      ]
     },
     "execution_count": 95,
     "metadata": {},
     "output_type": "execute_result"
    }
   ],
   "source": [
    "0.1+0.1"
   ]
  },
  {
   "cell_type": "code",
   "execution_count": 96,
   "metadata": {},
   "outputs": [
    {
     "data": {
      "text/plain": [
       "0.30000000000000004"
      ]
     },
     "execution_count": 96,
     "metadata": {},
     "output_type": "execute_result"
    }
   ],
   "source": [
    "0.1+0.1+0.1"
   ]
  },
  {
   "cell_type": "code",
   "execution_count": 97,
   "metadata": {},
   "outputs": [],
   "source": [
    "from math import factorial as fact"
   ]
  },
  {
   "cell_type": "code",
   "execution_count": 102,
   "metadata": {},
   "outputs": [
    {
     "data": {
      "text/plain": [
       "456574"
      ]
     },
     "execution_count": 102,
     "metadata": {},
     "output_type": "execute_result"
    }
   ],
   "source": [
    "len(str(fact(100000)))"
   ]
  },
  {
   "cell_type": "code",
   "execution_count": 103,
   "metadata": {},
   "outputs": [
    {
     "data": {
      "text/plain": [
       "0.0"
      ]
     },
     "execution_count": 103,
     "metadata": {},
     "output_type": "execute_result"
    }
   ],
   "source": [
    "# min\n",
    "geo['Altitude Moyenne'].min()"
   ]
  },
  {
   "cell_type": "code",
   "execution_count": 104,
   "metadata": {},
   "outputs": [
    {
     "data": {
      "text/plain": [
       "25402"
      ]
     },
     "execution_count": 104,
     "metadata": {},
     "output_type": "execute_result"
    }
   ],
   "source": [
    "# index du min\n",
    "geo['Altitude Moyenne'].idxmin()"
   ]
  },
  {
   "cell_type": "code",
   "execution_count": 105,
   "metadata": {},
   "outputs": [
    {
     "data": {
      "text/plain": [
       "2713.0"
      ]
     },
     "execution_count": 105,
     "metadata": {},
     "output_type": "execute_result"
    }
   ],
   "source": [
    "# max\n",
    "geo['Altitude Moyenne'].max()"
   ]
  },
  {
   "cell_type": "code",
   "execution_count": 106,
   "metadata": {},
   "outputs": [
    {
     "data": {
      "text/plain": [
       "6414"
      ]
     },
     "execution_count": 106,
     "metadata": {},
     "output_type": "execute_result"
    }
   ],
   "source": [
    "# index du max\n",
    "geo['Altitude Moyenne'].idxmax()"
   ]
  },
  {
   "cell_type": "code",
   "execution_count": 107,
   "metadata": {},
   "outputs": [
    {
     "data": {
      "text/plain": [
       "0        1600.0\n",
       "1         100.0\n",
       "2         400.0\n",
       "3         800.0\n",
       "4        7600.0\n",
       "5         400.0\n",
       "6         700.0\n",
       "7         900.0\n",
       "          ...  \n",
       "36734     100.0\n",
       "36735     700.0\n",
       "36736     100.0\n",
       "36737     200.0\n",
       "36738     700.0\n",
       "36739    1500.0\n",
       "36740     800.0\n",
       "36741    1000.0\n",
       "Name: Population, Length: 36742, dtype: float64"
      ]
     },
     "execution_count": 107,
     "metadata": {},
     "output_type": "execute_result"
    }
   ],
   "source": [
    "# opération avec un scalaire\n",
    "geo[\"Population\"] * 1000"
   ]
  },
  {
   "cell_type": "code",
   "execution_count": 108,
   "metadata": {},
   "outputs": [
    {
     "data": {
      "text/plain": [
       "0        False\n",
       "1        False\n",
       "2        False\n",
       "3        False\n",
       "4         True\n",
       "5        False\n",
       "6         True\n",
       "7        False\n",
       "         ...  \n",
       "36734    False\n",
       "36735    False\n",
       "36736    False\n",
       "36737    False\n",
       "36738    False\n",
       "36739    False\n",
       "36740    False\n",
       "36741    False\n",
       "Name: Altitude Moyenne, Length: 36742, dtype: bool"
      ]
     },
     "execution_count": 108,
     "metadata": {},
     "output_type": "execute_result"
    }
   ],
   "source": [
    "# comparaison\n",
    "geo['Altitude Moyenne'] == 49"
   ]
  },
  {
   "cell_type": "code",
   "execution_count": 109,
   "metadata": {
    "scrolled": false
   },
   "outputs": [
    {
     "data": {
      "text/plain": [
       "0        False\n",
       "1        False\n",
       "2        False\n",
       "3        False\n",
       "4         True\n",
       "5         True\n",
       "6         True\n",
       "7        False\n",
       "         ...  \n",
       "36734    False\n",
       "36735    False\n",
       "36736    False\n",
       "36737    False\n",
       "36738    False\n",
       "36739    False\n",
       "36740    False\n",
       "36741    False\n",
       "Name: Altitude Moyenne, Length: 36742, dtype: bool"
      ]
     },
     "execution_count": 109,
     "metadata": {},
     "output_type": "execute_result"
    }
   ],
   "source": [
    "# exemple : appartenance à une liste de valeurs\n",
    "geo[\"Altitude Moyenne\"].isin([49.0, 59.0])"
   ]
  },
  {
   "cell_type": "code",
   "execution_count": 110,
   "metadata": {},
   "outputs": [
    {
     "data": {
      "text/plain": [
       "0            1.6\n",
       "1            1.7\n",
       "2            2.1\n",
       "3            2.9\n",
       "4           10.5\n",
       "5           10.9\n",
       "6           11.6\n",
       "7           12.5\n",
       "          ...   \n",
       "36734    64495.0\n",
       "36735    64495.7\n",
       "36736    64495.8\n",
       "36737    64496.0\n",
       "36738    64496.7\n",
       "36739    64498.2\n",
       "36740    64499.0\n",
       "36741    64500.0\n",
       "Name: Population, Length: 36742, dtype: float64"
      ]
     },
     "execution_count": 110,
     "metadata": {},
     "output_type": "execute_result"
    }
   ],
   "source": [
    "# somme cumulée population\n",
    "geo[\"Population\"].cumsum()"
   ]
  },
  {
   "cell_type": "code",
   "execution_count": 111,
   "metadata": {
    "scrolled": false
   },
   "outputs": [
    {
     "data": {
      "text/plain": [
       "0        0.000648\n",
       "1        0.000041\n",
       "2        0.000538\n",
       "3        0.000294\n",
       "4        0.007294\n",
       "5        0.000653\n",
       "6        0.000104\n",
       "7        0.000356\n",
       "           ...   \n",
       "36734    0.000082\n",
       "36735    0.000559\n",
       "36736    0.000130\n",
       "36737    0.000623\n",
       "36738    0.000966\n",
       "36739    0.001473\n",
       "36740    0.009302\n",
       "36741    0.000450\n",
       "Length: 36742, dtype: float64"
      ]
     },
     "execution_count": 111,
     "metadata": {},
     "output_type": "execute_result"
    }
   ],
   "source": [
    "# exemple : calcul de la densité en divisant la population par la superficie\n",
    "geo[\"Population\"] / geo[\"Superficie\"]"
   ]
  },
  {
   "cell_type": "code",
   "execution_count": 112,
   "metadata": {},
   "outputs": [
    {
     "data": {
      "text/plain": [
       "0         True\n",
       "1        False\n",
       "2         True\n",
       "3        False\n",
       "4        False\n",
       "5        False\n",
       "6        False\n",
       "7        False\n",
       "         ...  \n",
       "36734     True\n",
       "36735    False\n",
       "36736     True\n",
       "36737    False\n",
       "36738    False\n",
       "36739    False\n",
       "36740     True\n",
       "36741    False\n",
       "Name: Commune, Length: 36742, dtype: bool"
      ]
     },
     "execution_count": 112,
     "metadata": {},
     "output_type": "execute_result"
    }
   ],
   "source": [
    "# startswith\n",
    "geo[\"Commune\"].str.startswith(\"B\")"
   ]
  },
  {
   "cell_type": "code",
   "execution_count": 113,
   "metadata": {},
   "outputs": [
    {
     "data": {
      "text/plain": [
       "0                Boulogne-sur-gesse\n",
       "1                           Feuilla\n",
       "2                        Bessamorel\n",
       "3                Prunay-en-yvelines\n",
       "4              Morieres-les-avignon\n",
       "5                    Lamotte-buleux\n",
       "6                           Moustey\n",
       "7            Saint-saturnin-du-bois\n",
       "                    ...            \n",
       "36734                       Brageac\n",
       "36735                       Ancourt\n",
       "36736                     Bussiares\n",
       "36737                     Chavannaz\n",
       "36738    Neewiller-pres-lauterbourg\n",
       "36739       Lachapelle-sous-aubenas\n",
       "36740                Bage-le-chatel\n",
       "36741                  Guilberville\n",
       "Name: Commune, Length: 36742, dtype: object"
      ]
     },
     "execution_count": 113,
     "metadata": {},
     "output_type": "execute_result"
    }
   ],
   "source": [
    "geo[\"Commune\"].str.capitalize()"
   ]
  },
  {
   "cell_type": "code",
   "execution_count": 114,
   "metadata": {},
   "outputs": [
    {
     "data": {
      "text/plain": [
       "0                Boulogne-Sur-Gesse\n",
       "1                           Feuilla\n",
       "2                        Bessamorel\n",
       "3                Prunay-En-Yvelines\n",
       "4              Morieres-Les-Avignon\n",
       "5                    Lamotte-Buleux\n",
       "6                           Moustey\n",
       "7            Saint-Saturnin-Du-Bois\n",
       "                    ...            \n",
       "36734                       Brageac\n",
       "36735                       Ancourt\n",
       "36736                     Bussiares\n",
       "36737                     Chavannaz\n",
       "36738    Neewiller-Pres-Lauterbourg\n",
       "36739       Lachapelle-Sous-Aubenas\n",
       "36740                Bage-Le-Chatel\n",
       "36741                  Guilberville\n",
       "Name: Commune, Length: 36742, dtype: object"
      ]
     },
     "execution_count": 114,
     "metadata": {},
     "output_type": "execute_result"
    }
   ],
   "source": [
    "geo[\"Commune\"].str.title()"
   ]
  },
  {
   "cell_type": "markdown",
   "metadata": {},
   "source": [
    "**Exercice 3**\n",
    "\n",
    "- Calculez le minimum et le maximum des longueurs des noms des communes.\n",
    "- Donnez le décompte des longueurs de noms des communes.\n",
    "- Quelle est la commune dont le nom est le plus long ?"
   ]
  },
  {
   "cell_type": "code",
   "execution_count": 117,
   "metadata": {},
   "outputs": [
    {
     "data": {
      "text/plain": [
       "1"
      ]
     },
     "execution_count": 117,
     "metadata": {},
     "output_type": "execute_result"
    }
   ],
   "source": [
    "geo[\"Commune\"].str.len().min()"
   ]
  },
  {
   "cell_type": "code",
   "execution_count": 118,
   "metadata": {},
   "outputs": [
    {
     "data": {
      "text/plain": [
       "45"
      ]
     },
     "execution_count": 118,
     "metadata": {},
     "output_type": "execute_result"
    }
   ],
   "source": [
    "geo[\"Commune\"].str.len().max()"
   ]
  },
  {
   "cell_type": "code",
   "execution_count": 119,
   "metadata": {},
   "outputs": [
    {
     "data": {
      "text/plain": [
       "8     3919\n",
       "7     3883\n",
       "6     3393\n",
       "9     3193\n",
       "10    2675\n",
       "5     2084\n",
       "11    1993\n",
       "12    1505\n",
       "13    1235\n",
       "18    1230\n",
       "16    1209\n",
       "17    1177\n",
       "19    1158\n",
       "15    1152\n",
       "20    1041\n",
       "14    1035\n",
       "21     981\n",
       "22     841\n",
       "4      757\n",
       "23     699\n",
       "24     546\n",
       "25     346\n",
       "26     217\n",
       "3      159\n",
       "27     107\n",
       "29      66\n",
       "28      54\n",
       "30      23\n",
       "2       15\n",
       "31      10\n",
       "32       9\n",
       "35       7\n",
       "40       4\n",
       "34       4\n",
       "38       3\n",
       "41       2\n",
       "37       2\n",
       "36       2\n",
       "33       2\n",
       "45       1\n",
       "44       1\n",
       "1        1\n",
       "43       1\n",
       "Name: Commune, dtype: int64"
      ]
     },
     "execution_count": 119,
     "metadata": {},
     "output_type": "execute_result"
    }
   ],
   "source": [
    "geo[\"Commune\"].str.len().value_counts()"
   ]
  },
  {
   "cell_type": "code",
   "execution_count": 121,
   "metadata": {},
   "outputs": [
    {
     "data": {
      "text/plain": [
       "Code INSEE                                                      51513\n",
       "Code Postal                                                     51290\n",
       "Commune                 SAINT-REMY-EN-BOUZEMONT-SAINT-GENEST-ET-ISSON\n",
       "Département                                                     MARNE\n",
       "Région                                              CHAMPAGNE-ARDENNE\n",
       "Statut                                               Chef-lieu canton\n",
       "Altitude Moyenne                                                116.0\n",
       "Superficie                                                     2204.0\n",
       "Population                                                        0.6\n",
       "geo_point_2d                              48.6129201202, 4.6490004853\n",
       "geo_shape           {\"type\": \"Polygon\", \"coordinates\": [[[4.681178...\n",
       "Name: 16461, dtype: object"
      ]
     },
     "execution_count": 121,
     "metadata": {},
     "output_type": "execute_result"
    }
   ],
   "source": [
    "geo.iloc[geo[\"Commune\"].str.len().idxmax()]"
   ]
  },
  {
   "cell_type": "markdown",
   "metadata": {},
   "source": [
    "#### méthode apply()"
   ]
  },
  {
   "cell_type": "code",
   "execution_count": 122,
   "metadata": {
    "scrolled": false
   },
   "outputs": [
    {
     "data": {
      "text/plain": [
       "0        2470.0\n",
       "1        2426.0\n",
       "2         743.0\n",
       "3        2717.0\n",
       "4        1042.0\n",
       "5         613.0\n",
       "6        6736.0\n",
       "7        2528.0\n",
       "          ...  \n",
       "36734    1222.0\n",
       "36735    1252.0\n",
       "36736     769.0\n",
       "36737     321.0\n",
       "36738     725.0\n",
       "36739    1018.0\n",
       "36740      86.0\n",
       "36741    2224.0\n",
       "Name: Superficie, Length: 36742, dtype: float64"
      ]
     },
     "execution_count": 122,
     "metadata": {},
     "output_type": "execute_result"
    }
   ],
   "source": [
    "# series\n",
    "s = geo[\"Superficie\"]\n",
    "s"
   ]
  },
  {
   "cell_type": "code",
   "execution_count": 123,
   "metadata": {
    "scrolled": false
   },
   "outputs": [
    {
     "data": {
      "text/plain": [
       "0        49.699095\n",
       "1        49.254441\n",
       "2        27.258026\n",
       "3        52.124850\n",
       "4        32.280025\n",
       "5        24.758837\n",
       "6        82.073138\n",
       "7        50.279220\n",
       "           ...    \n",
       "36734    34.957117\n",
       "36735    35.383612\n",
       "36736    27.730849\n",
       "36737    17.916473\n",
       "36738    26.925824\n",
       "36739    31.906112\n",
       "36740     9.273618\n",
       "36741    47.159304\n",
       "Name: Superficie, Length: 36742, dtype: float64"
      ]
     },
     "execution_count": 123,
     "metadata": {},
     "output_type": "execute_result"
    }
   ],
   "source": [
    "# côtés des carrés de surface équivalente\n",
    "s.apply(np.sqrt)"
   ]
  },
  {
   "cell_type": "code",
   "execution_count": 124,
   "metadata": {},
   "outputs": [
    {
     "data": {
      "text/plain": [
       "1.7841241161527712"
      ]
     },
     "execution_count": 124,
     "metadata": {},
     "output_type": "execute_result"
    }
   ],
   "source": [
    "# rayons des cercles de surface équivalente\n",
    "# fonction standard\n",
    "def rayon(surface):\n",
    "    rayon = np.sqrt(surface / np.pi)\n",
    "    return rayon\n",
    "\n",
    "rayon(10)"
   ]
  },
  {
   "cell_type": "code",
   "execution_count": 125,
   "metadata": {},
   "outputs": [
    {
     "data": {
      "text/plain": [
       "0        28.039711\n",
       "1        27.788843\n",
       "2        15.378695\n",
       "3        29.408297\n",
       "4        18.212054\n",
       "5        13.968678\n",
       "6        46.304810\n",
       "7        28.367012\n",
       "           ...    \n",
       "36734    19.722441\n",
       "36735    19.963065\n",
       "36736    15.645456\n",
       "36737    10.108287\n",
       "36738    15.191269\n",
       "36739    18.001096\n",
       "36740     5.232079\n",
       "36741    26.606788\n",
       "Name: Superficie, Length: 36742, dtype: float64"
      ]
     },
     "execution_count": 125,
     "metadata": {},
     "output_type": "execute_result"
    }
   ],
   "source": [
    "# rayons des cercles de surface équivalente\n",
    "# fonction standard\n",
    "s.apply(rayon)"
   ]
  },
  {
   "cell_type": "code",
   "execution_count": 126,
   "metadata": {
    "scrolled": false
   },
   "outputs": [
    {
     "data": {
      "text/plain": [
       "0        28.039711\n",
       "1        27.788843\n",
       "2        15.378695\n",
       "3        29.408297\n",
       "4        18.212054\n",
       "5        13.968678\n",
       "6        46.304810\n",
       "7        28.367012\n",
       "           ...    \n",
       "36734    19.722441\n",
       "36735    19.963065\n",
       "36736    15.645456\n",
       "36737    10.108287\n",
       "36738    15.191269\n",
       "36739    18.001096\n",
       "36740     5.232079\n",
       "36741    26.606788\n",
       "Name: Superficie, Length: 36742, dtype: float64"
      ]
     },
     "execution_count": 126,
     "metadata": {},
     "output_type": "execute_result"
    }
   ],
   "source": [
    "# rayons des cercles de surface équivalente\n",
    "# lambda\n",
    "s.apply(lambda x: np.sqrt(x / np.pi))"
   ]
  },
  {
   "cell_type": "markdown",
   "metadata": {},
   "source": [
    "**map()**"
   ]
  },
  {
   "cell_type": "code",
   "execution_count": 127,
   "metadata": {},
   "outputs": [
    {
     "data": {
      "text/plain": [
       "0        CLC\n",
       "1         CS\n",
       "2         CS\n",
       "3         CS\n",
       "4         CS\n",
       "5         CS\n",
       "6         CS\n",
       "7         CS\n",
       "        ... \n",
       "36734     CS\n",
       "36735     CS\n",
       "36736     CS\n",
       "36737     CS\n",
       "36738     CS\n",
       "36739     CS\n",
       "36740    CLC\n",
       "36741     CS\n",
       "Name: Statut, Length: 36742, dtype: object"
      ]
     },
     "execution_count": 127,
     "metadata": {},
     "output_type": "execute_result"
    }
   ],
   "source": [
    "# dico\n",
    "dico = {'Chef-lieu canton': 'CLC', 'Commune simple': 'CS', 'Sous-préfecture': 'SP',\n",
    "       'Préfecture': 'P', 'Préfecture de région': 'PR', \"Capitale d'état\": 'CDE'}\n",
    "geo['Statut'].map(dico)"
   ]
  },
  {
   "cell_type": "code",
   "execution_count": 128,
   "metadata": {},
   "outputs": [
    {
     "name": "stdout",
     "output_type": "stream",
     "text": [
      "Chef-lieu canton        CLC\n",
      "Commune simple           CS\n",
      "Sous-préfecture          SP\n",
      "Préfecture                P\n",
      "Préfecture de région     PR\n",
      "Capitale d'état         CDE\n",
      "dtype: object\n"
     ]
    },
    {
     "data": {
      "text/plain": [
       "0        CLC\n",
       "1         CS\n",
       "2         CS\n",
       "3         CS\n",
       "4         CS\n",
       "5         CS\n",
       "6         CS\n",
       "7         CS\n",
       "        ... \n",
       "36734     CS\n",
       "36735     CS\n",
       "36736     CS\n",
       "36737     CS\n",
       "36738     CS\n",
       "36739     CS\n",
       "36740    CLC\n",
       "36741     CS\n",
       "Name: Statut, Length: 36742, dtype: object"
      ]
     },
     "execution_count": 128,
     "metadata": {},
     "output_type": "execute_result"
    }
   ],
   "source": [
    "# série\n",
    "dico = {'Chef-lieu canton': 'CLC', 'Commune simple': 'CS', 'Sous-préfecture': 'SP',\n",
    "       'Préfecture': 'P', 'Préfecture de région': 'PR', \"Capitale d'état\": 'CDE'}\n",
    "s = pd.Series(dico)\n",
    "print(s)\n",
    "geo['Statut'].map(s)"
   ]
  },
  {
   "cell_type": "markdown",
   "metadata": {},
   "source": [
    "**combine()**"
   ]
  },
  {
   "cell_type": "code",
   "execution_count": 129,
   "metadata": {},
   "outputs": [
    {
     "data": {
      "text/plain": [
       "0                BOULOGNE-SUR-GESSE***HAUTE-GARONNE\n",
       "1                                    FEUILLA***AUDE\n",
       "2                          BESSAMOREL***HAUTE-LOIRE\n",
       "3                     PRUNAY-EN-YVELINES***YVELINES\n",
       "4                   MORIERES-LES-AVIGNON***VAUCLUSE\n",
       "5                            LAMOTTE-BULEUX***SOMME\n",
       "6                                  MOUSTEY***LANDES\n",
       "7        SAINT-SATURNIN-DU-BOIS***CHARENTE-MARITIME\n",
       "                            ...                    \n",
       "36734                              BRAGEAC***CANTAL\n",
       "36735                      ANCOURT***SEINE-MARITIME\n",
       "36736                             BUSSIARES***AISNE\n",
       "36737                      CHAVANNAZ***HAUTE-SAVOIE\n",
       "36738         NEEWILLER-PRES-LAUTERBOURG***BAS-RHIN\n",
       "36739             LACHAPELLE-SOUS-AUBENAS***ARDECHE\n",
       "36740                          BAGE-LE-CHATEL***AIN\n",
       "36741                         GUILBERVILLE***MANCHE\n",
       "Length: 36742, dtype: object"
      ]
     },
     "execution_count": 129,
     "metadata": {},
     "output_type": "execute_result"
    }
   ],
   "source": [
    "geo['Commune'].combine(geo['Département'], lambda x, y: x + '***' + y)"
   ]
  },
  {
   "cell_type": "code",
   "execution_count": 130,
   "metadata": {},
   "outputs": [
    {
     "name": "stdout",
     "output_type": "stream",
     "text": [
      "573 ms ± 4.23 ms per loop (mean ± std. dev. of 7 runs, 1 loop each)\n"
     ]
    }
   ],
   "source": [
    "# combine lent !\n",
    "%timeit geo['Commune'].combine(geo['Département'], lambda x, y: x + '***' + y)"
   ]
  },
  {
   "cell_type": "code",
   "execution_count": 131,
   "metadata": {},
   "outputs": [
    {
     "name": "stdout",
     "output_type": "stream",
     "text": [
      "9.44 ms ± 428 µs per loop (mean ± std. dev. of 7 runs, 100 loops each)\n"
     ]
    }
   ],
   "source": [
    "%timeit geo['Commune'] + '***' + geo['Département']"
   ]
  },
  {
   "cell_type": "markdown",
   "metadata": {},
   "source": [
    "## 2.3 DataFrame"
   ]
  },
  {
   "cell_type": "code",
   "execution_count": 3,
   "metadata": {
    "scrolled": false
   },
   "outputs": [
    {
     "data": {
      "text/plain": [
       "pandas.core.frame.DataFrame"
      ]
     },
     "execution_count": 3,
     "metadata": {},
     "output_type": "execute_result"
    }
   ],
   "source": [
    "# type de l'objet\n",
    "type(geo)"
   ]
  },
  {
   "cell_type": "code",
   "execution_count": 4,
   "metadata": {},
   "outputs": [
    {
     "data": {
      "text/html": [
       "<div>\n",
       "<style scoped>\n",
       "    .dataframe tbody tr th:only-of-type {\n",
       "        vertical-align: middle;\n",
       "    }\n",
       "\n",
       "    .dataframe tbody tr th {\n",
       "        vertical-align: top;\n",
       "    }\n",
       "\n",
       "    .dataframe thead th {\n",
       "        text-align: right;\n",
       "    }\n",
       "</style>\n",
       "<table border=\"1\" class=\"dataframe\">\n",
       "  <thead>\n",
       "    <tr style=\"text-align: right;\">\n",
       "      <th></th>\n",
       "      <th>Code INSEE</th>\n",
       "      <th>Code Postal</th>\n",
       "      <th>Commune</th>\n",
       "      <th>Département</th>\n",
       "      <th>Région</th>\n",
       "      <th>Statut</th>\n",
       "      <th>Altitude Moyenne</th>\n",
       "      <th>Superficie</th>\n",
       "      <th>Population</th>\n",
       "      <th>geo_point_2d</th>\n",
       "      <th>geo_shape</th>\n",
       "    </tr>\n",
       "  </thead>\n",
       "  <tbody>\n",
       "    <tr>\n",
       "      <th>0</th>\n",
       "      <td>31080</td>\n",
       "      <td>31350</td>\n",
       "      <td>BOULOGNE-SUR-GESSE</td>\n",
       "      <td>HAUTE-GARONNE</td>\n",
       "      <td>MIDI-PYRENEES</td>\n",
       "      <td>Chef-lieu canton</td>\n",
       "      <td>301.0</td>\n",
       "      <td>2470.0</td>\n",
       "      <td>1.6</td>\n",
       "      <td>43.2904403081, 0.650641474176</td>\n",
       "      <td>{\"type\": \"Polygon\", \"coordinates\": [[[0.671852...</td>\n",
       "    </tr>\n",
       "    <tr>\n",
       "      <th>1</th>\n",
       "      <td>11143</td>\n",
       "      <td>11510</td>\n",
       "      <td>FEUILLA</td>\n",
       "      <td>AUDE</td>\n",
       "      <td>LANGUEDOC-ROUSSILLON</td>\n",
       "      <td>Commune simple</td>\n",
       "      <td>314.0</td>\n",
       "      <td>2426.0</td>\n",
       "      <td>0.1</td>\n",
       "      <td>42.9291375888, 2.90138923544</td>\n",
       "      <td>{\"type\": \"Polygon\", \"coordinates\": [[[2.906996...</td>\n",
       "    </tr>\n",
       "    <tr>\n",
       "      <th>2</th>\n",
       "      <td>43028</td>\n",
       "      <td>43200</td>\n",
       "      <td>BESSAMOREL</td>\n",
       "      <td>HAUTE-LOIRE</td>\n",
       "      <td>AUVERGNE</td>\n",
       "      <td>Commune simple</td>\n",
       "      <td>888.0</td>\n",
       "      <td>743.0</td>\n",
       "      <td>0.4</td>\n",
       "      <td>45.1306448726, 4.07952494849</td>\n",
       "      <td>{\"type\": \"Polygon\", \"coordinates\": [[[4.091674...</td>\n",
       "    </tr>\n",
       "    <tr>\n",
       "      <th>3</th>\n",
       "      <td>78506</td>\n",
       "      <td>78660</td>\n",
       "      <td>PRUNAY-EN-YVELINES</td>\n",
       "      <td>YVELINES</td>\n",
       "      <td>ILE-DE-FRANCE</td>\n",
       "      <td>Commune simple</td>\n",
       "      <td>155.0</td>\n",
       "      <td>2717.0</td>\n",
       "      <td>0.8</td>\n",
       "      <td>48.5267627187, 1.80513972814</td>\n",
       "      <td>{\"type\": \"Polygon\", \"coordinates\": [[[1.829610...</td>\n",
       "    </tr>\n",
       "    <tr>\n",
       "      <th>4</th>\n",
       "      <td>84081</td>\n",
       "      <td>84310</td>\n",
       "      <td>MORIERES-LES-AVIGNON</td>\n",
       "      <td>VAUCLUSE</td>\n",
       "      <td>PROVENCE-ALPES-COTE D'AZUR</td>\n",
       "      <td>Commune simple</td>\n",
       "      <td>49.0</td>\n",
       "      <td>1042.0</td>\n",
       "      <td>7.6</td>\n",
       "      <td>43.9337788848, 4.90875878315</td>\n",
       "      <td>{\"type\": \"Polygon\", \"coordinates\": [[[4.927176...</td>\n",
       "    </tr>\n",
       "    <tr>\n",
       "      <th>5</th>\n",
       "      <td>80462</td>\n",
       "      <td>80150</td>\n",
       "      <td>LAMOTTE-BULEUX</td>\n",
       "      <td>SOMME</td>\n",
       "      <td>PICARDIE</td>\n",
       "      <td>Commune simple</td>\n",
       "      <td>59.0</td>\n",
       "      <td>613.0</td>\n",
       "      <td>0.4</td>\n",
       "      <td>50.1865666179, 1.83564836965</td>\n",
       "      <td>{\"type\": \"Polygon\", \"coordinates\": [[[1.849459...</td>\n",
       "    </tr>\n",
       "    <tr>\n",
       "      <th>6</th>\n",
       "      <td>40200</td>\n",
       "      <td>40410</td>\n",
       "      <td>MOUSTEY</td>\n",
       "      <td>LANDES</td>\n",
       "      <td>AQUITAINE</td>\n",
       "      <td>Commune simple</td>\n",
       "      <td>49.0</td>\n",
       "      <td>6736.0</td>\n",
       "      <td>0.7</td>\n",
       "      <td>44.3882918763, -0.750880080586</td>\n",
       "      <td>{\"type\": \"Polygon\", \"coordinates\": [[[-0.71016...</td>\n",
       "    </tr>\n",
       "    <tr>\n",
       "      <th>7</th>\n",
       "      <td>17394</td>\n",
       "      <td>17700</td>\n",
       "      <td>SAINT-SATURNIN-DU-BOIS</td>\n",
       "      <td>CHARENTE-MARITIME</td>\n",
       "      <td>POITOU-CHARENTES</td>\n",
       "      <td>Commune simple</td>\n",
       "      <td>45.0</td>\n",
       "      <td>2528.0</td>\n",
       "      <td>0.9</td>\n",
       "      <td>46.1401428747, -0.665133364912</td>\n",
       "      <td>{\"type\": \"Polygon\", \"coordinates\": [[[-0.66124...</td>\n",
       "    </tr>\n",
       "    <tr>\n",
       "      <th>...</th>\n",
       "      <td>...</td>\n",
       "      <td>...</td>\n",
       "      <td>...</td>\n",
       "      <td>...</td>\n",
       "      <td>...</td>\n",
       "      <td>...</td>\n",
       "      <td>...</td>\n",
       "      <td>...</td>\n",
       "      <td>...</td>\n",
       "      <td>...</td>\n",
       "      <td>...</td>\n",
       "    </tr>\n",
       "    <tr>\n",
       "      <th>36734</th>\n",
       "      <td>15024</td>\n",
       "      <td>15700</td>\n",
       "      <td>BRAGEAC</td>\n",
       "      <td>CANTAL</td>\n",
       "      <td>AUVERGNE</td>\n",
       "      <td>Commune simple</td>\n",
       "      <td>555.0</td>\n",
       "      <td>1222.0</td>\n",
       "      <td>0.1</td>\n",
       "      <td>45.2038604898, 2.26559675808</td>\n",
       "      <td>{\"type\": \"Polygon\", \"coordinates\": [[[2.302124...</td>\n",
       "    </tr>\n",
       "    <tr>\n",
       "      <th>36735</th>\n",
       "      <td>76008</td>\n",
       "      <td>76370</td>\n",
       "      <td>ANCOURT</td>\n",
       "      <td>SEINE-MARITIME</td>\n",
       "      <td>HAUTE-NORMANDIE</td>\n",
       "      <td>Commune simple</td>\n",
       "      <td>80.0</td>\n",
       "      <td>1252.0</td>\n",
       "      <td>0.7</td>\n",
       "      <td>49.9085547953, 1.17898885458</td>\n",
       "      <td>{\"type\": \"Polygon\", \"coordinates\": [[[1.205457...</td>\n",
       "    </tr>\n",
       "    <tr>\n",
       "      <th>36736</th>\n",
       "      <td>02137</td>\n",
       "      <td>02810</td>\n",
       "      <td>BUSSIARES</td>\n",
       "      <td>AISNE</td>\n",
       "      <td>PICARDIE</td>\n",
       "      <td>Commune simple</td>\n",
       "      <td>141.0</td>\n",
       "      <td>769.0</td>\n",
       "      <td>0.1</td>\n",
       "      <td>49.0765910572, 3.25026191909</td>\n",
       "      <td>{\"type\": \"Polygon\", \"coordinates\": [[[3.258096...</td>\n",
       "    </tr>\n",
       "    <tr>\n",
       "      <th>36737</th>\n",
       "      <td>74066</td>\n",
       "      <td>74270</td>\n",
       "      <td>CHAVANNAZ</td>\n",
       "      <td>HAUTE-SAVOIE</td>\n",
       "      <td>RHONE-ALPES</td>\n",
       "      <td>Commune simple</td>\n",
       "      <td>564.0</td>\n",
       "      <td>321.0</td>\n",
       "      <td>0.2</td>\n",
       "      <td>46.0500384099, 6.01652644319</td>\n",
       "      <td>{\"type\": \"Polygon\", \"coordinates\": [[[6.026228...</td>\n",
       "    </tr>\n",
       "    <tr>\n",
       "      <th>36738</th>\n",
       "      <td>67315</td>\n",
       "      <td>67630</td>\n",
       "      <td>NEEWILLER-PRES-LAUTERBOURG</td>\n",
       "      <td>BAS-RHIN</td>\n",
       "      <td>ALSACE</td>\n",
       "      <td>Commune simple</td>\n",
       "      <td>157.0</td>\n",
       "      <td>725.0</td>\n",
       "      <td>0.7</td>\n",
       "      <td>48.9516989257, 8.11931601006</td>\n",
       "      <td>{\"type\": \"Polygon\", \"coordinates\": [[[8.106826...</td>\n",
       "    </tr>\n",
       "    <tr>\n",
       "      <th>36739</th>\n",
       "      <td>07122</td>\n",
       "      <td>07200</td>\n",
       "      <td>LACHAPELLE-SOUS-AUBENAS</td>\n",
       "      <td>ARDECHE</td>\n",
       "      <td>RHONE-ALPES</td>\n",
       "      <td>Commune simple</td>\n",
       "      <td>257.0</td>\n",
       "      <td>1018.0</td>\n",
       "      <td>1.5</td>\n",
       "      <td>44.5622616562, 4.35906947518</td>\n",
       "      <td>{\"type\": \"Polygon\", \"coordinates\": [[[4.356584...</td>\n",
       "    </tr>\n",
       "    <tr>\n",
       "      <th>36740</th>\n",
       "      <td>01026</td>\n",
       "      <td>01380</td>\n",
       "      <td>BAGE-LE-CHATEL</td>\n",
       "      <td>AIN</td>\n",
       "      <td>RHONE-ALPES</td>\n",
       "      <td>Chef-lieu canton</td>\n",
       "      <td>202.0</td>\n",
       "      <td>86.0</td>\n",
       "      <td>0.8</td>\n",
       "      <td>46.3077069231, 4.92862084189</td>\n",
       "      <td>{\"type\": \"Polygon\", \"coordinates\": [[[4.926593...</td>\n",
       "    </tr>\n",
       "    <tr>\n",
       "      <th>36741</th>\n",
       "      <td>50224</td>\n",
       "      <td>50160</td>\n",
       "      <td>GUILBERVILLE</td>\n",
       "      <td>MANCHE</td>\n",
       "      <td>BASSE-NORMANDIE</td>\n",
       "      <td>Commune simple</td>\n",
       "      <td>165.0</td>\n",
       "      <td>2224.0</td>\n",
       "      <td>1.0</td>\n",
       "      <td>48.9866701737, -0.949588175705</td>\n",
       "      <td>{\"type\": \"Polygon\", \"coordinates\": [[[-0.99753...</td>\n",
       "    </tr>\n",
       "  </tbody>\n",
       "</table>\n",
       "<p>36742 rows × 11 columns</p>\n",
       "</div>"
      ],
      "text/plain": [
       "      Code INSEE Code Postal                     Commune        Département  \\\n",
       "0          31080       31350          BOULOGNE-SUR-GESSE      HAUTE-GARONNE   \n",
       "1          11143       11510                     FEUILLA               AUDE   \n",
       "2          43028       43200                  BESSAMOREL        HAUTE-LOIRE   \n",
       "3          78506       78660          PRUNAY-EN-YVELINES           YVELINES   \n",
       "4          84081       84310        MORIERES-LES-AVIGNON           VAUCLUSE   \n",
       "5          80462       80150              LAMOTTE-BULEUX              SOMME   \n",
       "6          40200       40410                     MOUSTEY             LANDES   \n",
       "7          17394       17700      SAINT-SATURNIN-DU-BOIS  CHARENTE-MARITIME   \n",
       "...          ...         ...                         ...                ...   \n",
       "36734      15024       15700                     BRAGEAC             CANTAL   \n",
       "36735      76008       76370                     ANCOURT     SEINE-MARITIME   \n",
       "36736      02137       02810                   BUSSIARES              AISNE   \n",
       "36737      74066       74270                   CHAVANNAZ       HAUTE-SAVOIE   \n",
       "36738      67315       67630  NEEWILLER-PRES-LAUTERBOURG           BAS-RHIN   \n",
       "36739      07122       07200     LACHAPELLE-SOUS-AUBENAS            ARDECHE   \n",
       "36740      01026       01380              BAGE-LE-CHATEL                AIN   \n",
       "36741      50224       50160                GUILBERVILLE             MANCHE   \n",
       "\n",
       "                           Région            Statut  Altitude Moyenne  \\\n",
       "0                   MIDI-PYRENEES  Chef-lieu canton             301.0   \n",
       "1            LANGUEDOC-ROUSSILLON    Commune simple             314.0   \n",
       "2                        AUVERGNE    Commune simple             888.0   \n",
       "3                   ILE-DE-FRANCE    Commune simple             155.0   \n",
       "4      PROVENCE-ALPES-COTE D'AZUR    Commune simple              49.0   \n",
       "5                        PICARDIE    Commune simple              59.0   \n",
       "6                       AQUITAINE    Commune simple              49.0   \n",
       "7                POITOU-CHARENTES    Commune simple              45.0   \n",
       "...                           ...               ...               ...   \n",
       "36734                    AUVERGNE    Commune simple             555.0   \n",
       "36735             HAUTE-NORMANDIE    Commune simple              80.0   \n",
       "36736                    PICARDIE    Commune simple             141.0   \n",
       "36737                 RHONE-ALPES    Commune simple             564.0   \n",
       "36738                      ALSACE    Commune simple             157.0   \n",
       "36739                 RHONE-ALPES    Commune simple             257.0   \n",
       "36740                 RHONE-ALPES  Chef-lieu canton             202.0   \n",
       "36741             BASSE-NORMANDIE    Commune simple             165.0   \n",
       "\n",
       "       Superficie  Population                    geo_point_2d  \\\n",
       "0          2470.0         1.6   43.2904403081, 0.650641474176   \n",
       "1          2426.0         0.1    42.9291375888, 2.90138923544   \n",
       "2           743.0         0.4    45.1306448726, 4.07952494849   \n",
       "3          2717.0         0.8    48.5267627187, 1.80513972814   \n",
       "4          1042.0         7.6    43.9337788848, 4.90875878315   \n",
       "5           613.0         0.4    50.1865666179, 1.83564836965   \n",
       "6          6736.0         0.7  44.3882918763, -0.750880080586   \n",
       "7          2528.0         0.9  46.1401428747, -0.665133364912   \n",
       "...           ...         ...                             ...   \n",
       "36734      1222.0         0.1    45.2038604898, 2.26559675808   \n",
       "36735      1252.0         0.7    49.9085547953, 1.17898885458   \n",
       "36736       769.0         0.1    49.0765910572, 3.25026191909   \n",
       "36737       321.0         0.2    46.0500384099, 6.01652644319   \n",
       "36738       725.0         0.7    48.9516989257, 8.11931601006   \n",
       "36739      1018.0         1.5    44.5622616562, 4.35906947518   \n",
       "36740        86.0         0.8    46.3077069231, 4.92862084189   \n",
       "36741      2224.0         1.0  48.9866701737, -0.949588175705   \n",
       "\n",
       "                                               geo_shape  \n",
       "0      {\"type\": \"Polygon\", \"coordinates\": [[[0.671852...  \n",
       "1      {\"type\": \"Polygon\", \"coordinates\": [[[2.906996...  \n",
       "2      {\"type\": \"Polygon\", \"coordinates\": [[[4.091674...  \n",
       "3      {\"type\": \"Polygon\", \"coordinates\": [[[1.829610...  \n",
       "4      {\"type\": \"Polygon\", \"coordinates\": [[[4.927176...  \n",
       "5      {\"type\": \"Polygon\", \"coordinates\": [[[1.849459...  \n",
       "6      {\"type\": \"Polygon\", \"coordinates\": [[[-0.71016...  \n",
       "7      {\"type\": \"Polygon\", \"coordinates\": [[[-0.66124...  \n",
       "...                                                  ...  \n",
       "36734  {\"type\": \"Polygon\", \"coordinates\": [[[2.302124...  \n",
       "36735  {\"type\": \"Polygon\", \"coordinates\": [[[1.205457...  \n",
       "36736  {\"type\": \"Polygon\", \"coordinates\": [[[3.258096...  \n",
       "36737  {\"type\": \"Polygon\", \"coordinates\": [[[6.026228...  \n",
       "36738  {\"type\": \"Polygon\", \"coordinates\": [[[8.106826...  \n",
       "36739  {\"type\": \"Polygon\", \"coordinates\": [[[4.356584...  \n",
       "36740  {\"type\": \"Polygon\", \"coordinates\": [[[4.926593...  \n",
       "36741  {\"type\": \"Polygon\", \"coordinates\": [[[-0.99753...  \n",
       "\n",
       "[36742 rows x 11 columns]"
      ]
     },
     "execution_count": 4,
     "metadata": {},
     "output_type": "execute_result"
    }
   ],
   "source": [
    "geo"
   ]
  },
  {
   "cell_type": "code",
   "execution_count": 5,
   "metadata": {
    "scrolled": false
   },
   "outputs": [
    {
     "data": {
      "text/plain": [
       "(36742, 11)"
      ]
     },
     "execution_count": 5,
     "metadata": {},
     "output_type": "execute_result"
    }
   ],
   "source": [
    "# dimensions\n",
    "geo.shape"
   ]
  },
  {
   "cell_type": "code",
   "execution_count": 6,
   "metadata": {
    "scrolled": false
   },
   "outputs": [
    {
     "data": {
      "text/plain": [
       "36742"
      ]
     },
     "execution_count": 6,
     "metadata": {},
     "output_type": "execute_result"
    }
   ],
   "source": [
    "# nombre de lignes\n",
    "len(geo)"
   ]
  },
  {
   "cell_type": "code",
   "execution_count": 7,
   "metadata": {
    "scrolled": false
   },
   "outputs": [
    {
     "data": {
      "text/plain": [
       "404162"
      ]
     },
     "execution_count": 7,
     "metadata": {},
     "output_type": "execute_result"
    }
   ],
   "source": [
    "# nombre total d'éléments\n",
    "geo.size"
   ]
  },
  {
   "cell_type": "code",
   "execution_count": 8,
   "metadata": {
    "scrolled": false
   },
   "outputs": [
    {
     "data": {
      "text/plain": [
       "RangeIndex(start=0, stop=36742, step=1)"
      ]
     },
     "execution_count": 8,
     "metadata": {},
     "output_type": "execute_result"
    }
   ],
   "source": [
    "# index\n",
    "geo.index"
   ]
  },
  {
   "cell_type": "code",
   "execution_count": 9,
   "metadata": {
    "scrolled": false
   },
   "outputs": [
    {
     "data": {
      "text/plain": [
       "Index(['Code INSEE', 'Code Postal', 'Commune', 'Département', 'Région',\n",
       "       'Statut', 'Altitude Moyenne', 'Superficie', 'Population',\n",
       "       'geo_point_2d', 'geo_shape'],\n",
       "      dtype='object')"
      ]
     },
     "execution_count": 9,
     "metadata": {},
     "output_type": "execute_result"
    }
   ],
   "source": [
    "# liste des colonnes\n",
    "geo.columns"
   ]
  },
  {
   "cell_type": "code",
   "execution_count": 10,
   "metadata": {
    "scrolled": false
   },
   "outputs": [
    {
     "data": {
      "text/plain": [
       "Code INSEE           object\n",
       "Code Postal          object\n",
       "Commune              object\n",
       "Département          object\n",
       "Région               object\n",
       "Statut               object\n",
       "Altitude Moyenne    float64\n",
       "Superficie          float64\n",
       "Population          float64\n",
       "geo_point_2d         object\n",
       "geo_shape            object\n",
       "dtype: object"
      ]
     },
     "execution_count": 10,
     "metadata": {},
     "output_type": "execute_result"
    }
   ],
   "source": [
    "# types des colonnes\n",
    "geo.dtypes"
   ]
  },
  {
   "cell_type": "code",
   "execution_count": 11,
   "metadata": {
    "scrolled": false
   },
   "outputs": [
    {
     "name": "stdout",
     "output_type": "stream",
     "text": [
      "<class 'pandas.core.frame.DataFrame'>\n",
      "RangeIndex: 36742 entries, 0 to 36741\n",
      "Data columns (total 11 columns):\n",
      " #   Column            Non-Null Count  Dtype  \n",
      "---  ------            --------------  -----  \n",
      " 0   Code INSEE        36742 non-null  object \n",
      " 1   Code Postal       36742 non-null  object \n",
      " 2   Commune           36742 non-null  object \n",
      " 3   Département       36742 non-null  object \n",
      " 4   Région            36742 non-null  object \n",
      " 5   Statut            36742 non-null  object \n",
      " 6   Altitude Moyenne  36742 non-null  float64\n",
      " 7   Superficie        36742 non-null  float64\n",
      " 8   Population        36742 non-null  float64\n",
      " 9   geo_point_2d      36742 non-null  object \n",
      " 10  geo_shape         36742 non-null  object \n",
      "dtypes: float64(3), object(8)\n",
      "memory usage: 3.1+ MB\n"
     ]
    }
   ],
   "source": [
    "# appel de la méthode info()\n",
    "geo.info()"
   ]
  },
  {
   "cell_type": "code",
   "execution_count": 12,
   "metadata": {
    "scrolled": false
   },
   "outputs": [
    {
     "data": {
      "text/html": [
       "<div>\n",
       "<style scoped>\n",
       "    .dataframe tbody tr th:only-of-type {\n",
       "        vertical-align: middle;\n",
       "    }\n",
       "\n",
       "    .dataframe tbody tr th {\n",
       "        vertical-align: top;\n",
       "    }\n",
       "\n",
       "    .dataframe thead th {\n",
       "        text-align: right;\n",
       "    }\n",
       "</style>\n",
       "<table border=\"1\" class=\"dataframe\">\n",
       "  <thead>\n",
       "    <tr style=\"text-align: right;\">\n",
       "      <th></th>\n",
       "      <th>Code INSEE</th>\n",
       "      <th>Code Postal</th>\n",
       "      <th>Commune</th>\n",
       "      <th>Département</th>\n",
       "      <th>Région</th>\n",
       "      <th>Statut</th>\n",
       "      <th>Altitude Moyenne</th>\n",
       "      <th>Superficie</th>\n",
       "      <th>Population</th>\n",
       "      <th>geo_point_2d</th>\n",
       "      <th>geo_shape</th>\n",
       "    </tr>\n",
       "  </thead>\n",
       "  <tbody>\n",
       "    <tr>\n",
       "      <th>0</th>\n",
       "      <td>31080</td>\n",
       "      <td>31350</td>\n",
       "      <td>BOULOGNE-SUR-GESSE</td>\n",
       "      <td>HAUTE-GARONNE</td>\n",
       "      <td>MIDI-PYRENEES</td>\n",
       "      <td>Chef-lieu canton</td>\n",
       "      <td>301.0</td>\n",
       "      <td>2470.0</td>\n",
       "      <td>1.6</td>\n",
       "      <td>43.2904403081, 0.650641474176</td>\n",
       "      <td>{\"type\": \"Polygon\", \"coordinates\": [[[0.671852...</td>\n",
       "    </tr>\n",
       "    <tr>\n",
       "      <th>1</th>\n",
       "      <td>11143</td>\n",
       "      <td>11510</td>\n",
       "      <td>FEUILLA</td>\n",
       "      <td>AUDE</td>\n",
       "      <td>LANGUEDOC-ROUSSILLON</td>\n",
       "      <td>Commune simple</td>\n",
       "      <td>314.0</td>\n",
       "      <td>2426.0</td>\n",
       "      <td>0.1</td>\n",
       "      <td>42.9291375888, 2.90138923544</td>\n",
       "      <td>{\"type\": \"Polygon\", \"coordinates\": [[[2.906996...</td>\n",
       "    </tr>\n",
       "    <tr>\n",
       "      <th>2</th>\n",
       "      <td>43028</td>\n",
       "      <td>43200</td>\n",
       "      <td>BESSAMOREL</td>\n",
       "      <td>HAUTE-LOIRE</td>\n",
       "      <td>AUVERGNE</td>\n",
       "      <td>Commune simple</td>\n",
       "      <td>888.0</td>\n",
       "      <td>743.0</td>\n",
       "      <td>0.4</td>\n",
       "      <td>45.1306448726, 4.07952494849</td>\n",
       "      <td>{\"type\": \"Polygon\", \"coordinates\": [[[4.091674...</td>\n",
       "    </tr>\n",
       "    <tr>\n",
       "      <th>3</th>\n",
       "      <td>78506</td>\n",
       "      <td>78660</td>\n",
       "      <td>PRUNAY-EN-YVELINES</td>\n",
       "      <td>YVELINES</td>\n",
       "      <td>ILE-DE-FRANCE</td>\n",
       "      <td>Commune simple</td>\n",
       "      <td>155.0</td>\n",
       "      <td>2717.0</td>\n",
       "      <td>0.8</td>\n",
       "      <td>48.5267627187, 1.80513972814</td>\n",
       "      <td>{\"type\": \"Polygon\", \"coordinates\": [[[1.829610...</td>\n",
       "    </tr>\n",
       "    <tr>\n",
       "      <th>4</th>\n",
       "      <td>84081</td>\n",
       "      <td>84310</td>\n",
       "      <td>MORIERES-LES-AVIGNON</td>\n",
       "      <td>VAUCLUSE</td>\n",
       "      <td>PROVENCE-ALPES-COTE D'AZUR</td>\n",
       "      <td>Commune simple</td>\n",
       "      <td>49.0</td>\n",
       "      <td>1042.0</td>\n",
       "      <td>7.6</td>\n",
       "      <td>43.9337788848, 4.90875878315</td>\n",
       "      <td>{\"type\": \"Polygon\", \"coordinates\": [[[4.927176...</td>\n",
       "    </tr>\n",
       "  </tbody>\n",
       "</table>\n",
       "</div>"
      ],
      "text/plain": [
       "  Code INSEE Code Postal               Commune    Département  \\\n",
       "0      31080       31350    BOULOGNE-SUR-GESSE  HAUTE-GARONNE   \n",
       "1      11143       11510               FEUILLA           AUDE   \n",
       "2      43028       43200            BESSAMOREL    HAUTE-LOIRE   \n",
       "3      78506       78660    PRUNAY-EN-YVELINES       YVELINES   \n",
       "4      84081       84310  MORIERES-LES-AVIGNON       VAUCLUSE   \n",
       "\n",
       "                       Région            Statut  Altitude Moyenne  Superficie  \\\n",
       "0               MIDI-PYRENEES  Chef-lieu canton             301.0      2470.0   \n",
       "1        LANGUEDOC-ROUSSILLON    Commune simple             314.0      2426.0   \n",
       "2                    AUVERGNE    Commune simple             888.0       743.0   \n",
       "3               ILE-DE-FRANCE    Commune simple             155.0      2717.0   \n",
       "4  PROVENCE-ALPES-COTE D'AZUR    Commune simple              49.0      1042.0   \n",
       "\n",
       "   Population                   geo_point_2d  \\\n",
       "0         1.6  43.2904403081, 0.650641474176   \n",
       "1         0.1   42.9291375888, 2.90138923544   \n",
       "2         0.4   45.1306448726, 4.07952494849   \n",
       "3         0.8   48.5267627187, 1.80513972814   \n",
       "4         7.6   43.9337788848, 4.90875878315   \n",
       "\n",
       "                                           geo_shape  \n",
       "0  {\"type\": \"Polygon\", \"coordinates\": [[[0.671852...  \n",
       "1  {\"type\": \"Polygon\", \"coordinates\": [[[2.906996...  \n",
       "2  {\"type\": \"Polygon\", \"coordinates\": [[[4.091674...  \n",
       "3  {\"type\": \"Polygon\", \"coordinates\": [[[1.829610...  \n",
       "4  {\"type\": \"Polygon\", \"coordinates\": [[[4.927176...  "
      ]
     },
     "execution_count": 12,
     "metadata": {},
     "output_type": "execute_result"
    }
   ],
   "source": [
    "# tête\n",
    "geo.head()"
   ]
  },
  {
   "cell_type": "code",
   "execution_count": 13,
   "metadata": {
    "scrolled": false
   },
   "outputs": [
    {
     "data": {
      "text/html": [
       "<div>\n",
       "<style scoped>\n",
       "    .dataframe tbody tr th:only-of-type {\n",
       "        vertical-align: middle;\n",
       "    }\n",
       "\n",
       "    .dataframe tbody tr th {\n",
       "        vertical-align: top;\n",
       "    }\n",
       "\n",
       "    .dataframe thead th {\n",
       "        text-align: right;\n",
       "    }\n",
       "</style>\n",
       "<table border=\"1\" class=\"dataframe\">\n",
       "  <thead>\n",
       "    <tr style=\"text-align: right;\">\n",
       "      <th></th>\n",
       "      <th>Code INSEE</th>\n",
       "      <th>Code Postal</th>\n",
       "      <th>Commune</th>\n",
       "      <th>Département</th>\n",
       "      <th>Région</th>\n",
       "      <th>Statut</th>\n",
       "      <th>Altitude Moyenne</th>\n",
       "      <th>Superficie</th>\n",
       "      <th>Population</th>\n",
       "      <th>geo_point_2d</th>\n",
       "      <th>geo_shape</th>\n",
       "    </tr>\n",
       "  </thead>\n",
       "  <tbody>\n",
       "    <tr>\n",
       "      <th>36737</th>\n",
       "      <td>74066</td>\n",
       "      <td>74270</td>\n",
       "      <td>CHAVANNAZ</td>\n",
       "      <td>HAUTE-SAVOIE</td>\n",
       "      <td>RHONE-ALPES</td>\n",
       "      <td>Commune simple</td>\n",
       "      <td>564.0</td>\n",
       "      <td>321.0</td>\n",
       "      <td>0.2</td>\n",
       "      <td>46.0500384099, 6.01652644319</td>\n",
       "      <td>{\"type\": \"Polygon\", \"coordinates\": [[[6.026228...</td>\n",
       "    </tr>\n",
       "    <tr>\n",
       "      <th>36738</th>\n",
       "      <td>67315</td>\n",
       "      <td>67630</td>\n",
       "      <td>NEEWILLER-PRES-LAUTERBOURG</td>\n",
       "      <td>BAS-RHIN</td>\n",
       "      <td>ALSACE</td>\n",
       "      <td>Commune simple</td>\n",
       "      <td>157.0</td>\n",
       "      <td>725.0</td>\n",
       "      <td>0.7</td>\n",
       "      <td>48.9516989257, 8.11931601006</td>\n",
       "      <td>{\"type\": \"Polygon\", \"coordinates\": [[[8.106826...</td>\n",
       "    </tr>\n",
       "    <tr>\n",
       "      <th>36739</th>\n",
       "      <td>07122</td>\n",
       "      <td>07200</td>\n",
       "      <td>LACHAPELLE-SOUS-AUBENAS</td>\n",
       "      <td>ARDECHE</td>\n",
       "      <td>RHONE-ALPES</td>\n",
       "      <td>Commune simple</td>\n",
       "      <td>257.0</td>\n",
       "      <td>1018.0</td>\n",
       "      <td>1.5</td>\n",
       "      <td>44.5622616562, 4.35906947518</td>\n",
       "      <td>{\"type\": \"Polygon\", \"coordinates\": [[[4.356584...</td>\n",
       "    </tr>\n",
       "    <tr>\n",
       "      <th>36740</th>\n",
       "      <td>01026</td>\n",
       "      <td>01380</td>\n",
       "      <td>BAGE-LE-CHATEL</td>\n",
       "      <td>AIN</td>\n",
       "      <td>RHONE-ALPES</td>\n",
       "      <td>Chef-lieu canton</td>\n",
       "      <td>202.0</td>\n",
       "      <td>86.0</td>\n",
       "      <td>0.8</td>\n",
       "      <td>46.3077069231, 4.92862084189</td>\n",
       "      <td>{\"type\": \"Polygon\", \"coordinates\": [[[4.926593...</td>\n",
       "    </tr>\n",
       "    <tr>\n",
       "      <th>36741</th>\n",
       "      <td>50224</td>\n",
       "      <td>50160</td>\n",
       "      <td>GUILBERVILLE</td>\n",
       "      <td>MANCHE</td>\n",
       "      <td>BASSE-NORMANDIE</td>\n",
       "      <td>Commune simple</td>\n",
       "      <td>165.0</td>\n",
       "      <td>2224.0</td>\n",
       "      <td>1.0</td>\n",
       "      <td>48.9866701737, -0.949588175705</td>\n",
       "      <td>{\"type\": \"Polygon\", \"coordinates\": [[[-0.99753...</td>\n",
       "    </tr>\n",
       "  </tbody>\n",
       "</table>\n",
       "</div>"
      ],
      "text/plain": [
       "      Code INSEE Code Postal                     Commune   Département  \\\n",
       "36737      74066       74270                   CHAVANNAZ  HAUTE-SAVOIE   \n",
       "36738      67315       67630  NEEWILLER-PRES-LAUTERBOURG      BAS-RHIN   \n",
       "36739      07122       07200     LACHAPELLE-SOUS-AUBENAS       ARDECHE   \n",
       "36740      01026       01380              BAGE-LE-CHATEL           AIN   \n",
       "36741      50224       50160                GUILBERVILLE        MANCHE   \n",
       "\n",
       "                Région            Statut  Altitude Moyenne  Superficie  \\\n",
       "36737      RHONE-ALPES    Commune simple             564.0       321.0   \n",
       "36738           ALSACE    Commune simple             157.0       725.0   \n",
       "36739      RHONE-ALPES    Commune simple             257.0      1018.0   \n",
       "36740      RHONE-ALPES  Chef-lieu canton             202.0        86.0   \n",
       "36741  BASSE-NORMANDIE    Commune simple             165.0      2224.0   \n",
       "\n",
       "       Population                    geo_point_2d  \\\n",
       "36737         0.2    46.0500384099, 6.01652644319   \n",
       "36738         0.7    48.9516989257, 8.11931601006   \n",
       "36739         1.5    44.5622616562, 4.35906947518   \n",
       "36740         0.8    46.3077069231, 4.92862084189   \n",
       "36741         1.0  48.9866701737, -0.949588175705   \n",
       "\n",
       "                                               geo_shape  \n",
       "36737  {\"type\": \"Polygon\", \"coordinates\": [[[6.026228...  \n",
       "36738  {\"type\": \"Polygon\", \"coordinates\": [[[8.106826...  \n",
       "36739  {\"type\": \"Polygon\", \"coordinates\": [[[4.356584...  \n",
       "36740  {\"type\": \"Polygon\", \"coordinates\": [[[4.926593...  \n",
       "36741  {\"type\": \"Polygon\", \"coordinates\": [[[-0.99753...  "
      ]
     },
     "execution_count": 13,
     "metadata": {},
     "output_type": "execute_result"
    }
   ],
   "source": [
    "# queue\n",
    "geo.tail()"
   ]
  },
  {
   "cell_type": "code",
   "execution_count": 14,
   "metadata": {
    "scrolled": false
   },
   "outputs": [
    {
     "data": {
      "text/html": [
       "<div>\n",
       "<style scoped>\n",
       "    .dataframe tbody tr th:only-of-type {\n",
       "        vertical-align: middle;\n",
       "    }\n",
       "\n",
       "    .dataframe tbody tr th {\n",
       "        vertical-align: top;\n",
       "    }\n",
       "\n",
       "    .dataframe thead th {\n",
       "        text-align: right;\n",
       "    }\n",
       "</style>\n",
       "<table border=\"1\" class=\"dataframe\">\n",
       "  <thead>\n",
       "    <tr style=\"text-align: right;\">\n",
       "      <th></th>\n",
       "      <th>0</th>\n",
       "      <th>1</th>\n",
       "      <th>2</th>\n",
       "      <th>3</th>\n",
       "      <th>4</th>\n",
       "      <th>5</th>\n",
       "      <th>6</th>\n",
       "      <th>7</th>\n",
       "      <th>8</th>\n",
       "      <th>9</th>\n",
       "      <th>...</th>\n",
       "      <th>36732</th>\n",
       "      <th>36733</th>\n",
       "      <th>36734</th>\n",
       "      <th>36735</th>\n",
       "      <th>36736</th>\n",
       "      <th>36737</th>\n",
       "      <th>36738</th>\n",
       "      <th>36739</th>\n",
       "      <th>36740</th>\n",
       "      <th>36741</th>\n",
       "    </tr>\n",
       "  </thead>\n",
       "  <tbody>\n",
       "    <tr>\n",
       "      <th>Code INSEE</th>\n",
       "      <td>31080</td>\n",
       "      <td>11143</td>\n",
       "      <td>43028</td>\n",
       "      <td>78506</td>\n",
       "      <td>84081</td>\n",
       "      <td>80462</td>\n",
       "      <td>40200</td>\n",
       "      <td>17394</td>\n",
       "      <td>61422</td>\n",
       "      <td>80496</td>\n",
       "      <td>...</td>\n",
       "      <td>28379</td>\n",
       "      <td>14325</td>\n",
       "      <td>15024</td>\n",
       "      <td>76008</td>\n",
       "      <td>02137</td>\n",
       "      <td>74066</td>\n",
       "      <td>67315</td>\n",
       "      <td>07122</td>\n",
       "      <td>01026</td>\n",
       "      <td>50224</td>\n",
       "    </tr>\n",
       "    <tr>\n",
       "      <th>Code Postal</th>\n",
       "      <td>31350</td>\n",
       "      <td>11510</td>\n",
       "      <td>43200</td>\n",
       "      <td>78660</td>\n",
       "      <td>84310</td>\n",
       "      <td>80150</td>\n",
       "      <td>40410</td>\n",
       "      <td>17700</td>\n",
       "      <td>61270</td>\n",
       "      <td>80150</td>\n",
       "      <td>...</td>\n",
       "      <td>28130</td>\n",
       "      <td>14880</td>\n",
       "      <td>15700</td>\n",
       "      <td>76370</td>\n",
       "      <td>02810</td>\n",
       "      <td>74270</td>\n",
       "      <td>67630</td>\n",
       "      <td>07200</td>\n",
       "      <td>01380</td>\n",
       "      <td>50160</td>\n",
       "    </tr>\n",
       "    <tr>\n",
       "      <th>Commune</th>\n",
       "      <td>BOULOGNE-SUR-GESSE</td>\n",
       "      <td>FEUILLA</td>\n",
       "      <td>BESSAMOREL</td>\n",
       "      <td>PRUNAY-EN-YVELINES</td>\n",
       "      <td>MORIERES-LES-AVIGNON</td>\n",
       "      <td>LAMOTTE-BULEUX</td>\n",
       "      <td>MOUSTEY</td>\n",
       "      <td>SAINT-SATURNIN-DU-BOIS</td>\n",
       "      <td>LES ASPRES</td>\n",
       "      <td>MACHIEL</td>\n",
       "      <td>...</td>\n",
       "      <td>SOULAIRES</td>\n",
       "      <td>HERMANVILLE-SUR-MER</td>\n",
       "      <td>BRAGEAC</td>\n",
       "      <td>ANCOURT</td>\n",
       "      <td>BUSSIARES</td>\n",
       "      <td>CHAVANNAZ</td>\n",
       "      <td>NEEWILLER-PRES-LAUTERBOURG</td>\n",
       "      <td>LACHAPELLE-SOUS-AUBENAS</td>\n",
       "      <td>BAGE-LE-CHATEL</td>\n",
       "      <td>GUILBERVILLE</td>\n",
       "    </tr>\n",
       "    <tr>\n",
       "      <th>Département</th>\n",
       "      <td>HAUTE-GARONNE</td>\n",
       "      <td>AUDE</td>\n",
       "      <td>HAUTE-LOIRE</td>\n",
       "      <td>YVELINES</td>\n",
       "      <td>VAUCLUSE</td>\n",
       "      <td>SOMME</td>\n",
       "      <td>LANDES</td>\n",
       "      <td>CHARENTE-MARITIME</td>\n",
       "      <td>ORNE</td>\n",
       "      <td>SOMME</td>\n",
       "      <td>...</td>\n",
       "      <td>EURE-ET-LOIR</td>\n",
       "      <td>CALVADOS</td>\n",
       "      <td>CANTAL</td>\n",
       "      <td>SEINE-MARITIME</td>\n",
       "      <td>AISNE</td>\n",
       "      <td>HAUTE-SAVOIE</td>\n",
       "      <td>BAS-RHIN</td>\n",
       "      <td>ARDECHE</td>\n",
       "      <td>AIN</td>\n",
       "      <td>MANCHE</td>\n",
       "    </tr>\n",
       "    <tr>\n",
       "      <th>Région</th>\n",
       "      <td>MIDI-PYRENEES</td>\n",
       "      <td>LANGUEDOC-ROUSSILLON</td>\n",
       "      <td>AUVERGNE</td>\n",
       "      <td>ILE-DE-FRANCE</td>\n",
       "      <td>PROVENCE-ALPES-COTE D'AZUR</td>\n",
       "      <td>PICARDIE</td>\n",
       "      <td>AQUITAINE</td>\n",
       "      <td>POITOU-CHARENTES</td>\n",
       "      <td>BASSE-NORMANDIE</td>\n",
       "      <td>PICARDIE</td>\n",
       "      <td>...</td>\n",
       "      <td>CENTRE</td>\n",
       "      <td>BASSE-NORMANDIE</td>\n",
       "      <td>AUVERGNE</td>\n",
       "      <td>HAUTE-NORMANDIE</td>\n",
       "      <td>PICARDIE</td>\n",
       "      <td>RHONE-ALPES</td>\n",
       "      <td>ALSACE</td>\n",
       "      <td>RHONE-ALPES</td>\n",
       "      <td>RHONE-ALPES</td>\n",
       "      <td>BASSE-NORMANDIE</td>\n",
       "    </tr>\n",
       "    <tr>\n",
       "      <th>Statut</th>\n",
       "      <td>Chef-lieu canton</td>\n",
       "      <td>Commune simple</td>\n",
       "      <td>Commune simple</td>\n",
       "      <td>Commune simple</td>\n",
       "      <td>Commune simple</td>\n",
       "      <td>Commune simple</td>\n",
       "      <td>Commune simple</td>\n",
       "      <td>Commune simple</td>\n",
       "      <td>Commune simple</td>\n",
       "      <td>Commune simple</td>\n",
       "      <td>...</td>\n",
       "      <td>Commune simple</td>\n",
       "      <td>Commune simple</td>\n",
       "      <td>Commune simple</td>\n",
       "      <td>Commune simple</td>\n",
       "      <td>Commune simple</td>\n",
       "      <td>Commune simple</td>\n",
       "      <td>Commune simple</td>\n",
       "      <td>Commune simple</td>\n",
       "      <td>Chef-lieu canton</td>\n",
       "      <td>Commune simple</td>\n",
       "    </tr>\n",
       "    <tr>\n",
       "      <th>Altitude Moyenne</th>\n",
       "      <td>301.0</td>\n",
       "      <td>314.0</td>\n",
       "      <td>888.0</td>\n",
       "      <td>155.0</td>\n",
       "      <td>49.0</td>\n",
       "      <td>59.0</td>\n",
       "      <td>49.0</td>\n",
       "      <td>45.0</td>\n",
       "      <td>251.0</td>\n",
       "      <td>54.0</td>\n",
       "      <td>...</td>\n",
       "      <td>143.0</td>\n",
       "      <td>21.0</td>\n",
       "      <td>555.0</td>\n",
       "      <td>80.0</td>\n",
       "      <td>141.0</td>\n",
       "      <td>564.0</td>\n",
       "      <td>157.0</td>\n",
       "      <td>257.0</td>\n",
       "      <td>202.0</td>\n",
       "      <td>165.0</td>\n",
       "    </tr>\n",
       "    <tr>\n",
       "      <th>Superficie</th>\n",
       "      <td>2470.0</td>\n",
       "      <td>2426.0</td>\n",
       "      <td>743.0</td>\n",
       "      <td>2717.0</td>\n",
       "      <td>1042.0</td>\n",
       "      <td>613.0</td>\n",
       "      <td>6736.0</td>\n",
       "      <td>2528.0</td>\n",
       "      <td>2346.0</td>\n",
       "      <td>654.0</td>\n",
       "      <td>...</td>\n",
       "      <td>598.0</td>\n",
       "      <td>821.0</td>\n",
       "      <td>1222.0</td>\n",
       "      <td>1252.0</td>\n",
       "      <td>769.0</td>\n",
       "      <td>321.0</td>\n",
       "      <td>725.0</td>\n",
       "      <td>1018.0</td>\n",
       "      <td>86.0</td>\n",
       "      <td>2224.0</td>\n",
       "    </tr>\n",
       "    <tr>\n",
       "      <th>Population</th>\n",
       "      <td>1.6</td>\n",
       "      <td>0.1</td>\n",
       "      <td>0.4</td>\n",
       "      <td>0.8</td>\n",
       "      <td>7.6</td>\n",
       "      <td>0.4</td>\n",
       "      <td>0.7</td>\n",
       "      <td>0.9</td>\n",
       "      <td>0.7</td>\n",
       "      <td>0.2</td>\n",
       "      <td>...</td>\n",
       "      <td>0.4</td>\n",
       "      <td>2.7</td>\n",
       "      <td>0.1</td>\n",
       "      <td>0.7</td>\n",
       "      <td>0.1</td>\n",
       "      <td>0.2</td>\n",
       "      <td>0.7</td>\n",
       "      <td>1.5</td>\n",
       "      <td>0.8</td>\n",
       "      <td>1.0</td>\n",
       "    </tr>\n",
       "    <tr>\n",
       "      <th>geo_point_2d</th>\n",
       "      <td>43.2904403081, 0.650641474176</td>\n",
       "      <td>42.9291375888, 2.90138923544</td>\n",
       "      <td>45.1306448726, 4.07952494849</td>\n",
       "      <td>48.5267627187, 1.80513972814</td>\n",
       "      <td>43.9337788848, 4.90875878315</td>\n",
       "      <td>50.1865666179, 1.83564836965</td>\n",
       "      <td>44.3882918763, -0.750880080586</td>\n",
       "      <td>46.1401428747, -0.665133364912</td>\n",
       "      <td>48.6753438359, 0.610110315479</td>\n",
       "      <td>50.2721837623, 1.83743610924</td>\n",
       "      <td>...</td>\n",
       "      <td>48.5176795466, 1.58912796204</td>\n",
       "      <td>49.2832471592, -0.32297738333</td>\n",
       "      <td>45.2038604898, 2.26559675808</td>\n",
       "      <td>49.9085547953, 1.17898885458</td>\n",
       "      <td>49.0765910572, 3.25026191909</td>\n",
       "      <td>46.0500384099, 6.01652644319</td>\n",
       "      <td>48.9516989257, 8.11931601006</td>\n",
       "      <td>44.5622616562, 4.35906947518</td>\n",
       "      <td>46.3077069231, 4.92862084189</td>\n",
       "      <td>48.9866701737, -0.949588175705</td>\n",
       "    </tr>\n",
       "    <tr>\n",
       "      <th>geo_shape</th>\n",
       "      <td>{\"type\": \"Polygon\", \"coordinates\": [[[0.671852...</td>\n",
       "      <td>{\"type\": \"Polygon\", \"coordinates\": [[[2.906996...</td>\n",
       "      <td>{\"type\": \"Polygon\", \"coordinates\": [[[4.091674...</td>\n",
       "      <td>{\"type\": \"Polygon\", \"coordinates\": [[[1.829610...</td>\n",
       "      <td>{\"type\": \"Polygon\", \"coordinates\": [[[4.927176...</td>\n",
       "      <td>{\"type\": \"Polygon\", \"coordinates\": [[[1.849459...</td>\n",
       "      <td>{\"type\": \"Polygon\", \"coordinates\": [[[-0.71016...</td>\n",
       "      <td>{\"type\": \"Polygon\", \"coordinates\": [[[-0.66124...</td>\n",
       "      <td>{\"type\": \"Polygon\", \"coordinates\": [[[0.634150...</td>\n",
       "      <td>{\"type\": \"Polygon\", \"coordinates\": [[[1.863650...</td>\n",
       "      <td>...</td>\n",
       "      <td>{\"type\": \"Polygon\", \"coordinates\": [[[1.613838...</td>\n",
       "      <td>{\"type\": \"Polygon\", \"coordinates\": [[[-0.33381...</td>\n",
       "      <td>{\"type\": \"Polygon\", \"coordinates\": [[[2.302124...</td>\n",
       "      <td>{\"type\": \"Polygon\", \"coordinates\": [[[1.205457...</td>\n",
       "      <td>{\"type\": \"Polygon\", \"coordinates\": [[[3.258096...</td>\n",
       "      <td>{\"type\": \"Polygon\", \"coordinates\": [[[6.026228...</td>\n",
       "      <td>{\"type\": \"Polygon\", \"coordinates\": [[[8.106826...</td>\n",
       "      <td>{\"type\": \"Polygon\", \"coordinates\": [[[4.356584...</td>\n",
       "      <td>{\"type\": \"Polygon\", \"coordinates\": [[[4.926593...</td>\n",
       "      <td>{\"type\": \"Polygon\", \"coordinates\": [[[-0.99753...</td>\n",
       "    </tr>\n",
       "  </tbody>\n",
       "</table>\n",
       "<p>11 rows × 36742 columns</p>\n",
       "</div>"
      ],
      "text/plain": [
       "                                                              0      \\\n",
       "Code INSEE                                                    31080   \n",
       "Code Postal                                                   31350   \n",
       "Commune                                          BOULOGNE-SUR-GESSE   \n",
       "Département                                           HAUTE-GARONNE   \n",
       "Région                                                MIDI-PYRENEES   \n",
       "Statut                                             Chef-lieu canton   \n",
       "Altitude Moyenne                                              301.0   \n",
       "Superficie                                                   2470.0   \n",
       "Population                                                      1.6   \n",
       "geo_point_2d                          43.2904403081, 0.650641474176   \n",
       "geo_shape         {\"type\": \"Polygon\", \"coordinates\": [[[0.671852...   \n",
       "\n",
       "                                                              1      \\\n",
       "Code INSEE                                                    11143   \n",
       "Code Postal                                                   11510   \n",
       "Commune                                                     FEUILLA   \n",
       "Département                                                    AUDE   \n",
       "Région                                         LANGUEDOC-ROUSSILLON   \n",
       "Statut                                               Commune simple   \n",
       "Altitude Moyenne                                              314.0   \n",
       "Superficie                                                   2426.0   \n",
       "Population                                                      0.1   \n",
       "geo_point_2d                           42.9291375888, 2.90138923544   \n",
       "geo_shape         {\"type\": \"Polygon\", \"coordinates\": [[[2.906996...   \n",
       "\n",
       "                                                              2      \\\n",
       "Code INSEE                                                    43028   \n",
       "Code Postal                                                   43200   \n",
       "Commune                                                  BESSAMOREL   \n",
       "Département                                             HAUTE-LOIRE   \n",
       "Région                                                     AUVERGNE   \n",
       "Statut                                               Commune simple   \n",
       "Altitude Moyenne                                              888.0   \n",
       "Superficie                                                    743.0   \n",
       "Population                                                      0.4   \n",
       "geo_point_2d                           45.1306448726, 4.07952494849   \n",
       "geo_shape         {\"type\": \"Polygon\", \"coordinates\": [[[4.091674...   \n",
       "\n",
       "                                                              3      \\\n",
       "Code INSEE                                                    78506   \n",
       "Code Postal                                                   78660   \n",
       "Commune                                          PRUNAY-EN-YVELINES   \n",
       "Département                                                YVELINES   \n",
       "Région                                                ILE-DE-FRANCE   \n",
       "Statut                                               Commune simple   \n",
       "Altitude Moyenne                                              155.0   \n",
       "Superficie                                                   2717.0   \n",
       "Population                                                      0.8   \n",
       "geo_point_2d                           48.5267627187, 1.80513972814   \n",
       "geo_shape         {\"type\": \"Polygon\", \"coordinates\": [[[1.829610...   \n",
       "\n",
       "                                                              4      \\\n",
       "Code INSEE                                                    84081   \n",
       "Code Postal                                                   84310   \n",
       "Commune                                        MORIERES-LES-AVIGNON   \n",
       "Département                                                VAUCLUSE   \n",
       "Région                                   PROVENCE-ALPES-COTE D'AZUR   \n",
       "Statut                                               Commune simple   \n",
       "Altitude Moyenne                                               49.0   \n",
       "Superficie                                                   1042.0   \n",
       "Population                                                      7.6   \n",
       "geo_point_2d                           43.9337788848, 4.90875878315   \n",
       "geo_shape         {\"type\": \"Polygon\", \"coordinates\": [[[4.927176...   \n",
       "\n",
       "                                                              5      \\\n",
       "Code INSEE                                                    80462   \n",
       "Code Postal                                                   80150   \n",
       "Commune                                              LAMOTTE-BULEUX   \n",
       "Département                                                   SOMME   \n",
       "Région                                                     PICARDIE   \n",
       "Statut                                               Commune simple   \n",
       "Altitude Moyenne                                               59.0   \n",
       "Superficie                                                    613.0   \n",
       "Population                                                      0.4   \n",
       "geo_point_2d                           50.1865666179, 1.83564836965   \n",
       "geo_shape         {\"type\": \"Polygon\", \"coordinates\": [[[1.849459...   \n",
       "\n",
       "                                                              6      \\\n",
       "Code INSEE                                                    40200   \n",
       "Code Postal                                                   40410   \n",
       "Commune                                                     MOUSTEY   \n",
       "Département                                                  LANDES   \n",
       "Région                                                    AQUITAINE   \n",
       "Statut                                               Commune simple   \n",
       "Altitude Moyenne                                               49.0   \n",
       "Superficie                                                   6736.0   \n",
       "Population                                                      0.7   \n",
       "geo_point_2d                         44.3882918763, -0.750880080586   \n",
       "geo_shape         {\"type\": \"Polygon\", \"coordinates\": [[[-0.71016...   \n",
       "\n",
       "                                                              7      \\\n",
       "Code INSEE                                                    17394   \n",
       "Code Postal                                                   17700   \n",
       "Commune                                      SAINT-SATURNIN-DU-BOIS   \n",
       "Département                                       CHARENTE-MARITIME   \n",
       "Région                                             POITOU-CHARENTES   \n",
       "Statut                                               Commune simple   \n",
       "Altitude Moyenne                                               45.0   \n",
       "Superficie                                                   2528.0   \n",
       "Population                                                      0.9   \n",
       "geo_point_2d                         46.1401428747, -0.665133364912   \n",
       "geo_shape         {\"type\": \"Polygon\", \"coordinates\": [[[-0.66124...   \n",
       "\n",
       "                                                              8      \\\n",
       "Code INSEE                                                    61422   \n",
       "Code Postal                                                   61270   \n",
       "Commune                                                  LES ASPRES   \n",
       "Département                                                    ORNE   \n",
       "Région                                              BASSE-NORMANDIE   \n",
       "Statut                                               Commune simple   \n",
       "Altitude Moyenne                                              251.0   \n",
       "Superficie                                                   2346.0   \n",
       "Population                                                      0.7   \n",
       "geo_point_2d                          48.6753438359, 0.610110315479   \n",
       "geo_shape         {\"type\": \"Polygon\", \"coordinates\": [[[0.634150...   \n",
       "\n",
       "                                                              9      ...  \\\n",
       "Code INSEE                                                    80496  ...   \n",
       "Code Postal                                                   80150  ...   \n",
       "Commune                                                     MACHIEL  ...   \n",
       "Département                                                   SOMME  ...   \n",
       "Région                                                     PICARDIE  ...   \n",
       "Statut                                               Commune simple  ...   \n",
       "Altitude Moyenne                                               54.0  ...   \n",
       "Superficie                                                    654.0  ...   \n",
       "Population                                                      0.2  ...   \n",
       "geo_point_2d                           50.2721837623, 1.83743610924  ...   \n",
       "geo_shape         {\"type\": \"Polygon\", \"coordinates\": [[[1.863650...  ...   \n",
       "\n",
       "                                                              36732  \\\n",
       "Code INSEE                                                    28379   \n",
       "Code Postal                                                   28130   \n",
       "Commune                                                   SOULAIRES   \n",
       "Département                                            EURE-ET-LOIR   \n",
       "Région                                                       CENTRE   \n",
       "Statut                                               Commune simple   \n",
       "Altitude Moyenne                                              143.0   \n",
       "Superficie                                                    598.0   \n",
       "Population                                                      0.4   \n",
       "geo_point_2d                           48.5176795466, 1.58912796204   \n",
       "geo_shape         {\"type\": \"Polygon\", \"coordinates\": [[[1.613838...   \n",
       "\n",
       "                                                              36733  \\\n",
       "Code INSEE                                                    14325   \n",
       "Code Postal                                                   14880   \n",
       "Commune                                         HERMANVILLE-SUR-MER   \n",
       "Département                                                CALVADOS   \n",
       "Région                                              BASSE-NORMANDIE   \n",
       "Statut                                               Commune simple   \n",
       "Altitude Moyenne                                               21.0   \n",
       "Superficie                                                    821.0   \n",
       "Population                                                      2.7   \n",
       "geo_point_2d                          49.2832471592, -0.32297738333   \n",
       "geo_shape         {\"type\": \"Polygon\", \"coordinates\": [[[-0.33381...   \n",
       "\n",
       "                                                              36734  \\\n",
       "Code INSEE                                                    15024   \n",
       "Code Postal                                                   15700   \n",
       "Commune                                                     BRAGEAC   \n",
       "Département                                                  CANTAL   \n",
       "Région                                                     AUVERGNE   \n",
       "Statut                                               Commune simple   \n",
       "Altitude Moyenne                                              555.0   \n",
       "Superficie                                                   1222.0   \n",
       "Population                                                      0.1   \n",
       "geo_point_2d                           45.2038604898, 2.26559675808   \n",
       "geo_shape         {\"type\": \"Polygon\", \"coordinates\": [[[2.302124...   \n",
       "\n",
       "                                                              36735  \\\n",
       "Code INSEE                                                    76008   \n",
       "Code Postal                                                   76370   \n",
       "Commune                                                     ANCOURT   \n",
       "Département                                          SEINE-MARITIME   \n",
       "Région                                              HAUTE-NORMANDIE   \n",
       "Statut                                               Commune simple   \n",
       "Altitude Moyenne                                               80.0   \n",
       "Superficie                                                   1252.0   \n",
       "Population                                                      0.7   \n",
       "geo_point_2d                           49.9085547953, 1.17898885458   \n",
       "geo_shape         {\"type\": \"Polygon\", \"coordinates\": [[[1.205457...   \n",
       "\n",
       "                                                              36736  \\\n",
       "Code INSEE                                                    02137   \n",
       "Code Postal                                                   02810   \n",
       "Commune                                                   BUSSIARES   \n",
       "Département                                                   AISNE   \n",
       "Région                                                     PICARDIE   \n",
       "Statut                                               Commune simple   \n",
       "Altitude Moyenne                                              141.0   \n",
       "Superficie                                                    769.0   \n",
       "Population                                                      0.1   \n",
       "geo_point_2d                           49.0765910572, 3.25026191909   \n",
       "geo_shape         {\"type\": \"Polygon\", \"coordinates\": [[[3.258096...   \n",
       "\n",
       "                                                              36737  \\\n",
       "Code INSEE                                                    74066   \n",
       "Code Postal                                                   74270   \n",
       "Commune                                                   CHAVANNAZ   \n",
       "Département                                            HAUTE-SAVOIE   \n",
       "Région                                                  RHONE-ALPES   \n",
       "Statut                                               Commune simple   \n",
       "Altitude Moyenne                                              564.0   \n",
       "Superficie                                                    321.0   \n",
       "Population                                                      0.2   \n",
       "geo_point_2d                           46.0500384099, 6.01652644319   \n",
       "geo_shape         {\"type\": \"Polygon\", \"coordinates\": [[[6.026228...   \n",
       "\n",
       "                                                              36738  \\\n",
       "Code INSEE                                                    67315   \n",
       "Code Postal                                                   67630   \n",
       "Commune                                  NEEWILLER-PRES-LAUTERBOURG   \n",
       "Département                                                BAS-RHIN   \n",
       "Région                                                       ALSACE   \n",
       "Statut                                               Commune simple   \n",
       "Altitude Moyenne                                              157.0   \n",
       "Superficie                                                    725.0   \n",
       "Population                                                      0.7   \n",
       "geo_point_2d                           48.9516989257, 8.11931601006   \n",
       "geo_shape         {\"type\": \"Polygon\", \"coordinates\": [[[8.106826...   \n",
       "\n",
       "                                                              36739  \\\n",
       "Code INSEE                                                    07122   \n",
       "Code Postal                                                   07200   \n",
       "Commune                                     LACHAPELLE-SOUS-AUBENAS   \n",
       "Département                                                 ARDECHE   \n",
       "Région                                                  RHONE-ALPES   \n",
       "Statut                                               Commune simple   \n",
       "Altitude Moyenne                                              257.0   \n",
       "Superficie                                                   1018.0   \n",
       "Population                                                      1.5   \n",
       "geo_point_2d                           44.5622616562, 4.35906947518   \n",
       "geo_shape         {\"type\": \"Polygon\", \"coordinates\": [[[4.356584...   \n",
       "\n",
       "                                                              36740  \\\n",
       "Code INSEE                                                    01026   \n",
       "Code Postal                                                   01380   \n",
       "Commune                                              BAGE-LE-CHATEL   \n",
       "Département                                                     AIN   \n",
       "Région                                                  RHONE-ALPES   \n",
       "Statut                                             Chef-lieu canton   \n",
       "Altitude Moyenne                                              202.0   \n",
       "Superficie                                                     86.0   \n",
       "Population                                                      0.8   \n",
       "geo_point_2d                           46.3077069231, 4.92862084189   \n",
       "geo_shape         {\"type\": \"Polygon\", \"coordinates\": [[[4.926593...   \n",
       "\n",
       "                                                              36741  \n",
       "Code INSEE                                                    50224  \n",
       "Code Postal                                                   50160  \n",
       "Commune                                                GUILBERVILLE  \n",
       "Département                                                  MANCHE  \n",
       "Région                                              BASSE-NORMANDIE  \n",
       "Statut                                               Commune simple  \n",
       "Altitude Moyenne                                              165.0  \n",
       "Superficie                                                   2224.0  \n",
       "Population                                                      1.0  \n",
       "geo_point_2d                         48.9866701737, -0.949588175705  \n",
       "geo_shape         {\"type\": \"Polygon\", \"coordinates\": [[[-0.99753...  \n",
       "\n",
       "[11 rows x 36742 columns]"
      ]
     },
     "execution_count": 14,
     "metadata": {},
     "output_type": "execute_result"
    }
   ],
   "source": [
    "# transposition\n",
    "geo.transpose() # ou geo.T"
   ]
  },
  {
   "cell_type": "code",
   "execution_count": 15,
   "metadata": {
    "scrolled": false
   },
   "outputs": [
    {
     "data": {
      "text/html": [
       "<div>\n",
       "<style scoped>\n",
       "    .dataframe tbody tr th:only-of-type {\n",
       "        vertical-align: middle;\n",
       "    }\n",
       "\n",
       "    .dataframe tbody tr th {\n",
       "        vertical-align: top;\n",
       "    }\n",
       "\n",
       "    .dataframe thead th {\n",
       "        text-align: right;\n",
       "    }\n",
       "</style>\n",
       "<table border=\"1\" class=\"dataframe\">\n",
       "  <thead>\n",
       "    <tr style=\"text-align: right;\">\n",
       "      <th></th>\n",
       "      <th>0</th>\n",
       "    </tr>\n",
       "  </thead>\n",
       "  <tbody>\n",
       "    <tr>\n",
       "      <th>Code INSEE</th>\n",
       "      <td>31080</td>\n",
       "    </tr>\n",
       "    <tr>\n",
       "      <th>Code Postal</th>\n",
       "      <td>31350</td>\n",
       "    </tr>\n",
       "    <tr>\n",
       "      <th>Commune</th>\n",
       "      <td>BOULOGNE-SUR-GESSE</td>\n",
       "    </tr>\n",
       "    <tr>\n",
       "      <th>Département</th>\n",
       "      <td>HAUTE-GARONNE</td>\n",
       "    </tr>\n",
       "    <tr>\n",
       "      <th>Région</th>\n",
       "      <td>MIDI-PYRENEES</td>\n",
       "    </tr>\n",
       "    <tr>\n",
       "      <th>Statut</th>\n",
       "      <td>Chef-lieu canton</td>\n",
       "    </tr>\n",
       "    <tr>\n",
       "      <th>Altitude Moyenne</th>\n",
       "      <td>301.0</td>\n",
       "    </tr>\n",
       "    <tr>\n",
       "      <th>Superficie</th>\n",
       "      <td>2470.0</td>\n",
       "    </tr>\n",
       "    <tr>\n",
       "      <th>Population</th>\n",
       "      <td>1.6</td>\n",
       "    </tr>\n",
       "    <tr>\n",
       "      <th>geo_point_2d</th>\n",
       "      <td>43.2904403081, 0.650641474176</td>\n",
       "    </tr>\n",
       "    <tr>\n",
       "      <th>geo_shape</th>\n",
       "      <td>{\"type\": \"Polygon\", \"coordinates\": [[[0.671852...</td>\n",
       "    </tr>\n",
       "  </tbody>\n",
       "</table>\n",
       "</div>"
      ],
      "text/plain": [
       "                                                                  0\n",
       "Code INSEE                                                    31080\n",
       "Code Postal                                                   31350\n",
       "Commune                                          BOULOGNE-SUR-GESSE\n",
       "Département                                           HAUTE-GARONNE\n",
       "Région                                                MIDI-PYRENEES\n",
       "Statut                                             Chef-lieu canton\n",
       "Altitude Moyenne                                              301.0\n",
       "Superficie                                                   2470.0\n",
       "Population                                                      1.6\n",
       "geo_point_2d                          43.2904403081, 0.650641474176\n",
       "geo_shape         {\"type\": \"Polygon\", \"coordinates\": [[[0.671852..."
      ]
     },
     "execution_count": 15,
     "metadata": {},
     "output_type": "execute_result"
    }
   ],
   "source": [
    "# accès à la première ligne\n",
    "geo.head(1).T  # .iloc[n]"
   ]
  },
  {
   "cell_type": "code",
   "execution_count": 16,
   "metadata": {
    "scrolled": false
   },
   "outputs": [
    {
     "data": {
      "text/plain": [
       "pandas.core.frame.DataFrame"
      ]
     },
     "execution_count": 16,
     "metadata": {},
     "output_type": "execute_result"
    }
   ],
   "source": [
    "# accès à la première ligne\n",
    "var = geo.head(1).T\n",
    "type(var)"
   ]
  },
  {
   "cell_type": "code",
   "execution_count": 17,
   "metadata": {
    "scrolled": false
   },
   "outputs": [
    {
     "data": {
      "text/html": [
       "<div>\n",
       "<style scoped>\n",
       "    .dataframe tbody tr th:only-of-type {\n",
       "        vertical-align: middle;\n",
       "    }\n",
       "\n",
       "    .dataframe tbody tr th {\n",
       "        vertical-align: top;\n",
       "    }\n",
       "\n",
       "    .dataframe thead th {\n",
       "        text-align: right;\n",
       "    }\n",
       "</style>\n",
       "<table border=\"1\" class=\"dataframe\">\n",
       "  <thead>\n",
       "    <tr style=\"text-align: right;\">\n",
       "      <th></th>\n",
       "      <th>Code Postal</th>\n",
       "      <th>Commune</th>\n",
       "      <th>Département</th>\n",
       "      <th>Région</th>\n",
       "      <th>Statut</th>\n",
       "      <th>Altitude Moyenne</th>\n",
       "      <th>Superficie</th>\n",
       "      <th>Population</th>\n",
       "      <th>geo_point_2d</th>\n",
       "      <th>geo_shape</th>\n",
       "    </tr>\n",
       "    <tr>\n",
       "      <th>Code INSEE</th>\n",
       "      <th></th>\n",
       "      <th></th>\n",
       "      <th></th>\n",
       "      <th></th>\n",
       "      <th></th>\n",
       "      <th></th>\n",
       "      <th></th>\n",
       "      <th></th>\n",
       "      <th></th>\n",
       "      <th></th>\n",
       "    </tr>\n",
       "  </thead>\n",
       "  <tbody>\n",
       "    <tr>\n",
       "      <th>31080</th>\n",
       "      <td>31350</td>\n",
       "      <td>BOULOGNE-SUR-GESSE</td>\n",
       "      <td>HAUTE-GARONNE</td>\n",
       "      <td>MIDI-PYRENEES</td>\n",
       "      <td>Chef-lieu canton</td>\n",
       "      <td>301.0</td>\n",
       "      <td>2470.0</td>\n",
       "      <td>1.6</td>\n",
       "      <td>43.2904403081, 0.650641474176</td>\n",
       "      <td>{\"type\": \"Polygon\", \"coordinates\": [[[0.671852...</td>\n",
       "    </tr>\n",
       "    <tr>\n",
       "      <th>11143</th>\n",
       "      <td>11510</td>\n",
       "      <td>FEUILLA</td>\n",
       "      <td>AUDE</td>\n",
       "      <td>LANGUEDOC-ROUSSILLON</td>\n",
       "      <td>Commune simple</td>\n",
       "      <td>314.0</td>\n",
       "      <td>2426.0</td>\n",
       "      <td>0.1</td>\n",
       "      <td>42.9291375888, 2.90138923544</td>\n",
       "      <td>{\"type\": \"Polygon\", \"coordinates\": [[[2.906996...</td>\n",
       "    </tr>\n",
       "    <tr>\n",
       "      <th>43028</th>\n",
       "      <td>43200</td>\n",
       "      <td>BESSAMOREL</td>\n",
       "      <td>HAUTE-LOIRE</td>\n",
       "      <td>AUVERGNE</td>\n",
       "      <td>Commune simple</td>\n",
       "      <td>888.0</td>\n",
       "      <td>743.0</td>\n",
       "      <td>0.4</td>\n",
       "      <td>45.1306448726, 4.07952494849</td>\n",
       "      <td>{\"type\": \"Polygon\", \"coordinates\": [[[4.091674...</td>\n",
       "    </tr>\n",
       "    <tr>\n",
       "      <th>78506</th>\n",
       "      <td>78660</td>\n",
       "      <td>PRUNAY-EN-YVELINES</td>\n",
       "      <td>YVELINES</td>\n",
       "      <td>ILE-DE-FRANCE</td>\n",
       "      <td>Commune simple</td>\n",
       "      <td>155.0</td>\n",
       "      <td>2717.0</td>\n",
       "      <td>0.8</td>\n",
       "      <td>48.5267627187, 1.80513972814</td>\n",
       "      <td>{\"type\": \"Polygon\", \"coordinates\": [[[1.829610...</td>\n",
       "    </tr>\n",
       "    <tr>\n",
       "      <th>84081</th>\n",
       "      <td>84310</td>\n",
       "      <td>MORIERES-LES-AVIGNON</td>\n",
       "      <td>VAUCLUSE</td>\n",
       "      <td>PROVENCE-ALPES-COTE D'AZUR</td>\n",
       "      <td>Commune simple</td>\n",
       "      <td>49.0</td>\n",
       "      <td>1042.0</td>\n",
       "      <td>7.6</td>\n",
       "      <td>43.9337788848, 4.90875878315</td>\n",
       "      <td>{\"type\": \"Polygon\", \"coordinates\": [[[4.927176...</td>\n",
       "    </tr>\n",
       "  </tbody>\n",
       "</table>\n",
       "</div>"
      ],
      "text/plain": [
       "           Code Postal               Commune    Département  \\\n",
       "Code INSEE                                                    \n",
       "31080            31350    BOULOGNE-SUR-GESSE  HAUTE-GARONNE   \n",
       "11143            11510               FEUILLA           AUDE   \n",
       "43028            43200            BESSAMOREL    HAUTE-LOIRE   \n",
       "78506            78660    PRUNAY-EN-YVELINES       YVELINES   \n",
       "84081            84310  MORIERES-LES-AVIGNON       VAUCLUSE   \n",
       "\n",
       "                                Région            Statut  Altitude Moyenne  \\\n",
       "Code INSEE                                                                   \n",
       "31080                    MIDI-PYRENEES  Chef-lieu canton             301.0   \n",
       "11143             LANGUEDOC-ROUSSILLON    Commune simple             314.0   \n",
       "43028                         AUVERGNE    Commune simple             888.0   \n",
       "78506                    ILE-DE-FRANCE    Commune simple             155.0   \n",
       "84081       PROVENCE-ALPES-COTE D'AZUR    Commune simple              49.0   \n",
       "\n",
       "            Superficie  Population                   geo_point_2d  \\\n",
       "Code INSEE                                                          \n",
       "31080           2470.0         1.6  43.2904403081, 0.650641474176   \n",
       "11143           2426.0         0.1   42.9291375888, 2.90138923544   \n",
       "43028            743.0         0.4   45.1306448726, 4.07952494849   \n",
       "78506           2717.0         0.8   48.5267627187, 1.80513972814   \n",
       "84081           1042.0         7.6   43.9337788848, 4.90875878315   \n",
       "\n",
       "                                                    geo_shape  \n",
       "Code INSEE                                                     \n",
       "31080       {\"type\": \"Polygon\", \"coordinates\": [[[0.671852...  \n",
       "11143       {\"type\": \"Polygon\", \"coordinates\": [[[2.906996...  \n",
       "43028       {\"type\": \"Polygon\", \"coordinates\": [[[4.091674...  \n",
       "78506       {\"type\": \"Polygon\", \"coordinates\": [[[1.829610...  \n",
       "84081       {\"type\": \"Polygon\", \"coordinates\": [[[4.927176...  "
      ]
     },
     "execution_count": 17,
     "metadata": {},
     "output_type": "execute_result"
    }
   ],
   "source": [
    "# modification de l'index\n",
    "geo = geo.set_index(\"Code INSEE\")\n",
    "geo.head()"
   ]
  },
  {
   "cell_type": "code",
   "execution_count": 18,
   "metadata": {},
   "outputs": [
    {
     "name": "stdout",
     "output_type": "stream",
     "text": [
      "<class 'pandas.core.frame.DataFrame'>\n",
      "Index: 36742 entries, 31080 to 50224\n",
      "Data columns (total 10 columns):\n",
      " #   Column            Non-Null Count  Dtype  \n",
      "---  ------            --------------  -----  \n",
      " 0   Code Postal       36742 non-null  object \n",
      " 1   Commune           36742 non-null  object \n",
      " 2   Département       36742 non-null  object \n",
      " 3   Région            36742 non-null  object \n",
      " 4   Statut            36742 non-null  object \n",
      " 5   Altitude Moyenne  36742 non-null  float64\n",
      " 6   Superficie        36742 non-null  float64\n",
      " 7   Population        36742 non-null  float64\n",
      " 8   geo_point_2d      36742 non-null  object \n",
      " 9   geo_shape         36742 non-null  object \n",
      "dtypes: float64(3), object(7)\n",
      "memory usage: 3.1+ MB\n"
     ]
    }
   ],
   "source": [
    "geo.info()"
   ]
  },
  {
   "cell_type": "code",
   "execution_count": 19,
   "metadata": {
    "scrolled": false
   },
   "outputs": [
    {
     "data": {
      "text/plain": [
       "True"
      ]
     },
     "execution_count": 19,
     "metadata": {},
     "output_type": "execute_result"
    }
   ],
   "source": [
    "# test de l'unicité de l'index\n",
    "geo.index.is_unique"
   ]
  },
  {
   "cell_type": "code",
   "execution_count": 20,
   "metadata": {},
   "outputs": [
    {
     "data": {
      "text/html": [
       "<div>\n",
       "<style scoped>\n",
       "    .dataframe tbody tr th:only-of-type {\n",
       "        vertical-align: middle;\n",
       "    }\n",
       "\n",
       "    .dataframe tbody tr th {\n",
       "        vertical-align: top;\n",
       "    }\n",
       "\n",
       "    .dataframe thead th {\n",
       "        text-align: right;\n",
       "    }\n",
       "</style>\n",
       "<table border=\"1\" class=\"dataframe\">\n",
       "  <thead>\n",
       "    <tr style=\"text-align: right;\">\n",
       "      <th></th>\n",
       "      <th>Code Postal</th>\n",
       "      <th>Commune</th>\n",
       "      <th>Département</th>\n",
       "      <th>Région</th>\n",
       "      <th>Statut</th>\n",
       "      <th>Altitude Moyenne</th>\n",
       "      <th>Superficie</th>\n",
       "      <th>Population</th>\n",
       "      <th>geo_point_2d</th>\n",
       "      <th>geo_shape</th>\n",
       "    </tr>\n",
       "    <tr>\n",
       "      <th>Code INSEE</th>\n",
       "      <th></th>\n",
       "      <th></th>\n",
       "      <th></th>\n",
       "      <th></th>\n",
       "      <th></th>\n",
       "      <th></th>\n",
       "      <th></th>\n",
       "      <th></th>\n",
       "      <th></th>\n",
       "      <th></th>\n",
       "    </tr>\n",
       "  </thead>\n",
       "  <tbody>\n",
       "    <tr>\n",
       "      <th>01001</th>\n",
       "      <td>01400</td>\n",
       "      <td>L'ABERGEMENT-CLEMENCIAT</td>\n",
       "      <td>AIN</td>\n",
       "      <td>RHONE-ALPES</td>\n",
       "      <td>Commune simple</td>\n",
       "      <td>242.0</td>\n",
       "      <td>1565.0</td>\n",
       "      <td>0.8</td>\n",
       "      <td>46.1534255214, 4.92611354223</td>\n",
       "      <td>{\"type\": \"Polygon\", \"coordinates\": [[[4.926273...</td>\n",
       "    </tr>\n",
       "    <tr>\n",
       "      <th>01002</th>\n",
       "      <td>01640</td>\n",
       "      <td>L'ABERGEMENT-DE-VAREY</td>\n",
       "      <td>AIN</td>\n",
       "      <td>RHONE-ALPES</td>\n",
       "      <td>Commune simple</td>\n",
       "      <td>483.0</td>\n",
       "      <td>912.0</td>\n",
       "      <td>0.2</td>\n",
       "      <td>46.0091878776, 5.42801696363</td>\n",
       "      <td>{\"type\": \"Polygon\", \"coordinates\": [[[5.430089...</td>\n",
       "    </tr>\n",
       "    <tr>\n",
       "      <th>01004</th>\n",
       "      <td>01500</td>\n",
       "      <td>AMBERIEU-EN-BUGEY</td>\n",
       "      <td>AIN</td>\n",
       "      <td>RHONE-ALPES</td>\n",
       "      <td>Chef-lieu canton</td>\n",
       "      <td>379.0</td>\n",
       "      <td>2448.0</td>\n",
       "      <td>13.4</td>\n",
       "      <td>45.9608475114, 5.3729257777</td>\n",
       "      <td>{\"type\": \"Polygon\", \"coordinates\": [[[5.386190...</td>\n",
       "    </tr>\n",
       "    <tr>\n",
       "      <th>01005</th>\n",
       "      <td>01330</td>\n",
       "      <td>AMBERIEUX-EN-DOMBES</td>\n",
       "      <td>AIN</td>\n",
       "      <td>RHONE-ALPES</td>\n",
       "      <td>Commune simple</td>\n",
       "      <td>290.0</td>\n",
       "      <td>1605.0</td>\n",
       "      <td>1.6</td>\n",
       "      <td>45.9961799872, 4.91227250796</td>\n",
       "      <td>{\"type\": \"Polygon\", \"coordinates\": [[[4.895580...</td>\n",
       "    </tr>\n",
       "    <tr>\n",
       "      <th>01006</th>\n",
       "      <td>01300</td>\n",
       "      <td>AMBLEON</td>\n",
       "      <td>AIN</td>\n",
       "      <td>RHONE-ALPES</td>\n",
       "      <td>Commune simple</td>\n",
       "      <td>589.0</td>\n",
       "      <td>602.0</td>\n",
       "      <td>0.1</td>\n",
       "      <td>45.7494989044, 5.59432017366</td>\n",
       "      <td>{\"type\": \"Polygon\", \"coordinates\": [[[5.614854...</td>\n",
       "    </tr>\n",
       "    <tr>\n",
       "      <th>01007</th>\n",
       "      <td>01500</td>\n",
       "      <td>AMBRONAY</td>\n",
       "      <td>AIN</td>\n",
       "      <td>RHONE-ALPES</td>\n",
       "      <td>Commune simple</td>\n",
       "      <td>309.0</td>\n",
       "      <td>3359.0</td>\n",
       "      <td>2.3</td>\n",
       "      <td>46.0055913782, 5.35760660735</td>\n",
       "      <td>{\"type\": \"Polygon\", \"coordinates\": [[[5.413533...</td>\n",
       "    </tr>\n",
       "    <tr>\n",
       "      <th>01008</th>\n",
       "      <td>01500</td>\n",
       "      <td>AMBUTRIX</td>\n",
       "      <td>AIN</td>\n",
       "      <td>RHONE-ALPES</td>\n",
       "      <td>Commune simple</td>\n",
       "      <td>274.0</td>\n",
       "      <td>518.0</td>\n",
       "      <td>0.7</td>\n",
       "      <td>45.9367134524, 5.3328092349</td>\n",
       "      <td>{\"type\": \"Polygon\", \"coordinates\": [[[5.321986...</td>\n",
       "    </tr>\n",
       "    <tr>\n",
       "      <th>01009</th>\n",
       "      <td>01300</td>\n",
       "      <td>ANDERT-ET-CONDON</td>\n",
       "      <td>AIN</td>\n",
       "      <td>RHONE-ALPES</td>\n",
       "      <td>Commune simple</td>\n",
       "      <td>294.0</td>\n",
       "      <td>696.0</td>\n",
       "      <td>0.3</td>\n",
       "      <td>45.7873565333, 5.65788307924</td>\n",
       "      <td>{\"type\": \"Polygon\", \"coordinates\": [[[5.656393...</td>\n",
       "    </tr>\n",
       "    <tr>\n",
       "      <th>...</th>\n",
       "      <td>...</td>\n",
       "      <td>...</td>\n",
       "      <td>...</td>\n",
       "      <td>...</td>\n",
       "      <td>...</td>\n",
       "      <td>...</td>\n",
       "      <td>...</td>\n",
       "      <td>...</td>\n",
       "      <td>...</td>\n",
       "      <td>...</td>\n",
       "    </tr>\n",
       "    <tr>\n",
       "      <th>97610</th>\n",
       "      <td>97600</td>\n",
       "      <td>KOUNGOU</td>\n",
       "      <td>MAYOTTE</td>\n",
       "      <td>MAYOTTE</td>\n",
       "      <td>Chef-lieu canton</td>\n",
       "      <td>138.0</td>\n",
       "      <td>2769.0</td>\n",
       "      <td>19.8</td>\n",
       "      <td>-12.7465604467, 45.1869991913</td>\n",
       "      <td>{\"type\": \"Polygon\", \"coordinates\": [[[45.23692...</td>\n",
       "    </tr>\n",
       "    <tr>\n",
       "      <th>97611</th>\n",
       "      <td>97600</td>\n",
       "      <td>MAMOUDZOU</td>\n",
       "      <td>MAYOTTE</td>\n",
       "      <td>MAYOTTE</td>\n",
       "      <td>Sous-préfecture</td>\n",
       "      <td>161.0</td>\n",
       "      <td>4235.0</td>\n",
       "      <td>53.0</td>\n",
       "      <td>-12.7899979586, 45.1932456026</td>\n",
       "      <td>{\"type\": \"Polygon\", \"coordinates\": [[[45.19781...</td>\n",
       "    </tr>\n",
       "    <tr>\n",
       "      <th>97612</th>\n",
       "      <td>97630</td>\n",
       "      <td>MTSAMBORO</td>\n",
       "      <td>MAYOTTE</td>\n",
       "      <td>MAYOTTE</td>\n",
       "      <td>Chef-lieu canton</td>\n",
       "      <td>146.0</td>\n",
       "      <td>1588.0</td>\n",
       "      <td>6.9</td>\n",
       "      <td>-12.6875073612, 45.0736802335</td>\n",
       "      <td>{\"type\": \"MultiPolygon\", \"coordinates\": [[[[45...</td>\n",
       "    </tr>\n",
       "    <tr>\n",
       "      <th>97613</th>\n",
       "      <td>97650</td>\n",
       "      <td>M'TSANGAMOUJI</td>\n",
       "      <td>MAYOTTE</td>\n",
       "      <td>MAYOTTE</td>\n",
       "      <td>Chef-lieu canton</td>\n",
       "      <td>96.0</td>\n",
       "      <td>2155.0</td>\n",
       "      <td>5.0</td>\n",
       "      <td>-12.7513099309, 45.0871696871</td>\n",
       "      <td>{\"type\": \"Polygon\", \"coordinates\": [[[45.10168...</td>\n",
       "    </tr>\n",
       "    <tr>\n",
       "      <th>97614</th>\n",
       "      <td>97670</td>\n",
       "      <td>OUANGANI</td>\n",
       "      <td>MAYOTTE</td>\n",
       "      <td>MAYOTTE</td>\n",
       "      <td>Chef-lieu canton</td>\n",
       "      <td>175.0</td>\n",
       "      <td>1828.0</td>\n",
       "      <td>6.6</td>\n",
       "      <td>-12.8370955196, 45.1379095497</td>\n",
       "      <td>{\"type\": \"Polygon\", \"coordinates\": [[[45.15401...</td>\n",
       "    </tr>\n",
       "    <tr>\n",
       "      <th>97615</th>\n",
       "      <td>97610</td>\n",
       "      <td>PAMANDZI</td>\n",
       "      <td>MAYOTTE</td>\n",
       "      <td>MAYOTTE</td>\n",
       "      <td>Chef-lieu canton</td>\n",
       "      <td>52.0</td>\n",
       "      <td>426.0</td>\n",
       "      <td>9.1</td>\n",
       "      <td>-12.7961353309, 45.2842063102</td>\n",
       "      <td>{\"type\": \"Polygon\", \"coordinates\": [[[45.29645...</td>\n",
       "    </tr>\n",
       "    <tr>\n",
       "      <th>97616</th>\n",
       "      <td>97640</td>\n",
       "      <td>SADA</td>\n",
       "      <td>MAYOTTE</td>\n",
       "      <td>MAYOTTE</td>\n",
       "      <td>Chef-lieu canton</td>\n",
       "      <td>130.0</td>\n",
       "      <td>1085.0</td>\n",
       "      <td>8.0</td>\n",
       "      <td>-12.8611649609, 45.1185503145</td>\n",
       "      <td>{\"type\": \"Polygon\", \"coordinates\": [[[45.13226...</td>\n",
       "    </tr>\n",
       "    <tr>\n",
       "      <th>97617</th>\n",
       "      <td>97680</td>\n",
       "      <td>TSINGONI</td>\n",
       "      <td>MAYOTTE</td>\n",
       "      <td>MAYOTTE</td>\n",
       "      <td>Chef-lieu canton</td>\n",
       "      <td>147.0</td>\n",
       "      <td>3426.0</td>\n",
       "      <td>9.2</td>\n",
       "      <td>-12.7821666736, 45.1344279083</td>\n",
       "      <td>{\"type\": \"Polygon\", \"coordinates\": [[[45.15256...</td>\n",
       "    </tr>\n",
       "  </tbody>\n",
       "</table>\n",
       "<p>36742 rows × 10 columns</p>\n",
       "</div>"
      ],
      "text/plain": [
       "           Code Postal                  Commune Département       Région  \\\n",
       "Code INSEE                                                                 \n",
       "01001            01400  L'ABERGEMENT-CLEMENCIAT         AIN  RHONE-ALPES   \n",
       "01002            01640    L'ABERGEMENT-DE-VAREY         AIN  RHONE-ALPES   \n",
       "01004            01500        AMBERIEU-EN-BUGEY         AIN  RHONE-ALPES   \n",
       "01005            01330      AMBERIEUX-EN-DOMBES         AIN  RHONE-ALPES   \n",
       "01006            01300                  AMBLEON         AIN  RHONE-ALPES   \n",
       "01007            01500                 AMBRONAY         AIN  RHONE-ALPES   \n",
       "01008            01500                 AMBUTRIX         AIN  RHONE-ALPES   \n",
       "01009            01300         ANDERT-ET-CONDON         AIN  RHONE-ALPES   \n",
       "...                ...                      ...         ...          ...   \n",
       "97610            97600                  KOUNGOU     MAYOTTE      MAYOTTE   \n",
       "97611            97600                MAMOUDZOU     MAYOTTE      MAYOTTE   \n",
       "97612            97630                MTSAMBORO     MAYOTTE      MAYOTTE   \n",
       "97613            97650            M'TSANGAMOUJI     MAYOTTE      MAYOTTE   \n",
       "97614            97670                 OUANGANI     MAYOTTE      MAYOTTE   \n",
       "97615            97610                 PAMANDZI     MAYOTTE      MAYOTTE   \n",
       "97616            97640                     SADA     MAYOTTE      MAYOTTE   \n",
       "97617            97680                 TSINGONI     MAYOTTE      MAYOTTE   \n",
       "\n",
       "                      Statut  Altitude Moyenne  Superficie  Population  \\\n",
       "Code INSEE                                                               \n",
       "01001         Commune simple             242.0      1565.0         0.8   \n",
       "01002         Commune simple             483.0       912.0         0.2   \n",
       "01004       Chef-lieu canton             379.0      2448.0        13.4   \n",
       "01005         Commune simple             290.0      1605.0         1.6   \n",
       "01006         Commune simple             589.0       602.0         0.1   \n",
       "01007         Commune simple             309.0      3359.0         2.3   \n",
       "01008         Commune simple             274.0       518.0         0.7   \n",
       "01009         Commune simple             294.0       696.0         0.3   \n",
       "...                      ...               ...         ...         ...   \n",
       "97610       Chef-lieu canton             138.0      2769.0        19.8   \n",
       "97611        Sous-préfecture             161.0      4235.0        53.0   \n",
       "97612       Chef-lieu canton             146.0      1588.0         6.9   \n",
       "97613       Chef-lieu canton              96.0      2155.0         5.0   \n",
       "97614       Chef-lieu canton             175.0      1828.0         6.6   \n",
       "97615       Chef-lieu canton              52.0       426.0         9.1   \n",
       "97616       Chef-lieu canton             130.0      1085.0         8.0   \n",
       "97617       Chef-lieu canton             147.0      3426.0         9.2   \n",
       "\n",
       "                             geo_point_2d  \\\n",
       "Code INSEE                                  \n",
       "01001        46.1534255214, 4.92611354223   \n",
       "01002        46.0091878776, 5.42801696363   \n",
       "01004         45.9608475114, 5.3729257777   \n",
       "01005        45.9961799872, 4.91227250796   \n",
       "01006        45.7494989044, 5.59432017366   \n",
       "01007        46.0055913782, 5.35760660735   \n",
       "01008         45.9367134524, 5.3328092349   \n",
       "01009        45.7873565333, 5.65788307924   \n",
       "...                                   ...   \n",
       "97610       -12.7465604467, 45.1869991913   \n",
       "97611       -12.7899979586, 45.1932456026   \n",
       "97612       -12.6875073612, 45.0736802335   \n",
       "97613       -12.7513099309, 45.0871696871   \n",
       "97614       -12.8370955196, 45.1379095497   \n",
       "97615       -12.7961353309, 45.2842063102   \n",
       "97616       -12.8611649609, 45.1185503145   \n",
       "97617       -12.7821666736, 45.1344279083   \n",
       "\n",
       "                                                    geo_shape  \n",
       "Code INSEE                                                     \n",
       "01001       {\"type\": \"Polygon\", \"coordinates\": [[[4.926273...  \n",
       "01002       {\"type\": \"Polygon\", \"coordinates\": [[[5.430089...  \n",
       "01004       {\"type\": \"Polygon\", \"coordinates\": [[[5.386190...  \n",
       "01005       {\"type\": \"Polygon\", \"coordinates\": [[[4.895580...  \n",
       "01006       {\"type\": \"Polygon\", \"coordinates\": [[[5.614854...  \n",
       "01007       {\"type\": \"Polygon\", \"coordinates\": [[[5.413533...  \n",
       "01008       {\"type\": \"Polygon\", \"coordinates\": [[[5.321986...  \n",
       "01009       {\"type\": \"Polygon\", \"coordinates\": [[[5.656393...  \n",
       "...                                                       ...  \n",
       "97610       {\"type\": \"Polygon\", \"coordinates\": [[[45.23692...  \n",
       "97611       {\"type\": \"Polygon\", \"coordinates\": [[[45.19781...  \n",
       "97612       {\"type\": \"MultiPolygon\", \"coordinates\": [[[[45...  \n",
       "97613       {\"type\": \"Polygon\", \"coordinates\": [[[45.10168...  \n",
       "97614       {\"type\": \"Polygon\", \"coordinates\": [[[45.15401...  \n",
       "97615       {\"type\": \"Polygon\", \"coordinates\": [[[45.29645...  \n",
       "97616       {\"type\": \"Polygon\", \"coordinates\": [[[45.13226...  \n",
       "97617       {\"type\": \"Polygon\", \"coordinates\": [[[45.15256...  \n",
       "\n",
       "[36742 rows x 10 columns]"
      ]
     },
     "execution_count": 20,
     "metadata": {},
     "output_type": "execute_result"
    }
   ],
   "source": [
    "geo.sort_index()"
   ]
  },
  {
   "cell_type": "markdown",
   "metadata": {},
   "source": [
    "## 2.4 Sélections dans les Series\n",
    "\n",
    "- index (label) vs indice (position)\n",
    "- s[i]\n",
    "- s[[i, j, k]] (fancy indexing)\n",
    "- s[i:j], s[i:j:k]\n",
    "- s.loc[], s.at[]\n",
    "- s.iloc[], s.iat[]\n",
    "- s[mask] (masque booléen ET &, OU |, NON ~)\n",
    "- opérations logiques all() et any()"
   ]
  },
  {
   "cell_type": "code",
   "execution_count": 21,
   "metadata": {},
   "outputs": [
    {
     "data": {
      "text/html": [
       "<div>\n",
       "<style scoped>\n",
       "    .dataframe tbody tr th:only-of-type {\n",
       "        vertical-align: middle;\n",
       "    }\n",
       "\n",
       "    .dataframe tbody tr th {\n",
       "        vertical-align: top;\n",
       "    }\n",
       "\n",
       "    .dataframe thead th {\n",
       "        text-align: right;\n",
       "    }\n",
       "</style>\n",
       "<table border=\"1\" class=\"dataframe\">\n",
       "  <thead>\n",
       "    <tr style=\"text-align: right;\">\n",
       "      <th></th>\n",
       "      <th>Code Postal</th>\n",
       "      <th>Commune</th>\n",
       "      <th>Département</th>\n",
       "      <th>Région</th>\n",
       "      <th>Statut</th>\n",
       "      <th>Altitude Moyenne</th>\n",
       "      <th>Superficie</th>\n",
       "      <th>Population</th>\n",
       "      <th>geo_point_2d</th>\n",
       "      <th>geo_shape</th>\n",
       "    </tr>\n",
       "    <tr>\n",
       "      <th>Code INSEE</th>\n",
       "      <th></th>\n",
       "      <th></th>\n",
       "      <th></th>\n",
       "      <th></th>\n",
       "      <th></th>\n",
       "      <th></th>\n",
       "      <th></th>\n",
       "      <th></th>\n",
       "      <th></th>\n",
       "      <th></th>\n",
       "    </tr>\n",
       "  </thead>\n",
       "  <tbody>\n",
       "    <tr>\n",
       "      <th>01001</th>\n",
       "      <td>01400</td>\n",
       "      <td>L'ABERGEMENT-CLEMENCIAT</td>\n",
       "      <td>AIN</td>\n",
       "      <td>RHONE-ALPES</td>\n",
       "      <td>Commune simple</td>\n",
       "      <td>242.0</td>\n",
       "      <td>1565.0</td>\n",
       "      <td>0.8</td>\n",
       "      <td>46.1534255214, 4.92611354223</td>\n",
       "      <td>{\"type\": \"Polygon\", \"coordinates\": [[[4.926273...</td>\n",
       "    </tr>\n",
       "    <tr>\n",
       "      <th>01002</th>\n",
       "      <td>01640</td>\n",
       "      <td>L'ABERGEMENT-DE-VAREY</td>\n",
       "      <td>AIN</td>\n",
       "      <td>RHONE-ALPES</td>\n",
       "      <td>Commune simple</td>\n",
       "      <td>483.0</td>\n",
       "      <td>912.0</td>\n",
       "      <td>0.2</td>\n",
       "      <td>46.0091878776, 5.42801696363</td>\n",
       "      <td>{\"type\": \"Polygon\", \"coordinates\": [[[5.430089...</td>\n",
       "    </tr>\n",
       "    <tr>\n",
       "      <th>01004</th>\n",
       "      <td>01500</td>\n",
       "      <td>AMBERIEU-EN-BUGEY</td>\n",
       "      <td>AIN</td>\n",
       "      <td>RHONE-ALPES</td>\n",
       "      <td>Chef-lieu canton</td>\n",
       "      <td>379.0</td>\n",
       "      <td>2448.0</td>\n",
       "      <td>13.4</td>\n",
       "      <td>45.9608475114, 5.3729257777</td>\n",
       "      <td>{\"type\": \"Polygon\", \"coordinates\": [[[5.386190...</td>\n",
       "    </tr>\n",
       "    <tr>\n",
       "      <th>01005</th>\n",
       "      <td>01330</td>\n",
       "      <td>AMBERIEUX-EN-DOMBES</td>\n",
       "      <td>AIN</td>\n",
       "      <td>RHONE-ALPES</td>\n",
       "      <td>Commune simple</td>\n",
       "      <td>290.0</td>\n",
       "      <td>1605.0</td>\n",
       "      <td>1.6</td>\n",
       "      <td>45.9961799872, 4.91227250796</td>\n",
       "      <td>{\"type\": \"Polygon\", \"coordinates\": [[[4.895580...</td>\n",
       "    </tr>\n",
       "    <tr>\n",
       "      <th>01006</th>\n",
       "      <td>01300</td>\n",
       "      <td>AMBLEON</td>\n",
       "      <td>AIN</td>\n",
       "      <td>RHONE-ALPES</td>\n",
       "      <td>Commune simple</td>\n",
       "      <td>589.0</td>\n",
       "      <td>602.0</td>\n",
       "      <td>0.1</td>\n",
       "      <td>45.7494989044, 5.59432017366</td>\n",
       "      <td>{\"type\": \"Polygon\", \"coordinates\": [[[5.614854...</td>\n",
       "    </tr>\n",
       "  </tbody>\n",
       "</table>\n",
       "</div>"
      ],
      "text/plain": [
       "           Code Postal                  Commune Département       Région  \\\n",
       "Code INSEE                                                                 \n",
       "01001            01400  L'ABERGEMENT-CLEMENCIAT         AIN  RHONE-ALPES   \n",
       "01002            01640    L'ABERGEMENT-DE-VAREY         AIN  RHONE-ALPES   \n",
       "01004            01500        AMBERIEU-EN-BUGEY         AIN  RHONE-ALPES   \n",
       "01005            01330      AMBERIEUX-EN-DOMBES         AIN  RHONE-ALPES   \n",
       "01006            01300                  AMBLEON         AIN  RHONE-ALPES   \n",
       "\n",
       "                      Statut  Altitude Moyenne  Superficie  Population  \\\n",
       "Code INSEE                                                               \n",
       "01001         Commune simple             242.0      1565.0         0.8   \n",
       "01002         Commune simple             483.0       912.0         0.2   \n",
       "01004       Chef-lieu canton             379.0      2448.0        13.4   \n",
       "01005         Commune simple             290.0      1605.0         1.6   \n",
       "01006         Commune simple             589.0       602.0         0.1   \n",
       "\n",
       "                            geo_point_2d  \\\n",
       "Code INSEE                                 \n",
       "01001       46.1534255214, 4.92611354223   \n",
       "01002       46.0091878776, 5.42801696363   \n",
       "01004        45.9608475114, 5.3729257777   \n",
       "01005       45.9961799872, 4.91227250796   \n",
       "01006       45.7494989044, 5.59432017366   \n",
       "\n",
       "                                                    geo_shape  \n",
       "Code INSEE                                                     \n",
       "01001       {\"type\": \"Polygon\", \"coordinates\": [[[4.926273...  \n",
       "01002       {\"type\": \"Polygon\", \"coordinates\": [[[5.430089...  \n",
       "01004       {\"type\": \"Polygon\", \"coordinates\": [[[5.386190...  \n",
       "01005       {\"type\": \"Polygon\", \"coordinates\": [[[4.895580...  \n",
       "01006       {\"type\": \"Polygon\", \"coordinates\": [[[5.614854...  "
      ]
     },
     "execution_count": 21,
     "metadata": {},
     "output_type": "execute_result"
    }
   ],
   "source": [
    "# chargement des données\n",
    "geo = pd.read_csv(\"../data/correspondance-code-insee-code-postal.csv\",\n",
    "                   sep=';',\n",
    "                   usecols=range(11))\n",
    "geo = geo.set_index('Code INSEE')\n",
    "geo = geo.sort_index()\n",
    "geo.head()"
   ]
  },
  {
   "cell_type": "code",
   "execution_count": 22,
   "metadata": {},
   "outputs": [
    {
     "data": {
      "text/plain": [
       "Code INSEE\n",
       "01001    L'ABERGEMENT-CLEMENCIAT\n",
       "01002      L'ABERGEMENT-DE-VAREY\n",
       "01004          AMBERIEU-EN-BUGEY\n",
       "01005        AMBERIEUX-EN-DOMBES\n",
       "01006                    AMBLEON\n",
       "01007                   AMBRONAY\n",
       "01008                   AMBUTRIX\n",
       "01009           ANDERT-ET-CONDON\n",
       "                  ...           \n",
       "97610                    KOUNGOU\n",
       "97611                  MAMOUDZOU\n",
       "97612                  MTSAMBORO\n",
       "97613              M'TSANGAMOUJI\n",
       "97614                   OUANGANI\n",
       "97615                   PAMANDZI\n",
       "97616                       SADA\n",
       "97617                   TSINGONI\n",
       "Name: Commune, Length: 36742, dtype: object"
      ]
     },
     "execution_count": 22,
     "metadata": {},
     "output_type": "execute_result"
    }
   ],
   "source": [
    "# sélection par index\n",
    "s = geo['Commune']\n",
    "s"
   ]
  },
  {
   "cell_type": "code",
   "execution_count": 23,
   "metadata": {},
   "outputs": [
    {
     "data": {
      "text/plain": [
       "'PALAISEAU'"
      ]
     },
     "execution_count": 23,
     "metadata": {},
     "output_type": "execute_result"
    }
   ],
   "source": [
    "# sélection par index\n",
    "s = geo['Commune']\n",
    "s.loc['91477'] # ou s['91477']"
   ]
  },
  {
   "cell_type": "code",
   "execution_count": 24,
   "metadata": {},
   "outputs": [
    {
     "data": {
      "text/plain": [
       "'PALAISEAU'"
      ]
     },
     "execution_count": 24,
     "metadata": {},
     "output_type": "execute_result"
    }
   ],
   "source": [
    "# sélection par indice\n",
    "s.iloc[36240] # ou s[36240]"
   ]
  },
  {
   "cell_type": "code",
   "execution_count": 25,
   "metadata": {},
   "outputs": [
    {
     "data": {
      "text/plain": [
       "Code INSEE\n",
       "01001    L'ABERGEMENT-CLEMENCIAT\n",
       "01004          AMBERIEU-EN-BUGEY\n",
       "01006                    AMBLEON\n",
       "Name: Commune, dtype: object"
      ]
     },
     "execution_count": 25,
     "metadata": {},
     "output_type": "execute_result"
    }
   ],
   "source": [
    "# sélection par une liste d'index\n",
    "s.loc[['01001', '01004', '01006']] # ou s[['01001', '01004', '01006']]"
   ]
  },
  {
   "cell_type": "code",
   "execution_count": 26,
   "metadata": {},
   "outputs": [
    {
     "data": {
      "text/plain": [
       "Code INSEE\n",
       "01001    L'ABERGEMENT-CLEMENCIAT\n",
       "01004          AMBERIEU-EN-BUGEY\n",
       "01006                    AMBLEON\n",
       "Name: Commune, dtype: object"
      ]
     },
     "execution_count": 26,
     "metadata": {},
     "output_type": "execute_result"
    }
   ],
   "source": [
    "# sélection par une liste d'index\n",
    "liste = ['01001', '01004', '01006']\n",
    "s.loc[liste] # ou s[liste]"
   ]
  },
  {
   "cell_type": "code",
   "execution_count": 27,
   "metadata": {},
   "outputs": [
    {
     "data": {
      "text/plain": [
       "Code INSEE\n",
       "01001    L'ABERGEMENT-CLEMENCIAT\n",
       "01004          AMBERIEU-EN-BUGEY\n",
       "01006                    AMBLEON\n",
       "Name: Commune, dtype: object"
      ]
     },
     "execution_count": 27,
     "metadata": {},
     "output_type": "execute_result"
    }
   ],
   "source": [
    "# sélection par une liste d'indices\n",
    "s.iloc[[0, 2, 4]] # ou s[[0, 2, 4]]"
   ]
  },
  {
   "cell_type": "code",
   "execution_count": 28,
   "metadata": {},
   "outputs": [
    {
     "data": {
      "text/plain": [
       "Code INSEE\n",
       "01001    L'ABERGEMENT-CLEMENCIAT\n",
       "01002      L'ABERGEMENT-DE-VAREY\n",
       "01004          AMBERIEU-EN-BUGEY\n",
       "01005        AMBERIEUX-EN-DOMBES\n",
       "01006                    AMBLEON\n",
       "Name: Commune, dtype: object"
      ]
     },
     "execution_count": 28,
     "metadata": {},
     "output_type": "execute_result"
    }
   ],
   "source": [
    "# sélection par une plage d'index\n",
    "# 01006 est inclus\n",
    "s.loc['01001':'01006'] # ou s['01001':'01006']"
   ]
  },
  {
   "cell_type": "code",
   "execution_count": 29,
   "metadata": {},
   "outputs": [
    {
     "data": {
      "text/plain": [
       "Code INSEE\n",
       "01001    L'ABERGEMENT-CLEMENCIAT\n",
       "01002      L'ABERGEMENT-DE-VAREY\n",
       "01004          AMBERIEU-EN-BUGEY\n",
       "01005        AMBERIEUX-EN-DOMBES\n",
       "01006                    AMBLEON\n",
       "Name: Commune, dtype: object"
      ]
     },
     "execution_count": 29,
     "metadata": {},
     "output_type": "execute_result"
    }
   ],
   "source": [
    "# sélection par une plage d'indices\n",
    "# 5 est exclu\n",
    "s.iloc[0:5] # ou s[0:5]"
   ]
  },
  {
   "cell_type": "code",
   "execution_count": 30,
   "metadata": {},
   "outputs": [
    {
     "data": {
      "text/plain": [
       "Code INSEE\n",
       "01001    L'ABERGEMENT-CLEMENCIAT\n",
       "01002      L'ABERGEMENT-DE-VAREY\n",
       "01004          AMBERIEU-EN-BUGEY\n",
       "01005        AMBERIEUX-EN-DOMBES\n",
       "01006                    AMBLEON\n",
       "01007                   AMBRONAY\n",
       "01008                   AMBUTRIX\n",
       "01009           ANDERT-ET-CONDON\n",
       "                  ...           \n",
       "97610                    KOUNGOU\n",
       "97611                  MAMOUDZOU\n",
       "97612                  MTSAMBORO\n",
       "97613              M'TSANGAMOUJI\n",
       "97614                   OUANGANI\n",
       "97615                   PAMANDZI\n",
       "97616                       SADA\n",
       "97617                   TSINGONI\n",
       "Name: Commune, Length: 36742, dtype: object"
      ]
     },
     "execution_count": 30,
     "metadata": {},
     "output_type": "execute_result"
    }
   ],
   "source": [
    "# Series\n",
    "s"
   ]
  },
  {
   "cell_type": "code",
   "execution_count": 31,
   "metadata": {
    "scrolled": false
   },
   "outputs": [
    {
     "data": {
      "text/plain": [
       "Code INSEE\n",
       "01001    False\n",
       "01002    False\n",
       "01004     True\n",
       "01005     True\n",
       "01006     True\n",
       "01007     True\n",
       "01008     True\n",
       "01009     True\n",
       "         ...  \n",
       "97610    False\n",
       "97611    False\n",
       "97612    False\n",
       "97613    False\n",
       "97614    False\n",
       "97615    False\n",
       "97616    False\n",
       "97617    False\n",
       "Name: Commune, Length: 36742, dtype: bool"
      ]
     },
     "execution_count": 31,
     "metadata": {},
     "output_type": "execute_result"
    }
   ],
   "source": [
    "# vecteur de booléens selon si le nom de la ville commence par \"A\"\n",
    "masque = s.str.startswith(\"A\")\n",
    "masque"
   ]
  },
  {
   "cell_type": "code",
   "execution_count": 32,
   "metadata": {
    "scrolled": false
   },
   "outputs": [
    {
     "data": {
      "text/plain": [
       "Code INSEE\n",
       "01004      AMBERIEU-EN-BUGEY\n",
       "01005    AMBERIEUX-EN-DOMBES\n",
       "01006                AMBLEON\n",
       "01007               AMBRONAY\n",
       "01008               AMBUTRIX\n",
       "01009       ANDERT-ET-CONDON\n",
       "01010              ANGLEFORT\n",
       "01011               APREMONT\n",
       "                ...         \n",
       "95026      ASNIERES-SUR-OISE\n",
       "95028            ATTAINVILLE\n",
       "95039        AUVERS-SUR-OISE\n",
       "95040                AVERNES\n",
       "97102          ANSE-BERTRAND\n",
       "97360                 APATOU\n",
       "97361         AWALA-YALIMAPO\n",
       "97601                  ACOUA\n",
       "Name: Commune, Length: 1934, dtype: object"
      ]
     },
     "execution_count": 32,
     "metadata": {},
     "output_type": "execute_result"
    }
   ],
   "source": [
    "# sélection à partir du vecteur de booléens\n",
    "s.loc[masque]  # ou bien s[masque]"
   ]
  },
  {
   "cell_type": "code",
   "execution_count": 33,
   "metadata": {
    "scrolled": false
   },
   "outputs": [
    {
     "data": {
      "text/plain": [
       "Code INSEE\n",
       "01331                   SAINT-ALBAN\n",
       "01332           SAINT-ANDRE-DE-BAGE\n",
       "01333          SAINT-ANDRE-DE-CORCY\n",
       "01334         SAINT-ANDRE-D'HUIRIAT\n",
       "01335       SAINT-ANDRE-LE-BOUCHOUX\n",
       "01336    SAINT-ANDRE-SUR-VIEUX-JONC\n",
       "01337                 SAINT-BENIGNE\n",
       "01338                  SAINT-BENOIT\n",
       "                    ...            \n",
       "97413                     SAINT-LEU\n",
       "97414                   SAINT-LOUIS\n",
       "97415                    SAINT-PAUL\n",
       "97416                  SAINT-PIERRE\n",
       "97417                SAINT-PHILIPPE\n",
       "97418                  SAINTE-MARIE\n",
       "97419                   SAINTE-ROSE\n",
       "97420                SAINTE-SUZANNE\n",
       "Name: Commune, Length: 4256, dtype: object"
      ]
     },
     "execution_count": 33,
     "metadata": {},
     "output_type": "execute_result"
    }
   ],
   "source": [
    "# les communes qui commencent par SAINT\n",
    "s.loc[s.str.startswith(\"SAINT\")]"
   ]
  },
  {
   "cell_type": "code",
   "execution_count": 34,
   "metadata": {},
   "outputs": [
    {
     "data": {
      "text/plain": [
       "Code INSEE\n",
       "01331                   SAINT-ALBAN\n",
       "01332           SAINT-ANDRE-DE-BAGE\n",
       "01333          SAINT-ANDRE-DE-CORCY\n",
       "01334         SAINT-ANDRE-D'HUIRIAT\n",
       "01335       SAINT-ANDRE-LE-BOUCHOUX\n",
       "01336    SAINT-ANDRE-SUR-VIEUX-JONC\n",
       "01337                 SAINT-BENIGNE\n",
       "01338                  SAINT-BENOIT\n",
       "                    ...            \n",
       "97413                     SAINT-LEU\n",
       "97414                   SAINT-LOUIS\n",
       "97415                    SAINT-PAUL\n",
       "97416                  SAINT-PIERRE\n",
       "97417                SAINT-PHILIPPE\n",
       "97418                  SAINTE-MARIE\n",
       "97419                   SAINTE-ROSE\n",
       "97420                SAINTE-SUZANNE\n",
       "Name: Commune, Length: 4256, dtype: object"
      ]
     },
     "execution_count": 34,
     "metadata": {},
     "output_type": "execute_result"
    }
   ],
   "source": [
    "s[s.str.startswith(\"SAINT\")]"
   ]
  },
  {
   "cell_type": "markdown",
   "metadata": {},
   "source": [
    "**Exercice 4**\n",
    "- Quelles communes commencent par la lettre \"Z\" ?\n",
    "- Quelles communes commencent et finissent par la lettre \"Y\" ?\n",
    "- Combien de communes sont \"SUR-MER\" ?\n",
    "- Quelles communes ont un nom avec la préposition \"SOUS\" ?\n",
    "- Quelles communes ont un nom avec \"SOUS\" mais pas la préposition \"SOUS\" ?"
   ]
  },
  {
   "cell_type": "code",
   "execution_count": 35,
   "metadata": {},
   "outputs": [
    {
     "data": {
      "text/plain": [
       "Code INSEE\n",
       "2A357         ZERUBIA\n",
       "2A358          ZEVACO\n",
       "2A359          ZICAVO\n",
       "2A360        ZIGLIARA\n",
       "2A362           ZONZA\n",
       "2A363            ZOZA\n",
       "2B356          ZALANA\n",
       "2B361           ZILIA\n",
       "2B364           ZUANI\n",
       "57759       ZARBELING\n",
       "57760         ZETTING\n",
       "57761         ZILLING\n",
       "57762         ZIMMING\n",
       "57763        ZOMMANGE\n",
       "57764       ZOUFFTGEN\n",
       "59666    ZEGERSCAPPEL\n",
       "59667      ZERMEZEELE\n",
       "59668       ZUYDCOOTE\n",
       "59669       ZUYTPEENE\n",
       "62903          ZOTEUX\n",
       "62904       ZOUAFQUES\n",
       "62905      ZUDAUSQUES\n",
       "62906       ZUTKERQUE\n",
       "67555       ZEHNACKER\n",
       "67556        ZEINHEIM\n",
       "67557      ZELLWILLER\n",
       "67558      ZINSWILLER\n",
       "67559     ZITTERSHEIM\n",
       "67560     ZOEBERSDORF\n",
       "68382      ZAESSINGUE\n",
       "68383      ZELLENBERG\n",
       "68384      ZILLISHEIM\n",
       "68385      ZIMMERBACH\n",
       "68386     ZIMMERSHEIM\n",
       "88532        ZINCOURT\n",
       "Name: Commune, dtype: object"
      ]
     },
     "execution_count": 35,
     "metadata": {},
     "output_type": "execute_result"
    }
   ],
   "source": [
    "s.loc[s.str.startswith(\"Z\")]"
   ]
  },
  {
   "cell_type": "code",
   "execution_count": null,
   "metadata": {},
   "outputs": [],
   "source": [
    "s.loc[s.str.startswith(\"Y\") & s.str.endswith(\"Y\")]"
   ]
  },
  {
   "cell_type": "code",
   "execution_count": 41,
   "metadata": {},
   "outputs": [
    {
     "data": {
      "text/plain": [
       "100"
      ]
     },
     "execution_count": 41,
     "metadata": {},
     "output_type": "execute_result"
    }
   ],
   "source": [
    "len(s.loc[s.str.endswith(\"-SUR-MER\")])"
   ]
  },
  {
   "cell_type": "code",
   "execution_count": 42,
   "metadata": {},
   "outputs": [
    {
     "data": {
      "text/plain": [
       "102"
      ]
     },
     "execution_count": 42,
     "metadata": {},
     "output_type": "execute_result"
    }
   ],
   "source": [
    "len(s.loc[s.str.contains(\"-SUR-MER\")])"
   ]
  },
  {
   "cell_type": "code",
   "execution_count": 43,
   "metadata": {},
   "outputs": [
    {
     "data": {
      "text/plain": [
       "Code INSEE\n",
       "72007     ARDENAY-SUR-MERIZE\n",
       "72046    LE BREIL-SUR-MERIZE\n",
       "Name: Commune, dtype: object"
      ]
     },
     "execution_count": 43,
     "metadata": {},
     "output_type": "execute_result"
    }
   ],
   "source": [
    "s.loc[s.str.contains(\"-SUR-MER\")&~s.str.endswith(\"-SUR-MER\")]"
   ]
  },
  {
   "cell_type": "code",
   "execution_count": 44,
   "metadata": {},
   "outputs": [
    {
     "data": {
      "text/plain": [
       "Code INSEE\n",
       "02028              ATHIES-SOUS-LAON\n",
       "02037             AULNOIS-SOUS-LAON\n",
       "02107        BOURGUIGNON-SOUS-COUCY\n",
       "02108    BOURGUIGNON-SOUS-MONTBAVIN\n",
       "02147      LA CELLE-SOUS-MONTMIRAIL\n",
       "02423            LEUILLY-SOUS-COUCY\n",
       "02460              MARCY-SOUS-MARLE\n",
       "02516           MONTIGNY-SOUS-MARLE\n",
       "                    ...            \n",
       "93014              CLICHY-SOUS-BOIS\n",
       "93057       LES PAVILLONS-SOUS-BOIS\n",
       "93064               ROSNY-SOUS-BOIS\n",
       "94033            FONTENAY-SOUS-BOIS\n",
       "95316               JAGNY-SOUS-BOIS\n",
       "95539        SAINT-BRICE-SOUS-FORET\n",
       "95598        SOISY-SOUS-MONTMORENCY\n",
       "95660           VILLAINES-SOUS-BOIS\n",
       "Name: Commune, Length: 277, dtype: object"
      ]
     },
     "execution_count": 44,
     "metadata": {},
     "output_type": "execute_result"
    }
   ],
   "source": [
    "s.loc[s.str.contains(\"-SOUS-\")]"
   ]
  },
  {
   "cell_type": "code",
   "execution_count": 45,
   "metadata": {},
   "outputs": [
    {
     "data": {
      "text/plain": [
       "Code INSEE\n",
       "17433                 SOUSMOULINS\n",
       "21613         SOUSSEY-SUR-BRIONNE\n",
       "23175                 SOUS-PARSAT\n",
       "25001              ABBANS-DESSOUS\n",
       "25034               AUXON-DESSOUS\n",
       "26343                  SOUSPIERRE\n",
       "30323                   SOUSTELLE\n",
       "31015               ARGUT-DESSOUS\n",
       "31064    BENQUE-DESSOUS-ET-DESSUS\n",
       "31408                    PAYSSOUS\n",
       "32218              LOUSSOUS-DEBAT\n",
       "33516                     SOUSSAC\n",
       "33517                    SOUSSANS\n",
       "38497                   SOUSVILLE\n",
       "40069         CASTAIGNOS-SOUSLENS\n",
       "40310                    SOUSTONS\n",
       "46311                  SOUSCEYRAC\n",
       "47066            CLERMONT-DESSOUS\n",
       "51545                   SOMMESOUS\n",
       "65032              ARRENS-MARSOUS\n",
       "73263       SAINT-OFFENGE-DESSOUS\n",
       "91689                     WISSOUS\n",
       "Name: Commune, dtype: object"
      ]
     },
     "execution_count": 45,
     "metadata": {},
     "output_type": "execute_result"
    }
   ],
   "source": [
    "s.loc[s.str.contains(\"SOUS\")&~s.str.contains(\"-SOUS-\")]"
   ]
  },
  {
   "cell_type": "markdown",
   "metadata": {},
   "source": [
    "### Point sur les expressions régulières\n",
    "\n",
    "Voir le module **re**"
   ]
  },
  {
   "cell_type": "code",
   "execution_count": 46,
   "metadata": {},
   "outputs": [
    {
     "data": {
      "text/plain": [
       "Code INSEE\n",
       "2A027              AZZANA\n",
       "2A099             COZZANO\n",
       "2A118             FOZZANO\n",
       "2A259               REZZA\n",
       "2A336    VALLE-DI-MEZZANA\n",
       "2B143        LINGUIZZETTA\n",
       "2B147               LOZZI\n",
       "2B149       LUGO-DI-NAZZA\n",
       "2B157             MAZZOLA\n",
       "2B164    MONACIA-D'OREZZA\n",
       "2B216            PIAZZALI\n",
       "2B217            PIAZZOLE\n",
       "2B222        PIE-D'OREZZA\n",
       "2B236     POGGIO-DI-NAZZA\n",
       "2B242      POGGIO-MEZZANA\n",
       "2B291            STAZZONA\n",
       "2B338      VALLE-D'OREZZA\n",
       "2B347             VEZZANI\n",
       "68030       BERGHOLTZZELL\n",
       "Name: Commune, dtype: object"
      ]
     },
     "execution_count": 46,
     "metadata": {},
     "output_type": "execute_result"
    }
   ],
   "source": [
    "# les communes comportant 2 Z accolés\n",
    "s.loc[s.str.contains(\"ZZ\")]"
   ]
  },
  {
   "cell_type": "markdown",
   "metadata": {},
   "source": [
    "Caractères spéciaux :\n",
    "\n",
    "- `.`: tout caractère\n",
    "- ^: le début de la chaine\n",
    "- $: la fin de la chaine\n",
    "- *: 0 ou plusieurs répétitions du motif précédent\n",
    "- +: 1 ou plusieurs répétitions du motif précédent\n",
    "- ?: 0 ou 1 répétition du motif précédent\n",
    "- \\\\: pour que ces caractères soient traités normalement, il faut les préfixer par un \\\\\n",
    "- [A-Za-zÀ-ÿ0-9] : tout caractère alphanumérique [^A-Za-zÀ-ÿ0-9] pas ces caractères\n",
    "- () : capture du motif entre parenthèses"
   ]
  },
  {
   "cell_type": "code",
   "execution_count": 48,
   "metadata": {},
   "outputs": [
    {
     "data": {
      "text/plain": [
       "Code INSEE\n",
       "2A363                   ZOZA\n",
       "43261               VEZEZOUX\n",
       "71174    DEZIZE-LES-MARANGES\n",
       "Name: Commune, dtype: object"
      ]
     },
     "execution_count": 48,
     "metadata": {},
     "output_type": "execute_result"
    }
   ],
   "source": [
    "# les communes comportant 2 Z collés ou non\n",
    "s.loc[s.str.contains(\"Z.Z\")]"
   ]
  },
  {
   "cell_type": "code",
   "execution_count": 49,
   "metadata": {},
   "outputs": [
    {
     "data": {
      "text/plain": [
       "Code INSEE\n",
       "07161      MONTPEZAT-SOUS-BAUZON\n",
       "09105         DAUMAZAN-SUR-ARIZE\n",
       "09167             LEZAT-SUR-LEZE\n",
       "11034           BELVEZE-DU-RAZES\n",
       "11228        MAZEROLLES-DU-RAZES\n",
       "11417         VILLARZEL-DU-RAZES\n",
       "12294          VEZINS-DE-LEVEZOU\n",
       "16378                TAIZE-AIZIE\n",
       "                  ...           \n",
       "69229    SAINT-NIZIER-D'AZERGUES\n",
       "71174        DEZIZE-LES-MARANGES\n",
       "74310            VIUZ-LA-CHIESAZ\n",
       "74311             VIUZ-EN-SALLAZ\n",
       "78337              LIMETZ-VILLEZ\n",
       "88404        ROZIERES-SUR-MOUZON\n",
       "95282                 GOUZANGREZ\n",
       "97608                   DZAOUDZI\n",
       "Name: Commune, Length: 67, dtype: object"
      ]
     },
     "execution_count": 49,
     "metadata": {},
     "output_type": "execute_result"
    }
   ],
   "source": [
    "# les communes comportant 2 Z collés ou non\n",
    "s.loc[s.str.contains(\"Z.*Z\")]"
   ]
  },
  {
   "cell_type": "code",
   "execution_count": 50,
   "metadata": {},
   "outputs": [
    {
     "data": {
      "text/plain": [
       "Code INSEE\n",
       "07161       MONTPEZAT-SOUS-BAUZON\n",
       "09105          DAUMAZAN-SUR-ARIZE\n",
       "09167              LEZAT-SUR-LEZE\n",
       "11034            BELVEZE-DU-RAZES\n",
       "11228         MAZEROLLES-DU-RAZES\n",
       "11417          VILLARZEL-DU-RAZES\n",
       "12294           VEZINS-DE-LEVEZOU\n",
       "16378                 TAIZE-AIZIE\n",
       "29008            BEUZEC-CAP-SIZUN\n",
       "29176             PLONEVEZ-PORZAY\n",
       "2A026              AZILONE-AMPAZA\n",
       "2A362                       ZONZA\n",
       "2A363                        ZOZA\n",
       "31245               JUZET-D'IZAUT\n",
       "34069         CAZOULS-LES-BEZIERS\n",
       "34279    SAINT-NAZAIRE-DE-LADAREZ\n",
       "34280      SAINT-NAZAIRE-DE-PEZAN\n",
       "34310          THEZAN-LES-BEZIERS\n",
       "42193             ROZIER-EN-DONZY\n",
       "43131             MAZERAT-AUROUZE\n",
       "43261                    VEZEZOUX\n",
       "45026        BAZOCHES-SUR-LE-BETZ\n",
       "45204          MEZIERES-LEZ-CLERY\n",
       "45245          OUZOUER-SUR-TREZEE\n",
       "47006          ALLEZ-ET-CAZENEUVE\n",
       "54129           CIREY-SUR-VEZOUZE\n",
       "54161         DOMEVRE-SUR-VEZOUZE\n",
       "55024      AZANNES-ET-SOUMAZANNES\n",
       "55178          ERIZE-SAINT-DIZIER\n",
       "56090           INZINZAC-LOCHRIST\n",
       "57433          MAIZIERES-LES-METZ\n",
       "58116                   FLEZ-CUZY\n",
       "59667                  ZERMEZEELE\n",
       "63435           TOURZEL-RONZIERES\n",
       "64063           ARZACQ-ARRAZIGUET\n",
       "64373              MAZERES-LEZONS\n",
       "65020           ARCIZAC-EZ-ANGLES\n",
       "65203               GEZ-EZ-ANGLES\n",
       "67347       OBERMODERN-ZUTZENDORF\n",
       "69052           CHAZAY-D'AZERGUES\n",
       "69229     SAINT-NIZIER-D'AZERGUES\n",
       "71174         DEZIZE-LES-MARANGES\n",
       "74310             VIUZ-LA-CHIESAZ\n",
       "74311              VIUZ-EN-SALLAZ\n",
       "78337               LIMETZ-VILLEZ\n",
       "88404         ROZIERES-SUR-MOUZON\n",
       "95282                  GOUZANGREZ\n",
       "97608                    DZAOUDZI\n",
       "Name: Commune, dtype: object"
      ]
     },
     "execution_count": 50,
     "metadata": {},
     "output_type": "execute_result"
    }
   ],
   "source": [
    "# les communes comportant 2 Z séparés\n",
    "s.loc[s.str.contains(\"Z.+Z\")]"
   ]
  },
  {
   "cell_type": "code",
   "execution_count": 51,
   "metadata": {},
   "outputs": [
    {
     "data": {
      "text/plain": [
       "Code INSEE\n",
       "06011         BEAULIEU-SUR-MER\n",
       "06027           CAGNES-SUR-MER\n",
       "06138          THEOULE-SUR-MER\n",
       "06159     VILLEFRANCHE-SUR-MER\n",
       "13039              FOS-SUR-MER\n",
       "14059       BENERVILLE-SUR-MER\n",
       "14062             BENY-SUR-MER\n",
       "14066        BERNIERES-SUR-MER\n",
       "                 ...          \n",
       "85035     BRETIGNOLLES-SUR-MER\n",
       "85114             JARD-SUR-MER\n",
       "85127       LONGEVILLE-SUR-MER\n",
       "85166           OLONNE-SUR-MER\n",
       "85201    SAINT-BENOIST-SUR-MER\n",
       "85243             BREM-SUR-MER\n",
       "85294       LA TRANCHE-SUR-MER\n",
       "85307         LA FAUTE-SUR-MER\n",
       "Name: Commune, Length: 100, dtype: object"
      ]
     },
     "execution_count": 51,
     "metadata": {},
     "output_type": "execute_result"
    }
   ],
   "source": [
    "s.loc[s.str.contains(\"-SUR-MER$\")]"
   ]
  },
  {
   "cell_type": "code",
   "execution_count": null,
   "metadata": {},
   "outputs": [],
   "source": [
    "# import re"
   ]
  },
  {
   "cell_type": "markdown",
   "metadata": {},
   "source": [
    "### Sélections dans les DataFrames"
   ]
  },
  {
   "cell_type": "code",
   "execution_count": 52,
   "metadata": {
    "scrolled": false
   },
   "outputs": [
    {
     "data": {
      "text/plain": [
       "Code INSEE\n",
       "01001    L'ABERGEMENT-CLEMENCIAT\n",
       "01002      L'ABERGEMENT-DE-VAREY\n",
       "01004          AMBERIEU-EN-BUGEY\n",
       "01005        AMBERIEUX-EN-DOMBES\n",
       "01006                    AMBLEON\n",
       "01007                   AMBRONAY\n",
       "01008                   AMBUTRIX\n",
       "01009           ANDERT-ET-CONDON\n",
       "                  ...           \n",
       "97610                    KOUNGOU\n",
       "97611                  MAMOUDZOU\n",
       "97612                  MTSAMBORO\n",
       "97613              M'TSANGAMOUJI\n",
       "97614                   OUANGANI\n",
       "97615                   PAMANDZI\n",
       "97616                       SADA\n",
       "97617                   TSINGONI\n",
       "Name: Commune, Length: 36742, dtype: object"
      ]
     },
     "execution_count": 52,
     "metadata": {},
     "output_type": "execute_result"
    }
   ],
   "source": [
    "# sélection d'une colonne\n",
    "geo[\"Commune\"]"
   ]
  },
  {
   "cell_type": "code",
   "execution_count": 53,
   "metadata": {},
   "outputs": [
    {
     "data": {
      "text/plain": [
       "Code INSEE\n",
       "01001    L'ABERGEMENT-CLEMENCIAT\n",
       "01002      L'ABERGEMENT-DE-VAREY\n",
       "01004          AMBERIEU-EN-BUGEY\n",
       "01005        AMBERIEUX-EN-DOMBES\n",
       "01006                    AMBLEON\n",
       "01007                   AMBRONAY\n",
       "01008                   AMBUTRIX\n",
       "01009           ANDERT-ET-CONDON\n",
       "                  ...           \n",
       "97610                    KOUNGOU\n",
       "97611                  MAMOUDZOU\n",
       "97612                  MTSAMBORO\n",
       "97613              M'TSANGAMOUJI\n",
       "97614                   OUANGANI\n",
       "97615                   PAMANDZI\n",
       "97616                       SADA\n",
       "97617                   TSINGONI\n",
       "Name: Commune, Length: 36742, dtype: object"
      ]
     },
     "execution_count": 53,
     "metadata": {},
     "output_type": "execute_result"
    }
   ],
   "source": [
    "geo.Commune"
   ]
  },
  {
   "cell_type": "code",
   "execution_count": 54,
   "metadata": {
    "scrolled": false
   },
   "outputs": [
    {
     "data": {
      "text/html": [
       "<div>\n",
       "<style scoped>\n",
       "    .dataframe tbody tr th:only-of-type {\n",
       "        vertical-align: middle;\n",
       "    }\n",
       "\n",
       "    .dataframe tbody tr th {\n",
       "        vertical-align: top;\n",
       "    }\n",
       "\n",
       "    .dataframe thead th {\n",
       "        text-align: right;\n",
       "    }\n",
       "</style>\n",
       "<table border=\"1\" class=\"dataframe\">\n",
       "  <thead>\n",
       "    <tr style=\"text-align: right;\">\n",
       "      <th></th>\n",
       "      <th>Commune</th>\n",
       "      <th>Superficie</th>\n",
       "      <th>Population</th>\n",
       "    </tr>\n",
       "    <tr>\n",
       "      <th>Code INSEE</th>\n",
       "      <th></th>\n",
       "      <th></th>\n",
       "      <th></th>\n",
       "    </tr>\n",
       "  </thead>\n",
       "  <tbody>\n",
       "    <tr>\n",
       "      <th>01001</th>\n",
       "      <td>L'ABERGEMENT-CLEMENCIAT</td>\n",
       "      <td>1565.0</td>\n",
       "      <td>0.8</td>\n",
       "    </tr>\n",
       "    <tr>\n",
       "      <th>01002</th>\n",
       "      <td>L'ABERGEMENT-DE-VAREY</td>\n",
       "      <td>912.0</td>\n",
       "      <td>0.2</td>\n",
       "    </tr>\n",
       "    <tr>\n",
       "      <th>01004</th>\n",
       "      <td>AMBERIEU-EN-BUGEY</td>\n",
       "      <td>2448.0</td>\n",
       "      <td>13.4</td>\n",
       "    </tr>\n",
       "    <tr>\n",
       "      <th>01005</th>\n",
       "      <td>AMBERIEUX-EN-DOMBES</td>\n",
       "      <td>1605.0</td>\n",
       "      <td>1.6</td>\n",
       "    </tr>\n",
       "    <tr>\n",
       "      <th>01006</th>\n",
       "      <td>AMBLEON</td>\n",
       "      <td>602.0</td>\n",
       "      <td>0.1</td>\n",
       "    </tr>\n",
       "  </tbody>\n",
       "</table>\n",
       "</div>"
      ],
      "text/plain": [
       "                            Commune  Superficie  Population\n",
       "Code INSEE                                                 \n",
       "01001       L'ABERGEMENT-CLEMENCIAT      1565.0         0.8\n",
       "01002         L'ABERGEMENT-DE-VAREY       912.0         0.2\n",
       "01004             AMBERIEU-EN-BUGEY      2448.0        13.4\n",
       "01005           AMBERIEUX-EN-DOMBES      1605.0         1.6\n",
       "01006                       AMBLEON       602.0         0.1"
      ]
     },
     "execution_count": 54,
     "metadata": {},
     "output_type": "execute_result"
    }
   ],
   "source": [
    "# communes + superficie et population\n",
    "geo[[\"Commune\", \"Superficie\", \"Population\"]].head()"
   ]
  },
  {
   "cell_type": "code",
   "execution_count": 55,
   "metadata": {
    "scrolled": false
   },
   "outputs": [
    {
     "data": {
      "text/plain": [
       "Code Postal                                                     01400\n",
       "Commune                                       L'ABERGEMENT-CLEMENCIAT\n",
       "Département                                                       AIN\n",
       "Région                                                    RHONE-ALPES\n",
       "Statut                                                 Commune simple\n",
       "Altitude Moyenne                                                242.0\n",
       "Superficie                                                     1565.0\n",
       "Population                                                        0.8\n",
       "geo_point_2d                             46.1534255214, 4.92611354223\n",
       "geo_shape           {\"type\": \"Polygon\", \"coordinates\": [[[4.926273...\n",
       "Name: 01001, dtype: object"
      ]
     },
     "execution_count": 55,
     "metadata": {},
     "output_type": "execute_result"
    }
   ],
   "source": [
    "# sélection d'une ligne\n",
    "s = geo.loc[\"01001\"]\n",
    "s"
   ]
  },
  {
   "cell_type": "code",
   "execution_count": 56,
   "metadata": {},
   "outputs": [
    {
     "data": {
      "text/plain": [
       "pandas.core.series.Series"
      ]
     },
     "execution_count": 56,
     "metadata": {},
     "output_type": "execute_result"
    }
   ],
   "source": [
    "type(s)"
   ]
  },
  {
   "cell_type": "code",
   "execution_count": 59,
   "metadata": {},
   "outputs": [
    {
     "data": {
      "text/plain": [
       "True"
      ]
     },
     "execution_count": 59,
     "metadata": {},
     "output_type": "execute_result"
    }
   ],
   "source": [
    "s.index is geo.columns"
   ]
  },
  {
   "cell_type": "code",
   "execution_count": 60,
   "metadata": {
    "scrolled": false
   },
   "outputs": [
    {
     "data": {
      "text/plain": [
       "Code Postal                                                     01400\n",
       "Commune                                       L'ABERGEMENT-CLEMENCIAT\n",
       "Département                                                       AIN\n",
       "Région                                                    RHONE-ALPES\n",
       "Statut                                                 Commune simple\n",
       "Altitude Moyenne                                                242.0\n",
       "Superficie                                                     1565.0\n",
       "Population                                                        0.8\n",
       "geo_point_2d                             46.1534255214, 4.92611354223\n",
       "geo_shape           {\"type\": \"Polygon\", \"coordinates\": [[[4.926273...\n",
       "Name: 01001, dtype: object"
      ]
     },
     "execution_count": 60,
     "metadata": {},
     "output_type": "execute_result"
    }
   ],
   "source": [
    "# sélection d'une ligne\n",
    "geo.iloc[0]"
   ]
  },
  {
   "cell_type": "code",
   "execution_count": 61,
   "metadata": {
    "scrolled": false
   },
   "outputs": [
    {
     "data": {
      "text/html": [
       "<div>\n",
       "<style scoped>\n",
       "    .dataframe tbody tr th:only-of-type {\n",
       "        vertical-align: middle;\n",
       "    }\n",
       "\n",
       "    .dataframe tbody tr th {\n",
       "        vertical-align: top;\n",
       "    }\n",
       "\n",
       "    .dataframe thead th {\n",
       "        text-align: right;\n",
       "    }\n",
       "</style>\n",
       "<table border=\"1\" class=\"dataframe\">\n",
       "  <thead>\n",
       "    <tr style=\"text-align: right;\">\n",
       "      <th></th>\n",
       "      <th>Code Postal</th>\n",
       "      <th>Commune</th>\n",
       "      <th>Département</th>\n",
       "      <th>Région</th>\n",
       "      <th>Statut</th>\n",
       "      <th>Altitude Moyenne</th>\n",
       "      <th>Superficie</th>\n",
       "      <th>Population</th>\n",
       "      <th>geo_point_2d</th>\n",
       "      <th>geo_shape</th>\n",
       "    </tr>\n",
       "    <tr>\n",
       "      <th>Code INSEE</th>\n",
       "      <th></th>\n",
       "      <th></th>\n",
       "      <th></th>\n",
       "      <th></th>\n",
       "      <th></th>\n",
       "      <th></th>\n",
       "      <th></th>\n",
       "      <th></th>\n",
       "      <th></th>\n",
       "      <th></th>\n",
       "    </tr>\n",
       "  </thead>\n",
       "  <tbody>\n",
       "    <tr>\n",
       "      <th>01001</th>\n",
       "      <td>01400</td>\n",
       "      <td>L'ABERGEMENT-CLEMENCIAT</td>\n",
       "      <td>AIN</td>\n",
       "      <td>RHONE-ALPES</td>\n",
       "      <td>Commune simple</td>\n",
       "      <td>242.0</td>\n",
       "      <td>1565.0</td>\n",
       "      <td>0.8</td>\n",
       "      <td>46.1534255214, 4.92611354223</td>\n",
       "      <td>{\"type\": \"Polygon\", \"coordinates\": [[[4.926273...</td>\n",
       "    </tr>\n",
       "    <tr>\n",
       "      <th>01002</th>\n",
       "      <td>01640</td>\n",
       "      <td>L'ABERGEMENT-DE-VAREY</td>\n",
       "      <td>AIN</td>\n",
       "      <td>RHONE-ALPES</td>\n",
       "      <td>Commune simple</td>\n",
       "      <td>483.0</td>\n",
       "      <td>912.0</td>\n",
       "      <td>0.2</td>\n",
       "      <td>46.0091878776, 5.42801696363</td>\n",
       "      <td>{\"type\": \"Polygon\", \"coordinates\": [[[5.430089...</td>\n",
       "    </tr>\n",
       "    <tr>\n",
       "      <th>01004</th>\n",
       "      <td>01500</td>\n",
       "      <td>AMBERIEU-EN-BUGEY</td>\n",
       "      <td>AIN</td>\n",
       "      <td>RHONE-ALPES</td>\n",
       "      <td>Chef-lieu canton</td>\n",
       "      <td>379.0</td>\n",
       "      <td>2448.0</td>\n",
       "      <td>13.4</td>\n",
       "      <td>45.9608475114, 5.3729257777</td>\n",
       "      <td>{\"type\": \"Polygon\", \"coordinates\": [[[5.386190...</td>\n",
       "    </tr>\n",
       "    <tr>\n",
       "      <th>01005</th>\n",
       "      <td>01330</td>\n",
       "      <td>AMBERIEUX-EN-DOMBES</td>\n",
       "      <td>AIN</td>\n",
       "      <td>RHONE-ALPES</td>\n",
       "      <td>Commune simple</td>\n",
       "      <td>290.0</td>\n",
       "      <td>1605.0</td>\n",
       "      <td>1.6</td>\n",
       "      <td>45.9961799872, 4.91227250796</td>\n",
       "      <td>{\"type\": \"Polygon\", \"coordinates\": [[[4.895580...</td>\n",
       "    </tr>\n",
       "    <tr>\n",
       "      <th>01006</th>\n",
       "      <td>01300</td>\n",
       "      <td>AMBLEON</td>\n",
       "      <td>AIN</td>\n",
       "      <td>RHONE-ALPES</td>\n",
       "      <td>Commune simple</td>\n",
       "      <td>589.0</td>\n",
       "      <td>602.0</td>\n",
       "      <td>0.1</td>\n",
       "      <td>45.7494989044, 5.59432017366</td>\n",
       "      <td>{\"type\": \"Polygon\", \"coordinates\": [[[5.614854...</td>\n",
       "    </tr>\n",
       "  </tbody>\n",
       "</table>\n",
       "</div>"
      ],
      "text/plain": [
       "           Code Postal                  Commune Département       Région  \\\n",
       "Code INSEE                                                                 \n",
       "01001            01400  L'ABERGEMENT-CLEMENCIAT         AIN  RHONE-ALPES   \n",
       "01002            01640    L'ABERGEMENT-DE-VAREY         AIN  RHONE-ALPES   \n",
       "01004            01500        AMBERIEU-EN-BUGEY         AIN  RHONE-ALPES   \n",
       "01005            01330      AMBERIEUX-EN-DOMBES         AIN  RHONE-ALPES   \n",
       "01006            01300                  AMBLEON         AIN  RHONE-ALPES   \n",
       "\n",
       "                      Statut  Altitude Moyenne  Superficie  Population  \\\n",
       "Code INSEE                                                               \n",
       "01001         Commune simple             242.0      1565.0         0.8   \n",
       "01002         Commune simple             483.0       912.0         0.2   \n",
       "01004       Chef-lieu canton             379.0      2448.0        13.4   \n",
       "01005         Commune simple             290.0      1605.0         1.6   \n",
       "01006         Commune simple             589.0       602.0         0.1   \n",
       "\n",
       "                            geo_point_2d  \\\n",
       "Code INSEE                                 \n",
       "01001       46.1534255214, 4.92611354223   \n",
       "01002       46.0091878776, 5.42801696363   \n",
       "01004        45.9608475114, 5.3729257777   \n",
       "01005       45.9961799872, 4.91227250796   \n",
       "01006       45.7494989044, 5.59432017366   \n",
       "\n",
       "                                                    geo_shape  \n",
       "Code INSEE                                                     \n",
       "01001       {\"type\": \"Polygon\", \"coordinates\": [[[4.926273...  \n",
       "01002       {\"type\": \"Polygon\", \"coordinates\": [[[5.430089...  \n",
       "01004       {\"type\": \"Polygon\", \"coordinates\": [[[5.386190...  \n",
       "01005       {\"type\": \"Polygon\", \"coordinates\": [[[4.895580...  \n",
       "01006       {\"type\": \"Polygon\", \"coordinates\": [[[5.614854...  "
      ]
     },
     "execution_count": 61,
     "metadata": {},
     "output_type": "execute_result"
    }
   ],
   "source": [
    "# sélection de plusieurs lignes\n",
    "geo.loc[\"01001\":\"01006\"]"
   ]
  },
  {
   "cell_type": "code",
   "execution_count": 62,
   "metadata": {
    "scrolled": false
   },
   "outputs": [
    {
     "data": {
      "text/html": [
       "<div>\n",
       "<style scoped>\n",
       "    .dataframe tbody tr th:only-of-type {\n",
       "        vertical-align: middle;\n",
       "    }\n",
       "\n",
       "    .dataframe tbody tr th {\n",
       "        vertical-align: top;\n",
       "    }\n",
       "\n",
       "    .dataframe thead th {\n",
       "        text-align: right;\n",
       "    }\n",
       "</style>\n",
       "<table border=\"1\" class=\"dataframe\">\n",
       "  <thead>\n",
       "    <tr style=\"text-align: right;\">\n",
       "      <th></th>\n",
       "      <th>Code Postal</th>\n",
       "      <th>Commune</th>\n",
       "      <th>Département</th>\n",
       "      <th>Région</th>\n",
       "      <th>Statut</th>\n",
       "      <th>Altitude Moyenne</th>\n",
       "      <th>Superficie</th>\n",
       "      <th>Population</th>\n",
       "      <th>geo_point_2d</th>\n",
       "      <th>geo_shape</th>\n",
       "    </tr>\n",
       "    <tr>\n",
       "      <th>Code INSEE</th>\n",
       "      <th></th>\n",
       "      <th></th>\n",
       "      <th></th>\n",
       "      <th></th>\n",
       "      <th></th>\n",
       "      <th></th>\n",
       "      <th></th>\n",
       "      <th></th>\n",
       "      <th></th>\n",
       "      <th></th>\n",
       "    </tr>\n",
       "  </thead>\n",
       "  <tbody>\n",
       "    <tr>\n",
       "      <th>01001</th>\n",
       "      <td>01400</td>\n",
       "      <td>L'ABERGEMENT-CLEMENCIAT</td>\n",
       "      <td>AIN</td>\n",
       "      <td>RHONE-ALPES</td>\n",
       "      <td>Commune simple</td>\n",
       "      <td>242.0</td>\n",
       "      <td>1565.0</td>\n",
       "      <td>0.8</td>\n",
       "      <td>46.1534255214, 4.92611354223</td>\n",
       "      <td>{\"type\": \"Polygon\", \"coordinates\": [[[4.926273...</td>\n",
       "    </tr>\n",
       "    <tr>\n",
       "      <th>01002</th>\n",
       "      <td>01640</td>\n",
       "      <td>L'ABERGEMENT-DE-VAREY</td>\n",
       "      <td>AIN</td>\n",
       "      <td>RHONE-ALPES</td>\n",
       "      <td>Commune simple</td>\n",
       "      <td>483.0</td>\n",
       "      <td>912.0</td>\n",
       "      <td>0.2</td>\n",
       "      <td>46.0091878776, 5.42801696363</td>\n",
       "      <td>{\"type\": \"Polygon\", \"coordinates\": [[[5.430089...</td>\n",
       "    </tr>\n",
       "    <tr>\n",
       "      <th>01004</th>\n",
       "      <td>01500</td>\n",
       "      <td>AMBERIEU-EN-BUGEY</td>\n",
       "      <td>AIN</td>\n",
       "      <td>RHONE-ALPES</td>\n",
       "      <td>Chef-lieu canton</td>\n",
       "      <td>379.0</td>\n",
       "      <td>2448.0</td>\n",
       "      <td>13.4</td>\n",
       "      <td>45.9608475114, 5.3729257777</td>\n",
       "      <td>{\"type\": \"Polygon\", \"coordinates\": [[[5.386190...</td>\n",
       "    </tr>\n",
       "    <tr>\n",
       "      <th>01005</th>\n",
       "      <td>01330</td>\n",
       "      <td>AMBERIEUX-EN-DOMBES</td>\n",
       "      <td>AIN</td>\n",
       "      <td>RHONE-ALPES</td>\n",
       "      <td>Commune simple</td>\n",
       "      <td>290.0</td>\n",
       "      <td>1605.0</td>\n",
       "      <td>1.6</td>\n",
       "      <td>45.9961799872, 4.91227250796</td>\n",
       "      <td>{\"type\": \"Polygon\", \"coordinates\": [[[4.895580...</td>\n",
       "    </tr>\n",
       "    <tr>\n",
       "      <th>01006</th>\n",
       "      <td>01300</td>\n",
       "      <td>AMBLEON</td>\n",
       "      <td>AIN</td>\n",
       "      <td>RHONE-ALPES</td>\n",
       "      <td>Commune simple</td>\n",
       "      <td>589.0</td>\n",
       "      <td>602.0</td>\n",
       "      <td>0.1</td>\n",
       "      <td>45.7494989044, 5.59432017366</td>\n",
       "      <td>{\"type\": \"Polygon\", \"coordinates\": [[[5.614854...</td>\n",
       "    </tr>\n",
       "  </tbody>\n",
       "</table>\n",
       "</div>"
      ],
      "text/plain": [
       "           Code Postal                  Commune Département       Région  \\\n",
       "Code INSEE                                                                 \n",
       "01001            01400  L'ABERGEMENT-CLEMENCIAT         AIN  RHONE-ALPES   \n",
       "01002            01640    L'ABERGEMENT-DE-VAREY         AIN  RHONE-ALPES   \n",
       "01004            01500        AMBERIEU-EN-BUGEY         AIN  RHONE-ALPES   \n",
       "01005            01330      AMBERIEUX-EN-DOMBES         AIN  RHONE-ALPES   \n",
       "01006            01300                  AMBLEON         AIN  RHONE-ALPES   \n",
       "\n",
       "                      Statut  Altitude Moyenne  Superficie  Population  \\\n",
       "Code INSEE                                                               \n",
       "01001         Commune simple             242.0      1565.0         0.8   \n",
       "01002         Commune simple             483.0       912.0         0.2   \n",
       "01004       Chef-lieu canton             379.0      2448.0        13.4   \n",
       "01005         Commune simple             290.0      1605.0         1.6   \n",
       "01006         Commune simple             589.0       602.0         0.1   \n",
       "\n",
       "                            geo_point_2d  \\\n",
       "Code INSEE                                 \n",
       "01001       46.1534255214, 4.92611354223   \n",
       "01002       46.0091878776, 5.42801696363   \n",
       "01004        45.9608475114, 5.3729257777   \n",
       "01005       45.9961799872, 4.91227250796   \n",
       "01006       45.7494989044, 5.59432017366   \n",
       "\n",
       "                                                    geo_shape  \n",
       "Code INSEE                                                     \n",
       "01001       {\"type\": \"Polygon\", \"coordinates\": [[[4.926273...  \n",
       "01002       {\"type\": \"Polygon\", \"coordinates\": [[[5.430089...  \n",
       "01004       {\"type\": \"Polygon\", \"coordinates\": [[[5.386190...  \n",
       "01005       {\"type\": \"Polygon\", \"coordinates\": [[[4.895580...  \n",
       "01006       {\"type\": \"Polygon\", \"coordinates\": [[[5.614854...  "
      ]
     },
     "execution_count": 62,
     "metadata": {},
     "output_type": "execute_result"
    }
   ],
   "source": [
    "# sélection de plusieurs lignes\n",
    "geo.iloc[0:5]"
   ]
  },
  {
   "cell_type": "code",
   "execution_count": 63,
   "metadata": {
    "scrolled": false
   },
   "outputs": [
    {
     "data": {
      "text/html": [
       "<div>\n",
       "<style scoped>\n",
       "    .dataframe tbody tr th:only-of-type {\n",
       "        vertical-align: middle;\n",
       "    }\n",
       "\n",
       "    .dataframe tbody tr th {\n",
       "        vertical-align: top;\n",
       "    }\n",
       "\n",
       "    .dataframe thead th {\n",
       "        text-align: right;\n",
       "    }\n",
       "</style>\n",
       "<table border=\"1\" class=\"dataframe\">\n",
       "  <thead>\n",
       "    <tr style=\"text-align: right;\">\n",
       "      <th></th>\n",
       "      <th>Commune</th>\n",
       "      <th>Département</th>\n",
       "      <th>Région</th>\n",
       "      <th>Statut</th>\n",
       "    </tr>\n",
       "    <tr>\n",
       "      <th>Code INSEE</th>\n",
       "      <th></th>\n",
       "      <th></th>\n",
       "      <th></th>\n",
       "      <th></th>\n",
       "    </tr>\n",
       "  </thead>\n",
       "  <tbody>\n",
       "    <tr>\n",
       "      <th>01001</th>\n",
       "      <td>L'ABERGEMENT-CLEMENCIAT</td>\n",
       "      <td>AIN</td>\n",
       "      <td>RHONE-ALPES</td>\n",
       "      <td>Commune simple</td>\n",
       "    </tr>\n",
       "    <tr>\n",
       "      <th>01002</th>\n",
       "      <td>L'ABERGEMENT-DE-VAREY</td>\n",
       "      <td>AIN</td>\n",
       "      <td>RHONE-ALPES</td>\n",
       "      <td>Commune simple</td>\n",
       "    </tr>\n",
       "    <tr>\n",
       "      <th>01004</th>\n",
       "      <td>AMBERIEU-EN-BUGEY</td>\n",
       "      <td>AIN</td>\n",
       "      <td>RHONE-ALPES</td>\n",
       "      <td>Chef-lieu canton</td>\n",
       "    </tr>\n",
       "    <tr>\n",
       "      <th>01005</th>\n",
       "      <td>AMBERIEUX-EN-DOMBES</td>\n",
       "      <td>AIN</td>\n",
       "      <td>RHONE-ALPES</td>\n",
       "      <td>Commune simple</td>\n",
       "    </tr>\n",
       "    <tr>\n",
       "      <th>01006</th>\n",
       "      <td>AMBLEON</td>\n",
       "      <td>AIN</td>\n",
       "      <td>RHONE-ALPES</td>\n",
       "      <td>Commune simple</td>\n",
       "    </tr>\n",
       "  </tbody>\n",
       "</table>\n",
       "</div>"
      ],
      "text/plain": [
       "                            Commune Département       Région            Statut\n",
       "Code INSEE                                                                    \n",
       "01001       L'ABERGEMENT-CLEMENCIAT         AIN  RHONE-ALPES    Commune simple\n",
       "01002         L'ABERGEMENT-DE-VAREY         AIN  RHONE-ALPES    Commune simple\n",
       "01004             AMBERIEU-EN-BUGEY         AIN  RHONE-ALPES  Chef-lieu canton\n",
       "01005           AMBERIEUX-EN-DOMBES         AIN  RHONE-ALPES    Commune simple\n",
       "01006                       AMBLEON         AIN  RHONE-ALPES    Commune simple"
      ]
     },
     "execution_count": 63,
     "metadata": {},
     "output_type": "execute_result"
    }
   ],
   "source": [
    "# sélection de plusieurs lignes et de plusieurs colonnes\n",
    "geo.loc[\"01001\":\"01006\", \"Commune\":\"Statut\"]"
   ]
  },
  {
   "cell_type": "code",
   "execution_count": 64,
   "metadata": {
    "scrolled": false
   },
   "outputs": [
    {
     "data": {
      "text/html": [
       "<div>\n",
       "<style scoped>\n",
       "    .dataframe tbody tr th:only-of-type {\n",
       "        vertical-align: middle;\n",
       "    }\n",
       "\n",
       "    .dataframe tbody tr th {\n",
       "        vertical-align: top;\n",
       "    }\n",
       "\n",
       "    .dataframe thead th {\n",
       "        text-align: right;\n",
       "    }\n",
       "</style>\n",
       "<table border=\"1\" class=\"dataframe\">\n",
       "  <thead>\n",
       "    <tr style=\"text-align: right;\">\n",
       "      <th></th>\n",
       "      <th>Commune</th>\n",
       "      <th>Département</th>\n",
       "      <th>Région</th>\n",
       "      <th>Statut</th>\n",
       "    </tr>\n",
       "    <tr>\n",
       "      <th>Code INSEE</th>\n",
       "      <th></th>\n",
       "      <th></th>\n",
       "      <th></th>\n",
       "      <th></th>\n",
       "    </tr>\n",
       "  </thead>\n",
       "  <tbody>\n",
       "    <tr>\n",
       "      <th>01001</th>\n",
       "      <td>L'ABERGEMENT-CLEMENCIAT</td>\n",
       "      <td>AIN</td>\n",
       "      <td>RHONE-ALPES</td>\n",
       "      <td>Commune simple</td>\n",
       "    </tr>\n",
       "    <tr>\n",
       "      <th>01002</th>\n",
       "      <td>L'ABERGEMENT-DE-VAREY</td>\n",
       "      <td>AIN</td>\n",
       "      <td>RHONE-ALPES</td>\n",
       "      <td>Commune simple</td>\n",
       "    </tr>\n",
       "    <tr>\n",
       "      <th>01004</th>\n",
       "      <td>AMBERIEU-EN-BUGEY</td>\n",
       "      <td>AIN</td>\n",
       "      <td>RHONE-ALPES</td>\n",
       "      <td>Chef-lieu canton</td>\n",
       "    </tr>\n",
       "    <tr>\n",
       "      <th>01005</th>\n",
       "      <td>AMBERIEUX-EN-DOMBES</td>\n",
       "      <td>AIN</td>\n",
       "      <td>RHONE-ALPES</td>\n",
       "      <td>Commune simple</td>\n",
       "    </tr>\n",
       "    <tr>\n",
       "      <th>01006</th>\n",
       "      <td>AMBLEON</td>\n",
       "      <td>AIN</td>\n",
       "      <td>RHONE-ALPES</td>\n",
       "      <td>Commune simple</td>\n",
       "    </tr>\n",
       "  </tbody>\n",
       "</table>\n",
       "</div>"
      ],
      "text/plain": [
       "                            Commune Département       Région            Statut\n",
       "Code INSEE                                                                    \n",
       "01001       L'ABERGEMENT-CLEMENCIAT         AIN  RHONE-ALPES    Commune simple\n",
       "01002         L'ABERGEMENT-DE-VAREY         AIN  RHONE-ALPES    Commune simple\n",
       "01004             AMBERIEU-EN-BUGEY         AIN  RHONE-ALPES  Chef-lieu canton\n",
       "01005           AMBERIEUX-EN-DOMBES         AIN  RHONE-ALPES    Commune simple\n",
       "01006                       AMBLEON         AIN  RHONE-ALPES    Commune simple"
      ]
     },
     "execution_count": 64,
     "metadata": {},
     "output_type": "execute_result"
    }
   ],
   "source": [
    "# sélection de plusieurs lignes et de plusieurs colonnes\n",
    "geo.iloc[0:5, 1:5]"
   ]
  },
  {
   "cell_type": "code",
   "execution_count": 65,
   "metadata": {
    "scrolled": false
   },
   "outputs": [
    {
     "data": {
      "text/html": [
       "<div>\n",
       "<style scoped>\n",
       "    .dataframe tbody tr th:only-of-type {\n",
       "        vertical-align: middle;\n",
       "    }\n",
       "\n",
       "    .dataframe tbody tr th {\n",
       "        vertical-align: top;\n",
       "    }\n",
       "\n",
       "    .dataframe thead th {\n",
       "        text-align: right;\n",
       "    }\n",
       "</style>\n",
       "<table border=\"1\" class=\"dataframe\">\n",
       "  <thead>\n",
       "    <tr style=\"text-align: right;\">\n",
       "      <th></th>\n",
       "      <th>Code Postal</th>\n",
       "      <th>Commune</th>\n",
       "      <th>Département</th>\n",
       "      <th>Région</th>\n",
       "      <th>Statut</th>\n",
       "      <th>Altitude Moyenne</th>\n",
       "      <th>Superficie</th>\n",
       "      <th>Population</th>\n",
       "      <th>geo_point_2d</th>\n",
       "      <th>geo_shape</th>\n",
       "    </tr>\n",
       "    <tr>\n",
       "      <th>Code INSEE</th>\n",
       "      <th></th>\n",
       "      <th></th>\n",
       "      <th></th>\n",
       "      <th></th>\n",
       "      <th></th>\n",
       "      <th></th>\n",
       "      <th></th>\n",
       "      <th></th>\n",
       "      <th></th>\n",
       "      <th></th>\n",
       "    </tr>\n",
       "  </thead>\n",
       "  <tbody>\n",
       "    <tr>\n",
       "      <th>91027</th>\n",
       "      <td>91200</td>\n",
       "      <td>ATHIS-MONS</td>\n",
       "      <td>ESSONNE</td>\n",
       "      <td>ILE-DE-FRANCE</td>\n",
       "      <td>Chef-lieu canton</td>\n",
       "      <td>69.0</td>\n",
       "      <td>861.0</td>\n",
       "      <td>30.6</td>\n",
       "      <td>48.7092445775, 2.38660492325</td>\n",
       "      <td>{\"type\": \"Polygon\", \"coordinates\": [[[2.389918...</td>\n",
       "    </tr>\n",
       "    <tr>\n",
       "      <th>91174</th>\n",
       "      <td>91100</td>\n",
       "      <td>CORBEIL-ESSONNES</td>\n",
       "      <td>ESSONNE</td>\n",
       "      <td>ILE-DE-FRANCE</td>\n",
       "      <td>Chef-lieu canton</td>\n",
       "      <td>55.0</td>\n",
       "      <td>1104.0</td>\n",
       "      <td>42.5</td>\n",
       "      <td>48.6034809251, 2.46934079002</td>\n",
       "      <td>{\"type\": \"Polygon\", \"coordinates\": [[[2.481253...</td>\n",
       "    </tr>\n",
       "    <tr>\n",
       "      <th>91228</th>\n",
       "      <td>91000</td>\n",
       "      <td>EVRY</td>\n",
       "      <td>ESSONNE</td>\n",
       "      <td>ILE-DE-FRANCE</td>\n",
       "      <td>Préfecture</td>\n",
       "      <td>71.0</td>\n",
       "      <td>855.0</td>\n",
       "      <td>52.4</td>\n",
       "      <td>48.6294831659, 2.44008244492</td>\n",
       "      <td>{\"type\": \"Polygon\", \"coordinates\": [[[2.436981...</td>\n",
       "    </tr>\n",
       "    <tr>\n",
       "      <th>91377</th>\n",
       "      <td>91300</td>\n",
       "      <td>MASSY</td>\n",
       "      <td>ESSONNE</td>\n",
       "      <td>ILE-DE-FRANCE</td>\n",
       "      <td>Chef-lieu canton</td>\n",
       "      <td>81.0</td>\n",
       "      <td>940.0</td>\n",
       "      <td>40.5</td>\n",
       "      <td>48.7277896426, 2.27513131903</td>\n",
       "      <td>{\"type\": \"Polygon\", \"coordinates\": [[[2.293929...</td>\n",
       "    </tr>\n",
       "    <tr>\n",
       "      <th>91477</th>\n",
       "      <td>91120</td>\n",
       "      <td>PALAISEAU</td>\n",
       "      <td>ESSONNE</td>\n",
       "      <td>ILE-DE-FRANCE</td>\n",
       "      <td>Sous-préfecture</td>\n",
       "      <td>118.0</td>\n",
       "      <td>1168.0</td>\n",
       "      <td>30.3</td>\n",
       "      <td>48.7146765876, 2.22881488083</td>\n",
       "      <td>{\"type\": \"Polygon\", \"coordinates\": [[[2.259350...</td>\n",
       "    </tr>\n",
       "    <tr>\n",
       "      <th>91549</th>\n",
       "      <td>91700</td>\n",
       "      <td>SAINTE-GENEVIEVE-DES-BOIS</td>\n",
       "      <td>ESSONNE</td>\n",
       "      <td>ILE-DE-FRANCE</td>\n",
       "      <td>Chef-lieu canton</td>\n",
       "      <td>74.0</td>\n",
       "      <td>936.0</td>\n",
       "      <td>34.1</td>\n",
       "      <td>48.6412523804, 2.33019417891</td>\n",
       "      <td>{\"type\": \"Polygon\", \"coordinates\": [[[2.349942...</td>\n",
       "    </tr>\n",
       "    <tr>\n",
       "      <th>91589</th>\n",
       "      <td>91600</td>\n",
       "      <td>SAVIGNY-SUR-ORGE</td>\n",
       "      <td>ESSONNE</td>\n",
       "      <td>ILE-DE-FRANCE</td>\n",
       "      <td>Chef-lieu canton</td>\n",
       "      <td>74.0</td>\n",
       "      <td>700.0</td>\n",
       "      <td>37.1</td>\n",
       "      <td>48.684228392, 2.34873862215</td>\n",
       "      <td>{\"type\": \"Polygon\", \"coordinates\": [[[2.338125...</td>\n",
       "    </tr>\n",
       "    <tr>\n",
       "      <th>91687</th>\n",
       "      <td>91170</td>\n",
       "      <td>VIRY-CHATILLON</td>\n",
       "      <td>ESSONNE</td>\n",
       "      <td>ILE-DE-FRANCE</td>\n",
       "      <td>Chef-lieu canton</td>\n",
       "      <td>54.0</td>\n",
       "      <td>615.0</td>\n",
       "      <td>31.6</td>\n",
       "      <td>48.6696168935, 2.37374357641</td>\n",
       "      <td>{\"type\": \"Polygon\", \"coordinates\": [[[2.365772...</td>\n",
       "    </tr>\n",
       "  </tbody>\n",
       "</table>\n",
       "</div>"
      ],
      "text/plain": [
       "           Code Postal                    Commune Département         Région  \\\n",
       "Code INSEE                                                                     \n",
       "91027            91200                 ATHIS-MONS     ESSONNE  ILE-DE-FRANCE   \n",
       "91174            91100           CORBEIL-ESSONNES     ESSONNE  ILE-DE-FRANCE   \n",
       "91228            91000                       EVRY     ESSONNE  ILE-DE-FRANCE   \n",
       "91377            91300                      MASSY     ESSONNE  ILE-DE-FRANCE   \n",
       "91477            91120                  PALAISEAU     ESSONNE  ILE-DE-FRANCE   \n",
       "91549            91700  SAINTE-GENEVIEVE-DES-BOIS     ESSONNE  ILE-DE-FRANCE   \n",
       "91589            91600           SAVIGNY-SUR-ORGE     ESSONNE  ILE-DE-FRANCE   \n",
       "91687            91170             VIRY-CHATILLON     ESSONNE  ILE-DE-FRANCE   \n",
       "\n",
       "                      Statut  Altitude Moyenne  Superficie  Population  \\\n",
       "Code INSEE                                                               \n",
       "91027       Chef-lieu canton              69.0       861.0        30.6   \n",
       "91174       Chef-lieu canton              55.0      1104.0        42.5   \n",
       "91228             Préfecture              71.0       855.0        52.4   \n",
       "91377       Chef-lieu canton              81.0       940.0        40.5   \n",
       "91477        Sous-préfecture             118.0      1168.0        30.3   \n",
       "91549       Chef-lieu canton              74.0       936.0        34.1   \n",
       "91589       Chef-lieu canton              74.0       700.0        37.1   \n",
       "91687       Chef-lieu canton              54.0       615.0        31.6   \n",
       "\n",
       "                            geo_point_2d  \\\n",
       "Code INSEE                                 \n",
       "91027       48.7092445775, 2.38660492325   \n",
       "91174       48.6034809251, 2.46934079002   \n",
       "91228       48.6294831659, 2.44008244492   \n",
       "91377       48.7277896426, 2.27513131903   \n",
       "91477       48.7146765876, 2.22881488083   \n",
       "91549       48.6412523804, 2.33019417891   \n",
       "91589        48.684228392, 2.34873862215   \n",
       "91687       48.6696168935, 2.37374357641   \n",
       "\n",
       "                                                    geo_shape  \n",
       "Code INSEE                                                     \n",
       "91027       {\"type\": \"Polygon\", \"coordinates\": [[[2.389918...  \n",
       "91174       {\"type\": \"Polygon\", \"coordinates\": [[[2.481253...  \n",
       "91228       {\"type\": \"Polygon\", \"coordinates\": [[[2.436981...  \n",
       "91377       {\"type\": \"Polygon\", \"coordinates\": [[[2.293929...  \n",
       "91477       {\"type\": \"Polygon\", \"coordinates\": [[[2.259350...  \n",
       "91549       {\"type\": \"Polygon\", \"coordinates\": [[[2.349942...  \n",
       "91589       {\"type\": \"Polygon\", \"coordinates\": [[[2.338125...  \n",
       "91687       {\"type\": \"Polygon\", \"coordinates\": [[[2.365772...  "
      ]
     },
     "execution_count": 65,
     "metadata": {},
     "output_type": "execute_result"
    }
   ],
   "source": [
    "# les communes de l'Essonne avec une population supérieure à 30000\n",
    "geo.loc[(geo[\"Département\"] == \"ESSONNE\") & (geo[\"Population\"] > 30.0)]"
   ]
  },
  {
   "cell_type": "markdown",
   "metadata": {},
   "source": [
    "**Exercice 5**\n",
    "\n",
    "- Affichez l'altitude moyenne, la superficie et la population de toutes les communes dénommées Sainte-Colombe.\n",
    "- Combien y a-t-il de départements dans lesquels au moins une commune a plus de 200.000 habitants ?\n",
    "- Donner la liste de ces départements.\n",
    "- Combien y a-t-il de communes dont le nom comporte 2 lettres?\n",
    "- Donnez la liste de ces communes dans l'ordre alphabétique.\n",
    "- Sélectionnez les communes pour lesquelles l'altitude moyenne vaut la superficie.\n",
    "- Quelle est la population totale de ces communes ?\n",
    "- Y a-t-il des communes au niveau de la mer ?"
   ]
  },
  {
   "cell_type": "code",
   "execution_count": null,
   "metadata": {},
   "outputs": [],
   "source": [
    "# dataframe.loc[row_indexer, column_indexer]"
   ]
  },
  {
   "cell_type": "code",
   "execution_count": 66,
   "metadata": {},
   "outputs": [
    {
     "data": {
      "text/html": [
       "<div>\n",
       "<style scoped>\n",
       "    .dataframe tbody tr th:only-of-type {\n",
       "        vertical-align: middle;\n",
       "    }\n",
       "\n",
       "    .dataframe tbody tr th {\n",
       "        vertical-align: top;\n",
       "    }\n",
       "\n",
       "    .dataframe thead th {\n",
       "        text-align: right;\n",
       "    }\n",
       "</style>\n",
       "<table border=\"1\" class=\"dataframe\">\n",
       "  <thead>\n",
       "    <tr style=\"text-align: right;\">\n",
       "      <th></th>\n",
       "      <th>Altitude Moyenne</th>\n",
       "      <th>Superficie</th>\n",
       "      <th>Population</th>\n",
       "    </tr>\n",
       "    <tr>\n",
       "      <th>Code INSEE</th>\n",
       "      <th></th>\n",
       "      <th></th>\n",
       "      <th></th>\n",
       "    </tr>\n",
       "  </thead>\n",
       "  <tbody>\n",
       "    <tr>\n",
       "      <th>05135</th>\n",
       "      <td>965.0</td>\n",
       "      <td>1726.0</td>\n",
       "      <td>0.1</td>\n",
       "    </tr>\n",
       "    <tr>\n",
       "      <th>16309</th>\n",
       "      <td>102.0</td>\n",
       "      <td>654.0</td>\n",
       "      <td>0.2</td>\n",
       "    </tr>\n",
       "    <tr>\n",
       "      <th>17319</th>\n",
       "      <td>111.0</td>\n",
       "      <td>440.0</td>\n",
       "      <td>0.1</td>\n",
       "    </tr>\n",
       "    <tr>\n",
       "      <th>21544</th>\n",
       "      <td>441.0</td>\n",
       "      <td>633.0</td>\n",
       "      <td>0.1</td>\n",
       "    </tr>\n",
       "    <tr>\n",
       "      <th>25515</th>\n",
       "      <td>884.0</td>\n",
       "      <td>1052.0</td>\n",
       "      <td>0.3</td>\n",
       "    </tr>\n",
       "    <tr>\n",
       "      <th>33390</th>\n",
       "      <td>61.0</td>\n",
       "      <td>404.0</td>\n",
       "      <td>0.4</td>\n",
       "    </tr>\n",
       "    <tr>\n",
       "      <th>35262</th>\n",
       "      <td>75.0</td>\n",
       "      <td>776.0</td>\n",
       "      <td>0.3</td>\n",
       "    </tr>\n",
       "    <tr>\n",
       "      <th>40252</th>\n",
       "      <td>96.0</td>\n",
       "      <td>1289.0</td>\n",
       "      <td>0.6</td>\n",
       "    </tr>\n",
       "    <tr>\n",
       "      <th>46260</th>\n",
       "      <td>516.0</td>\n",
       "      <td>1131.0</td>\n",
       "      <td>0.2</td>\n",
       "    </tr>\n",
       "    <tr>\n",
       "      <th>50457</th>\n",
       "      <td>20.0</td>\n",
       "      <td>509.0</td>\n",
       "      <td>0.2</td>\n",
       "    </tr>\n",
       "    <tr>\n",
       "      <th>69189</th>\n",
       "      <td>216.0</td>\n",
       "      <td>158.0</td>\n",
       "      <td>1.9</td>\n",
       "    </tr>\n",
       "    <tr>\n",
       "      <th>76569</th>\n",
       "      <td>100.0</td>\n",
       "      <td>584.0</td>\n",
       "      <td>0.2</td>\n",
       "    </tr>\n",
       "    <tr>\n",
       "      <th>77404</th>\n",
       "      <td>115.0</td>\n",
       "      <td>813.0</td>\n",
       "      <td>1.8</td>\n",
       "    </tr>\n",
       "    <tr>\n",
       "      <th>89339</th>\n",
       "      <td>279.0</td>\n",
       "      <td>1851.0</td>\n",
       "      <td>0.2</td>\n",
       "    </tr>\n",
       "  </tbody>\n",
       "</table>\n",
       "</div>"
      ],
      "text/plain": [
       "            Altitude Moyenne  Superficie  Population\n",
       "Code INSEE                                          \n",
       "05135                  965.0      1726.0         0.1\n",
       "16309                  102.0       654.0         0.2\n",
       "17319                  111.0       440.0         0.1\n",
       "21544                  441.0       633.0         0.1\n",
       "25515                  884.0      1052.0         0.3\n",
       "33390                   61.0       404.0         0.4\n",
       "35262                   75.0       776.0         0.3\n",
       "40252                   96.0      1289.0         0.6\n",
       "46260                  516.0      1131.0         0.2\n",
       "50457                   20.0       509.0         0.2\n",
       "69189                  216.0       158.0         1.9\n",
       "76569                  100.0       584.0         0.2\n",
       "77404                  115.0       813.0         1.8\n",
       "89339                  279.0      1851.0         0.2"
      ]
     },
     "execution_count": 66,
     "metadata": {},
     "output_type": "execute_result"
    }
   ],
   "source": [
    "geo.loc[geo.Commune==\"SAINTE-COLOMBE\", [\"Altitude Moyenne\",\"Superficie\",\"Population\"]]"
   ]
  },
  {
   "cell_type": "code",
   "execution_count": 73,
   "metadata": {},
   "outputs": [
    {
     "data": {
      "text/plain": [
       "9"
      ]
     },
     "execution_count": 73,
     "metadata": {},
     "output_type": "execute_result"
    }
   ],
   "source": [
    "geo.loc[geo.Population >= 200, \"Département\"].nunique()"
   ]
  },
  {
   "cell_type": "code",
   "execution_count": 76,
   "metadata": {},
   "outputs": [
    {
     "data": {
      "text/plain": [
       "15"
      ]
     },
     "execution_count": 76,
     "metadata": {},
     "output_type": "execute_result"
    }
   ],
   "source": [
    "geo.loc[geo[\"Commune\"].str.len()==2, \"Commune\"].count()"
   ]
  },
  {
   "cell_type": "code",
   "execution_count": 77,
   "metadata": {},
   "outputs": [
    {
     "data": {
      "text/html": [
       "<div>\n",
       "<style scoped>\n",
       "    .dataframe tbody tr th:only-of-type {\n",
       "        vertical-align: middle;\n",
       "    }\n",
       "\n",
       "    .dataframe tbody tr th {\n",
       "        vertical-align: top;\n",
       "    }\n",
       "\n",
       "    .dataframe thead th {\n",
       "        text-align: right;\n",
       "    }\n",
       "</style>\n",
       "<table border=\"1\" class=\"dataframe\">\n",
       "  <thead>\n",
       "    <tr style=\"text-align: right;\">\n",
       "      <th></th>\n",
       "      <th>Code Postal</th>\n",
       "      <th>Commune</th>\n",
       "      <th>Département</th>\n",
       "      <th>Région</th>\n",
       "      <th>Statut</th>\n",
       "      <th>Altitude Moyenne</th>\n",
       "      <th>Superficie</th>\n",
       "      <th>Population</th>\n",
       "      <th>geo_point_2d</th>\n",
       "      <th>geo_shape</th>\n",
       "    </tr>\n",
       "    <tr>\n",
       "      <th>Code INSEE</th>\n",
       "      <th></th>\n",
       "      <th></th>\n",
       "      <th></th>\n",
       "      <th></th>\n",
       "      <th></th>\n",
       "      <th></th>\n",
       "      <th></th>\n",
       "      <th></th>\n",
       "      <th></th>\n",
       "      <th></th>\n",
       "    </tr>\n",
       "  </thead>\n",
       "  <tbody>\n",
       "    <tr>\n",
       "      <th>06026</th>\n",
       "      <td>06530</td>\n",
       "      <td>CABRIS</td>\n",
       "      <td>ALPES-MARITIMES</td>\n",
       "      <td>PROVENCE-ALPES-COTE D'AZUR</td>\n",
       "      <td>Commune simple</td>\n",
       "      <td>540.0</td>\n",
       "      <td>540.0</td>\n",
       "      <td>1.4</td>\n",
       "      <td>43.6599560638, 6.87825509814</td>\n",
       "      <td>{\"type\": \"Polygon\", \"coordinates\": [[[6.868991...</td>\n",
       "    </tr>\n",
       "    <tr>\n",
       "      <th>21010</th>\n",
       "      <td>21420</td>\n",
       "      <td>ALOXE-CORTON</td>\n",
       "      <td>COTE-D'OR</td>\n",
       "      <td>BOURGOGNE</td>\n",
       "      <td>Commune simple</td>\n",
       "      <td>261.0</td>\n",
       "      <td>261.0</td>\n",
       "      <td>0.2</td>\n",
       "      <td>47.0682393129, 4.86123205088</td>\n",
       "      <td>{\"type\": \"Polygon\", \"coordinates\": [[[4.866669...</td>\n",
       "    </tr>\n",
       "    <tr>\n",
       "      <th>25391</th>\n",
       "      <td>25210</td>\n",
       "      <td>MONT-DE-LAVAL</td>\n",
       "      <td>DOUBS</td>\n",
       "      <td>FRANCHE-COMTE</td>\n",
       "      <td>Commune simple</td>\n",
       "      <td>845.0</td>\n",
       "      <td>845.0</td>\n",
       "      <td>0.2</td>\n",
       "      <td>47.161609954, 6.63636805448</td>\n",
       "      <td>{\"type\": \"Polygon\", \"coordinates\": [[[6.627720...</td>\n",
       "    </tr>\n",
       "    <tr>\n",
       "      <th>38230</th>\n",
       "      <td>38300</td>\n",
       "      <td>MEYRIE</td>\n",
       "      <td>ISERE</td>\n",
       "      <td>RHONE-ALPES</td>\n",
       "      <td>Commune simple</td>\n",
       "      <td>346.0</td>\n",
       "      <td>346.0</td>\n",
       "      <td>1.0</td>\n",
       "      <td>45.5602461635, 5.2848381306</td>\n",
       "      <td>{\"type\": \"Polygon\", \"coordinates\": [[[5.293302...</td>\n",
       "    </tr>\n",
       "    <tr>\n",
       "      <th>65102</th>\n",
       "      <td>65140</td>\n",
       "      <td>BOUILH-DEVANT</td>\n",
       "      <td>HAUTES-PYRENEES</td>\n",
       "      <td>MIDI-PYRENEES</td>\n",
       "      <td>Commune simple</td>\n",
       "      <td>298.0</td>\n",
       "      <td>298.0</td>\n",
       "      <td>0.0</td>\n",
       "      <td>43.3365484114, 0.261492915975</td>\n",
       "      <td>{\"type\": \"Polygon\", \"coordinates\": [[[0.267934...</td>\n",
       "    </tr>\n",
       "    <tr>\n",
       "      <th>68211</th>\n",
       "      <td>68470</td>\n",
       "      <td>MITZACH</td>\n",
       "      <td>HAUT-RHIN</td>\n",
       "      <td>ALSACE</td>\n",
       "      <td>Commune simple</td>\n",
       "      <td>637.0</td>\n",
       "      <td>637.0</td>\n",
       "      <td>0.4</td>\n",
       "      <td>47.8611986942, 6.99775039385</td>\n",
       "      <td>{\"type\": \"Polygon\", \"coordinates\": [[[6.987666...</td>\n",
       "    </tr>\n",
       "    <tr>\n",
       "      <th>88215</th>\n",
       "      <td>88210</td>\n",
       "      <td>GRANDRUPT</td>\n",
       "      <td>VOSGES</td>\n",
       "      <td>LORRAINE</td>\n",
       "      <td>Commune simple</td>\n",
       "      <td>634.0</td>\n",
       "      <td>634.0</td>\n",
       "      <td>0.1</td>\n",
       "      <td>48.3669519771, 7.06206760711</td>\n",
       "      <td>{\"type\": \"Polygon\", \"coordinates\": [[[7.064913...</td>\n",
       "    </tr>\n",
       "  </tbody>\n",
       "</table>\n",
       "</div>"
      ],
      "text/plain": [
       "           Code Postal        Commune      Département  \\\n",
       "Code INSEE                                               \n",
       "06026            06530         CABRIS  ALPES-MARITIMES   \n",
       "21010            21420   ALOXE-CORTON        COTE-D'OR   \n",
       "25391            25210  MONT-DE-LAVAL            DOUBS   \n",
       "38230            38300         MEYRIE            ISERE   \n",
       "65102            65140  BOUILH-DEVANT  HAUTES-PYRENEES   \n",
       "68211            68470        MITZACH        HAUT-RHIN   \n",
       "88215            88210      GRANDRUPT           VOSGES   \n",
       "\n",
       "                                Région          Statut  Altitude Moyenne  \\\n",
       "Code INSEE                                                                 \n",
       "06026       PROVENCE-ALPES-COTE D'AZUR  Commune simple             540.0   \n",
       "21010                        BOURGOGNE  Commune simple             261.0   \n",
       "25391                    FRANCHE-COMTE  Commune simple             845.0   \n",
       "38230                      RHONE-ALPES  Commune simple             346.0   \n",
       "65102                    MIDI-PYRENEES  Commune simple             298.0   \n",
       "68211                           ALSACE  Commune simple             637.0   \n",
       "88215                         LORRAINE  Commune simple             634.0   \n",
       "\n",
       "            Superficie  Population                   geo_point_2d  \\\n",
       "Code INSEE                                                          \n",
       "06026            540.0         1.4   43.6599560638, 6.87825509814   \n",
       "21010            261.0         0.2   47.0682393129, 4.86123205088   \n",
       "25391            845.0         0.2    47.161609954, 6.63636805448   \n",
       "38230            346.0         1.0    45.5602461635, 5.2848381306   \n",
       "65102            298.0         0.0  43.3365484114, 0.261492915975   \n",
       "68211            637.0         0.4   47.8611986942, 6.99775039385   \n",
       "88215            634.0         0.1   48.3669519771, 7.06206760711   \n",
       "\n",
       "                                                    geo_shape  \n",
       "Code INSEE                                                     \n",
       "06026       {\"type\": \"Polygon\", \"coordinates\": [[[6.868991...  \n",
       "21010       {\"type\": \"Polygon\", \"coordinates\": [[[4.866669...  \n",
       "25391       {\"type\": \"Polygon\", \"coordinates\": [[[6.627720...  \n",
       "38230       {\"type\": \"Polygon\", \"coordinates\": [[[5.293302...  \n",
       "65102       {\"type\": \"Polygon\", \"coordinates\": [[[0.267934...  \n",
       "68211       {\"type\": \"Polygon\", \"coordinates\": [[[6.987666...  \n",
       "88215       {\"type\": \"Polygon\", \"coordinates\": [[[7.064913...  "
      ]
     },
     "execution_count": 77,
     "metadata": {},
     "output_type": "execute_result"
    }
   ],
   "source": [
    "geo.loc[geo[\"Altitude Moyenne\"]==geo.Superficie]"
   ]
  },
  {
   "cell_type": "code",
   "execution_count": 79,
   "metadata": {},
   "outputs": [
    {
     "data": {
      "text/plain": [
       "3.3"
      ]
     },
     "execution_count": 79,
     "metadata": {},
     "output_type": "execute_result"
    }
   ],
   "source": [
    "geo.loc[geo[\"Altitude Moyenne\"]==geo.Superficie, \"Population\"].sum()"
   ]
  },
  {
   "cell_type": "code",
   "execution_count": 86,
   "metadata": {},
   "outputs": [
    {
     "name": "stdout",
     "output_type": "stream",
     "text": [
      "781 µs ± 45 µs per loop (mean ± std. dev. of 7 runs, 1000 loops each)\n"
     ]
    }
   ],
   "source": [
    "%timeit len(geo.loc[geo[\"Altitude Moyenne\"]==0])"
   ]
  },
  {
   "cell_type": "code",
   "execution_count": 87,
   "metadata": {},
   "outputs": [
    {
     "name": "stdout",
     "output_type": "stream",
     "text": [
      "536 µs ± 7.35 µs per loop (mean ± std. dev. of 7 runs, 1000 loops each)\n"
     ]
    }
   ],
   "source": [
    "%timeit (geo[\"Altitude Moyenne\"]==0).sum()"
   ]
  },
  {
   "cell_type": "markdown",
   "metadata": {},
   "source": [
    "### Index non unique"
   ]
  },
  {
   "cell_type": "code",
   "execution_count": 88,
   "metadata": {},
   "outputs": [
    {
     "data": {
      "text/plain": [
       "True"
      ]
     },
     "execution_count": 88,
     "metadata": {},
     "output_type": "execute_result"
    }
   ],
   "source": [
    "# test de l'unicité de l'index\n",
    "geo.index.is_unique"
   ]
  },
  {
   "cell_type": "code",
   "execution_count": 89,
   "metadata": {},
   "outputs": [
    {
     "data": {
      "text/html": [
       "<div>\n",
       "<style scoped>\n",
       "    .dataframe tbody tr th:only-of-type {\n",
       "        vertical-align: middle;\n",
       "    }\n",
       "\n",
       "    .dataframe tbody tr th {\n",
       "        vertical-align: top;\n",
       "    }\n",
       "\n",
       "    .dataframe thead th {\n",
       "        text-align: right;\n",
       "    }\n",
       "</style>\n",
       "<table border=\"1\" class=\"dataframe\">\n",
       "  <thead>\n",
       "    <tr style=\"text-align: right;\">\n",
       "      <th></th>\n",
       "      <th>Code INSEE</th>\n",
       "      <th>Code Postal</th>\n",
       "      <th>Département</th>\n",
       "      <th>Région</th>\n",
       "      <th>Statut</th>\n",
       "      <th>Altitude Moyenne</th>\n",
       "      <th>Superficie</th>\n",
       "      <th>Population</th>\n",
       "      <th>geo_point_2d</th>\n",
       "      <th>geo_shape</th>\n",
       "    </tr>\n",
       "    <tr>\n",
       "      <th>Commune</th>\n",
       "      <th></th>\n",
       "      <th></th>\n",
       "      <th></th>\n",
       "      <th></th>\n",
       "      <th></th>\n",
       "      <th></th>\n",
       "      <th></th>\n",
       "      <th></th>\n",
       "      <th></th>\n",
       "      <th></th>\n",
       "    </tr>\n",
       "  </thead>\n",
       "  <tbody>\n",
       "    <tr>\n",
       "      <th>L'ABERGEMENT-CLEMENCIAT</th>\n",
       "      <td>01001</td>\n",
       "      <td>01400</td>\n",
       "      <td>AIN</td>\n",
       "      <td>RHONE-ALPES</td>\n",
       "      <td>Commune simple</td>\n",
       "      <td>242.0</td>\n",
       "      <td>1565.0</td>\n",
       "      <td>0.8</td>\n",
       "      <td>46.1534255214, 4.92611354223</td>\n",
       "      <td>{\"type\": \"Polygon\", \"coordinates\": [[[4.926273...</td>\n",
       "    </tr>\n",
       "    <tr>\n",
       "      <th>L'ABERGEMENT-DE-VAREY</th>\n",
       "      <td>01002</td>\n",
       "      <td>01640</td>\n",
       "      <td>AIN</td>\n",
       "      <td>RHONE-ALPES</td>\n",
       "      <td>Commune simple</td>\n",
       "      <td>483.0</td>\n",
       "      <td>912.0</td>\n",
       "      <td>0.2</td>\n",
       "      <td>46.0091878776, 5.42801696363</td>\n",
       "      <td>{\"type\": \"Polygon\", \"coordinates\": [[[5.430089...</td>\n",
       "    </tr>\n",
       "    <tr>\n",
       "      <th>AMBERIEU-EN-BUGEY</th>\n",
       "      <td>01004</td>\n",
       "      <td>01500</td>\n",
       "      <td>AIN</td>\n",
       "      <td>RHONE-ALPES</td>\n",
       "      <td>Chef-lieu canton</td>\n",
       "      <td>379.0</td>\n",
       "      <td>2448.0</td>\n",
       "      <td>13.4</td>\n",
       "      <td>45.9608475114, 5.3729257777</td>\n",
       "      <td>{\"type\": \"Polygon\", \"coordinates\": [[[5.386190...</td>\n",
       "    </tr>\n",
       "    <tr>\n",
       "      <th>AMBERIEUX-EN-DOMBES</th>\n",
       "      <td>01005</td>\n",
       "      <td>01330</td>\n",
       "      <td>AIN</td>\n",
       "      <td>RHONE-ALPES</td>\n",
       "      <td>Commune simple</td>\n",
       "      <td>290.0</td>\n",
       "      <td>1605.0</td>\n",
       "      <td>1.6</td>\n",
       "      <td>45.9961799872, 4.91227250796</td>\n",
       "      <td>{\"type\": \"Polygon\", \"coordinates\": [[[4.895580...</td>\n",
       "    </tr>\n",
       "    <tr>\n",
       "      <th>AMBLEON</th>\n",
       "      <td>01006</td>\n",
       "      <td>01300</td>\n",
       "      <td>AIN</td>\n",
       "      <td>RHONE-ALPES</td>\n",
       "      <td>Commune simple</td>\n",
       "      <td>589.0</td>\n",
       "      <td>602.0</td>\n",
       "      <td>0.1</td>\n",
       "      <td>45.7494989044, 5.59432017366</td>\n",
       "      <td>{\"type\": \"Polygon\", \"coordinates\": [[[5.614854...</td>\n",
       "    </tr>\n",
       "  </tbody>\n",
       "</table>\n",
       "</div>"
      ],
      "text/plain": [
       "                        Code INSEE Code Postal Département       Région  \\\n",
       "Commune                                                                   \n",
       "L'ABERGEMENT-CLEMENCIAT      01001       01400         AIN  RHONE-ALPES   \n",
       "L'ABERGEMENT-DE-VAREY        01002       01640         AIN  RHONE-ALPES   \n",
       "AMBERIEU-EN-BUGEY            01004       01500         AIN  RHONE-ALPES   \n",
       "AMBERIEUX-EN-DOMBES          01005       01330         AIN  RHONE-ALPES   \n",
       "AMBLEON                      01006       01300         AIN  RHONE-ALPES   \n",
       "\n",
       "                                   Statut  Altitude Moyenne  Superficie  \\\n",
       "Commune                                                                   \n",
       "L'ABERGEMENT-CLEMENCIAT    Commune simple             242.0      1565.0   \n",
       "L'ABERGEMENT-DE-VAREY      Commune simple             483.0       912.0   \n",
       "AMBERIEU-EN-BUGEY        Chef-lieu canton             379.0      2448.0   \n",
       "AMBERIEUX-EN-DOMBES        Commune simple             290.0      1605.0   \n",
       "AMBLEON                    Commune simple             589.0       602.0   \n",
       "\n",
       "                         Population                  geo_point_2d  \\\n",
       "Commune                                                             \n",
       "L'ABERGEMENT-CLEMENCIAT         0.8  46.1534255214, 4.92611354223   \n",
       "L'ABERGEMENT-DE-VAREY           0.2  46.0091878776, 5.42801696363   \n",
       "AMBERIEU-EN-BUGEY              13.4   45.9608475114, 5.3729257777   \n",
       "AMBERIEUX-EN-DOMBES             1.6  45.9961799872, 4.91227250796   \n",
       "AMBLEON                         0.1  45.7494989044, 5.59432017366   \n",
       "\n",
       "                                                                 geo_shape  \n",
       "Commune                                                                     \n",
       "L'ABERGEMENT-CLEMENCIAT  {\"type\": \"Polygon\", \"coordinates\": [[[4.926273...  \n",
       "L'ABERGEMENT-DE-VAREY    {\"type\": \"Polygon\", \"coordinates\": [[[5.430089...  \n",
       "AMBERIEU-EN-BUGEY        {\"type\": \"Polygon\", \"coordinates\": [[[5.386190...  \n",
       "AMBERIEUX-EN-DOMBES      {\"type\": \"Polygon\", \"coordinates\": [[[4.895580...  \n",
       "AMBLEON                  {\"type\": \"Polygon\", \"coordinates\": [[[5.614854...  "
      ]
     },
     "execution_count": 89,
     "metadata": {},
     "output_type": "execute_result"
    }
   ],
   "source": [
    "# reset de l'index\n",
    "geo = geo.reset_index()\n",
    "geo = geo.set_index('Commune', drop=True)\n",
    "geo.head()"
   ]
  },
  {
   "cell_type": "code",
   "execution_count": 90,
   "metadata": {},
   "outputs": [
    {
     "data": {
      "text/plain": [
       "False"
      ]
     },
     "execution_count": 90,
     "metadata": {},
     "output_type": "execute_result"
    }
   ],
   "source": [
    "# test de l'unicité de l'index\n",
    "geo.index.is_unique"
   ]
  },
  {
   "cell_type": "code",
   "execution_count": 91,
   "metadata": {},
   "outputs": [
    {
     "data": {
      "text/html": [
       "<div>\n",
       "<style scoped>\n",
       "    .dataframe tbody tr th:only-of-type {\n",
       "        vertical-align: middle;\n",
       "    }\n",
       "\n",
       "    .dataframe tbody tr th {\n",
       "        vertical-align: top;\n",
       "    }\n",
       "\n",
       "    .dataframe thead th {\n",
       "        text-align: right;\n",
       "    }\n",
       "</style>\n",
       "<table border=\"1\" class=\"dataframe\">\n",
       "  <thead>\n",
       "    <tr style=\"text-align: right;\">\n",
       "      <th></th>\n",
       "      <th>Code INSEE</th>\n",
       "      <th>Code Postal</th>\n",
       "      <th>Département</th>\n",
       "      <th>Région</th>\n",
       "      <th>Statut</th>\n",
       "      <th>Altitude Moyenne</th>\n",
       "      <th>Superficie</th>\n",
       "      <th>Population</th>\n",
       "      <th>geo_point_2d</th>\n",
       "      <th>geo_shape</th>\n",
       "    </tr>\n",
       "    <tr>\n",
       "      <th>Commune</th>\n",
       "      <th></th>\n",
       "      <th></th>\n",
       "      <th></th>\n",
       "      <th></th>\n",
       "      <th></th>\n",
       "      <th></th>\n",
       "      <th></th>\n",
       "      <th></th>\n",
       "      <th></th>\n",
       "      <th></th>\n",
       "    </tr>\n",
       "  </thead>\n",
       "  <tbody>\n",
       "    <tr>\n",
       "      <th>SAINTE-COLOMBE</th>\n",
       "      <td>05135</td>\n",
       "      <td>05700</td>\n",
       "      <td>HAUTES-ALPES</td>\n",
       "      <td>PROVENCE-ALPES-COTE D'AZUR</td>\n",
       "      <td>Commune simple</td>\n",
       "      <td>965.0</td>\n",
       "      <td>1726.0</td>\n",
       "      <td>0.1</td>\n",
       "      <td>44.2889272211, 5.66834974647</td>\n",
       "      <td>{\"type\": \"Polygon\", \"coordinates\": [[[5.646781...</td>\n",
       "    </tr>\n",
       "    <tr>\n",
       "      <th>SAINTE-COLOMBE</th>\n",
       "      <td>16309</td>\n",
       "      <td>16230</td>\n",
       "      <td>CHARENTE</td>\n",
       "      <td>POITOU-CHARENTES</td>\n",
       "      <td>Commune simple</td>\n",
       "      <td>102.0</td>\n",
       "      <td>654.0</td>\n",
       "      <td>0.2</td>\n",
       "      <td>45.8295299814, 0.320048436517</td>\n",
       "      <td>{\"type\": \"Polygon\", \"coordinates\": [[[0.326195...</td>\n",
       "    </tr>\n",
       "    <tr>\n",
       "      <th>SAINTE-COLOMBE</th>\n",
       "      <td>17319</td>\n",
       "      <td>17210</td>\n",
       "      <td>CHARENTE-MARITIME</td>\n",
       "      <td>POITOU-CHARENTES</td>\n",
       "      <td>Commune simple</td>\n",
       "      <td>111.0</td>\n",
       "      <td>440.0</td>\n",
       "      <td>0.1</td>\n",
       "      <td>45.281890465, -0.273965618336</td>\n",
       "      <td>{\"type\": \"Polygon\", \"coordinates\": [[[-0.28042...</td>\n",
       "    </tr>\n",
       "    <tr>\n",
       "      <th>SAINTE-COLOMBE</th>\n",
       "      <td>21544</td>\n",
       "      <td>21350</td>\n",
       "      <td>COTE-D'OR</td>\n",
       "      <td>BOURGOGNE</td>\n",
       "      <td>Commune simple</td>\n",
       "      <td>441.0</td>\n",
       "      <td>633.0</td>\n",
       "      <td>0.1</td>\n",
       "      <td>47.4272975926, 4.46203899793</td>\n",
       "      <td>{\"type\": \"Polygon\", \"coordinates\": [[[4.462906...</td>\n",
       "    </tr>\n",
       "    <tr>\n",
       "      <th>SAINTE-COLOMBE</th>\n",
       "      <td>25515</td>\n",
       "      <td>25300</td>\n",
       "      <td>DOUBS</td>\n",
       "      <td>FRANCHE-COMTE</td>\n",
       "      <td>Commune simple</td>\n",
       "      <td>884.0</td>\n",
       "      <td>1052.0</td>\n",
       "      <td>0.3</td>\n",
       "      <td>46.8735551517, 6.27545445456</td>\n",
       "      <td>{\"type\": \"Polygon\", \"coordinates\": [[[6.293376...</td>\n",
       "    </tr>\n",
       "    <tr>\n",
       "      <th>SAINTE-COLOMBE</th>\n",
       "      <td>33390</td>\n",
       "      <td>33350</td>\n",
       "      <td>GIRONDE</td>\n",
       "      <td>AQUITAINE</td>\n",
       "      <td>Commune simple</td>\n",
       "      <td>61.0</td>\n",
       "      <td>404.0</td>\n",
       "      <td>0.4</td>\n",
       "      <td>44.8789588977, -0.0634971172004</td>\n",
       "      <td>{\"type\": \"Polygon\", \"coordinates\": [[[-0.04871...</td>\n",
       "    </tr>\n",
       "    <tr>\n",
       "      <th>SAINTE-COLOMBE</th>\n",
       "      <td>35262</td>\n",
       "      <td>35134</td>\n",
       "      <td>ILLE-ET-VILAINE</td>\n",
       "      <td>BRETAGNE</td>\n",
       "      <td>Commune simple</td>\n",
       "      <td>75.0</td>\n",
       "      <td>776.0</td>\n",
       "      <td>0.3</td>\n",
       "      <td>47.8955543395, -1.45748423621</td>\n",
       "      <td>{\"type\": \"Polygon\", \"coordinates\": [[[-1.46368...</td>\n",
       "    </tr>\n",
       "    <tr>\n",
       "      <th>SAINTE-COLOMBE</th>\n",
       "      <td>40252</td>\n",
       "      <td>40700</td>\n",
       "      <td>LANDES</td>\n",
       "      <td>AQUITAINE</td>\n",
       "      <td>Commune simple</td>\n",
       "      <td>96.0</td>\n",
       "      <td>1289.0</td>\n",
       "      <td>0.6</td>\n",
       "      <td>43.6810025684, -0.556768147827</td>\n",
       "      <td>{\"type\": \"Polygon\", \"coordinates\": [[[-0.54208...</td>\n",
       "    </tr>\n",
       "    <tr>\n",
       "      <th>SAINTE-COLOMBE</th>\n",
       "      <td>46260</td>\n",
       "      <td>46120</td>\n",
       "      <td>LOT</td>\n",
       "      <td>MIDI-PYRENEES</td>\n",
       "      <td>Commune simple</td>\n",
       "      <td>516.0</td>\n",
       "      <td>1131.0</td>\n",
       "      <td>0.2</td>\n",
       "      <td>44.7204297846, 2.01266388255</td>\n",
       "      <td>{\"type\": \"Polygon\", \"coordinates\": [[[2.038138...</td>\n",
       "    </tr>\n",
       "    <tr>\n",
       "      <th>SAINTE-COLOMBE</th>\n",
       "      <td>50457</td>\n",
       "      <td>50390</td>\n",
       "      <td>MANCHE</td>\n",
       "      <td>BASSE-NORMANDIE</td>\n",
       "      <td>Commune simple</td>\n",
       "      <td>20.0</td>\n",
       "      <td>509.0</td>\n",
       "      <td>0.2</td>\n",
       "      <td>49.4151457162, -1.51172159828</td>\n",
       "      <td>{\"type\": \"Polygon\", \"coordinates\": [[[-1.49421...</td>\n",
       "    </tr>\n",
       "    <tr>\n",
       "      <th>SAINTE-COLOMBE</th>\n",
       "      <td>69189</td>\n",
       "      <td>69560</td>\n",
       "      <td>RHONE</td>\n",
       "      <td>RHONE-ALPES</td>\n",
       "      <td>Commune simple</td>\n",
       "      <td>216.0</td>\n",
       "      <td>158.0</td>\n",
       "      <td>1.9</td>\n",
       "      <td>45.5250030617, 4.85931457938</td>\n",
       "      <td>{\"type\": \"Polygon\", \"coordinates\": [[[4.861328...</td>\n",
       "    </tr>\n",
       "    <tr>\n",
       "      <th>SAINTE-COLOMBE</th>\n",
       "      <td>76569</td>\n",
       "      <td>76460</td>\n",
       "      <td>SEINE-MARITIME</td>\n",
       "      <td>HAUTE-NORMANDIE</td>\n",
       "      <td>Commune simple</td>\n",
       "      <td>100.0</td>\n",
       "      <td>584.0</td>\n",
       "      <td>0.2</td>\n",
       "      <td>49.7963787198, 0.761815502519</td>\n",
       "      <td>{\"type\": \"Polygon\", \"coordinates\": [[[0.753089...</td>\n",
       "    </tr>\n",
       "    <tr>\n",
       "      <th>SAINTE-COLOMBE</th>\n",
       "      <td>77404</td>\n",
       "      <td>77650</td>\n",
       "      <td>SEINE-ET-MARNE</td>\n",
       "      <td>ILE-DE-FRANCE</td>\n",
       "      <td>Commune simple</td>\n",
       "      <td>115.0</td>\n",
       "      <td>813.0</td>\n",
       "      <td>1.8</td>\n",
       "      <td>48.5343555436, 3.25919071204</td>\n",
       "      <td>{\"type\": \"Polygon\", \"coordinates\": [[[3.264675...</td>\n",
       "    </tr>\n",
       "    <tr>\n",
       "      <th>SAINTE-COLOMBE</th>\n",
       "      <td>89339</td>\n",
       "      <td>89440</td>\n",
       "      <td>YONNE</td>\n",
       "      <td>BOURGOGNE</td>\n",
       "      <td>Commune simple</td>\n",
       "      <td>279.0</td>\n",
       "      <td>1851.0</td>\n",
       "      <td>0.2</td>\n",
       "      <td>47.5733326756, 3.95597782049</td>\n",
       "      <td>{\"type\": \"Polygon\", \"coordinates\": [[[3.983814...</td>\n",
       "    </tr>\n",
       "  </tbody>\n",
       "</table>\n",
       "</div>"
      ],
      "text/plain": [
       "               Code INSEE Code Postal        Département  \\\n",
       "Commune                                                    \n",
       "SAINTE-COLOMBE      05135       05700       HAUTES-ALPES   \n",
       "SAINTE-COLOMBE      16309       16230           CHARENTE   \n",
       "SAINTE-COLOMBE      17319       17210  CHARENTE-MARITIME   \n",
       "SAINTE-COLOMBE      21544       21350          COTE-D'OR   \n",
       "SAINTE-COLOMBE      25515       25300              DOUBS   \n",
       "SAINTE-COLOMBE      33390       33350            GIRONDE   \n",
       "SAINTE-COLOMBE      35262       35134    ILLE-ET-VILAINE   \n",
       "SAINTE-COLOMBE      40252       40700             LANDES   \n",
       "SAINTE-COLOMBE      46260       46120                LOT   \n",
       "SAINTE-COLOMBE      50457       50390             MANCHE   \n",
       "SAINTE-COLOMBE      69189       69560              RHONE   \n",
       "SAINTE-COLOMBE      76569       76460     SEINE-MARITIME   \n",
       "SAINTE-COLOMBE      77404       77650     SEINE-ET-MARNE   \n",
       "SAINTE-COLOMBE      89339       89440              YONNE   \n",
       "\n",
       "                                    Région          Statut  Altitude Moyenne  \\\n",
       "Commune                                                                        \n",
       "SAINTE-COLOMBE  PROVENCE-ALPES-COTE D'AZUR  Commune simple             965.0   \n",
       "SAINTE-COLOMBE            POITOU-CHARENTES  Commune simple             102.0   \n",
       "SAINTE-COLOMBE            POITOU-CHARENTES  Commune simple             111.0   \n",
       "SAINTE-COLOMBE                   BOURGOGNE  Commune simple             441.0   \n",
       "SAINTE-COLOMBE               FRANCHE-COMTE  Commune simple             884.0   \n",
       "SAINTE-COLOMBE                   AQUITAINE  Commune simple              61.0   \n",
       "SAINTE-COLOMBE                    BRETAGNE  Commune simple              75.0   \n",
       "SAINTE-COLOMBE                   AQUITAINE  Commune simple              96.0   \n",
       "SAINTE-COLOMBE               MIDI-PYRENEES  Commune simple             516.0   \n",
       "SAINTE-COLOMBE             BASSE-NORMANDIE  Commune simple              20.0   \n",
       "SAINTE-COLOMBE                 RHONE-ALPES  Commune simple             216.0   \n",
       "SAINTE-COLOMBE             HAUTE-NORMANDIE  Commune simple             100.0   \n",
       "SAINTE-COLOMBE               ILE-DE-FRANCE  Commune simple             115.0   \n",
       "SAINTE-COLOMBE                   BOURGOGNE  Commune simple             279.0   \n",
       "\n",
       "                Superficie  Population                     geo_point_2d  \\\n",
       "Commune                                                                   \n",
       "SAINTE-COLOMBE      1726.0         0.1     44.2889272211, 5.66834974647   \n",
       "SAINTE-COLOMBE       654.0         0.2    45.8295299814, 0.320048436517   \n",
       "SAINTE-COLOMBE       440.0         0.1    45.281890465, -0.273965618336   \n",
       "SAINTE-COLOMBE       633.0         0.1     47.4272975926, 4.46203899793   \n",
       "SAINTE-COLOMBE      1052.0         0.3     46.8735551517, 6.27545445456   \n",
       "SAINTE-COLOMBE       404.0         0.4  44.8789588977, -0.0634971172004   \n",
       "SAINTE-COLOMBE       776.0         0.3    47.8955543395, -1.45748423621   \n",
       "SAINTE-COLOMBE      1289.0         0.6   43.6810025684, -0.556768147827   \n",
       "SAINTE-COLOMBE      1131.0         0.2     44.7204297846, 2.01266388255   \n",
       "SAINTE-COLOMBE       509.0         0.2    49.4151457162, -1.51172159828   \n",
       "SAINTE-COLOMBE       158.0         1.9     45.5250030617, 4.85931457938   \n",
       "SAINTE-COLOMBE       584.0         0.2    49.7963787198, 0.761815502519   \n",
       "SAINTE-COLOMBE       813.0         1.8     48.5343555436, 3.25919071204   \n",
       "SAINTE-COLOMBE      1851.0         0.2     47.5733326756, 3.95597782049   \n",
       "\n",
       "                                                        geo_shape  \n",
       "Commune                                                            \n",
       "SAINTE-COLOMBE  {\"type\": \"Polygon\", \"coordinates\": [[[5.646781...  \n",
       "SAINTE-COLOMBE  {\"type\": \"Polygon\", \"coordinates\": [[[0.326195...  \n",
       "SAINTE-COLOMBE  {\"type\": \"Polygon\", \"coordinates\": [[[-0.28042...  \n",
       "SAINTE-COLOMBE  {\"type\": \"Polygon\", \"coordinates\": [[[4.462906...  \n",
       "SAINTE-COLOMBE  {\"type\": \"Polygon\", \"coordinates\": [[[6.293376...  \n",
       "SAINTE-COLOMBE  {\"type\": \"Polygon\", \"coordinates\": [[[-0.04871...  \n",
       "SAINTE-COLOMBE  {\"type\": \"Polygon\", \"coordinates\": [[[-1.46368...  \n",
       "SAINTE-COLOMBE  {\"type\": \"Polygon\", \"coordinates\": [[[-0.54208...  \n",
       "SAINTE-COLOMBE  {\"type\": \"Polygon\", \"coordinates\": [[[2.038138...  \n",
       "SAINTE-COLOMBE  {\"type\": \"Polygon\", \"coordinates\": [[[-1.49421...  \n",
       "SAINTE-COLOMBE  {\"type\": \"Polygon\", \"coordinates\": [[[4.861328...  \n",
       "SAINTE-COLOMBE  {\"type\": \"Polygon\", \"coordinates\": [[[0.753089...  \n",
       "SAINTE-COLOMBE  {\"type\": \"Polygon\", \"coordinates\": [[[3.264675...  \n",
       "SAINTE-COLOMBE  {\"type\": \"Polygon\", \"coordinates\": [[[3.983814...  "
      ]
     },
     "execution_count": 91,
     "metadata": {},
     "output_type": "execute_result"
    }
   ],
   "source": [
    "# accès avec un index non unique\n",
    "geo.loc['SAINTE-COLOMBE']"
   ]
  },
  {
   "cell_type": "code",
   "execution_count": 92,
   "metadata": {},
   "outputs": [
    {
     "data": {
      "text/html": [
       "<div>\n",
       "<style scoped>\n",
       "    .dataframe tbody tr th:only-of-type {\n",
       "        vertical-align: middle;\n",
       "    }\n",
       "\n",
       "    .dataframe tbody tr th {\n",
       "        vertical-align: top;\n",
       "    }\n",
       "\n",
       "    .dataframe thead th {\n",
       "        text-align: right;\n",
       "    }\n",
       "</style>\n",
       "<table border=\"1\" class=\"dataframe\">\n",
       "  <thead>\n",
       "    <tr style=\"text-align: right;\">\n",
       "      <th></th>\n",
       "      <th>Code INSEE</th>\n",
       "      <th>Code Postal</th>\n",
       "      <th>Département</th>\n",
       "      <th>Région</th>\n",
       "      <th>Statut</th>\n",
       "      <th>Altitude Moyenne</th>\n",
       "      <th>Superficie</th>\n",
       "      <th>Population</th>\n",
       "      <th>geo_point_2d</th>\n",
       "      <th>geo_shape</th>\n",
       "    </tr>\n",
       "    <tr>\n",
       "      <th>Commune</th>\n",
       "      <th></th>\n",
       "      <th></th>\n",
       "      <th></th>\n",
       "      <th></th>\n",
       "      <th></th>\n",
       "      <th></th>\n",
       "      <th></th>\n",
       "      <th></th>\n",
       "      <th></th>\n",
       "      <th></th>\n",
       "    </tr>\n",
       "  </thead>\n",
       "  <tbody>\n",
       "    <tr>\n",
       "      <th>L'ABERGEMENT-CLEMENCIAT</th>\n",
       "      <td>01001</td>\n",
       "      <td>01400</td>\n",
       "      <td>AIN</td>\n",
       "      <td>RHONE-ALPES</td>\n",
       "      <td>Commune simple</td>\n",
       "      <td>242.0</td>\n",
       "      <td>1565.0</td>\n",
       "      <td>0.8</td>\n",
       "      <td>46.1534255214, 4.92611354223</td>\n",
       "      <td>{\"type\": \"Polygon\", \"coordinates\": [[[4.926273...</td>\n",
       "    </tr>\n",
       "    <tr>\n",
       "      <th>L'ABERGEMENT-DE-VAREY</th>\n",
       "      <td>01002</td>\n",
       "      <td>01640</td>\n",
       "      <td>AIN</td>\n",
       "      <td>RHONE-ALPES</td>\n",
       "      <td>Commune simple</td>\n",
       "      <td>483.0</td>\n",
       "      <td>912.0</td>\n",
       "      <td>0.2</td>\n",
       "      <td>46.0091878776, 5.42801696363</td>\n",
       "      <td>{\"type\": \"Polygon\", \"coordinates\": [[[5.430089...</td>\n",
       "    </tr>\n",
       "    <tr>\n",
       "      <th>AMBERIEU-EN-BUGEY</th>\n",
       "      <td>01004</td>\n",
       "      <td>01500</td>\n",
       "      <td>AIN</td>\n",
       "      <td>RHONE-ALPES</td>\n",
       "      <td>Chef-lieu canton</td>\n",
       "      <td>379.0</td>\n",
       "      <td>2448.0</td>\n",
       "      <td>13.4</td>\n",
       "      <td>45.9608475114, 5.3729257777</td>\n",
       "      <td>{\"type\": \"Polygon\", \"coordinates\": [[[5.386190...</td>\n",
       "    </tr>\n",
       "    <tr>\n",
       "      <th>AMBERIEUX-EN-DOMBES</th>\n",
       "      <td>01005</td>\n",
       "      <td>01330</td>\n",
       "      <td>AIN</td>\n",
       "      <td>RHONE-ALPES</td>\n",
       "      <td>Commune simple</td>\n",
       "      <td>290.0</td>\n",
       "      <td>1605.0</td>\n",
       "      <td>1.6</td>\n",
       "      <td>45.9961799872, 4.91227250796</td>\n",
       "      <td>{\"type\": \"Polygon\", \"coordinates\": [[[4.895580...</td>\n",
       "    </tr>\n",
       "    <tr>\n",
       "      <th>AMBLEON</th>\n",
       "      <td>01006</td>\n",
       "      <td>01300</td>\n",
       "      <td>AIN</td>\n",
       "      <td>RHONE-ALPES</td>\n",
       "      <td>Commune simple</td>\n",
       "      <td>589.0</td>\n",
       "      <td>602.0</td>\n",
       "      <td>0.1</td>\n",
       "      <td>45.7494989044, 5.59432017366</td>\n",
       "      <td>{\"type\": \"Polygon\", \"coordinates\": [[[5.614854...</td>\n",
       "    </tr>\n",
       "  </tbody>\n",
       "</table>\n",
       "</div>"
      ],
      "text/plain": [
       "                        Code INSEE Code Postal Département       Région  \\\n",
       "Commune                                                                   \n",
       "L'ABERGEMENT-CLEMENCIAT      01001       01400         AIN  RHONE-ALPES   \n",
       "L'ABERGEMENT-DE-VAREY        01002       01640         AIN  RHONE-ALPES   \n",
       "AMBERIEU-EN-BUGEY            01004       01500         AIN  RHONE-ALPES   \n",
       "AMBERIEUX-EN-DOMBES          01005       01330         AIN  RHONE-ALPES   \n",
       "AMBLEON                      01006       01300         AIN  RHONE-ALPES   \n",
       "\n",
       "                                   Statut  Altitude Moyenne  Superficie  \\\n",
       "Commune                                                                   \n",
       "L'ABERGEMENT-CLEMENCIAT    Commune simple             242.0      1565.0   \n",
       "L'ABERGEMENT-DE-VAREY      Commune simple             483.0       912.0   \n",
       "AMBERIEU-EN-BUGEY        Chef-lieu canton             379.0      2448.0   \n",
       "AMBERIEUX-EN-DOMBES        Commune simple             290.0      1605.0   \n",
       "AMBLEON                    Commune simple             589.0       602.0   \n",
       "\n",
       "                         Population                  geo_point_2d  \\\n",
       "Commune                                                             \n",
       "L'ABERGEMENT-CLEMENCIAT         0.8  46.1534255214, 4.92611354223   \n",
       "L'ABERGEMENT-DE-VAREY           0.2  46.0091878776, 5.42801696363   \n",
       "AMBERIEU-EN-BUGEY              13.4   45.9608475114, 5.3729257777   \n",
       "AMBERIEUX-EN-DOMBES             1.6  45.9961799872, 4.91227250796   \n",
       "AMBLEON                         0.1  45.7494989044, 5.59432017366   \n",
       "\n",
       "                                                                 geo_shape  \n",
       "Commune                                                                     \n",
       "L'ABERGEMENT-CLEMENCIAT  {\"type\": \"Polygon\", \"coordinates\": [[[4.926273...  \n",
       "L'ABERGEMENT-DE-VAREY    {\"type\": \"Polygon\", \"coordinates\": [[[5.430089...  \n",
       "AMBERIEU-EN-BUGEY        {\"type\": \"Polygon\", \"coordinates\": [[[5.386190...  \n",
       "AMBERIEUX-EN-DOMBES      {\"type\": \"Polygon\", \"coordinates\": [[[4.895580...  \n",
       "AMBLEON                  {\"type\": \"Polygon\", \"coordinates\": [[[5.614854...  "
      ]
     },
     "execution_count": 92,
     "metadata": {},
     "output_type": "execute_result"
    }
   ],
   "source": [
    "# tête\n",
    "geo.head()"
   ]
  },
  {
   "cell_type": "code",
   "execution_count": 93,
   "metadata": {},
   "outputs": [
    {
     "ename": "KeyError",
     "evalue": "\"Cannot get right slice bound for non-unique label: 'SAINTE-COLOMBE'\"",
     "output_type": "error",
     "traceback": [
      "\u001b[1;31m---------------------------------------------------------------------------\u001b[0m",
      "\u001b[1;31mKeyError\u001b[0m                                  Traceback (most recent call last)",
      "\u001b[1;32m<ipython-input-93-969cb686bfe2>\u001b[0m in \u001b[0;36m<module>\u001b[1;34m\u001b[0m\n\u001b[0;32m      1\u001b[0m \u001b[1;31m# tentative d'accès à une plage d'index\u001b[0m\u001b[1;33m\u001b[0m\u001b[1;33m\u001b[0m\u001b[1;33m\u001b[0m\u001b[0m\n\u001b[1;32m----> 2\u001b[1;33m \u001b[0mgeo\u001b[0m\u001b[1;33m.\u001b[0m\u001b[0mloc\u001b[0m\u001b[1;33m[\u001b[0m\u001b[1;34m\"L'ABERGEMENT-CLEMENCIAT\"\u001b[0m\u001b[1;33m:\u001b[0m\u001b[1;34m\"SAINTE-COLOMBE\"\u001b[0m\u001b[1;33m]\u001b[0m\u001b[1;33m\u001b[0m\u001b[1;33m\u001b[0m\u001b[0m\n\u001b[0m",
      "\u001b[1;32mc:\\users\\francis\\miniconda3\\envs\\bdf\\lib\\site-packages\\pandas\\core\\indexing.py\u001b[0m in \u001b[0;36m__getitem__\u001b[1;34m(self, key)\u001b[0m\n\u001b[0;32m    893\u001b[0m \u001b[1;33m\u001b[0m\u001b[0m\n\u001b[0;32m    894\u001b[0m             \u001b[0mmaybe_callable\u001b[0m \u001b[1;33m=\u001b[0m \u001b[0mcom\u001b[0m\u001b[1;33m.\u001b[0m\u001b[0mapply_if_callable\u001b[0m\u001b[1;33m(\u001b[0m\u001b[0mkey\u001b[0m\u001b[1;33m,\u001b[0m \u001b[0mself\u001b[0m\u001b[1;33m.\u001b[0m\u001b[0mobj\u001b[0m\u001b[1;33m)\u001b[0m\u001b[1;33m\u001b[0m\u001b[1;33m\u001b[0m\u001b[0m\n\u001b[1;32m--> 895\u001b[1;33m             \u001b[1;32mreturn\u001b[0m \u001b[0mself\u001b[0m\u001b[1;33m.\u001b[0m\u001b[0m_getitem_axis\u001b[0m\u001b[1;33m(\u001b[0m\u001b[0mmaybe_callable\u001b[0m\u001b[1;33m,\u001b[0m \u001b[0maxis\u001b[0m\u001b[1;33m=\u001b[0m\u001b[0maxis\u001b[0m\u001b[1;33m)\u001b[0m\u001b[1;33m\u001b[0m\u001b[1;33m\u001b[0m\u001b[0m\n\u001b[0m\u001b[0;32m    896\u001b[0m \u001b[1;33m\u001b[0m\u001b[0m\n\u001b[0;32m    897\u001b[0m     \u001b[1;32mdef\u001b[0m \u001b[0m_is_scalar_access\u001b[0m\u001b[1;33m(\u001b[0m\u001b[0mself\u001b[0m\u001b[1;33m,\u001b[0m \u001b[0mkey\u001b[0m\u001b[1;33m:\u001b[0m \u001b[0mTuple\u001b[0m\u001b[1;33m)\u001b[0m\u001b[1;33m:\u001b[0m\u001b[1;33m\u001b[0m\u001b[1;33m\u001b[0m\u001b[0m\n",
      "\u001b[1;32mc:\\users\\francis\\miniconda3\\envs\\bdf\\lib\\site-packages\\pandas\\core\\indexing.py\u001b[0m in \u001b[0;36m_getitem_axis\u001b[1;34m(self, key, axis)\u001b[0m\n\u001b[0;32m   1100\u001b[0m         \u001b[1;32mif\u001b[0m \u001b[0misinstance\u001b[0m\u001b[1;33m(\u001b[0m\u001b[0mkey\u001b[0m\u001b[1;33m,\u001b[0m \u001b[0mslice\u001b[0m\u001b[1;33m)\u001b[0m\u001b[1;33m:\u001b[0m\u001b[1;33m\u001b[0m\u001b[1;33m\u001b[0m\u001b[0m\n\u001b[0;32m   1101\u001b[0m             \u001b[0mself\u001b[0m\u001b[1;33m.\u001b[0m\u001b[0m_validate_key\u001b[0m\u001b[1;33m(\u001b[0m\u001b[0mkey\u001b[0m\u001b[1;33m,\u001b[0m \u001b[0maxis\u001b[0m\u001b[1;33m)\u001b[0m\u001b[1;33m\u001b[0m\u001b[1;33m\u001b[0m\u001b[0m\n\u001b[1;32m-> 1102\u001b[1;33m             \u001b[1;32mreturn\u001b[0m \u001b[0mself\u001b[0m\u001b[1;33m.\u001b[0m\u001b[0m_get_slice_axis\u001b[0m\u001b[1;33m(\u001b[0m\u001b[0mkey\u001b[0m\u001b[1;33m,\u001b[0m \u001b[0maxis\u001b[0m\u001b[1;33m=\u001b[0m\u001b[0maxis\u001b[0m\u001b[1;33m)\u001b[0m\u001b[1;33m\u001b[0m\u001b[1;33m\u001b[0m\u001b[0m\n\u001b[0m\u001b[0;32m   1103\u001b[0m         \u001b[1;32melif\u001b[0m \u001b[0mcom\u001b[0m\u001b[1;33m.\u001b[0m\u001b[0mis_bool_indexer\u001b[0m\u001b[1;33m(\u001b[0m\u001b[0mkey\u001b[0m\u001b[1;33m)\u001b[0m\u001b[1;33m:\u001b[0m\u001b[1;33m\u001b[0m\u001b[1;33m\u001b[0m\u001b[0m\n\u001b[0;32m   1104\u001b[0m             \u001b[1;32mreturn\u001b[0m \u001b[0mself\u001b[0m\u001b[1;33m.\u001b[0m\u001b[0m_getbool_axis\u001b[0m\u001b[1;33m(\u001b[0m\u001b[0mkey\u001b[0m\u001b[1;33m,\u001b[0m \u001b[0maxis\u001b[0m\u001b[1;33m=\u001b[0m\u001b[0maxis\u001b[0m\u001b[1;33m)\u001b[0m\u001b[1;33m\u001b[0m\u001b[1;33m\u001b[0m\u001b[0m\n",
      "\u001b[1;32mc:\\users\\francis\\miniconda3\\envs\\bdf\\lib\\site-packages\\pandas\\core\\indexing.py\u001b[0m in \u001b[0;36m_get_slice_axis\u001b[1;34m(self, slice_obj, axis)\u001b[0m\n\u001b[0;32m   1134\u001b[0m \u001b[1;33m\u001b[0m\u001b[0m\n\u001b[0;32m   1135\u001b[0m         \u001b[0mlabels\u001b[0m \u001b[1;33m=\u001b[0m \u001b[0mobj\u001b[0m\u001b[1;33m.\u001b[0m\u001b[0m_get_axis\u001b[0m\u001b[1;33m(\u001b[0m\u001b[0maxis\u001b[0m\u001b[1;33m)\u001b[0m\u001b[1;33m\u001b[0m\u001b[1;33m\u001b[0m\u001b[0m\n\u001b[1;32m-> 1136\u001b[1;33m         indexer = labels.slice_indexer(\n\u001b[0m\u001b[0;32m   1137\u001b[0m             \u001b[0mslice_obj\u001b[0m\u001b[1;33m.\u001b[0m\u001b[0mstart\u001b[0m\u001b[1;33m,\u001b[0m \u001b[0mslice_obj\u001b[0m\u001b[1;33m.\u001b[0m\u001b[0mstop\u001b[0m\u001b[1;33m,\u001b[0m \u001b[0mslice_obj\u001b[0m\u001b[1;33m.\u001b[0m\u001b[0mstep\u001b[0m\u001b[1;33m,\u001b[0m \u001b[0mkind\u001b[0m\u001b[1;33m=\u001b[0m\u001b[1;34m\"loc\"\u001b[0m\u001b[1;33m\u001b[0m\u001b[1;33m\u001b[0m\u001b[0m\n\u001b[0;32m   1138\u001b[0m         )\n",
      "\u001b[1;32mc:\\users\\francis\\miniconda3\\envs\\bdf\\lib\\site-packages\\pandas\\core\\indexes\\base.py\u001b[0m in \u001b[0;36mslice_indexer\u001b[1;34m(self, start, end, step, kind)\u001b[0m\n\u001b[0;32m   5275\u001b[0m         \u001b[0mslice\u001b[0m\u001b[1;33m(\u001b[0m\u001b[1;36m1\u001b[0m\u001b[1;33m,\u001b[0m \u001b[1;36m3\u001b[0m\u001b[1;33m,\u001b[0m \u001b[1;32mNone\u001b[0m\u001b[1;33m)\u001b[0m\u001b[1;33m\u001b[0m\u001b[1;33m\u001b[0m\u001b[0m\n\u001b[0;32m   5276\u001b[0m         \"\"\"\n\u001b[1;32m-> 5277\u001b[1;33m         \u001b[0mstart_slice\u001b[0m\u001b[1;33m,\u001b[0m \u001b[0mend_slice\u001b[0m \u001b[1;33m=\u001b[0m \u001b[0mself\u001b[0m\u001b[1;33m.\u001b[0m\u001b[0mslice_locs\u001b[0m\u001b[1;33m(\u001b[0m\u001b[0mstart\u001b[0m\u001b[1;33m,\u001b[0m \u001b[0mend\u001b[0m\u001b[1;33m,\u001b[0m \u001b[0mstep\u001b[0m\u001b[1;33m=\u001b[0m\u001b[0mstep\u001b[0m\u001b[1;33m,\u001b[0m \u001b[0mkind\u001b[0m\u001b[1;33m=\u001b[0m\u001b[0mkind\u001b[0m\u001b[1;33m)\u001b[0m\u001b[1;33m\u001b[0m\u001b[1;33m\u001b[0m\u001b[0m\n\u001b[0m\u001b[0;32m   5278\u001b[0m \u001b[1;33m\u001b[0m\u001b[0m\n\u001b[0;32m   5279\u001b[0m         \u001b[1;31m# return a slice\u001b[0m\u001b[1;33m\u001b[0m\u001b[1;33m\u001b[0m\u001b[1;33m\u001b[0m\u001b[0m\n",
      "\u001b[1;32mc:\\users\\francis\\miniconda3\\envs\\bdf\\lib\\site-packages\\pandas\\core\\indexes\\base.py\u001b[0m in \u001b[0;36mslice_locs\u001b[1;34m(self, start, end, step, kind)\u001b[0m\n\u001b[0;32m   5480\u001b[0m         \u001b[0mend_slice\u001b[0m \u001b[1;33m=\u001b[0m \u001b[1;32mNone\u001b[0m\u001b[1;33m\u001b[0m\u001b[1;33m\u001b[0m\u001b[0m\n\u001b[0;32m   5481\u001b[0m         \u001b[1;32mif\u001b[0m \u001b[0mend\u001b[0m \u001b[1;32mis\u001b[0m \u001b[1;32mnot\u001b[0m \u001b[1;32mNone\u001b[0m\u001b[1;33m:\u001b[0m\u001b[1;33m\u001b[0m\u001b[1;33m\u001b[0m\u001b[0m\n\u001b[1;32m-> 5482\u001b[1;33m             \u001b[0mend_slice\u001b[0m \u001b[1;33m=\u001b[0m \u001b[0mself\u001b[0m\u001b[1;33m.\u001b[0m\u001b[0mget_slice_bound\u001b[0m\u001b[1;33m(\u001b[0m\u001b[0mend\u001b[0m\u001b[1;33m,\u001b[0m \u001b[1;34m\"right\"\u001b[0m\u001b[1;33m,\u001b[0m \u001b[0mkind\u001b[0m\u001b[1;33m)\u001b[0m\u001b[1;33m\u001b[0m\u001b[1;33m\u001b[0m\u001b[0m\n\u001b[0m\u001b[0;32m   5483\u001b[0m         \u001b[1;32mif\u001b[0m \u001b[0mend_slice\u001b[0m \u001b[1;32mis\u001b[0m \u001b[1;32mNone\u001b[0m\u001b[1;33m:\u001b[0m\u001b[1;33m\u001b[0m\u001b[1;33m\u001b[0m\u001b[0m\n\u001b[0;32m   5484\u001b[0m             \u001b[0mend_slice\u001b[0m \u001b[1;33m=\u001b[0m \u001b[0mlen\u001b[0m\u001b[1;33m(\u001b[0m\u001b[0mself\u001b[0m\u001b[1;33m)\u001b[0m\u001b[1;33m\u001b[0m\u001b[1;33m\u001b[0m\u001b[0m\n",
      "\u001b[1;32mc:\\users\\francis\\miniconda3\\envs\\bdf\\lib\\site-packages\\pandas\\core\\indexes\\base.py\u001b[0m in \u001b[0;36mget_slice_bound\u001b[1;34m(self, label, side, kind)\u001b[0m\n\u001b[0;32m   5406\u001b[0m                 )\n\u001b[0;32m   5407\u001b[0m             \u001b[1;32mif\u001b[0m \u001b[0misinstance\u001b[0m\u001b[1;33m(\u001b[0m\u001b[0mslc\u001b[0m\u001b[1;33m,\u001b[0m \u001b[0mnp\u001b[0m\u001b[1;33m.\u001b[0m\u001b[0mndarray\u001b[0m\u001b[1;33m)\u001b[0m\u001b[1;33m:\u001b[0m\u001b[1;33m\u001b[0m\u001b[1;33m\u001b[0m\u001b[0m\n\u001b[1;32m-> 5408\u001b[1;33m                 raise KeyError(\n\u001b[0m\u001b[0;32m   5409\u001b[0m                     \u001b[1;34mf\"Cannot get {side} slice bound for non-unique \"\u001b[0m\u001b[1;33m\u001b[0m\u001b[1;33m\u001b[0m\u001b[0m\n\u001b[0;32m   5410\u001b[0m                     \u001b[1;34mf\"label: {repr(original_label)}\"\u001b[0m\u001b[1;33m\u001b[0m\u001b[1;33m\u001b[0m\u001b[0m\n",
      "\u001b[1;31mKeyError\u001b[0m: \"Cannot get right slice bound for non-unique label: 'SAINTE-COLOMBE'\""
     ]
    }
   ],
   "source": [
    "# tentative d'accès à une plage d'index\n",
    "geo.loc[\"L'ABERGEMENT-CLEMENCIAT\":\"SAINTE-COLOMBE\"]"
   ]
  },
  {
   "cell_type": "markdown",
   "metadata": {},
   "source": [
    "## 2.5 Manipulations et modifications des données"
   ]
  },
  {
   "cell_type": "code",
   "execution_count": 94,
   "metadata": {
    "scrolled": false
   },
   "outputs": [
    {
     "data": {
      "text/html": [
       "<div>\n",
       "<style scoped>\n",
       "    .dataframe tbody tr th:only-of-type {\n",
       "        vertical-align: middle;\n",
       "    }\n",
       "\n",
       "    .dataframe tbody tr th {\n",
       "        vertical-align: top;\n",
       "    }\n",
       "\n",
       "    .dataframe thead th {\n",
       "        text-align: right;\n",
       "    }\n",
       "</style>\n",
       "<table border=\"1\" class=\"dataframe\">\n",
       "  <thead>\n",
       "    <tr style=\"text-align: right;\">\n",
       "      <th></th>\n",
       "      <th>Code Postal</th>\n",
       "      <th>Commune</th>\n",
       "      <th>Département</th>\n",
       "      <th>Région</th>\n",
       "      <th>Statut</th>\n",
       "      <th>Altitude Moyenne</th>\n",
       "      <th>Superficie</th>\n",
       "      <th>Population</th>\n",
       "      <th>geo_point_2d</th>\n",
       "      <th>geo_shape</th>\n",
       "    </tr>\n",
       "    <tr>\n",
       "      <th>Code INSEE</th>\n",
       "      <th></th>\n",
       "      <th></th>\n",
       "      <th></th>\n",
       "      <th></th>\n",
       "      <th></th>\n",
       "      <th></th>\n",
       "      <th></th>\n",
       "      <th></th>\n",
       "      <th></th>\n",
       "      <th></th>\n",
       "    </tr>\n",
       "  </thead>\n",
       "  <tbody>\n",
       "    <tr>\n",
       "      <th>31080</th>\n",
       "      <td>31350</td>\n",
       "      <td>BOULOGNE-SUR-GESSE</td>\n",
       "      <td>HAUTE-GARONNE</td>\n",
       "      <td>MIDI-PYRENEES</td>\n",
       "      <td>Chef-lieu canton</td>\n",
       "      <td>301.0</td>\n",
       "      <td>2470.0</td>\n",
       "      <td>1.6</td>\n",
       "      <td>43.2904403081, 0.650641474176</td>\n",
       "      <td>{\"type\": \"Polygon\", \"coordinates\": [[[0.671852...</td>\n",
       "    </tr>\n",
       "    <tr>\n",
       "      <th>11143</th>\n",
       "      <td>11510</td>\n",
       "      <td>FEUILLA</td>\n",
       "      <td>AUDE</td>\n",
       "      <td>LANGUEDOC-ROUSSILLON</td>\n",
       "      <td>Commune simple</td>\n",
       "      <td>314.0</td>\n",
       "      <td>2426.0</td>\n",
       "      <td>0.1</td>\n",
       "      <td>42.9291375888, 2.90138923544</td>\n",
       "      <td>{\"type\": \"Polygon\", \"coordinates\": [[[2.906996...</td>\n",
       "    </tr>\n",
       "    <tr>\n",
       "      <th>43028</th>\n",
       "      <td>43200</td>\n",
       "      <td>BESSAMOREL</td>\n",
       "      <td>HAUTE-LOIRE</td>\n",
       "      <td>AUVERGNE</td>\n",
       "      <td>Commune simple</td>\n",
       "      <td>888.0</td>\n",
       "      <td>743.0</td>\n",
       "      <td>0.4</td>\n",
       "      <td>45.1306448726, 4.07952494849</td>\n",
       "      <td>{\"type\": \"Polygon\", \"coordinates\": [[[4.091674...</td>\n",
       "    </tr>\n",
       "    <tr>\n",
       "      <th>78506</th>\n",
       "      <td>78660</td>\n",
       "      <td>PRUNAY-EN-YVELINES</td>\n",
       "      <td>YVELINES</td>\n",
       "      <td>ILE-DE-FRANCE</td>\n",
       "      <td>Commune simple</td>\n",
       "      <td>155.0</td>\n",
       "      <td>2717.0</td>\n",
       "      <td>0.8</td>\n",
       "      <td>48.5267627187, 1.80513972814</td>\n",
       "      <td>{\"type\": \"Polygon\", \"coordinates\": [[[1.829610...</td>\n",
       "    </tr>\n",
       "    <tr>\n",
       "      <th>84081</th>\n",
       "      <td>84310</td>\n",
       "      <td>MORIERES-LES-AVIGNON</td>\n",
       "      <td>VAUCLUSE</td>\n",
       "      <td>PROVENCE-ALPES-COTE D'AZUR</td>\n",
       "      <td>Commune simple</td>\n",
       "      <td>49.0</td>\n",
       "      <td>1042.0</td>\n",
       "      <td>7.6</td>\n",
       "      <td>43.9337788848, 4.90875878315</td>\n",
       "      <td>{\"type\": \"Polygon\", \"coordinates\": [[[4.927176...</td>\n",
       "    </tr>\n",
       "  </tbody>\n",
       "</table>\n",
       "</div>"
      ],
      "text/plain": [
       "           Code Postal               Commune    Département  \\\n",
       "Code INSEE                                                    \n",
       "31080            31350    BOULOGNE-SUR-GESSE  HAUTE-GARONNE   \n",
       "11143            11510               FEUILLA           AUDE   \n",
       "43028            43200            BESSAMOREL    HAUTE-LOIRE   \n",
       "78506            78660    PRUNAY-EN-YVELINES       YVELINES   \n",
       "84081            84310  MORIERES-LES-AVIGNON       VAUCLUSE   \n",
       "\n",
       "                                Région            Statut  Altitude Moyenne  \\\n",
       "Code INSEE                                                                   \n",
       "31080                    MIDI-PYRENEES  Chef-lieu canton             301.0   \n",
       "11143             LANGUEDOC-ROUSSILLON    Commune simple             314.0   \n",
       "43028                         AUVERGNE    Commune simple             888.0   \n",
       "78506                    ILE-DE-FRANCE    Commune simple             155.0   \n",
       "84081       PROVENCE-ALPES-COTE D'AZUR    Commune simple              49.0   \n",
       "\n",
       "            Superficie  Population                   geo_point_2d  \\\n",
       "Code INSEE                                                          \n",
       "31080           2470.0         1.6  43.2904403081, 0.650641474176   \n",
       "11143           2426.0         0.1   42.9291375888, 2.90138923544   \n",
       "43028            743.0         0.4   45.1306448726, 4.07952494849   \n",
       "78506           2717.0         0.8   48.5267627187, 1.80513972814   \n",
       "84081           1042.0         7.6   43.9337788848, 4.90875878315   \n",
       "\n",
       "                                                    geo_shape  \n",
       "Code INSEE                                                     \n",
       "31080       {\"type\": \"Polygon\", \"coordinates\": [[[0.671852...  \n",
       "11143       {\"type\": \"Polygon\", \"coordinates\": [[[2.906996...  \n",
       "43028       {\"type\": \"Polygon\", \"coordinates\": [[[4.091674...  \n",
       "78506       {\"type\": \"Polygon\", \"coordinates\": [[[1.829610...  \n",
       "84081       {\"type\": \"Polygon\", \"coordinates\": [[[4.927176...  "
      ]
     },
     "execution_count": 94,
     "metadata": {},
     "output_type": "execute_result"
    }
   ],
   "source": [
    "# chargement des données\n",
    "geo = pd.read_csv(\"../data/correspondance-code-insee-code-postal.csv\",\n",
    "                   sep=';',\n",
    "                   usecols=range(11),\n",
    "                   index_col=\"Code INSEE\")\n",
    "geo.head()"
   ]
  },
  {
   "cell_type": "markdown",
   "metadata": {},
   "source": [
    "### Tri"
   ]
  },
  {
   "cell_type": "code",
   "execution_count": 95,
   "metadata": {
    "scrolled": false
   },
   "outputs": [
    {
     "data": {
      "text/html": [
       "<div>\n",
       "<style scoped>\n",
       "    .dataframe tbody tr th:only-of-type {\n",
       "        vertical-align: middle;\n",
       "    }\n",
       "\n",
       "    .dataframe tbody tr th {\n",
       "        vertical-align: top;\n",
       "    }\n",
       "\n",
       "    .dataframe thead th {\n",
       "        text-align: right;\n",
       "    }\n",
       "</style>\n",
       "<table border=\"1\" class=\"dataframe\">\n",
       "  <thead>\n",
       "    <tr style=\"text-align: right;\">\n",
       "      <th></th>\n",
       "      <th>Code Postal</th>\n",
       "      <th>Commune</th>\n",
       "      <th>Département</th>\n",
       "      <th>Région</th>\n",
       "      <th>Statut</th>\n",
       "      <th>Altitude Moyenne</th>\n",
       "      <th>Superficie</th>\n",
       "      <th>Population</th>\n",
       "      <th>geo_point_2d</th>\n",
       "      <th>geo_shape</th>\n",
       "    </tr>\n",
       "    <tr>\n",
       "      <th>Code INSEE</th>\n",
       "      <th></th>\n",
       "      <th></th>\n",
       "      <th></th>\n",
       "      <th></th>\n",
       "      <th></th>\n",
       "      <th></th>\n",
       "      <th></th>\n",
       "      <th></th>\n",
       "      <th></th>\n",
       "      <th></th>\n",
       "    </tr>\n",
       "  </thead>\n",
       "  <tbody>\n",
       "    <tr>\n",
       "      <th>59404</th>\n",
       "      <td>59122</td>\n",
       "      <td>LES MOERES</td>\n",
       "      <td>NORD</td>\n",
       "      <td>NORD-PAS-DE-CALAIS</td>\n",
       "      <td>Commune simple</td>\n",
       "      <td>0.0</td>\n",
       "      <td>1967.0</td>\n",
       "      <td>0.8</td>\n",
       "      <td>51.0240965472, 2.5473689484</td>\n",
       "      <td>{\"type\": \"Polygon\", \"coordinates\": [[[2.572476...</td>\n",
       "    </tr>\n",
       "    <tr>\n",
       "      <th>34192</th>\n",
       "      <td>34250</td>\n",
       "      <td>PALAVAS-LES-FLOTS</td>\n",
       "      <td>HERAULT</td>\n",
       "      <td>LANGUEDOC-ROUSSILLON</td>\n",
       "      <td>Commune simple</td>\n",
       "      <td>0.0</td>\n",
       "      <td>920.0</td>\n",
       "      <td>6.0</td>\n",
       "      <td>43.533536456, 3.92620839566</td>\n",
       "      <td>{\"type\": \"Polygon\", \"coordinates\": [[[3.907955...</td>\n",
       "    </tr>\n",
       "    <tr>\n",
       "      <th>13096</th>\n",
       "      <td>13460</td>\n",
       "      <td>SAINTES-MARIES-DE-LA-MER</td>\n",
       "      <td>BOUCHES-DU-RHONE</td>\n",
       "      <td>PROVENCE-ALPES-COTE D'AZUR</td>\n",
       "      <td>Chef-lieu canton</td>\n",
       "      <td>1.0</td>\n",
       "      <td>37242.0</td>\n",
       "      <td>2.3</td>\n",
       "      <td>43.50398297, 4.46396357194</td>\n",
       "      <td>{\"type\": \"Polygon\", \"coordinates\": [[[4.597237...</td>\n",
       "    </tr>\n",
       "    <tr>\n",
       "      <th>34344</th>\n",
       "      <td>34280</td>\n",
       "      <td>LA GRANDE-MOTTE</td>\n",
       "      <td>HERAULT</td>\n",
       "      <td>LANGUEDOC-ROUSSILLON</td>\n",
       "      <td>Commune simple</td>\n",
       "      <td>1.0</td>\n",
       "      <td>1391.0</td>\n",
       "      <td>8.4</td>\n",
       "      <td>43.5685394142, 4.0758328467</td>\n",
       "      <td>{\"type\": \"Polygon\", \"coordinates\": [[[4.101041...</td>\n",
       "    </tr>\n",
       "    <tr>\n",
       "      <th>59154</th>\n",
       "      <td>59380</td>\n",
       "      <td>COUDEKERQUE-VILLAGE</td>\n",
       "      <td>NORD</td>\n",
       "      <td>NORD-PAS-DE-CALAIS</td>\n",
       "      <td>Commune simple</td>\n",
       "      <td>1.0</td>\n",
       "      <td>1203.0</td>\n",
       "      <td>1.2</td>\n",
       "      <td>50.9945680467, 2.42167016066</td>\n",
       "      <td>{\"type\": \"Polygon\", \"coordinates\": [[[2.435660...</td>\n",
       "    </tr>\n",
       "  </tbody>\n",
       "</table>\n",
       "</div>"
      ],
      "text/plain": [
       "           Code Postal                   Commune       Département  \\\n",
       "Code INSEE                                                           \n",
       "59404            59122                LES MOERES              NORD   \n",
       "34192            34250         PALAVAS-LES-FLOTS           HERAULT   \n",
       "13096            13460  SAINTES-MARIES-DE-LA-MER  BOUCHES-DU-RHONE   \n",
       "34344            34280           LA GRANDE-MOTTE           HERAULT   \n",
       "59154            59380       COUDEKERQUE-VILLAGE              NORD   \n",
       "\n",
       "                                Région            Statut  Altitude Moyenne  \\\n",
       "Code INSEE                                                                   \n",
       "59404               NORD-PAS-DE-CALAIS    Commune simple               0.0   \n",
       "34192             LANGUEDOC-ROUSSILLON    Commune simple               0.0   \n",
       "13096       PROVENCE-ALPES-COTE D'AZUR  Chef-lieu canton               1.0   \n",
       "34344             LANGUEDOC-ROUSSILLON    Commune simple               1.0   \n",
       "59154               NORD-PAS-DE-CALAIS    Commune simple               1.0   \n",
       "\n",
       "            Superficie  Population                  geo_point_2d  \\\n",
       "Code INSEE                                                         \n",
       "59404           1967.0         0.8   51.0240965472, 2.5473689484   \n",
       "34192            920.0         6.0   43.533536456, 3.92620839566   \n",
       "13096          37242.0         2.3    43.50398297, 4.46396357194   \n",
       "34344           1391.0         8.4   43.5685394142, 4.0758328467   \n",
       "59154           1203.0         1.2  50.9945680467, 2.42167016066   \n",
       "\n",
       "                                                    geo_shape  \n",
       "Code INSEE                                                     \n",
       "59404       {\"type\": \"Polygon\", \"coordinates\": [[[2.572476...  \n",
       "34192       {\"type\": \"Polygon\", \"coordinates\": [[[3.907955...  \n",
       "13096       {\"type\": \"Polygon\", \"coordinates\": [[[4.597237...  \n",
       "34344       {\"type\": \"Polygon\", \"coordinates\": [[[4.101041...  \n",
       "59154       {\"type\": \"Polygon\", \"coordinates\": [[[2.435660...  "
      ]
     },
     "execution_count": 95,
     "metadata": {},
     "output_type": "execute_result"
    }
   ],
   "source": [
    "# tri selon l'altitude\n",
    "geo.sort_values(\"Altitude Moyenne\").head()"
   ]
  },
  {
   "cell_type": "code",
   "execution_count": 96,
   "metadata": {
    "scrolled": false
   },
   "outputs": [
    {
     "data": {
      "text/html": [
       "<div>\n",
       "<style scoped>\n",
       "    .dataframe tbody tr th:only-of-type {\n",
       "        vertical-align: middle;\n",
       "    }\n",
       "\n",
       "    .dataframe tbody tr th {\n",
       "        vertical-align: top;\n",
       "    }\n",
       "\n",
       "    .dataframe thead th {\n",
       "        text-align: right;\n",
       "    }\n",
       "</style>\n",
       "<table border=\"1\" class=\"dataframe\">\n",
       "  <thead>\n",
       "    <tr style=\"text-align: right;\">\n",
       "      <th></th>\n",
       "      <th>Code Postal</th>\n",
       "      <th>Commune</th>\n",
       "      <th>Département</th>\n",
       "      <th>Région</th>\n",
       "      <th>Statut</th>\n",
       "      <th>Altitude Moyenne</th>\n",
       "      <th>Superficie</th>\n",
       "      <th>Population</th>\n",
       "      <th>geo_point_2d</th>\n",
       "      <th>geo_shape</th>\n",
       "    </tr>\n",
       "    <tr>\n",
       "      <th>Code INSEE</th>\n",
       "      <th></th>\n",
       "      <th></th>\n",
       "      <th></th>\n",
       "      <th></th>\n",
       "      <th></th>\n",
       "      <th></th>\n",
       "      <th></th>\n",
       "      <th></th>\n",
       "      <th></th>\n",
       "      <th></th>\n",
       "    </tr>\n",
       "  </thead>\n",
       "  <tbody>\n",
       "    <tr>\n",
       "      <th>73047</th>\n",
       "      <td>73480</td>\n",
       "      <td>BONNEVAL-SUR-ARC</td>\n",
       "      <td>SAVOIE</td>\n",
       "      <td>RHONE-ALPES</td>\n",
       "      <td>Commune simple</td>\n",
       "      <td>2713.0</td>\n",
       "      <td>11231.0</td>\n",
       "      <td>0.2</td>\n",
       "      <td>45.3858269371, 7.09178979521</td>\n",
       "      <td>{\"type\": \"Polygon\", \"coordinates\": [[[7.110695...</td>\n",
       "    </tr>\n",
       "    <tr>\n",
       "      <th>73040</th>\n",
       "      <td>73480</td>\n",
       "      <td>BESSANS</td>\n",
       "      <td>SAVOIE</td>\n",
       "      <td>RHONE-ALPES</td>\n",
       "      <td>Commune simple</td>\n",
       "      <td>2649.0</td>\n",
       "      <td>15414.0</td>\n",
       "      <td>0.3</td>\n",
       "      <td>45.292032537, 7.04532734274</td>\n",
       "      <td>{\"type\": \"Polygon\", \"coordinates\": [[[7.110695...</td>\n",
       "    </tr>\n",
       "    <tr>\n",
       "      <th>73290</th>\n",
       "      <td>73500</td>\n",
       "      <td>TERMIGNON</td>\n",
       "      <td>SAVOIE</td>\n",
       "      <td>RHONE-ALPES</td>\n",
       "      <td>Commune simple</td>\n",
       "      <td>2584.0</td>\n",
       "      <td>18010.0</td>\n",
       "      <td>0.4</td>\n",
       "      <td>45.3441528771, 6.84789108583</td>\n",
       "      <td>{\"type\": \"Polygon\", \"coordinates\": [[[6.854937...</td>\n",
       "    </tr>\n",
       "    <tr>\n",
       "      <th>73304</th>\n",
       "      <td>73150</td>\n",
       "      <td>VAL-D'ISERE</td>\n",
       "      <td>SAVOIE</td>\n",
       "      <td>RHONE-ALPES</td>\n",
       "      <td>Commune simple</td>\n",
       "      <td>2583.0</td>\n",
       "      <td>10765.0</td>\n",
       "      <td>1.6</td>\n",
       "      <td>45.4310113935, 6.99852444032</td>\n",
       "      <td>{\"type\": \"Polygon\", \"coordinates\": [[[6.998183...</td>\n",
       "    </tr>\n",
       "    <tr>\n",
       "      <th>38375</th>\n",
       "      <td>38520</td>\n",
       "      <td>SAINT-CHRISTOPHE-EN-OISANS</td>\n",
       "      <td>ISERE</td>\n",
       "      <td>RHONE-ALPES</td>\n",
       "      <td>Commune simple</td>\n",
       "      <td>2557.0</td>\n",
       "      <td>23740.0</td>\n",
       "      <td>0.1</td>\n",
       "      <td>44.9290846615, 6.24454607842</td>\n",
       "      <td>{\"type\": \"Polygon\", \"coordinates\": [[[6.336319...</td>\n",
       "    </tr>\n",
       "  </tbody>\n",
       "</table>\n",
       "</div>"
      ],
      "text/plain": [
       "           Code Postal                     Commune Département       Région  \\\n",
       "Code INSEE                                                                    \n",
       "73047            73480            BONNEVAL-SUR-ARC      SAVOIE  RHONE-ALPES   \n",
       "73040            73480                     BESSANS      SAVOIE  RHONE-ALPES   \n",
       "73290            73500                   TERMIGNON      SAVOIE  RHONE-ALPES   \n",
       "73304            73150                 VAL-D'ISERE      SAVOIE  RHONE-ALPES   \n",
       "38375            38520  SAINT-CHRISTOPHE-EN-OISANS       ISERE  RHONE-ALPES   \n",
       "\n",
       "                    Statut  Altitude Moyenne  Superficie  Population  \\\n",
       "Code INSEE                                                             \n",
       "73047       Commune simple            2713.0     11231.0         0.2   \n",
       "73040       Commune simple            2649.0     15414.0         0.3   \n",
       "73290       Commune simple            2584.0     18010.0         0.4   \n",
       "73304       Commune simple            2583.0     10765.0         1.6   \n",
       "38375       Commune simple            2557.0     23740.0         0.1   \n",
       "\n",
       "                            geo_point_2d  \\\n",
       "Code INSEE                                 \n",
       "73047       45.3858269371, 7.09178979521   \n",
       "73040        45.292032537, 7.04532734274   \n",
       "73290       45.3441528771, 6.84789108583   \n",
       "73304       45.4310113935, 6.99852444032   \n",
       "38375       44.9290846615, 6.24454607842   \n",
       "\n",
       "                                                    geo_shape  \n",
       "Code INSEE                                                     \n",
       "73047       {\"type\": \"Polygon\", \"coordinates\": [[[7.110695...  \n",
       "73040       {\"type\": \"Polygon\", \"coordinates\": [[[7.110695...  \n",
       "73290       {\"type\": \"Polygon\", \"coordinates\": [[[6.854937...  \n",
       "73304       {\"type\": \"Polygon\", \"coordinates\": [[[6.998183...  \n",
       "38375       {\"type\": \"Polygon\", \"coordinates\": [[[6.336319...  "
      ]
     },
     "execution_count": 96,
     "metadata": {},
     "output_type": "execute_result"
    }
   ],
   "source": [
    "# tri selon l'altitude inverse\n",
    "geo.sort_values(\"Altitude Moyenne\", ascending=False).head()"
   ]
  },
  {
   "cell_type": "code",
   "execution_count": 97,
   "metadata": {
    "scrolled": false
   },
   "outputs": [
    {
     "data": {
      "text/html": [
       "<div>\n",
       "<style scoped>\n",
       "    .dataframe tbody tr th:only-of-type {\n",
       "        vertical-align: middle;\n",
       "    }\n",
       "\n",
       "    .dataframe tbody tr th {\n",
       "        vertical-align: top;\n",
       "    }\n",
       "\n",
       "    .dataframe thead th {\n",
       "        text-align: right;\n",
       "    }\n",
       "</style>\n",
       "<table border=\"1\" class=\"dataframe\">\n",
       "  <thead>\n",
       "    <tr style=\"text-align: right;\">\n",
       "      <th></th>\n",
       "      <th>Code Postal</th>\n",
       "      <th>Commune</th>\n",
       "      <th>Département</th>\n",
       "      <th>Région</th>\n",
       "      <th>Statut</th>\n",
       "      <th>Altitude Moyenne</th>\n",
       "      <th>Superficie</th>\n",
       "      <th>Population</th>\n",
       "      <th>geo_point_2d</th>\n",
       "      <th>geo_shape</th>\n",
       "    </tr>\n",
       "    <tr>\n",
       "      <th>Code INSEE</th>\n",
       "      <th></th>\n",
       "      <th></th>\n",
       "      <th></th>\n",
       "      <th></th>\n",
       "      <th></th>\n",
       "      <th></th>\n",
       "      <th></th>\n",
       "      <th></th>\n",
       "      <th></th>\n",
       "      <th></th>\n",
       "    </tr>\n",
       "  </thead>\n",
       "  <tbody>\n",
       "    <tr>\n",
       "      <th>59404</th>\n",
       "      <td>59122</td>\n",
       "      <td>LES MOERES</td>\n",
       "      <td>NORD</td>\n",
       "      <td>NORD-PAS-DE-CALAIS</td>\n",
       "      <td>Commune simple</td>\n",
       "      <td>0.0</td>\n",
       "      <td>1967.0</td>\n",
       "      <td>0.8</td>\n",
       "      <td>51.0240965472, 2.5473689484</td>\n",
       "      <td>{\"type\": \"Polygon\", \"coordinates\": [[[2.572476...</td>\n",
       "    </tr>\n",
       "    <tr>\n",
       "      <th>34192</th>\n",
       "      <td>34250</td>\n",
       "      <td>PALAVAS-LES-FLOTS</td>\n",
       "      <td>HERAULT</td>\n",
       "      <td>LANGUEDOC-ROUSSILLON</td>\n",
       "      <td>Commune simple</td>\n",
       "      <td>0.0</td>\n",
       "      <td>920.0</td>\n",
       "      <td>6.0</td>\n",
       "      <td>43.533536456, 3.92620839566</td>\n",
       "      <td>{\"type\": \"Polygon\", \"coordinates\": [[[3.907955...</td>\n",
       "    </tr>\n",
       "    <tr>\n",
       "      <th>30003</th>\n",
       "      <td>30220</td>\n",
       "      <td>AIGUES-MORTES</td>\n",
       "      <td>GARD</td>\n",
       "      <td>LANGUEDOC-ROUSSILLON</td>\n",
       "      <td>Chef-lieu canton</td>\n",
       "      <td>1.0</td>\n",
       "      <td>5776.0</td>\n",
       "      <td>8.1</td>\n",
       "      <td>43.5507249635, 4.18349802063</td>\n",
       "      <td>{\"type\": \"Polygon\", \"coordinates\": [[[4.237933...</td>\n",
       "    </tr>\n",
       "    <tr>\n",
       "      <th>59154</th>\n",
       "      <td>59380</td>\n",
       "      <td>COUDEKERQUE-VILLAGE</td>\n",
       "      <td>NORD</td>\n",
       "      <td>NORD-PAS-DE-CALAIS</td>\n",
       "      <td>Commune simple</td>\n",
       "      <td>1.0</td>\n",
       "      <td>1203.0</td>\n",
       "      <td>1.2</td>\n",
       "      <td>50.9945680467, 2.42167016066</td>\n",
       "      <td>{\"type\": \"Polygon\", \"coordinates\": [[[2.435660...</td>\n",
       "    </tr>\n",
       "    <tr>\n",
       "      <th>29085</th>\n",
       "      <td>29980</td>\n",
       "      <td>ILE-TUDY</td>\n",
       "      <td>FINISTERE</td>\n",
       "      <td>BRETAGNE</td>\n",
       "      <td>Commune simple</td>\n",
       "      <td>1.0</td>\n",
       "      <td>128.0</td>\n",
       "      <td>0.7</td>\n",
       "      <td>47.8527643575, -4.16160884308</td>\n",
       "      <td>{\"type\": \"Polygon\", \"coordinates\": [[[-4.15131...</td>\n",
       "    </tr>\n",
       "  </tbody>\n",
       "</table>\n",
       "</div>"
      ],
      "text/plain": [
       "           Code Postal              Commune Département                Région  \\\n",
       "Code INSEE                                                                      \n",
       "59404            59122           LES MOERES        NORD    NORD-PAS-DE-CALAIS   \n",
       "34192            34250    PALAVAS-LES-FLOTS     HERAULT  LANGUEDOC-ROUSSILLON   \n",
       "30003            30220        AIGUES-MORTES        GARD  LANGUEDOC-ROUSSILLON   \n",
       "59154            59380  COUDEKERQUE-VILLAGE        NORD    NORD-PAS-DE-CALAIS   \n",
       "29085            29980             ILE-TUDY   FINISTERE              BRETAGNE   \n",
       "\n",
       "                      Statut  Altitude Moyenne  Superficie  Population  \\\n",
       "Code INSEE                                                               \n",
       "59404         Commune simple               0.0      1967.0         0.8   \n",
       "34192         Commune simple               0.0       920.0         6.0   \n",
       "30003       Chef-lieu canton               1.0      5776.0         8.1   \n",
       "59154         Commune simple               1.0      1203.0         1.2   \n",
       "29085         Commune simple               1.0       128.0         0.7   \n",
       "\n",
       "                             geo_point_2d  \\\n",
       "Code INSEE                                  \n",
       "59404         51.0240965472, 2.5473689484   \n",
       "34192         43.533536456, 3.92620839566   \n",
       "30003        43.5507249635, 4.18349802063   \n",
       "59154        50.9945680467, 2.42167016066   \n",
       "29085       47.8527643575, -4.16160884308   \n",
       "\n",
       "                                                    geo_shape  \n",
       "Code INSEE                                                     \n",
       "59404       {\"type\": \"Polygon\", \"coordinates\": [[[2.572476...  \n",
       "34192       {\"type\": \"Polygon\", \"coordinates\": [[[3.907955...  \n",
       "30003       {\"type\": \"Polygon\", \"coordinates\": [[[4.237933...  \n",
       "59154       {\"type\": \"Polygon\", \"coordinates\": [[[2.435660...  \n",
       "29085       {\"type\": \"Polygon\", \"coordinates\": [[[-4.15131...  "
      ]
     },
     "execution_count": 97,
     "metadata": {},
     "output_type": "execute_result"
    }
   ],
   "source": [
    "# tri selon l'altitude puis suivant le nom de la commune A->Z\n",
    "geo.sort_values([\"Altitude Moyenne\", \"Commune\"]).head()"
   ]
  },
  {
   "cell_type": "code",
   "execution_count": 98,
   "metadata": {
    "scrolled": false
   },
   "outputs": [
    {
     "data": {
      "text/html": [
       "<div>\n",
       "<style scoped>\n",
       "    .dataframe tbody tr th:only-of-type {\n",
       "        vertical-align: middle;\n",
       "    }\n",
       "\n",
       "    .dataframe tbody tr th {\n",
       "        vertical-align: top;\n",
       "    }\n",
       "\n",
       "    .dataframe thead th {\n",
       "        text-align: right;\n",
       "    }\n",
       "</style>\n",
       "<table border=\"1\" class=\"dataframe\">\n",
       "  <thead>\n",
       "    <tr style=\"text-align: right;\">\n",
       "      <th></th>\n",
       "      <th>Code Postal</th>\n",
       "      <th>Commune</th>\n",
       "      <th>Département</th>\n",
       "      <th>Région</th>\n",
       "      <th>Statut</th>\n",
       "      <th>Altitude Moyenne</th>\n",
       "      <th>Superficie</th>\n",
       "      <th>Population</th>\n",
       "      <th>geo_point_2d</th>\n",
       "      <th>geo_shape</th>\n",
       "    </tr>\n",
       "    <tr>\n",
       "      <th>Code INSEE</th>\n",
       "      <th></th>\n",
       "      <th></th>\n",
       "      <th></th>\n",
       "      <th></th>\n",
       "      <th></th>\n",
       "      <th></th>\n",
       "      <th></th>\n",
       "      <th></th>\n",
       "      <th></th>\n",
       "      <th></th>\n",
       "    </tr>\n",
       "  </thead>\n",
       "  <tbody>\n",
       "    <tr>\n",
       "      <th>34192</th>\n",
       "      <td>34250</td>\n",
       "      <td>PALAVAS-LES-FLOTS</td>\n",
       "      <td>HERAULT</td>\n",
       "      <td>LANGUEDOC-ROUSSILLON</td>\n",
       "      <td>Commune simple</td>\n",
       "      <td>0.0</td>\n",
       "      <td>920.0</td>\n",
       "      <td>6.0</td>\n",
       "      <td>43.533536456, 3.92620839566</td>\n",
       "      <td>{\"type\": \"Polygon\", \"coordinates\": [[[3.907955...</td>\n",
       "    </tr>\n",
       "    <tr>\n",
       "      <th>59404</th>\n",
       "      <td>59122</td>\n",
       "      <td>LES MOERES</td>\n",
       "      <td>NORD</td>\n",
       "      <td>NORD-PAS-DE-CALAIS</td>\n",
       "      <td>Commune simple</td>\n",
       "      <td>0.0</td>\n",
       "      <td>1967.0</td>\n",
       "      <td>0.8</td>\n",
       "      <td>51.0240965472, 2.5473689484</td>\n",
       "      <td>{\"type\": \"Polygon\", \"coordinates\": [[[2.572476...</td>\n",
       "    </tr>\n",
       "    <tr>\n",
       "      <th>59605</th>\n",
       "      <td>59229</td>\n",
       "      <td>UXEM</td>\n",
       "      <td>NORD</td>\n",
       "      <td>NORD-PAS-DE-CALAIS</td>\n",
       "      <td>Commune simple</td>\n",
       "      <td>1.0</td>\n",
       "      <td>808.0</td>\n",
       "      <td>1.3</td>\n",
       "      <td>51.0239750832, 2.49246889837</td>\n",
       "      <td>{\"type\": \"Polygon\", \"coordinates\": [[[2.505855...</td>\n",
       "    </tr>\n",
       "    <tr>\n",
       "      <th>59588</th>\n",
       "      <td>59229</td>\n",
       "      <td>TETEGHEM</td>\n",
       "      <td>NORD</td>\n",
       "      <td>NORD-PAS-DE-CALAIS</td>\n",
       "      <td>Commune simple</td>\n",
       "      <td>1.0</td>\n",
       "      <td>1896.0</td>\n",
       "      <td>7.1</td>\n",
       "      <td>51.0158652678, 2.45278368133</td>\n",
       "      <td>{\"type\": \"Polygon\", \"coordinates\": [[[2.449611...</td>\n",
       "    </tr>\n",
       "    <tr>\n",
       "      <th>13096</th>\n",
       "      <td>13460</td>\n",
       "      <td>SAINTES-MARIES-DE-LA-MER</td>\n",
       "      <td>BOUCHES-DU-RHONE</td>\n",
       "      <td>PROVENCE-ALPES-COTE D'AZUR</td>\n",
       "      <td>Chef-lieu canton</td>\n",
       "      <td>1.0</td>\n",
       "      <td>37242.0</td>\n",
       "      <td>2.3</td>\n",
       "      <td>43.50398297, 4.46396357194</td>\n",
       "      <td>{\"type\": \"Polygon\", \"coordinates\": [[[4.597237...</td>\n",
       "    </tr>\n",
       "  </tbody>\n",
       "</table>\n",
       "</div>"
      ],
      "text/plain": [
       "           Code Postal                   Commune       Département  \\\n",
       "Code INSEE                                                           \n",
       "34192            34250         PALAVAS-LES-FLOTS           HERAULT   \n",
       "59404            59122                LES MOERES              NORD   \n",
       "59605            59229                      UXEM              NORD   \n",
       "59588            59229                  TETEGHEM              NORD   \n",
       "13096            13460  SAINTES-MARIES-DE-LA-MER  BOUCHES-DU-RHONE   \n",
       "\n",
       "                                Région            Statut  Altitude Moyenne  \\\n",
       "Code INSEE                                                                   \n",
       "34192             LANGUEDOC-ROUSSILLON    Commune simple               0.0   \n",
       "59404               NORD-PAS-DE-CALAIS    Commune simple               0.0   \n",
       "59605               NORD-PAS-DE-CALAIS    Commune simple               1.0   \n",
       "59588               NORD-PAS-DE-CALAIS    Commune simple               1.0   \n",
       "13096       PROVENCE-ALPES-COTE D'AZUR  Chef-lieu canton               1.0   \n",
       "\n",
       "            Superficie  Population                  geo_point_2d  \\\n",
       "Code INSEE                                                         \n",
       "34192            920.0         6.0   43.533536456, 3.92620839566   \n",
       "59404           1967.0         0.8   51.0240965472, 2.5473689484   \n",
       "59605            808.0         1.3  51.0239750832, 2.49246889837   \n",
       "59588           1896.0         7.1  51.0158652678, 2.45278368133   \n",
       "13096          37242.0         2.3    43.50398297, 4.46396357194   \n",
       "\n",
       "                                                    geo_shape  \n",
       "Code INSEE                                                     \n",
       "34192       {\"type\": \"Polygon\", \"coordinates\": [[[3.907955...  \n",
       "59404       {\"type\": \"Polygon\", \"coordinates\": [[[2.572476...  \n",
       "59605       {\"type\": \"Polygon\", \"coordinates\": [[[2.505855...  \n",
       "59588       {\"type\": \"Polygon\", \"coordinates\": [[[2.449611...  \n",
       "13096       {\"type\": \"Polygon\", \"coordinates\": [[[4.597237...  "
      ]
     },
     "execution_count": 98,
     "metadata": {},
     "output_type": "execute_result"
    }
   ],
   "source": [
    "# tri selon l'altitude puis suivant le nom de la commune Z->A\n",
    "geo.sort_values([\"Altitude Moyenne\", \"Commune\"], ascending=[True, False]).head()"
   ]
  },
  {
   "cell_type": "code",
   "execution_count": 99,
   "metadata": {
    "scrolled": false
   },
   "outputs": [
    {
     "data": {
      "text/html": [
       "<div>\n",
       "<style scoped>\n",
       "    .dataframe tbody tr th:only-of-type {\n",
       "        vertical-align: middle;\n",
       "    }\n",
       "\n",
       "    .dataframe tbody tr th {\n",
       "        vertical-align: top;\n",
       "    }\n",
       "\n",
       "    .dataframe thead th {\n",
       "        text-align: right;\n",
       "    }\n",
       "</style>\n",
       "<table border=\"1\" class=\"dataframe\">\n",
       "  <thead>\n",
       "    <tr style=\"text-align: right;\">\n",
       "      <th></th>\n",
       "      <th>Code Postal</th>\n",
       "      <th>Commune</th>\n",
       "      <th>Département</th>\n",
       "      <th>Région</th>\n",
       "      <th>Statut</th>\n",
       "      <th>Altitude Moyenne</th>\n",
       "      <th>Superficie</th>\n",
       "      <th>Population</th>\n",
       "      <th>geo_point_2d</th>\n",
       "      <th>geo_shape</th>\n",
       "    </tr>\n",
       "    <tr>\n",
       "      <th>Code INSEE</th>\n",
       "      <th></th>\n",
       "      <th></th>\n",
       "      <th></th>\n",
       "      <th></th>\n",
       "      <th></th>\n",
       "      <th></th>\n",
       "      <th></th>\n",
       "      <th></th>\n",
       "      <th></th>\n",
       "      <th></th>\n",
       "    </tr>\n",
       "  </thead>\n",
       "  <tbody>\n",
       "    <tr>\n",
       "      <th>01001</th>\n",
       "      <td>01400</td>\n",
       "      <td>L'ABERGEMENT-CLEMENCIAT</td>\n",
       "      <td>AIN</td>\n",
       "      <td>RHONE-ALPES</td>\n",
       "      <td>Commune simple</td>\n",
       "      <td>242.0</td>\n",
       "      <td>1565.0</td>\n",
       "      <td>0.8</td>\n",
       "      <td>46.1534255214, 4.92611354223</td>\n",
       "      <td>{\"type\": \"Polygon\", \"coordinates\": [[[4.926273...</td>\n",
       "    </tr>\n",
       "    <tr>\n",
       "      <th>01002</th>\n",
       "      <td>01640</td>\n",
       "      <td>L'ABERGEMENT-DE-VAREY</td>\n",
       "      <td>AIN</td>\n",
       "      <td>RHONE-ALPES</td>\n",
       "      <td>Commune simple</td>\n",
       "      <td>483.0</td>\n",
       "      <td>912.0</td>\n",
       "      <td>0.2</td>\n",
       "      <td>46.0091878776, 5.42801696363</td>\n",
       "      <td>{\"type\": \"Polygon\", \"coordinates\": [[[5.430089...</td>\n",
       "    </tr>\n",
       "    <tr>\n",
       "      <th>01004</th>\n",
       "      <td>01500</td>\n",
       "      <td>AMBERIEU-EN-BUGEY</td>\n",
       "      <td>AIN</td>\n",
       "      <td>RHONE-ALPES</td>\n",
       "      <td>Chef-lieu canton</td>\n",
       "      <td>379.0</td>\n",
       "      <td>2448.0</td>\n",
       "      <td>13.4</td>\n",
       "      <td>45.9608475114, 5.3729257777</td>\n",
       "      <td>{\"type\": \"Polygon\", \"coordinates\": [[[5.386190...</td>\n",
       "    </tr>\n",
       "    <tr>\n",
       "      <th>01005</th>\n",
       "      <td>01330</td>\n",
       "      <td>AMBERIEUX-EN-DOMBES</td>\n",
       "      <td>AIN</td>\n",
       "      <td>RHONE-ALPES</td>\n",
       "      <td>Commune simple</td>\n",
       "      <td>290.0</td>\n",
       "      <td>1605.0</td>\n",
       "      <td>1.6</td>\n",
       "      <td>45.9961799872, 4.91227250796</td>\n",
       "      <td>{\"type\": \"Polygon\", \"coordinates\": [[[4.895580...</td>\n",
       "    </tr>\n",
       "    <tr>\n",
       "      <th>01006</th>\n",
       "      <td>01300</td>\n",
       "      <td>AMBLEON</td>\n",
       "      <td>AIN</td>\n",
       "      <td>RHONE-ALPES</td>\n",
       "      <td>Commune simple</td>\n",
       "      <td>589.0</td>\n",
       "      <td>602.0</td>\n",
       "      <td>0.1</td>\n",
       "      <td>45.7494989044, 5.59432017366</td>\n",
       "      <td>{\"type\": \"Polygon\", \"coordinates\": [[[5.614854...</td>\n",
       "    </tr>\n",
       "  </tbody>\n",
       "</table>\n",
       "</div>"
      ],
      "text/plain": [
       "           Code Postal                  Commune Département       Région  \\\n",
       "Code INSEE                                                                 \n",
       "01001            01400  L'ABERGEMENT-CLEMENCIAT         AIN  RHONE-ALPES   \n",
       "01002            01640    L'ABERGEMENT-DE-VAREY         AIN  RHONE-ALPES   \n",
       "01004            01500        AMBERIEU-EN-BUGEY         AIN  RHONE-ALPES   \n",
       "01005            01330      AMBERIEUX-EN-DOMBES         AIN  RHONE-ALPES   \n",
       "01006            01300                  AMBLEON         AIN  RHONE-ALPES   \n",
       "\n",
       "                      Statut  Altitude Moyenne  Superficie  Population  \\\n",
       "Code INSEE                                                               \n",
       "01001         Commune simple             242.0      1565.0         0.8   \n",
       "01002         Commune simple             483.0       912.0         0.2   \n",
       "01004       Chef-lieu canton             379.0      2448.0        13.4   \n",
       "01005         Commune simple             290.0      1605.0         1.6   \n",
       "01006         Commune simple             589.0       602.0         0.1   \n",
       "\n",
       "                            geo_point_2d  \\\n",
       "Code INSEE                                 \n",
       "01001       46.1534255214, 4.92611354223   \n",
       "01002       46.0091878776, 5.42801696363   \n",
       "01004        45.9608475114, 5.3729257777   \n",
       "01005       45.9961799872, 4.91227250796   \n",
       "01006       45.7494989044, 5.59432017366   \n",
       "\n",
       "                                                    geo_shape  \n",
       "Code INSEE                                                     \n",
       "01001       {\"type\": \"Polygon\", \"coordinates\": [[[4.926273...  \n",
       "01002       {\"type\": \"Polygon\", \"coordinates\": [[[5.430089...  \n",
       "01004       {\"type\": \"Polygon\", \"coordinates\": [[[5.386190...  \n",
       "01005       {\"type\": \"Polygon\", \"coordinates\": [[[4.895580...  \n",
       "01006       {\"type\": \"Polygon\", \"coordinates\": [[[5.614854...  "
      ]
     },
     "execution_count": 99,
     "metadata": {},
     "output_type": "execute_result"
    }
   ],
   "source": [
    "# tri selon l'index\n",
    "geo = geo.sort_index()\n",
    "geo.head()"
   ]
  },
  {
   "cell_type": "markdown",
   "metadata": {},
   "source": [
    "### Modification de colonnes et conversions"
   ]
  },
  {
   "cell_type": "code",
   "execution_count": 100,
   "metadata": {
    "scrolled": false
   },
   "outputs": [
    {
     "data": {
      "text/html": [
       "<div>\n",
       "<style scoped>\n",
       "    .dataframe tbody tr th:only-of-type {\n",
       "        vertical-align: middle;\n",
       "    }\n",
       "\n",
       "    .dataframe tbody tr th {\n",
       "        vertical-align: top;\n",
       "    }\n",
       "\n",
       "    .dataframe thead th {\n",
       "        text-align: right;\n",
       "    }\n",
       "</style>\n",
       "<table border=\"1\" class=\"dataframe\">\n",
       "  <thead>\n",
       "    <tr style=\"text-align: right;\">\n",
       "      <th></th>\n",
       "      <th>Code Postal</th>\n",
       "      <th>Commune</th>\n",
       "      <th>Département</th>\n",
       "      <th>Région</th>\n",
       "      <th>Statut</th>\n",
       "      <th>Altitude Moyenne</th>\n",
       "      <th>Superficie</th>\n",
       "      <th>Population</th>\n",
       "      <th>geo_point_2d</th>\n",
       "      <th>geo_shape</th>\n",
       "    </tr>\n",
       "    <tr>\n",
       "      <th>Code INSEE</th>\n",
       "      <th></th>\n",
       "      <th></th>\n",
       "      <th></th>\n",
       "      <th></th>\n",
       "      <th></th>\n",
       "      <th></th>\n",
       "      <th></th>\n",
       "      <th></th>\n",
       "      <th></th>\n",
       "      <th></th>\n",
       "    </tr>\n",
       "  </thead>\n",
       "  <tbody>\n",
       "    <tr>\n",
       "      <th>01001</th>\n",
       "      <td>01400</td>\n",
       "      <td>L'ABERGEMENT-CLEMENCIAT</td>\n",
       "      <td>AIN</td>\n",
       "      <td>RHONE-ALPES</td>\n",
       "      <td>Commune simple</td>\n",
       "      <td>242.0</td>\n",
       "      <td>15.65</td>\n",
       "      <td>0.8</td>\n",
       "      <td>46.1534255214, 4.92611354223</td>\n",
       "      <td>{\"type\": \"Polygon\", \"coordinates\": [[[4.926273...</td>\n",
       "    </tr>\n",
       "    <tr>\n",
       "      <th>01002</th>\n",
       "      <td>01640</td>\n",
       "      <td>L'ABERGEMENT-DE-VAREY</td>\n",
       "      <td>AIN</td>\n",
       "      <td>RHONE-ALPES</td>\n",
       "      <td>Commune simple</td>\n",
       "      <td>483.0</td>\n",
       "      <td>9.12</td>\n",
       "      <td>0.2</td>\n",
       "      <td>46.0091878776, 5.42801696363</td>\n",
       "      <td>{\"type\": \"Polygon\", \"coordinates\": [[[5.430089...</td>\n",
       "    </tr>\n",
       "    <tr>\n",
       "      <th>01004</th>\n",
       "      <td>01500</td>\n",
       "      <td>AMBERIEU-EN-BUGEY</td>\n",
       "      <td>AIN</td>\n",
       "      <td>RHONE-ALPES</td>\n",
       "      <td>Chef-lieu canton</td>\n",
       "      <td>379.0</td>\n",
       "      <td>24.48</td>\n",
       "      <td>13.4</td>\n",
       "      <td>45.9608475114, 5.3729257777</td>\n",
       "      <td>{\"type\": \"Polygon\", \"coordinates\": [[[5.386190...</td>\n",
       "    </tr>\n",
       "    <tr>\n",
       "      <th>01005</th>\n",
       "      <td>01330</td>\n",
       "      <td>AMBERIEUX-EN-DOMBES</td>\n",
       "      <td>AIN</td>\n",
       "      <td>RHONE-ALPES</td>\n",
       "      <td>Commune simple</td>\n",
       "      <td>290.0</td>\n",
       "      <td>16.05</td>\n",
       "      <td>1.6</td>\n",
       "      <td>45.9961799872, 4.91227250796</td>\n",
       "      <td>{\"type\": \"Polygon\", \"coordinates\": [[[4.895580...</td>\n",
       "    </tr>\n",
       "    <tr>\n",
       "      <th>01006</th>\n",
       "      <td>01300</td>\n",
       "      <td>AMBLEON</td>\n",
       "      <td>AIN</td>\n",
       "      <td>RHONE-ALPES</td>\n",
       "      <td>Commune simple</td>\n",
       "      <td>589.0</td>\n",
       "      <td>6.02</td>\n",
       "      <td>0.1</td>\n",
       "      <td>45.7494989044, 5.59432017366</td>\n",
       "      <td>{\"type\": \"Polygon\", \"coordinates\": [[[5.614854...</td>\n",
       "    </tr>\n",
       "  </tbody>\n",
       "</table>\n",
       "</div>"
      ],
      "text/plain": [
       "           Code Postal                  Commune Département       Région  \\\n",
       "Code INSEE                                                                 \n",
       "01001            01400  L'ABERGEMENT-CLEMENCIAT         AIN  RHONE-ALPES   \n",
       "01002            01640    L'ABERGEMENT-DE-VAREY         AIN  RHONE-ALPES   \n",
       "01004            01500        AMBERIEU-EN-BUGEY         AIN  RHONE-ALPES   \n",
       "01005            01330      AMBERIEUX-EN-DOMBES         AIN  RHONE-ALPES   \n",
       "01006            01300                  AMBLEON         AIN  RHONE-ALPES   \n",
       "\n",
       "                      Statut  Altitude Moyenne  Superficie  Population  \\\n",
       "Code INSEE                                                               \n",
       "01001         Commune simple             242.0       15.65         0.8   \n",
       "01002         Commune simple             483.0        9.12         0.2   \n",
       "01004       Chef-lieu canton             379.0       24.48        13.4   \n",
       "01005         Commune simple             290.0       16.05         1.6   \n",
       "01006         Commune simple             589.0        6.02         0.1   \n",
       "\n",
       "                            geo_point_2d  \\\n",
       "Code INSEE                                 \n",
       "01001       46.1534255214, 4.92611354223   \n",
       "01002       46.0091878776, 5.42801696363   \n",
       "01004        45.9608475114, 5.3729257777   \n",
       "01005       45.9961799872, 4.91227250796   \n",
       "01006       45.7494989044, 5.59432017366   \n",
       "\n",
       "                                                    geo_shape  \n",
       "Code INSEE                                                     \n",
       "01001       {\"type\": \"Polygon\", \"coordinates\": [[[4.926273...  \n",
       "01002       {\"type\": \"Polygon\", \"coordinates\": [[[5.430089...  \n",
       "01004       {\"type\": \"Polygon\", \"coordinates\": [[[5.386190...  \n",
       "01005       {\"type\": \"Polygon\", \"coordinates\": [[[4.895580...  \n",
       "01006       {\"type\": \"Polygon\", \"coordinates\": [[[5.614854...  "
      ]
     },
     "execution_count": 100,
     "metadata": {},
     "output_type": "execute_result"
    }
   ],
   "source": [
    "# la superficie des communes est en hectares, on la passe en km2\n",
    "geo[\"Superficie\"] = geo[\"Superficie\"] / 100.0  # ou bien geo[\"Superficie\"] /= 100.0\n",
    "geo.head()"
   ]
  },
  {
   "cell_type": "code",
   "execution_count": null,
   "metadata": {},
   "outputs": [],
   "source": [
    "# astype : méthode de Series, DataFrame .astype(int) .apply(int) .apply(lambda x: int(x))\n",
    "# int() : fonction qui convertit une valeur en entier"
   ]
  },
  {
   "cell_type": "code",
   "execution_count": 101,
   "metadata": {
    "scrolled": false
   },
   "outputs": [
    {
     "data": {
      "text/html": [
       "<div>\n",
       "<style scoped>\n",
       "    .dataframe tbody tr th:only-of-type {\n",
       "        vertical-align: middle;\n",
       "    }\n",
       "\n",
       "    .dataframe tbody tr th {\n",
       "        vertical-align: top;\n",
       "    }\n",
       "\n",
       "    .dataframe thead th {\n",
       "        text-align: right;\n",
       "    }\n",
       "</style>\n",
       "<table border=\"1\" class=\"dataframe\">\n",
       "  <thead>\n",
       "    <tr style=\"text-align: right;\">\n",
       "      <th></th>\n",
       "      <th>Code Postal</th>\n",
       "      <th>Commune</th>\n",
       "      <th>Département</th>\n",
       "      <th>Région</th>\n",
       "      <th>Statut</th>\n",
       "      <th>Altitude Moyenne</th>\n",
       "      <th>Superficie</th>\n",
       "      <th>Population</th>\n",
       "      <th>geo_point_2d</th>\n",
       "      <th>geo_shape</th>\n",
       "    </tr>\n",
       "    <tr>\n",
       "      <th>Code INSEE</th>\n",
       "      <th></th>\n",
       "      <th></th>\n",
       "      <th></th>\n",
       "      <th></th>\n",
       "      <th></th>\n",
       "      <th></th>\n",
       "      <th></th>\n",
       "      <th></th>\n",
       "      <th></th>\n",
       "      <th></th>\n",
       "    </tr>\n",
       "  </thead>\n",
       "  <tbody>\n",
       "    <tr>\n",
       "      <th>01001</th>\n",
       "      <td>01400</td>\n",
       "      <td>L'ABERGEMENT-CLEMENCIAT</td>\n",
       "      <td>AIN</td>\n",
       "      <td>RHONE-ALPES</td>\n",
       "      <td>Commune simple</td>\n",
       "      <td>242</td>\n",
       "      <td>15.65</td>\n",
       "      <td>0.8</td>\n",
       "      <td>46.1534255214, 4.92611354223</td>\n",
       "      <td>{\"type\": \"Polygon\", \"coordinates\": [[[4.926273...</td>\n",
       "    </tr>\n",
       "    <tr>\n",
       "      <th>01002</th>\n",
       "      <td>01640</td>\n",
       "      <td>L'ABERGEMENT-DE-VAREY</td>\n",
       "      <td>AIN</td>\n",
       "      <td>RHONE-ALPES</td>\n",
       "      <td>Commune simple</td>\n",
       "      <td>483</td>\n",
       "      <td>9.12</td>\n",
       "      <td>0.2</td>\n",
       "      <td>46.0091878776, 5.42801696363</td>\n",
       "      <td>{\"type\": \"Polygon\", \"coordinates\": [[[5.430089...</td>\n",
       "    </tr>\n",
       "    <tr>\n",
       "      <th>01004</th>\n",
       "      <td>01500</td>\n",
       "      <td>AMBERIEU-EN-BUGEY</td>\n",
       "      <td>AIN</td>\n",
       "      <td>RHONE-ALPES</td>\n",
       "      <td>Chef-lieu canton</td>\n",
       "      <td>379</td>\n",
       "      <td>24.48</td>\n",
       "      <td>13.4</td>\n",
       "      <td>45.9608475114, 5.3729257777</td>\n",
       "      <td>{\"type\": \"Polygon\", \"coordinates\": [[[5.386190...</td>\n",
       "    </tr>\n",
       "    <tr>\n",
       "      <th>01005</th>\n",
       "      <td>01330</td>\n",
       "      <td>AMBERIEUX-EN-DOMBES</td>\n",
       "      <td>AIN</td>\n",
       "      <td>RHONE-ALPES</td>\n",
       "      <td>Commune simple</td>\n",
       "      <td>290</td>\n",
       "      <td>16.05</td>\n",
       "      <td>1.6</td>\n",
       "      <td>45.9961799872, 4.91227250796</td>\n",
       "      <td>{\"type\": \"Polygon\", \"coordinates\": [[[4.895580...</td>\n",
       "    </tr>\n",
       "    <tr>\n",
       "      <th>01006</th>\n",
       "      <td>01300</td>\n",
       "      <td>AMBLEON</td>\n",
       "      <td>AIN</td>\n",
       "      <td>RHONE-ALPES</td>\n",
       "      <td>Commune simple</td>\n",
       "      <td>589</td>\n",
       "      <td>6.02</td>\n",
       "      <td>0.1</td>\n",
       "      <td>45.7494989044, 5.59432017366</td>\n",
       "      <td>{\"type\": \"Polygon\", \"coordinates\": [[[5.614854...</td>\n",
       "    </tr>\n",
       "  </tbody>\n",
       "</table>\n",
       "</div>"
      ],
      "text/plain": [
       "           Code Postal                  Commune Département       Région  \\\n",
       "Code INSEE                                                                 \n",
       "01001            01400  L'ABERGEMENT-CLEMENCIAT         AIN  RHONE-ALPES   \n",
       "01002            01640    L'ABERGEMENT-DE-VAREY         AIN  RHONE-ALPES   \n",
       "01004            01500        AMBERIEU-EN-BUGEY         AIN  RHONE-ALPES   \n",
       "01005            01330      AMBERIEUX-EN-DOMBES         AIN  RHONE-ALPES   \n",
       "01006            01300                  AMBLEON         AIN  RHONE-ALPES   \n",
       "\n",
       "                      Statut  Altitude Moyenne  Superficie  Population  \\\n",
       "Code INSEE                                                               \n",
       "01001         Commune simple               242       15.65         0.8   \n",
       "01002         Commune simple               483        9.12         0.2   \n",
       "01004       Chef-lieu canton               379       24.48        13.4   \n",
       "01005         Commune simple               290       16.05         1.6   \n",
       "01006         Commune simple               589        6.02         0.1   \n",
       "\n",
       "                            geo_point_2d  \\\n",
       "Code INSEE                                 \n",
       "01001       46.1534255214, 4.92611354223   \n",
       "01002       46.0091878776, 5.42801696363   \n",
       "01004        45.9608475114, 5.3729257777   \n",
       "01005       45.9961799872, 4.91227250796   \n",
       "01006       45.7494989044, 5.59432017366   \n",
       "\n",
       "                                                    geo_shape  \n",
       "Code INSEE                                                     \n",
       "01001       {\"type\": \"Polygon\", \"coordinates\": [[[4.926273...  \n",
       "01002       {\"type\": \"Polygon\", \"coordinates\": [[[5.430089...  \n",
       "01004       {\"type\": \"Polygon\", \"coordinates\": [[[5.386190...  \n",
       "01005       {\"type\": \"Polygon\", \"coordinates\": [[[4.895580...  \n",
       "01006       {\"type\": \"Polygon\", \"coordinates\": [[[5.614854...  "
      ]
     },
     "execution_count": 101,
     "metadata": {},
     "output_type": "execute_result"
    }
   ],
   "source": [
    "# exemple de conversion\n",
    "geo[\"Altitude Moyenne\"] = geo[\"Altitude Moyenne\"].astype(int)\n",
    "geo.head()"
   ]
  },
  {
   "cell_type": "code",
   "execution_count": 102,
   "metadata": {
    "scrolled": false
   },
   "outputs": [
    {
     "name": "stdout",
     "output_type": "stream",
     "text": [
      "<class 'pandas.core.frame.DataFrame'>\n",
      "Index: 36742 entries, 01001 to 97617\n",
      "Data columns (total 10 columns):\n",
      " #   Column            Non-Null Count  Dtype  \n",
      "---  ------            --------------  -----  \n",
      " 0   Code Postal       36742 non-null  object \n",
      " 1   Commune           36742 non-null  object \n",
      " 2   Département       36742 non-null  object \n",
      " 3   Région            36742 non-null  object \n",
      " 4   Statut            36742 non-null  object \n",
      " 5   Altitude Moyenne  36742 non-null  int32  \n",
      " 6   Superficie        36742 non-null  float64\n",
      " 7   Population        36742 non-null  float64\n",
      " 8   geo_point_2d      36742 non-null  object \n",
      " 9   geo_shape         36742 non-null  object \n",
      "dtypes: float64(2), int32(1), object(7)\n",
      "memory usage: 2.9+ MB\n"
     ]
    }
   ],
   "source": [
    "# info\n",
    "geo.info()"
   ]
  },
  {
   "cell_type": "code",
   "execution_count": 103,
   "metadata": {},
   "outputs": [
    {
     "data": {
      "text/plain": [
       "Commune simple          33421\n",
       "Chef-lieu canton         2980\n",
       "Sous-préfecture           240\n",
       "Préfecture                 74\n",
       "Préfecture de région       26\n",
       "Capitale d'état             1\n",
       "Name: Statut, dtype: int64"
      ]
     },
     "execution_count": 103,
     "metadata": {},
     "output_type": "execute_result"
    }
   ],
   "source": [
    "# statuts\n",
    "geo[\"Statut\"].value_counts()"
   ]
  },
  {
   "cell_type": "code",
   "execution_count": 104,
   "metadata": {
    "scrolled": false
   },
   "outputs": [
    {
     "name": "stdout",
     "output_type": "stream",
     "text": [
      "<class 'pandas.core.frame.DataFrame'>\n",
      "Index: 36742 entries, 01001 to 97617\n",
      "Data columns (total 10 columns):\n",
      " #   Column            Non-Null Count  Dtype   \n",
      "---  ------            --------------  -----   \n",
      " 0   Code Postal       36742 non-null  object  \n",
      " 1   Commune           36742 non-null  object  \n",
      " 2   Département       36742 non-null  object  \n",
      " 3   Région            36742 non-null  object  \n",
      " 4   Statut            36742 non-null  category\n",
      " 5   Altitude Moyenne  36742 non-null  int32   \n",
      " 6   Superficie        36742 non-null  float64 \n",
      " 7   Population        36742 non-null  float64 \n",
      " 8   geo_point_2d      36742 non-null  object  \n",
      " 9   geo_shape         36742 non-null  object  \n",
      "dtypes: category(1), float64(2), int32(1), object(6)\n",
      "memory usage: 2.7+ MB\n"
     ]
    }
   ],
   "source": [
    "# conversion de la colonne Statut en catégorie\n",
    "\n",
    "from pandas import CategoricalDtype\n",
    "\n",
    "statuts = [\"Commune simple\", \"Chef-lieu canton\", \"Sous-préfecture\",\n",
    "            \"Préfecture\", \"Préfecture de région\", \"Capitale d'état\"]\n",
    "\n",
    "cat_statut = CategoricalDtype(categories=statuts, ordered=True)\n",
    "\n",
    "geo[\"Statut\"] = geo[\"Statut\"].astype(cat_statut)\n",
    "\n",
    "geo.info()"
   ]
  },
  {
   "cell_type": "code",
   "execution_count": 105,
   "metadata": {},
   "outputs": [
    {
     "data": {
      "text/plain": [
       "Code INSEE\n",
       "01001      Commune simple\n",
       "01002      Commune simple\n",
       "01004    Chef-lieu canton\n",
       "01005      Commune simple\n",
       "01006      Commune simple\n",
       "01007      Commune simple\n",
       "01008      Commune simple\n",
       "01009      Commune simple\n",
       "               ...       \n",
       "97610    Chef-lieu canton\n",
       "97611     Sous-préfecture\n",
       "97612    Chef-lieu canton\n",
       "97613    Chef-lieu canton\n",
       "97614    Chef-lieu canton\n",
       "97615    Chef-lieu canton\n",
       "97616    Chef-lieu canton\n",
       "97617    Chef-lieu canton\n",
       "Name: Statut, Length: 36742, dtype: category\n",
       "Categories (6, object): ['Commune simple' < 'Chef-lieu canton' < 'Sous-préfecture' < 'Préfecture' < 'Préfecture de région' < 'Capitale d'état']"
      ]
     },
     "execution_count": 105,
     "metadata": {},
     "output_type": "execute_result"
    }
   ],
   "source": [
    "geo[\"Statut\"]"
   ]
  },
  {
   "cell_type": "code",
   "execution_count": null,
   "metadata": {},
   "outputs": [],
   "source": [
    "# low medium high"
   ]
  },
  {
   "cell_type": "markdown",
   "metadata": {},
   "source": [
    "### Ajout de colonnes"
   ]
  },
  {
   "cell_type": "code",
   "execution_count": 106,
   "metadata": {
    "scrolled": false
   },
   "outputs": [
    {
     "data": {
      "text/html": [
       "<div>\n",
       "<style scoped>\n",
       "    .dataframe tbody tr th:only-of-type {\n",
       "        vertical-align: middle;\n",
       "    }\n",
       "\n",
       "    .dataframe tbody tr th {\n",
       "        vertical-align: top;\n",
       "    }\n",
       "\n",
       "    .dataframe thead th {\n",
       "        text-align: right;\n",
       "    }\n",
       "</style>\n",
       "<table border=\"1\" class=\"dataframe\">\n",
       "  <thead>\n",
       "    <tr style=\"text-align: right;\">\n",
       "      <th></th>\n",
       "      <th>Code Postal</th>\n",
       "      <th>Commune</th>\n",
       "      <th>Département</th>\n",
       "      <th>Région</th>\n",
       "      <th>Statut</th>\n",
       "      <th>Altitude Moyenne</th>\n",
       "      <th>Superficie</th>\n",
       "      <th>Population</th>\n",
       "      <th>geo_point_2d</th>\n",
       "      <th>geo_shape</th>\n",
       "      <th>Densité</th>\n",
       "    </tr>\n",
       "    <tr>\n",
       "      <th>Code INSEE</th>\n",
       "      <th></th>\n",
       "      <th></th>\n",
       "      <th></th>\n",
       "      <th></th>\n",
       "      <th></th>\n",
       "      <th></th>\n",
       "      <th></th>\n",
       "      <th></th>\n",
       "      <th></th>\n",
       "      <th></th>\n",
       "      <th></th>\n",
       "    </tr>\n",
       "  </thead>\n",
       "  <tbody>\n",
       "    <tr>\n",
       "      <th>01001</th>\n",
       "      <td>01400</td>\n",
       "      <td>L'ABERGEMENT-CLEMENCIAT</td>\n",
       "      <td>AIN</td>\n",
       "      <td>RHONE-ALPES</td>\n",
       "      <td>Commune simple</td>\n",
       "      <td>242</td>\n",
       "      <td>15.65</td>\n",
       "      <td>0.8</td>\n",
       "      <td>46.1534255214, 4.92611354223</td>\n",
       "      <td>{\"type\": \"Polygon\", \"coordinates\": [[[4.926273...</td>\n",
       "      <td>51.118211</td>\n",
       "    </tr>\n",
       "    <tr>\n",
       "      <th>01002</th>\n",
       "      <td>01640</td>\n",
       "      <td>L'ABERGEMENT-DE-VAREY</td>\n",
       "      <td>AIN</td>\n",
       "      <td>RHONE-ALPES</td>\n",
       "      <td>Commune simple</td>\n",
       "      <td>483</td>\n",
       "      <td>9.12</td>\n",
       "      <td>0.2</td>\n",
       "      <td>46.0091878776, 5.42801696363</td>\n",
       "      <td>{\"type\": \"Polygon\", \"coordinates\": [[[5.430089...</td>\n",
       "      <td>21.929825</td>\n",
       "    </tr>\n",
       "    <tr>\n",
       "      <th>01004</th>\n",
       "      <td>01500</td>\n",
       "      <td>AMBERIEU-EN-BUGEY</td>\n",
       "      <td>AIN</td>\n",
       "      <td>RHONE-ALPES</td>\n",
       "      <td>Chef-lieu canton</td>\n",
       "      <td>379</td>\n",
       "      <td>24.48</td>\n",
       "      <td>13.4</td>\n",
       "      <td>45.9608475114, 5.3729257777</td>\n",
       "      <td>{\"type\": \"Polygon\", \"coordinates\": [[[5.386190...</td>\n",
       "      <td>547.385621</td>\n",
       "    </tr>\n",
       "    <tr>\n",
       "      <th>01005</th>\n",
       "      <td>01330</td>\n",
       "      <td>AMBERIEUX-EN-DOMBES</td>\n",
       "      <td>AIN</td>\n",
       "      <td>RHONE-ALPES</td>\n",
       "      <td>Commune simple</td>\n",
       "      <td>290</td>\n",
       "      <td>16.05</td>\n",
       "      <td>1.6</td>\n",
       "      <td>45.9961799872, 4.91227250796</td>\n",
       "      <td>{\"type\": \"Polygon\", \"coordinates\": [[[4.895580...</td>\n",
       "      <td>99.688474</td>\n",
       "    </tr>\n",
       "    <tr>\n",
       "      <th>01006</th>\n",
       "      <td>01300</td>\n",
       "      <td>AMBLEON</td>\n",
       "      <td>AIN</td>\n",
       "      <td>RHONE-ALPES</td>\n",
       "      <td>Commune simple</td>\n",
       "      <td>589</td>\n",
       "      <td>6.02</td>\n",
       "      <td>0.1</td>\n",
       "      <td>45.7494989044, 5.59432017366</td>\n",
       "      <td>{\"type\": \"Polygon\", \"coordinates\": [[[5.614854...</td>\n",
       "      <td>16.611296</td>\n",
       "    </tr>\n",
       "  </tbody>\n",
       "</table>\n",
       "</div>"
      ],
      "text/plain": [
       "           Code Postal                  Commune Département       Région  \\\n",
       "Code INSEE                                                                 \n",
       "01001            01400  L'ABERGEMENT-CLEMENCIAT         AIN  RHONE-ALPES   \n",
       "01002            01640    L'ABERGEMENT-DE-VAREY         AIN  RHONE-ALPES   \n",
       "01004            01500        AMBERIEU-EN-BUGEY         AIN  RHONE-ALPES   \n",
       "01005            01330      AMBERIEUX-EN-DOMBES         AIN  RHONE-ALPES   \n",
       "01006            01300                  AMBLEON         AIN  RHONE-ALPES   \n",
       "\n",
       "                      Statut  Altitude Moyenne  Superficie  Population  \\\n",
       "Code INSEE                                                               \n",
       "01001         Commune simple               242       15.65         0.8   \n",
       "01002         Commune simple               483        9.12         0.2   \n",
       "01004       Chef-lieu canton               379       24.48        13.4   \n",
       "01005         Commune simple               290       16.05         1.6   \n",
       "01006         Commune simple               589        6.02         0.1   \n",
       "\n",
       "                            geo_point_2d  \\\n",
       "Code INSEE                                 \n",
       "01001       46.1534255214, 4.92611354223   \n",
       "01002       46.0091878776, 5.42801696363   \n",
       "01004        45.9608475114, 5.3729257777   \n",
       "01005       45.9961799872, 4.91227250796   \n",
       "01006       45.7494989044, 5.59432017366   \n",
       "\n",
       "                                                    geo_shape     Densité  \n",
       "Code INSEE                                                                 \n",
       "01001       {\"type\": \"Polygon\", \"coordinates\": [[[4.926273...   51.118211  \n",
       "01002       {\"type\": \"Polygon\", \"coordinates\": [[[5.430089...   21.929825  \n",
       "01004       {\"type\": \"Polygon\", \"coordinates\": [[[5.386190...  547.385621  \n",
       "01005       {\"type\": \"Polygon\", \"coordinates\": [[[4.895580...   99.688474  \n",
       "01006       {\"type\": \"Polygon\", \"coordinates\": [[[5.614854...   16.611296  "
      ]
     },
     "execution_count": 106,
     "metadata": {},
     "output_type": "execute_result"
    }
   ],
   "source": [
    "# on ajoute la colonne \"Densité\"\n",
    "geo[\"Densité\"] = 1000 * geo[\"Population\"] / geo[\"Superficie\"]\n",
    "geo.head()"
   ]
  },
  {
   "cell_type": "markdown",
   "metadata": {},
   "source": [
    "### Extraction d'informations"
   ]
  },
  {
   "cell_type": "code",
   "execution_count": 107,
   "metadata": {},
   "outputs": [
    {
     "data": {
      "text/html": [
       "<div>\n",
       "<style scoped>\n",
       "    .dataframe tbody tr th:only-of-type {\n",
       "        vertical-align: middle;\n",
       "    }\n",
       "\n",
       "    .dataframe tbody tr th {\n",
       "        vertical-align: top;\n",
       "    }\n",
       "\n",
       "    .dataframe thead th {\n",
       "        text-align: right;\n",
       "    }\n",
       "</style>\n",
       "<table border=\"1\" class=\"dataframe\">\n",
       "  <thead>\n",
       "    <tr style=\"text-align: right;\">\n",
       "      <th></th>\n",
       "      <th>Code Postal</th>\n",
       "      <th>Commune</th>\n",
       "      <th>Département</th>\n",
       "      <th>Région</th>\n",
       "      <th>Statut</th>\n",
       "      <th>Altitude Moyenne</th>\n",
       "      <th>Superficie</th>\n",
       "      <th>Population</th>\n",
       "      <th>geo_point_2d</th>\n",
       "      <th>geo_shape</th>\n",
       "      <th>Densité</th>\n",
       "    </tr>\n",
       "    <tr>\n",
       "      <th>Code INSEE</th>\n",
       "      <th></th>\n",
       "      <th></th>\n",
       "      <th></th>\n",
       "      <th></th>\n",
       "      <th></th>\n",
       "      <th></th>\n",
       "      <th></th>\n",
       "      <th></th>\n",
       "      <th></th>\n",
       "      <th></th>\n",
       "      <th></th>\n",
       "    </tr>\n",
       "  </thead>\n",
       "  <tbody>\n",
       "    <tr>\n",
       "      <th>01001</th>\n",
       "      <td>01400</td>\n",
       "      <td>L'ABERGEMENT-CLEMENCIAT</td>\n",
       "      <td>AIN</td>\n",
       "      <td>RHONE-ALPES</td>\n",
       "      <td>Commune simple</td>\n",
       "      <td>242</td>\n",
       "      <td>15.65</td>\n",
       "      <td>0.8</td>\n",
       "      <td>46.1534255214, 4.92611354223</td>\n",
       "      <td>{\"type\": \"Polygon\", \"coordinates\": [[[4.926273...</td>\n",
       "      <td>51.118211</td>\n",
       "    </tr>\n",
       "    <tr>\n",
       "      <th>01002</th>\n",
       "      <td>01640</td>\n",
       "      <td>L'ABERGEMENT-DE-VAREY</td>\n",
       "      <td>AIN</td>\n",
       "      <td>RHONE-ALPES</td>\n",
       "      <td>Commune simple</td>\n",
       "      <td>483</td>\n",
       "      <td>9.12</td>\n",
       "      <td>0.2</td>\n",
       "      <td>46.0091878776, 5.42801696363</td>\n",
       "      <td>{\"type\": \"Polygon\", \"coordinates\": [[[5.430089...</td>\n",
       "      <td>21.929825</td>\n",
       "    </tr>\n",
       "    <tr>\n",
       "      <th>01004</th>\n",
       "      <td>01500</td>\n",
       "      <td>AMBERIEU-EN-BUGEY</td>\n",
       "      <td>AIN</td>\n",
       "      <td>RHONE-ALPES</td>\n",
       "      <td>Chef-lieu canton</td>\n",
       "      <td>379</td>\n",
       "      <td>24.48</td>\n",
       "      <td>13.4</td>\n",
       "      <td>45.9608475114, 5.3729257777</td>\n",
       "      <td>{\"type\": \"Polygon\", \"coordinates\": [[[5.386190...</td>\n",
       "      <td>547.385621</td>\n",
       "    </tr>\n",
       "    <tr>\n",
       "      <th>01005</th>\n",
       "      <td>01330</td>\n",
       "      <td>AMBERIEUX-EN-DOMBES</td>\n",
       "      <td>AIN</td>\n",
       "      <td>RHONE-ALPES</td>\n",
       "      <td>Commune simple</td>\n",
       "      <td>290</td>\n",
       "      <td>16.05</td>\n",
       "      <td>1.6</td>\n",
       "      <td>45.9961799872, 4.91227250796</td>\n",
       "      <td>{\"type\": \"Polygon\", \"coordinates\": [[[4.895580...</td>\n",
       "      <td>99.688474</td>\n",
       "    </tr>\n",
       "    <tr>\n",
       "      <th>01006</th>\n",
       "      <td>01300</td>\n",
       "      <td>AMBLEON</td>\n",
       "      <td>AIN</td>\n",
       "      <td>RHONE-ALPES</td>\n",
       "      <td>Commune simple</td>\n",
       "      <td>589</td>\n",
       "      <td>6.02</td>\n",
       "      <td>0.1</td>\n",
       "      <td>45.7494989044, 5.59432017366</td>\n",
       "      <td>{\"type\": \"Polygon\", \"coordinates\": [[[5.614854...</td>\n",
       "      <td>16.611296</td>\n",
       "    </tr>\n",
       "  </tbody>\n",
       "</table>\n",
       "</div>"
      ],
      "text/plain": [
       "           Code Postal                  Commune Département       Région  \\\n",
       "Code INSEE                                                                 \n",
       "01001            01400  L'ABERGEMENT-CLEMENCIAT         AIN  RHONE-ALPES   \n",
       "01002            01640    L'ABERGEMENT-DE-VAREY         AIN  RHONE-ALPES   \n",
       "01004            01500        AMBERIEU-EN-BUGEY         AIN  RHONE-ALPES   \n",
       "01005            01330      AMBERIEUX-EN-DOMBES         AIN  RHONE-ALPES   \n",
       "01006            01300                  AMBLEON         AIN  RHONE-ALPES   \n",
       "\n",
       "                      Statut  Altitude Moyenne  Superficie  Population  \\\n",
       "Code INSEE                                                               \n",
       "01001         Commune simple               242       15.65         0.8   \n",
       "01002         Commune simple               483        9.12         0.2   \n",
       "01004       Chef-lieu canton               379       24.48        13.4   \n",
       "01005         Commune simple               290       16.05         1.6   \n",
       "01006         Commune simple               589        6.02         0.1   \n",
       "\n",
       "                            geo_point_2d  \\\n",
       "Code INSEE                                 \n",
       "01001       46.1534255214, 4.92611354223   \n",
       "01002       46.0091878776, 5.42801696363   \n",
       "01004        45.9608475114, 5.3729257777   \n",
       "01005       45.9961799872, 4.91227250796   \n",
       "01006       45.7494989044, 5.59432017366   \n",
       "\n",
       "                                                    geo_shape     Densité  \n",
       "Code INSEE                                                                 \n",
       "01001       {\"type\": \"Polygon\", \"coordinates\": [[[4.926273...   51.118211  \n",
       "01002       {\"type\": \"Polygon\", \"coordinates\": [[[5.430089...   21.929825  \n",
       "01004       {\"type\": \"Polygon\", \"coordinates\": [[[5.386190...  547.385621  \n",
       "01005       {\"type\": \"Polygon\", \"coordinates\": [[[4.895580...   99.688474  \n",
       "01006       {\"type\": \"Polygon\", \"coordinates\": [[[5.614854...   16.611296  "
      ]
     },
     "execution_count": 107,
     "metadata": {},
     "output_type": "execute_result"
    }
   ],
   "source": [
    "# reset de l'index\n",
    "geo = geo.reset_index()\n",
    "geo = geo.set_index('Code INSEE', drop=True)\n",
    "geo.head()"
   ]
  },
  {
   "cell_type": "code",
   "execution_count": 108,
   "metadata": {},
   "outputs": [
    {
     "data": {
      "text/plain": [
       "Code INSEE\n",
       "01001     46.1534255214, 4.92611354223\n",
       "01002     46.0091878776, 5.42801696363\n",
       "01004      45.9608475114, 5.3729257777\n",
       "01005     45.9961799872, 4.91227250796\n",
       "01006     45.7494989044, 5.59432017366\n",
       "01007     46.0055913782, 5.35760660735\n",
       "01008      45.9367134524, 5.3328092349\n",
       "01009     45.7873565333, 5.65788307924\n",
       "                     ...              \n",
       "97610    -12.7465604467, 45.1869991913\n",
       "97611    -12.7899979586, 45.1932456026\n",
       "97612    -12.6875073612, 45.0736802335\n",
       "97613    -12.7513099309, 45.0871696871\n",
       "97614    -12.8370955196, 45.1379095497\n",
       "97615    -12.7961353309, 45.2842063102\n",
       "97616    -12.8611649609, 45.1185503145\n",
       "97617    -12.7821666736, 45.1344279083\n",
       "Name: geo_point_2d, Length: 36742, dtype: object"
      ]
     },
     "execution_count": 108,
     "metadata": {},
     "output_type": "execute_result"
    }
   ],
   "source": [
    "# colonne \"geo_point_2d\"\n",
    "geo[\"geo_point_2d\"]"
   ]
  },
  {
   "cell_type": "code",
   "execution_count": 109,
   "metadata": {},
   "outputs": [
    {
     "data": {
      "text/plain": [
       "'46.1534255214, 4.92611354223'"
      ]
     },
     "execution_count": 109,
     "metadata": {},
     "output_type": "execute_result"
    }
   ],
   "source": [
    "# accès à une valeur \"geo_point_2d\"\n",
    "geo.at[\"01001\", \"geo_point_2d\"]"
   ]
  },
  {
   "cell_type": "code",
   "execution_count": 110,
   "metadata": {
    "scrolled": false
   },
   "outputs": [
    {
     "data": {
      "text/plain": [
       "['46.1534255214', '4.92611354223']"
      ]
     },
     "execution_count": 110,
     "metadata": {},
     "output_type": "execute_result"
    }
   ],
   "source": [
    "# application de la méthode split()\n",
    "x = geo.at[\"01001\", \"geo_point_2d\"].split(', ')\n",
    "x"
   ]
  },
  {
   "cell_type": "code",
   "execution_count": 111,
   "metadata": {
    "scrolled": false
   },
   "outputs": [
    {
     "data": {
      "text/plain": [
       "'46.1534255214'"
      ]
     },
     "execution_count": 111,
     "metadata": {},
     "output_type": "execute_result"
    }
   ],
   "source": [
    "# extraction de la latitude, indice 0 dans la liste retournée par *split()*\n",
    "x[0]  # on obtient une chaîne de caractères"
   ]
  },
  {
   "cell_type": "code",
   "execution_count": 112,
   "metadata": {
    "scrolled": false
   },
   "outputs": [
    {
     "data": {
      "text/plain": [
       "46.1534255214"
      ]
     },
     "execution_count": 112,
     "metadata": {},
     "output_type": "execute_result"
    }
   ],
   "source": [
    "float(x[0])  # on obtient enfin un nombre flottant représentant la latitude avec le convertisseur float()"
   ]
  },
  {
   "cell_type": "code",
   "execution_count": 113,
   "metadata": {
    "scrolled": false
   },
   "outputs": [
    {
     "data": {
      "text/html": [
       "<div>\n",
       "<style scoped>\n",
       "    .dataframe tbody tr th:only-of-type {\n",
       "        vertical-align: middle;\n",
       "    }\n",
       "\n",
       "    .dataframe tbody tr th {\n",
       "        vertical-align: top;\n",
       "    }\n",
       "\n",
       "    .dataframe thead th {\n",
       "        text-align: right;\n",
       "    }\n",
       "</style>\n",
       "<table border=\"1\" class=\"dataframe\">\n",
       "  <thead>\n",
       "    <tr style=\"text-align: right;\">\n",
       "      <th></th>\n",
       "      <th>Code Postal</th>\n",
       "      <th>Commune</th>\n",
       "      <th>Département</th>\n",
       "      <th>Région</th>\n",
       "      <th>Statut</th>\n",
       "      <th>Altitude Moyenne</th>\n",
       "      <th>Superficie</th>\n",
       "      <th>Population</th>\n",
       "      <th>geo_point_2d</th>\n",
       "      <th>geo_shape</th>\n",
       "      <th>Densité</th>\n",
       "      <th>Latitude</th>\n",
       "      <th>Longitude</th>\n",
       "    </tr>\n",
       "    <tr>\n",
       "      <th>Code INSEE</th>\n",
       "      <th></th>\n",
       "      <th></th>\n",
       "      <th></th>\n",
       "      <th></th>\n",
       "      <th></th>\n",
       "      <th></th>\n",
       "      <th></th>\n",
       "      <th></th>\n",
       "      <th></th>\n",
       "      <th></th>\n",
       "      <th></th>\n",
       "      <th></th>\n",
       "      <th></th>\n",
       "    </tr>\n",
       "  </thead>\n",
       "  <tbody>\n",
       "    <tr>\n",
       "      <th>01001</th>\n",
       "      <td>01400</td>\n",
       "      <td>L'ABERGEMENT-CLEMENCIAT</td>\n",
       "      <td>AIN</td>\n",
       "      <td>RHONE-ALPES</td>\n",
       "      <td>Commune simple</td>\n",
       "      <td>242</td>\n",
       "      <td>15.65</td>\n",
       "      <td>0.8</td>\n",
       "      <td>46.1534255214, 4.92611354223</td>\n",
       "      <td>{\"type\": \"Polygon\", \"coordinates\": [[[4.926273...</td>\n",
       "      <td>51.118211</td>\n",
       "      <td>46.153426</td>\n",
       "      <td>4.926114</td>\n",
       "    </tr>\n",
       "    <tr>\n",
       "      <th>01002</th>\n",
       "      <td>01640</td>\n",
       "      <td>L'ABERGEMENT-DE-VAREY</td>\n",
       "      <td>AIN</td>\n",
       "      <td>RHONE-ALPES</td>\n",
       "      <td>Commune simple</td>\n",
       "      <td>483</td>\n",
       "      <td>9.12</td>\n",
       "      <td>0.2</td>\n",
       "      <td>46.0091878776, 5.42801696363</td>\n",
       "      <td>{\"type\": \"Polygon\", \"coordinates\": [[[5.430089...</td>\n",
       "      <td>21.929825</td>\n",
       "      <td>46.009188</td>\n",
       "      <td>5.428017</td>\n",
       "    </tr>\n",
       "    <tr>\n",
       "      <th>01004</th>\n",
       "      <td>01500</td>\n",
       "      <td>AMBERIEU-EN-BUGEY</td>\n",
       "      <td>AIN</td>\n",
       "      <td>RHONE-ALPES</td>\n",
       "      <td>Chef-lieu canton</td>\n",
       "      <td>379</td>\n",
       "      <td>24.48</td>\n",
       "      <td>13.4</td>\n",
       "      <td>45.9608475114, 5.3729257777</td>\n",
       "      <td>{\"type\": \"Polygon\", \"coordinates\": [[[5.386190...</td>\n",
       "      <td>547.385621</td>\n",
       "      <td>45.960848</td>\n",
       "      <td>5.372926</td>\n",
       "    </tr>\n",
       "    <tr>\n",
       "      <th>01005</th>\n",
       "      <td>01330</td>\n",
       "      <td>AMBERIEUX-EN-DOMBES</td>\n",
       "      <td>AIN</td>\n",
       "      <td>RHONE-ALPES</td>\n",
       "      <td>Commune simple</td>\n",
       "      <td>290</td>\n",
       "      <td>16.05</td>\n",
       "      <td>1.6</td>\n",
       "      <td>45.9961799872, 4.91227250796</td>\n",
       "      <td>{\"type\": \"Polygon\", \"coordinates\": [[[4.895580...</td>\n",
       "      <td>99.688474</td>\n",
       "      <td>45.996180</td>\n",
       "      <td>4.912273</td>\n",
       "    </tr>\n",
       "    <tr>\n",
       "      <th>01006</th>\n",
       "      <td>01300</td>\n",
       "      <td>AMBLEON</td>\n",
       "      <td>AIN</td>\n",
       "      <td>RHONE-ALPES</td>\n",
       "      <td>Commune simple</td>\n",
       "      <td>589</td>\n",
       "      <td>6.02</td>\n",
       "      <td>0.1</td>\n",
       "      <td>45.7494989044, 5.59432017366</td>\n",
       "      <td>{\"type\": \"Polygon\", \"coordinates\": [[[5.614854...</td>\n",
       "      <td>16.611296</td>\n",
       "      <td>45.749499</td>\n",
       "      <td>5.594320</td>\n",
       "    </tr>\n",
       "  </tbody>\n",
       "</table>\n",
       "</div>"
      ],
      "text/plain": [
       "           Code Postal                  Commune Département       Région  \\\n",
       "Code INSEE                                                                 \n",
       "01001            01400  L'ABERGEMENT-CLEMENCIAT         AIN  RHONE-ALPES   \n",
       "01002            01640    L'ABERGEMENT-DE-VAREY         AIN  RHONE-ALPES   \n",
       "01004            01500        AMBERIEU-EN-BUGEY         AIN  RHONE-ALPES   \n",
       "01005            01330      AMBERIEUX-EN-DOMBES         AIN  RHONE-ALPES   \n",
       "01006            01300                  AMBLEON         AIN  RHONE-ALPES   \n",
       "\n",
       "                      Statut  Altitude Moyenne  Superficie  Population  \\\n",
       "Code INSEE                                                               \n",
       "01001         Commune simple               242       15.65         0.8   \n",
       "01002         Commune simple               483        9.12         0.2   \n",
       "01004       Chef-lieu canton               379       24.48        13.4   \n",
       "01005         Commune simple               290       16.05         1.6   \n",
       "01006         Commune simple               589        6.02         0.1   \n",
       "\n",
       "                            geo_point_2d  \\\n",
       "Code INSEE                                 \n",
       "01001       46.1534255214, 4.92611354223   \n",
       "01002       46.0091878776, 5.42801696363   \n",
       "01004        45.9608475114, 5.3729257777   \n",
       "01005       45.9961799872, 4.91227250796   \n",
       "01006       45.7494989044, 5.59432017366   \n",
       "\n",
       "                                                    geo_shape     Densité  \\\n",
       "Code INSEE                                                                  \n",
       "01001       {\"type\": \"Polygon\", \"coordinates\": [[[4.926273...   51.118211   \n",
       "01002       {\"type\": \"Polygon\", \"coordinates\": [[[5.430089...   21.929825   \n",
       "01004       {\"type\": \"Polygon\", \"coordinates\": [[[5.386190...  547.385621   \n",
       "01005       {\"type\": \"Polygon\", \"coordinates\": [[[4.895580...   99.688474   \n",
       "01006       {\"type\": \"Polygon\", \"coordinates\": [[[5.614854...   16.611296   \n",
       "\n",
       "             Latitude  Longitude  \n",
       "Code INSEE                        \n",
       "01001       46.153426   4.926114  \n",
       "01002       46.009188   5.428017  \n",
       "01004       45.960848   5.372926  \n",
       "01005       45.996180   4.912273  \n",
       "01006       45.749499   5.594320  "
      ]
     },
     "execution_count": 113,
     "metadata": {},
     "output_type": "execute_result"
    }
   ],
   "source": [
    "# on calcule  la latitude et la longitude et on ajoute les colones\n",
    "geo[\"Latitude\"] = geo[\"geo_point_2d\"].apply(lambda x: float(x.split(', ')[0]))\n",
    "geo[\"Longitude\"] = geo[\"geo_point_2d\"].apply(lambda x: float(x.split(', ')[1]))\n",
    "geo.head()"
   ]
  },
  {
   "cell_type": "code",
   "execution_count": 114,
   "metadata": {
    "scrolled": false
   },
   "outputs": [
    {
     "name": "stdout",
     "output_type": "stream",
     "text": [
      "<class 'pandas.core.frame.DataFrame'>\n",
      "Index: 36742 entries, 01001 to 97617\n",
      "Data columns (total 13 columns):\n",
      " #   Column            Non-Null Count  Dtype   \n",
      "---  ------            --------------  -----   \n",
      " 0   Code Postal       36742 non-null  object  \n",
      " 1   Commune           36742 non-null  object  \n",
      " 2   Département       36742 non-null  object  \n",
      " 3   Région            36742 non-null  object  \n",
      " 4   Statut            36742 non-null  category\n",
      " 5   Altitude Moyenne  36742 non-null  int32   \n",
      " 6   Superficie        36742 non-null  float64 \n",
      " 7   Population        36742 non-null  float64 \n",
      " 8   geo_point_2d      36742 non-null  object  \n",
      " 9   geo_shape         36742 non-null  object  \n",
      " 10  Densité           36742 non-null  float64 \n",
      " 11  Latitude          36742 non-null  float64 \n",
      " 12  Longitude         36742 non-null  float64 \n",
      "dtypes: category(1), float64(5), int32(1), object(6)\n",
      "memory usage: 4.5+ MB\n"
     ]
    }
   ],
   "source": [
    "# on vérifie le type des colonne ajoutées\n",
    "geo.info()"
   ]
  },
  {
   "cell_type": "code",
   "execution_count": 119,
   "metadata": {},
   "outputs": [
    {
     "data": {
      "text/html": [
       "<div>\n",
       "<style scoped>\n",
       "    .dataframe tbody tr th:only-of-type {\n",
       "        vertical-align: middle;\n",
       "    }\n",
       "\n",
       "    .dataframe tbody tr th {\n",
       "        vertical-align: top;\n",
       "    }\n",
       "\n",
       "    .dataframe thead th {\n",
       "        text-align: right;\n",
       "    }\n",
       "</style>\n",
       "<table border=\"1\" class=\"dataframe\">\n",
       "  <thead>\n",
       "    <tr style=\"text-align: right;\">\n",
       "      <th></th>\n",
       "      <th>0</th>\n",
       "      <th>1</th>\n",
       "    </tr>\n",
       "    <tr>\n",
       "      <th>Code INSEE</th>\n",
       "      <th></th>\n",
       "      <th></th>\n",
       "    </tr>\n",
       "  </thead>\n",
       "  <tbody>\n",
       "    <tr>\n",
       "      <th>01001</th>\n",
       "      <td>46.1534255214</td>\n",
       "      <td>4.92611354223</td>\n",
       "    </tr>\n",
       "    <tr>\n",
       "      <th>01002</th>\n",
       "      <td>46.0091878776</td>\n",
       "      <td>5.42801696363</td>\n",
       "    </tr>\n",
       "    <tr>\n",
       "      <th>01004</th>\n",
       "      <td>45.9608475114</td>\n",
       "      <td>5.3729257777</td>\n",
       "    </tr>\n",
       "    <tr>\n",
       "      <th>01005</th>\n",
       "      <td>45.9961799872</td>\n",
       "      <td>4.91227250796</td>\n",
       "    </tr>\n",
       "    <tr>\n",
       "      <th>01006</th>\n",
       "      <td>45.7494989044</td>\n",
       "      <td>5.59432017366</td>\n",
       "    </tr>\n",
       "    <tr>\n",
       "      <th>01007</th>\n",
       "      <td>46.0055913782</td>\n",
       "      <td>5.35760660735</td>\n",
       "    </tr>\n",
       "    <tr>\n",
       "      <th>01008</th>\n",
       "      <td>45.9367134524</td>\n",
       "      <td>5.3328092349</td>\n",
       "    </tr>\n",
       "    <tr>\n",
       "      <th>01009</th>\n",
       "      <td>45.7873565333</td>\n",
       "      <td>5.65788307924</td>\n",
       "    </tr>\n",
       "    <tr>\n",
       "      <th>...</th>\n",
       "      <td>...</td>\n",
       "      <td>...</td>\n",
       "    </tr>\n",
       "    <tr>\n",
       "      <th>97610</th>\n",
       "      <td>-12.7465604467</td>\n",
       "      <td>45.1869991913</td>\n",
       "    </tr>\n",
       "    <tr>\n",
       "      <th>97611</th>\n",
       "      <td>-12.7899979586</td>\n",
       "      <td>45.1932456026</td>\n",
       "    </tr>\n",
       "    <tr>\n",
       "      <th>97612</th>\n",
       "      <td>-12.6875073612</td>\n",
       "      <td>45.0736802335</td>\n",
       "    </tr>\n",
       "    <tr>\n",
       "      <th>97613</th>\n",
       "      <td>-12.7513099309</td>\n",
       "      <td>45.0871696871</td>\n",
       "    </tr>\n",
       "    <tr>\n",
       "      <th>97614</th>\n",
       "      <td>-12.8370955196</td>\n",
       "      <td>45.1379095497</td>\n",
       "    </tr>\n",
       "    <tr>\n",
       "      <th>97615</th>\n",
       "      <td>-12.7961353309</td>\n",
       "      <td>45.2842063102</td>\n",
       "    </tr>\n",
       "    <tr>\n",
       "      <th>97616</th>\n",
       "      <td>-12.8611649609</td>\n",
       "      <td>45.1185503145</td>\n",
       "    </tr>\n",
       "    <tr>\n",
       "      <th>97617</th>\n",
       "      <td>-12.7821666736</td>\n",
       "      <td>45.1344279083</td>\n",
       "    </tr>\n",
       "  </tbody>\n",
       "</table>\n",
       "<p>36742 rows × 2 columns</p>\n",
       "</div>"
      ],
      "text/plain": [
       "                         0              1\n",
       "Code INSEE                               \n",
       "01001        46.1534255214  4.92611354223\n",
       "01002        46.0091878776  5.42801696363\n",
       "01004        45.9608475114   5.3729257777\n",
       "01005        45.9961799872  4.91227250796\n",
       "01006        45.7494989044  5.59432017366\n",
       "01007        46.0055913782  5.35760660735\n",
       "01008        45.9367134524   5.3328092349\n",
       "01009        45.7873565333  5.65788307924\n",
       "...                    ...            ...\n",
       "97610       -12.7465604467  45.1869991913\n",
       "97611       -12.7899979586  45.1932456026\n",
       "97612       -12.6875073612  45.0736802335\n",
       "97613       -12.7513099309  45.0871696871\n",
       "97614       -12.8370955196  45.1379095497\n",
       "97615       -12.7961353309  45.2842063102\n",
       "97616       -12.8611649609  45.1185503145\n",
       "97617       -12.7821666736  45.1344279083\n",
       "\n",
       "[36742 rows x 2 columns]"
      ]
     },
     "execution_count": 119,
     "metadata": {},
     "output_type": "execute_result"
    }
   ],
   "source": [
    "# méthode extract\n",
    "geo[\"geo_point_2d\"].str.extract(\"(.+),\\s*(.+)\")"
   ]
  },
  {
   "cell_type": "code",
   "execution_count": 116,
   "metadata": {},
   "outputs": [
    {
     "data": {
      "text/html": [
       "<div>\n",
       "<style scoped>\n",
       "    .dataframe tbody tr th:only-of-type {\n",
       "        vertical-align: middle;\n",
       "    }\n",
       "\n",
       "    .dataframe tbody tr th {\n",
       "        vertical-align: top;\n",
       "    }\n",
       "\n",
       "    .dataframe thead th {\n",
       "        text-align: right;\n",
       "    }\n",
       "</style>\n",
       "<table border=\"1\" class=\"dataframe\">\n",
       "  <thead>\n",
       "    <tr style=\"text-align: right;\">\n",
       "      <th></th>\n",
       "      <th>Code Postal</th>\n",
       "      <th>Commune</th>\n",
       "      <th>Département</th>\n",
       "      <th>Région</th>\n",
       "      <th>Statut</th>\n",
       "      <th>Altitude Moyenne</th>\n",
       "      <th>Superficie</th>\n",
       "      <th>Population</th>\n",
       "      <th>geo_point_2d</th>\n",
       "      <th>geo_shape</th>\n",
       "      <th>Densité</th>\n",
       "      <th>Latitude</th>\n",
       "      <th>Longitude</th>\n",
       "      <th>lat</th>\n",
       "      <th>lon</th>\n",
       "    </tr>\n",
       "    <tr>\n",
       "      <th>Code INSEE</th>\n",
       "      <th></th>\n",
       "      <th></th>\n",
       "      <th></th>\n",
       "      <th></th>\n",
       "      <th></th>\n",
       "      <th></th>\n",
       "      <th></th>\n",
       "      <th></th>\n",
       "      <th></th>\n",
       "      <th></th>\n",
       "      <th></th>\n",
       "      <th></th>\n",
       "      <th></th>\n",
       "      <th></th>\n",
       "      <th></th>\n",
       "    </tr>\n",
       "  </thead>\n",
       "  <tbody>\n",
       "    <tr>\n",
       "      <th>01001</th>\n",
       "      <td>01400</td>\n",
       "      <td>L'ABERGEMENT-CLEMENCIAT</td>\n",
       "      <td>AIN</td>\n",
       "      <td>RHONE-ALPES</td>\n",
       "      <td>Commune simple</td>\n",
       "      <td>242</td>\n",
       "      <td>15.65</td>\n",
       "      <td>0.8</td>\n",
       "      <td>46.1534255214, 4.92611354223</td>\n",
       "      <td>{\"type\": \"Polygon\", \"coordinates\": [[[4.926273...</td>\n",
       "      <td>51.118211</td>\n",
       "      <td>46.153426</td>\n",
       "      <td>4.926114</td>\n",
       "      <td>46.153426</td>\n",
       "      <td>4.926114</td>\n",
       "    </tr>\n",
       "    <tr>\n",
       "      <th>01002</th>\n",
       "      <td>01640</td>\n",
       "      <td>L'ABERGEMENT-DE-VAREY</td>\n",
       "      <td>AIN</td>\n",
       "      <td>RHONE-ALPES</td>\n",
       "      <td>Commune simple</td>\n",
       "      <td>483</td>\n",
       "      <td>9.12</td>\n",
       "      <td>0.2</td>\n",
       "      <td>46.0091878776, 5.42801696363</td>\n",
       "      <td>{\"type\": \"Polygon\", \"coordinates\": [[[5.430089...</td>\n",
       "      <td>21.929825</td>\n",
       "      <td>46.009188</td>\n",
       "      <td>5.428017</td>\n",
       "      <td>46.009188</td>\n",
       "      <td>5.428017</td>\n",
       "    </tr>\n",
       "    <tr>\n",
       "      <th>01004</th>\n",
       "      <td>01500</td>\n",
       "      <td>AMBERIEU-EN-BUGEY</td>\n",
       "      <td>AIN</td>\n",
       "      <td>RHONE-ALPES</td>\n",
       "      <td>Chef-lieu canton</td>\n",
       "      <td>379</td>\n",
       "      <td>24.48</td>\n",
       "      <td>13.4</td>\n",
       "      <td>45.9608475114, 5.3729257777</td>\n",
       "      <td>{\"type\": \"Polygon\", \"coordinates\": [[[5.386190...</td>\n",
       "      <td>547.385621</td>\n",
       "      <td>45.960848</td>\n",
       "      <td>5.372926</td>\n",
       "      <td>45.960848</td>\n",
       "      <td>5.372926</td>\n",
       "    </tr>\n",
       "    <tr>\n",
       "      <th>01005</th>\n",
       "      <td>01330</td>\n",
       "      <td>AMBERIEUX-EN-DOMBES</td>\n",
       "      <td>AIN</td>\n",
       "      <td>RHONE-ALPES</td>\n",
       "      <td>Commune simple</td>\n",
       "      <td>290</td>\n",
       "      <td>16.05</td>\n",
       "      <td>1.6</td>\n",
       "      <td>45.9961799872, 4.91227250796</td>\n",
       "      <td>{\"type\": \"Polygon\", \"coordinates\": [[[4.895580...</td>\n",
       "      <td>99.688474</td>\n",
       "      <td>45.996180</td>\n",
       "      <td>4.912273</td>\n",
       "      <td>45.996180</td>\n",
       "      <td>4.912273</td>\n",
       "    </tr>\n",
       "    <tr>\n",
       "      <th>01006</th>\n",
       "      <td>01300</td>\n",
       "      <td>AMBLEON</td>\n",
       "      <td>AIN</td>\n",
       "      <td>RHONE-ALPES</td>\n",
       "      <td>Commune simple</td>\n",
       "      <td>589</td>\n",
       "      <td>6.02</td>\n",
       "      <td>0.1</td>\n",
       "      <td>45.7494989044, 5.59432017366</td>\n",
       "      <td>{\"type\": \"Polygon\", \"coordinates\": [[[5.614854...</td>\n",
       "      <td>16.611296</td>\n",
       "      <td>45.749499</td>\n",
       "      <td>5.594320</td>\n",
       "      <td>45.749499</td>\n",
       "      <td>5.594320</td>\n",
       "    </tr>\n",
       "  </tbody>\n",
       "</table>\n",
       "</div>"
      ],
      "text/plain": [
       "           Code Postal                  Commune Département       Région  \\\n",
       "Code INSEE                                                                 \n",
       "01001            01400  L'ABERGEMENT-CLEMENCIAT         AIN  RHONE-ALPES   \n",
       "01002            01640    L'ABERGEMENT-DE-VAREY         AIN  RHONE-ALPES   \n",
       "01004            01500        AMBERIEU-EN-BUGEY         AIN  RHONE-ALPES   \n",
       "01005            01330      AMBERIEUX-EN-DOMBES         AIN  RHONE-ALPES   \n",
       "01006            01300                  AMBLEON         AIN  RHONE-ALPES   \n",
       "\n",
       "                      Statut  Altitude Moyenne  Superficie  Population  \\\n",
       "Code INSEE                                                               \n",
       "01001         Commune simple               242       15.65         0.8   \n",
       "01002         Commune simple               483        9.12         0.2   \n",
       "01004       Chef-lieu canton               379       24.48        13.4   \n",
       "01005         Commune simple               290       16.05         1.6   \n",
       "01006         Commune simple               589        6.02         0.1   \n",
       "\n",
       "                            geo_point_2d  \\\n",
       "Code INSEE                                 \n",
       "01001       46.1534255214, 4.92611354223   \n",
       "01002       46.0091878776, 5.42801696363   \n",
       "01004        45.9608475114, 5.3729257777   \n",
       "01005       45.9961799872, 4.91227250796   \n",
       "01006       45.7494989044, 5.59432017366   \n",
       "\n",
       "                                                    geo_shape     Densité  \\\n",
       "Code INSEE                                                                  \n",
       "01001       {\"type\": \"Polygon\", \"coordinates\": [[[4.926273...   51.118211   \n",
       "01002       {\"type\": \"Polygon\", \"coordinates\": [[[5.430089...   21.929825   \n",
       "01004       {\"type\": \"Polygon\", \"coordinates\": [[[5.386190...  547.385621   \n",
       "01005       {\"type\": \"Polygon\", \"coordinates\": [[[4.895580...   99.688474   \n",
       "01006       {\"type\": \"Polygon\", \"coordinates\": [[[5.614854...   16.611296   \n",
       "\n",
       "             Latitude  Longitude        lat       lon  \n",
       "Code INSEE                                             \n",
       "01001       46.153426   4.926114  46.153426  4.926114  \n",
       "01002       46.009188   5.428017  46.009188  5.428017  \n",
       "01004       45.960848   5.372926  45.960848  5.372926  \n",
       "01005       45.996180   4.912273  45.996180  4.912273  \n",
       "01006       45.749499   5.594320  45.749499  5.594320  "
      ]
     },
     "execution_count": 116,
     "metadata": {},
     "output_type": "execute_result"
    }
   ],
   "source": [
    "# méthode extract\n",
    "geo[['lat', 'lon']] = geo[\"geo_point_2d\"].str.extract(\"(.*), (.*)\").astype(float)\n",
    "geo.head()"
   ]
  }
 ],
 "metadata": {
  "anaconda-cloud": {},
  "kernelspec": {
   "display_name": "Python 3",
   "language": "python",
   "name": "python3"
  },
  "language_info": {
   "codemirror_mode": {
    "name": "ipython",
    "version": 3
   },
   "file_extension": ".py",
   "mimetype": "text/x-python",
   "name": "python",
   "nbconvert_exporter": "python",
   "pygments_lexer": "ipython3",
   "version": "3.8.10"
  }
 },
 "nbformat": 4,
 "nbformat_minor": 1
}
